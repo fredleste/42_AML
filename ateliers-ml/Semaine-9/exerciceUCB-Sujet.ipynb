{
 "cells": [
  {
   "cell_type": "markdown",
   "metadata": {},
   "source": [
    "# Upper Confidence Bound Algorithm"
   ]
  },
  {
   "cell_type": "markdown",
   "metadata": {},
   "source": [
    "Importer les librairies numpy, matplotlib.pyplot, pandas, math"
   ]
  },
  {
   "cell_type": "code",
   "execution_count": 81,
   "metadata": {
    "collapsed": true
   },
   "outputs": [],
   "source": [
    "import numpy as np\n",
    "import pandas as pd\n",
    "import matplotlib.pyplot as plt\n",
    "import math\n",
    "%matplotlib inline"
   ]
  },
  {
   "cell_type": "markdown",
   "metadata": {},
   "source": [
    "Importer le fichier 'Ads_CTR_Optimisation.csv'\n",
    "Afficher les 10 premières lignes pour voir les données"
   ]
  },
  {
   "cell_type": "code",
   "execution_count": 82,
   "metadata": {},
   "outputs": [
    {
     "data": {
      "text/html": [
       "<div>\n",
       "<style>\n",
       "    .dataframe thead tr:only-child th {\n",
       "        text-align: right;\n",
       "    }\n",
       "\n",
       "    .dataframe thead th {\n",
       "        text-align: left;\n",
       "    }\n",
       "\n",
       "    .dataframe tbody tr th {\n",
       "        vertical-align: top;\n",
       "    }\n",
       "</style>\n",
       "<table border=\"1\" class=\"dataframe\">\n",
       "  <thead>\n",
       "    <tr style=\"text-align: right;\">\n",
       "      <th></th>\n",
       "      <th>Ad 1</th>\n",
       "      <th>Ad 2</th>\n",
       "      <th>Ad 3</th>\n",
       "      <th>Ad 4</th>\n",
       "      <th>Ad 5</th>\n",
       "      <th>Ad 6</th>\n",
       "      <th>Ad 7</th>\n",
       "      <th>Ad 8</th>\n",
       "      <th>Ad 9</th>\n",
       "      <th>Ad 10</th>\n",
       "    </tr>\n",
       "  </thead>\n",
       "  <tbody>\n",
       "    <tr>\n",
       "      <th>count</th>\n",
       "      <td>10000.000000</td>\n",
       "      <td>10000.000000</td>\n",
       "      <td>10000.000000</td>\n",
       "      <td>10000.000000</td>\n",
       "      <td>10000.000000</td>\n",
       "      <td>10000.000000</td>\n",
       "      <td>10000.000000</td>\n",
       "      <td>10000.000000</td>\n",
       "      <td>10000.000000</td>\n",
       "      <td>10000.00000</td>\n",
       "    </tr>\n",
       "    <tr>\n",
       "      <th>mean</th>\n",
       "      <td>0.170300</td>\n",
       "      <td>0.129500</td>\n",
       "      <td>0.072800</td>\n",
       "      <td>0.119600</td>\n",
       "      <td>0.269500</td>\n",
       "      <td>0.012600</td>\n",
       "      <td>0.111200</td>\n",
       "      <td>0.209100</td>\n",
       "      <td>0.095200</td>\n",
       "      <td>0.04890</td>\n",
       "    </tr>\n",
       "    <tr>\n",
       "      <th>std</th>\n",
       "      <td>0.375915</td>\n",
       "      <td>0.335769</td>\n",
       "      <td>0.259821</td>\n",
       "      <td>0.324509</td>\n",
       "      <td>0.443722</td>\n",
       "      <td>0.111546</td>\n",
       "      <td>0.314395</td>\n",
       "      <td>0.406686</td>\n",
       "      <td>0.293506</td>\n",
       "      <td>0.21567</td>\n",
       "    </tr>\n",
       "    <tr>\n",
       "      <th>min</th>\n",
       "      <td>0.000000</td>\n",
       "      <td>0.000000</td>\n",
       "      <td>0.000000</td>\n",
       "      <td>0.000000</td>\n",
       "      <td>0.000000</td>\n",
       "      <td>0.000000</td>\n",
       "      <td>0.000000</td>\n",
       "      <td>0.000000</td>\n",
       "      <td>0.000000</td>\n",
       "      <td>0.00000</td>\n",
       "    </tr>\n",
       "    <tr>\n",
       "      <th>25%</th>\n",
       "      <td>0.000000</td>\n",
       "      <td>0.000000</td>\n",
       "      <td>0.000000</td>\n",
       "      <td>0.000000</td>\n",
       "      <td>0.000000</td>\n",
       "      <td>0.000000</td>\n",
       "      <td>0.000000</td>\n",
       "      <td>0.000000</td>\n",
       "      <td>0.000000</td>\n",
       "      <td>0.00000</td>\n",
       "    </tr>\n",
       "    <tr>\n",
       "      <th>50%</th>\n",
       "      <td>0.000000</td>\n",
       "      <td>0.000000</td>\n",
       "      <td>0.000000</td>\n",
       "      <td>0.000000</td>\n",
       "      <td>0.000000</td>\n",
       "      <td>0.000000</td>\n",
       "      <td>0.000000</td>\n",
       "      <td>0.000000</td>\n",
       "      <td>0.000000</td>\n",
       "      <td>0.00000</td>\n",
       "    </tr>\n",
       "    <tr>\n",
       "      <th>75%</th>\n",
       "      <td>0.000000</td>\n",
       "      <td>0.000000</td>\n",
       "      <td>0.000000</td>\n",
       "      <td>0.000000</td>\n",
       "      <td>1.000000</td>\n",
       "      <td>0.000000</td>\n",
       "      <td>0.000000</td>\n",
       "      <td>0.000000</td>\n",
       "      <td>0.000000</td>\n",
       "      <td>0.00000</td>\n",
       "    </tr>\n",
       "    <tr>\n",
       "      <th>max</th>\n",
       "      <td>1.000000</td>\n",
       "      <td>1.000000</td>\n",
       "      <td>1.000000</td>\n",
       "      <td>1.000000</td>\n",
       "      <td>1.000000</td>\n",
       "      <td>1.000000</td>\n",
       "      <td>1.000000</td>\n",
       "      <td>1.000000</td>\n",
       "      <td>1.000000</td>\n",
       "      <td>1.00000</td>\n",
       "    </tr>\n",
       "  </tbody>\n",
       "</table>\n",
       "</div>"
      ],
      "text/plain": [
       "               Ad 1          Ad 2          Ad 3          Ad 4          Ad 5  \\\n",
       "count  10000.000000  10000.000000  10000.000000  10000.000000  10000.000000   \n",
       "mean       0.170300      0.129500      0.072800      0.119600      0.269500   \n",
       "std        0.375915      0.335769      0.259821      0.324509      0.443722   \n",
       "min        0.000000      0.000000      0.000000      0.000000      0.000000   \n",
       "25%        0.000000      0.000000      0.000000      0.000000      0.000000   \n",
       "50%        0.000000      0.000000      0.000000      0.000000      0.000000   \n",
       "75%        0.000000      0.000000      0.000000      0.000000      1.000000   \n",
       "max        1.000000      1.000000      1.000000      1.000000      1.000000   \n",
       "\n",
       "               Ad 6          Ad 7          Ad 8          Ad 9        Ad 10  \n",
       "count  10000.000000  10000.000000  10000.000000  10000.000000  10000.00000  \n",
       "mean       0.012600      0.111200      0.209100      0.095200      0.04890  \n",
       "std        0.111546      0.314395      0.406686      0.293506      0.21567  \n",
       "min        0.000000      0.000000      0.000000      0.000000      0.00000  \n",
       "25%        0.000000      0.000000      0.000000      0.000000      0.00000  \n",
       "50%        0.000000      0.000000      0.000000      0.000000      0.00000  \n",
       "75%        0.000000      0.000000      0.000000      0.000000      0.00000  \n",
       "max        1.000000      1.000000      1.000000      1.000000      1.00000  "
      ]
     },
     "execution_count": 82,
     "metadata": {},
     "output_type": "execute_result"
    }
   ],
   "source": [
    "dataset = pd.read_csv(\"Ads_CTR_Optimisation.csv\")\n",
    "dataset.describe()"
   ]
  },
  {
   "cell_type": "markdown",
   "metadata": {},
   "source": [
    " Initialisez les variables necessaires : \n",
    " N (nombre d'iterations egale le nombre de lignes dans le dataset), \n",
    " number_ads (nombre de publicites a afficher = nombre de colonnes)"
   ]
  },
  {
   "cell_type": "code",
   "execution_count": 83,
   "metadata": {},
   "outputs": [
    {
     "data": {
      "text/plain": [
       "(10000, 10)"
      ]
     },
     "execution_count": 83,
     "metadata": {},
     "output_type": "execute_result"
    }
   ],
   "source": [
    "N, number_ads = dataset.shape\n",
    "N, number_ads"
   ]
  },
  {
   "cell_type": "markdown",
   "metadata": {},
   "source": [
    "Initialisez les 4 variables ci-dessous sous forme de listes d'entiers stockant les resultats d'affichage (nombre d'affichage de chaque publicite, nombre de clicks de chaque publicite, le taux de clicks de chaque publicite, le ucb de chaque publicite)\n",
    "Initialisez toutes les listes a zero, sauf ucb qui devrait etre initialise a 1e400, puis multipliez chaque liste par le nombre de publicités."
   ]
  },
  {
   "cell_type": "code",
   "execution_count": 84,
   "metadata": {
    "collapsed": true
   },
   "outputs": [],
   "source": [
    "number_of_display = np.zeros(number_ads) \n",
    "number_of_clicks = np.zeros(number_ads)\n",
    "taux_de_click = np.zeros(number_ads)\n",
    "ucb = np.dot(np.ones(number_ads), 1e400)"
   ]
  },
  {
   "cell_type": "code",
   "execution_count": 85,
   "metadata": {},
   "outputs": [
    {
     "name": "stdout",
     "output_type": "stream",
     "text": [
      "[ 0.  0.  0.  0.  0.  0.  0.  0.  0.  0.]\n",
      "[ 0.  0.  0.  0.  0.  0.  0.  0.  0.  0.]\n",
      "[ 0.  0.  0.  0.  0.  0.  0.  0.  0.  0.]\n",
      "[ inf  inf  inf  inf  inf  inf  inf  inf  inf  inf]\n"
     ]
    }
   ],
   "source": [
    "print(number_of_display)\n",
    "print(number_of_clicks)\n",
    "print(taux_de_click)\n",
    "print(ucb)"
   ]
  },
  {
   "cell_type": "markdown",
   "metadata": {},
   "source": [
    "On initialise une liste pour sauvegarder l'historique des actions "
   ]
  },
  {
   "cell_type": "code",
   "execution_count": 86,
   "metadata": {
    "collapsed": true
   },
   "outputs": [],
   "source": [
    "display_history = []"
   ]
  },
  {
   "cell_type": "markdown",
   "metadata": {},
   "source": [
    "Définissez une fonction qui calcule le taux de click pour une publicité donnée. \n",
    "Il faut diviser le nombre de fois où cette publicité a été cliquée par le nombre de fois qu'elle a été affichée. Attention à la division par zéro !!!"
   ]
  },
  {
   "cell_type": "code",
   "execution_count": 87,
   "metadata": {
    "collapsed": true
   },
   "outputs": [],
   "source": [
    "def calcul_taux_de_click(ad_index):\n",
    "    if number_of_display[ad_index] == 0:\n",
    "        return 0\n",
    "    else:\n",
    "        return number_of_clicks[ad_index] / number_of_display[ad_index]  "
   ]
  },
  {
   "cell_type": "markdown",
   "metadata": {},
   "source": [
    "Définissez une fonction qui vérifie si la publicité affichée a été cliquée ou pas. Elle va  chercher dans le dataset la valeur 0 ou 1 suivant le numéro d'internaute et le numéro de la publicité affichée. Vous pouvez utiliser une méthode dataset.values[row, column] de l'objet dataset."
   ]
  },
  {
   "cell_type": "code",
   "execution_count": 88,
   "metadata": {
    "collapsed": true
   },
   "outputs": [],
   "source": [
    "def get_result_from_file(row, column):\n",
    "    return dataset.values[row, column]   "
   ]
  },
  {
   "cell_type": "markdown",
   "metadata": {},
   "source": [
    "Définissez une fonction qui calcule l'intervalle de confiance (DELTA). La formule magique est dans le cours, mais c'est aussi une racine carrée du :\n",
    "    logarithme de N divisé par le nombre de fois que la publicité a été affichée. \n",
    "    coeficient 3/2\n",
    "Attention à la division par zéro et au log de zéro !!!\n",
    "Vous pouvez ajouter + 1 par exemple\n"
   ]
  },
  {
   "cell_type": "code",
   "execution_count": 89,
   "metadata": {
    "collapsed": true
   },
   "outputs": [],
   "source": [
    "def calcul_delta (n, ad_index):\n",
    "    return math.sqrt(3/2 * math.log(n + 1) / number_of_display[ad_index])"
   ]
  },
  {
   "cell_type": "markdown",
   "metadata": {},
   "source": [
    "La dernière fonction : calculer le UCB pour une publicité donnée. Ceci est vraiment simple. C'est la valeur maximale de taux de clics plus delta, elle appelle donc la fonction précédente. Si le nombre d'affichages de la publicité donnée est égal à zéro, retourner 1e400."
   ]
  },
  {
   "cell_type": "code",
   "execution_count": 90,
   "metadata": {
    "collapsed": true
   },
   "outputs": [],
   "source": [
    "def calcul_UCB (n, ad_index):\n",
    "    if number_of_display[ad_index] > 0 :\n",
    "        return (taux_de_click[ad_index] + calcul_delta (n, ad_index))\n",
    "    else:\n",
    "        return 1e400"
   ]
  },
  {
   "cell_type": "markdown",
   "metadata": {},
   "source": [
    "Ecrivez le corps de l'algorithme, tel que vu en cours.\n",
    "A la fin de chaque itération ajoutez le code suivant\n",
    "    if iteration % 1000 == 0 :\n",
    "        display_history.append(number_of_display.copy())\n",
    "Ceci va permettre d'enregistrer l'historique de modification de comportement de l'algorithme toutes les 1000 itérations."
   ]
  },
  {
   "cell_type": "code",
   "execution_count": 91,
   "metadata": {},
   "outputs": [
    {
     "name": "stdout",
     "output_type": "stream",
     "text": [
      "appending  [ 60.  51.  35.  35.  79.  31.  51.  81.  42.  35.]\n",
      "appending  [ 109.   79.   53.   68.  287.   53.   86.  140.   64.   61.]\n",
      "appending  [ 143.  102.   68.   98.  520.   68.  125.  192.   98.   86.]\n",
      "appending  [ 200.  126.   86.  126.  685.   81.  142.  337.  117.  100.]\n",
      "appending  [  243.   148.    98.   156.  1001.    88.   160.   372.   126.   108.]\n",
      "appending  [  281.   213.   109.   188.  1226.    99.   184.   424.   157.   119.]\n",
      "appending  [  318.   232.   117.   206.  1468.   106.   202.   540.   184.   127.]\n",
      "appending  [  357.   245.   123.   254.  1780.   111.   215.   586.   196.   133.]\n",
      "appending  [  370.   267.   126.   258.  2215.   114.   219.   595.   200.   136.]\n",
      "appending  [  395.   273.   135.   265.  2587.   119.   229.   650.   206.   141.]\n",
      "appending  [  412.   289.   146.   271.  2970.   123.   244.   689.   211.   145.]\n",
      "appending  [  436.   315.   154.   297.  3230.   130.   255.   803.   221.   159.]\n",
      "appending  [  577.   320.   157.   302.  3426.   134.   264.   927.   230.   163.]\n",
      "appending  [  595.   325.   172.   306.  3731.   137.   269.  1060.   239.   166.]\n",
      "appending  [  606.   334.   175.   311.  4167.   139.   273.  1083.   243.   169.]\n",
      "appending  [  645.   354.   179.   317.  4545.   143.   278.  1118.   248.   173.]\n",
      "appending  [  652.   364.   182.   326.  4985.   146.   282.  1129.   252.   182.]\n",
      "appending  [  653.   365.   183.   327.  5452.   147.   283.  1154.   253.   183.]\n",
      "appending  [  701.   366.   184.   328.  5890.   148.   284.  1161.   254.   184.]\n",
      "appending  [  705.   387.   186.   345.  6323.   150.   292.  1170.   256.   186.]\n"
     ]
    }
   ],
   "source": [
    "# pour chaque iteration je cherche la meilleure publicite a afficher\n",
    "\n",
    "for n in range(0, N):\n",
    "    max_ucb = 0\n",
    "    best_ad = 0\n",
    "\n",
    "    # pour chaque publicite (action possible) je compare le ucb, et je garde index du meilleur ucb\n",
    "    for ad_index in range(0, number_ads):\n",
    "        \n",
    "        # mettre a jour le tableau avec les taux de clicks\n",
    "        taux_de_click[ad_index] = calcul_taux_de_click (ad_index)\n",
    "        \n",
    "        # mettre a jour le UCB pour chaque publicite\n",
    "        ucb[ad_index] = calcul_UCB (n, ad_index)\n",
    "        \n",
    "        # trouver le meilleur ucb et la publicite a afficher\n",
    "        if max_ucb < ucb[ad_index]:\n",
    "            max_ucb = ucb[ad_index]\n",
    "            best_ad = ad_index\n",
    "    \n",
    "    \n",
    "    # verifier le resultat d'affichage de la publicite dans le fichier de simulation\n",
    "    reward = get_result_from_file(n, best_ad)\n",
    "    \n",
    "    # mettre a jour le tableau d'affichages\n",
    "    number_of_display[best_ad] += 1\n",
    "        \n",
    "    # mettre a jour le tableau de clicks\n",
    "    if reward == 1:\n",
    "        number_of_clicks[best_ad] += 1\n",
    "        \n",
    "    # ici memoriser historique des choix de l'algorithme apres chaque 1000 iterations\n",
    "    if (n+1) % 500 == 0 :\n",
    "        print(\"appending \", number_of_display)\n",
    "        display_history.append(number_of_display.copy())"
   ]
  },
  {
   "cell_type": "markdown",
   "metadata": {},
   "source": [
    "# Visualisations"
   ]
  },
  {
   "cell_type": "markdown",
   "metadata": {},
   "source": [
    "Félicitations ! Maintenant vous pouvez visualiser les résultats\n",
    "(hint: la 5e publicité (=index 4) devrait être affichée environ 6.500 fois)"
   ]
  },
  {
   "cell_type": "code",
   "execution_count": 92,
   "metadata": {},
   "outputs": [
    {
     "data": {
      "text/plain": [
       "array([  705.,   387.,   186.,   345.,  6323.,   150.,   292.,  1170.,\n",
       "         256.,   186.])"
      ]
     },
     "execution_count": 92,
     "metadata": {},
     "output_type": "execute_result"
    }
   ],
   "source": [
    "number_of_display"
   ]
  },
  {
   "cell_type": "code",
   "execution_count": 93,
   "metadata": {},
   "outputs": [
    {
     "data": {
      "image/png": "[encoded data removed]",
      "text/plain": [
       "<matplotlib.figure.Figure at 0x10f0a5908>"
      ]
     },
     "metadata": {},
     "output_type": "display_data"
    }
   ],
   "source": [
    "plt.bar(range(10), number_of_display)\n",
    "plt.title('Visualisation des affichages')\n",
    "plt.xlabel('Ads Index')\n",
    "plt.ylabel('Number of times each ad was displayed')\n",
    "plt.show()"
   ]
  },
  {
   "cell_type": "code",
   "execution_count": 94,
   "metadata": {},
   "outputs": [
    {
     "data": {
      "text/plain": [
       "array([  1.20000000e+02,   4.70000000e+01,   7.00000000e+00,\n",
       "         3.80000000e+01,   1.67500000e+03,   1.00000000e+00,\n",
       "         2.70000000e+01,   2.36000000e+02,   2.00000000e+01,\n",
       "         7.00000000e+00])"
      ]
     },
     "execution_count": 94,
     "metadata": {},
     "output_type": "execute_result"
    }
   ],
   "source": [
    "number_of_clicks"
   ]
  },
  {
   "cell_type": "markdown",
   "metadata": {},
   "source": [
    "Calculer le nombre total de clics :"
   ]
  },
  {
   "cell_type": "code",
   "execution_count": 95,
   "metadata": {},
   "outputs": [
    {
     "data": {
      "text/plain": [
       "2178.0"
      ]
     },
     "execution_count": 95,
     "metadata": {},
     "output_type": "execute_result"
    }
   ],
   "source": [
    "total_clicks = sum(number_of_clicks)\n",
    "total_clicks"
   ]
  },
  {
   "cell_type": "code",
   "execution_count": 96,
   "metadata": {},
   "outputs": [
    {
     "data": {
      "image/png": "[encoded data removed]",
      "text/plain": [
       "<matplotlib.figure.Figure at 0x10ef7dc88>"
      ]
     },
     "metadata": {},
     "output_type": "display_data"
    }
   ],
   "source": [
    "plt.bar(range(10), number_of_clicks)\n",
    "plt.title('Visualisation des  clicks')\n",
    "plt.xlabel('Ads Index')\n",
    "plt.ylabel('Number of times each ad was clicked')\n",
    "plt.show()"
   ]
  },
  {
   "cell_type": "code",
   "execution_count": 97,
   "metadata": {},
   "outputs": [
    {
     "data": {
      "image/png": "[encoded data removed]",
      "text/plain": [
       "<matplotlib.figure.Figure at 0x10ef0a358>"
      ]
     },
     "metadata": {},
     "output_type": "display_data"
    }
   ],
   "source": [
    "plt.plot(number_of_display, color=\"blue\")\n",
    "plt.plot(number_of_clicks, color=\"red\")\n",
    "plt.title('Visualisation des affichages et de clicks')\n",
    "plt.xlabel('Ads Index')\n",
    "plt.ylabel('Number of times each ad was displayed or clicked')\n",
    "plt.show()"
   ]
  },
  {
   "cell_type": "code",
   "execution_count": 98,
   "metadata": {},
   "outputs": [
    {
     "data": {
      "text/html": [
       "<div>\n",
       "<style>\n",
       "    .dataframe thead tr:only-child th {\n",
       "        text-align: right;\n",
       "    }\n",
       "\n",
       "    .dataframe thead th {\n",
       "        text-align: left;\n",
       "    }\n",
       "\n",
       "    .dataframe tbody tr th {\n",
       "        vertical-align: top;\n",
       "    }\n",
       "</style>\n",
       "<table border=\"1\" class=\"dataframe\">\n",
       "  <thead>\n",
       "    <tr style=\"text-align: right;\">\n",
       "      <th></th>\n",
       "      <th>0</th>\n",
       "      <th>1</th>\n",
       "      <th>2</th>\n",
       "      <th>3</th>\n",
       "      <th>4</th>\n",
       "      <th>5</th>\n",
       "      <th>6</th>\n",
       "      <th>7</th>\n",
       "      <th>8</th>\n",
       "      <th>9</th>\n",
       "    </tr>\n",
       "  </thead>\n",
       "  <tbody>\n",
       "    <tr>\n",
       "      <th>0</th>\n",
       "      <td>60.0</td>\n",
       "      <td>51.0</td>\n",
       "      <td>35.0</td>\n",
       "      <td>35.0</td>\n",
       "      <td>79.0</td>\n",
       "      <td>31.0</td>\n",
       "      <td>51.0</td>\n",
       "      <td>81.0</td>\n",
       "      <td>42.0</td>\n",
       "      <td>35.0</td>\n",
       "    </tr>\n",
       "    <tr>\n",
       "      <th>1</th>\n",
       "      <td>109.0</td>\n",
       "      <td>79.0</td>\n",
       "      <td>53.0</td>\n",
       "      <td>68.0</td>\n",
       "      <td>287.0</td>\n",
       "      <td>53.0</td>\n",
       "      <td>86.0</td>\n",
       "      <td>140.0</td>\n",
       "      <td>64.0</td>\n",
       "      <td>61.0</td>\n",
       "    </tr>\n",
       "    <tr>\n",
       "      <th>2</th>\n",
       "      <td>143.0</td>\n",
       "      <td>102.0</td>\n",
       "      <td>68.0</td>\n",
       "      <td>98.0</td>\n",
       "      <td>520.0</td>\n",
       "      <td>68.0</td>\n",
       "      <td>125.0</td>\n",
       "      <td>192.0</td>\n",
       "      <td>98.0</td>\n",
       "      <td>86.0</td>\n",
       "    </tr>\n",
       "    <tr>\n",
       "      <th>3</th>\n",
       "      <td>200.0</td>\n",
       "      <td>126.0</td>\n",
       "      <td>86.0</td>\n",
       "      <td>126.0</td>\n",
       "      <td>685.0</td>\n",
       "      <td>81.0</td>\n",
       "      <td>142.0</td>\n",
       "      <td>337.0</td>\n",
       "      <td>117.0</td>\n",
       "      <td>100.0</td>\n",
       "    </tr>\n",
       "    <tr>\n",
       "      <th>4</th>\n",
       "      <td>243.0</td>\n",
       "      <td>148.0</td>\n",
       "      <td>98.0</td>\n",
       "      <td>156.0</td>\n",
       "      <td>1001.0</td>\n",
       "      <td>88.0</td>\n",
       "      <td>160.0</td>\n",
       "      <td>372.0</td>\n",
       "      <td>126.0</td>\n",
       "      <td>108.0</td>\n",
       "    </tr>\n",
       "    <tr>\n",
       "      <th>5</th>\n",
       "      <td>281.0</td>\n",
       "      <td>213.0</td>\n",
       "      <td>109.0</td>\n",
       "      <td>188.0</td>\n",
       "      <td>1226.0</td>\n",
       "      <td>99.0</td>\n",
       "      <td>184.0</td>\n",
       "      <td>424.0</td>\n",
       "      <td>157.0</td>\n",
       "      <td>119.0</td>\n",
       "    </tr>\n",
       "    <tr>\n",
       "      <th>6</th>\n",
       "      <td>318.0</td>\n",
       "      <td>232.0</td>\n",
       "      <td>117.0</td>\n",
       "      <td>206.0</td>\n",
       "      <td>1468.0</td>\n",
       "      <td>106.0</td>\n",
       "      <td>202.0</td>\n",
       "      <td>540.0</td>\n",
       "      <td>184.0</td>\n",
       "      <td>127.0</td>\n",
       "    </tr>\n",
       "    <tr>\n",
       "      <th>7</th>\n",
       "      <td>357.0</td>\n",
       "      <td>245.0</td>\n",
       "      <td>123.0</td>\n",
       "      <td>254.0</td>\n",
       "      <td>1780.0</td>\n",
       "      <td>111.0</td>\n",
       "      <td>215.0</td>\n",
       "      <td>586.0</td>\n",
       "      <td>196.0</td>\n",
       "      <td>133.0</td>\n",
       "    </tr>\n",
       "    <tr>\n",
       "      <th>8</th>\n",
       "      <td>370.0</td>\n",
       "      <td>267.0</td>\n",
       "      <td>126.0</td>\n",
       "      <td>258.0</td>\n",
       "      <td>2215.0</td>\n",
       "      <td>114.0</td>\n",
       "      <td>219.0</td>\n",
       "      <td>595.0</td>\n",
       "      <td>200.0</td>\n",
       "      <td>136.0</td>\n",
       "    </tr>\n",
       "    <tr>\n",
       "      <th>9</th>\n",
       "      <td>395.0</td>\n",
       "      <td>273.0</td>\n",
       "      <td>135.0</td>\n",
       "      <td>265.0</td>\n",
       "      <td>2587.0</td>\n",
       "      <td>119.0</td>\n",
       "      <td>229.0</td>\n",
       "      <td>650.0</td>\n",
       "      <td>206.0</td>\n",
       "      <td>141.0</td>\n",
       "    </tr>\n",
       "    <tr>\n",
       "      <th>10</th>\n",
       "      <td>412.0</td>\n",
       "      <td>289.0</td>\n",
       "      <td>146.0</td>\n",
       "      <td>271.0</td>\n",
       "      <td>2970.0</td>\n",
       "      <td>123.0</td>\n",
       "      <td>244.0</td>\n",
       "      <td>689.0</td>\n",
       "      <td>211.0</td>\n",
       "      <td>145.0</td>\n",
       "    </tr>\n",
       "    <tr>\n",
       "      <th>11</th>\n",
       "      <td>436.0</td>\n",
       "      <td>315.0</td>\n",
       "      <td>154.0</td>\n",
       "      <td>297.0</td>\n",
       "      <td>3230.0</td>\n",
       "      <td>130.0</td>\n",
       "      <td>255.0</td>\n",
       "      <td>803.0</td>\n",
       "      <td>221.0</td>\n",
       "      <td>159.0</td>\n",
       "    </tr>\n",
       "    <tr>\n",
       "      <th>12</th>\n",
       "      <td>577.0</td>\n",
       "      <td>320.0</td>\n",
       "      <td>157.0</td>\n",
       "      <td>302.0</td>\n",
       "      <td>3426.0</td>\n",
       "      <td>134.0</td>\n",
       "      <td>264.0</td>\n",
       "      <td>927.0</td>\n",
       "      <td>230.0</td>\n",
       "      <td>163.0</td>\n",
       "    </tr>\n",
       "    <tr>\n",
       "      <th>13</th>\n",
       "      <td>595.0</td>\n",
       "      <td>325.0</td>\n",
       "      <td>172.0</td>\n",
       "      <td>306.0</td>\n",
       "      <td>3731.0</td>\n",
       "      <td>137.0</td>\n",
       "      <td>269.0</td>\n",
       "      <td>1060.0</td>\n",
       "      <td>239.0</td>\n",
       "      <td>166.0</td>\n",
       "    </tr>\n",
       "    <tr>\n",
       "      <th>14</th>\n",
       "      <td>606.0</td>\n",
       "      <td>334.0</td>\n",
       "      <td>175.0</td>\n",
       "      <td>311.0</td>\n",
       "      <td>4167.0</td>\n",
       "      <td>139.0</td>\n",
       "      <td>273.0</td>\n",
       "      <td>1083.0</td>\n",
       "      <td>243.0</td>\n",
       "      <td>169.0</td>\n",
       "    </tr>\n",
       "    <tr>\n",
       "      <th>15</th>\n",
       "      <td>645.0</td>\n",
       "      <td>354.0</td>\n",
       "      <td>179.0</td>\n",
       "      <td>317.0</td>\n",
       "      <td>4545.0</td>\n",
       "      <td>143.0</td>\n",
       "      <td>278.0</td>\n",
       "      <td>1118.0</td>\n",
       "      <td>248.0</td>\n",
       "      <td>173.0</td>\n",
       "    </tr>\n",
       "    <tr>\n",
       "      <th>16</th>\n",
       "      <td>652.0</td>\n",
       "      <td>364.0</td>\n",
       "      <td>182.0</td>\n",
       "      <td>326.0</td>\n",
       "      <td>4985.0</td>\n",
       "      <td>146.0</td>\n",
       "      <td>282.0</td>\n",
       "      <td>1129.0</td>\n",
       "      <td>252.0</td>\n",
       "      <td>182.0</td>\n",
       "    </tr>\n",
       "    <tr>\n",
       "      <th>17</th>\n",
       "      <td>653.0</td>\n",
       "      <td>365.0</td>\n",
       "      <td>183.0</td>\n",
       "      <td>327.0</td>\n",
       "      <td>5452.0</td>\n",
       "      <td>147.0</td>\n",
       "      <td>283.0</td>\n",
       "      <td>1154.0</td>\n",
       "      <td>253.0</td>\n",
       "      <td>183.0</td>\n",
       "    </tr>\n",
       "    <tr>\n",
       "      <th>18</th>\n",
       "      <td>701.0</td>\n",
       "      <td>366.0</td>\n",
       "      <td>184.0</td>\n",
       "      <td>328.0</td>\n",
       "      <td>5890.0</td>\n",
       "      <td>148.0</td>\n",
       "      <td>284.0</td>\n",
       "      <td>1161.0</td>\n",
       "      <td>254.0</td>\n",
       "      <td>184.0</td>\n",
       "    </tr>\n",
       "    <tr>\n",
       "      <th>19</th>\n",
       "      <td>705.0</td>\n",
       "      <td>387.0</td>\n",
       "      <td>186.0</td>\n",
       "      <td>345.0</td>\n",
       "      <td>6323.0</td>\n",
       "      <td>150.0</td>\n",
       "      <td>292.0</td>\n",
       "      <td>1170.0</td>\n",
       "      <td>256.0</td>\n",
       "      <td>186.0</td>\n",
       "    </tr>\n",
       "  </tbody>\n",
       "</table>\n",
       "</div>"
      ],
      "text/plain": [
       "        0      1      2      3       4      5      6       7      8      9\n",
       "0    60.0   51.0   35.0   35.0    79.0   31.0   51.0    81.0   42.0   35.0\n",
       "1   109.0   79.0   53.0   68.0   287.0   53.0   86.0   140.0   64.0   61.0\n",
       "2   143.0  102.0   68.0   98.0   520.0   68.0  125.0   192.0   98.0   86.0\n",
       "3   200.0  126.0   86.0  126.0   685.0   81.0  142.0   337.0  117.0  100.0\n",
       "4   243.0  148.0   98.0  156.0  1001.0   88.0  160.0   372.0  126.0  108.0\n",
       "5   281.0  213.0  109.0  188.0  1226.0   99.0  184.0   424.0  157.0  119.0\n",
       "6   318.0  232.0  117.0  206.0  1468.0  106.0  202.0   540.0  184.0  127.0\n",
       "7   357.0  245.0  123.0  254.0  1780.0  111.0  215.0   586.0  196.0  133.0\n",
       "8   370.0  267.0  126.0  258.0  2215.0  114.0  219.0   595.0  200.0  136.0\n",
       "9   395.0  273.0  135.0  265.0  2587.0  119.0  229.0   650.0  206.0  141.0\n",
       "10  412.0  289.0  146.0  271.0  2970.0  123.0  244.0   689.0  211.0  145.0\n",
       "11  436.0  315.0  154.0  297.0  3230.0  130.0  255.0   803.0  221.0  159.0\n",
       "12  577.0  320.0  157.0  302.0  3426.0  134.0  264.0   927.0  230.0  163.0\n",
       "13  595.0  325.0  172.0  306.0  3731.0  137.0  269.0  1060.0  239.0  166.0\n",
       "14  606.0  334.0  175.0  311.0  4167.0  139.0  273.0  1083.0  243.0  169.0\n",
       "15  645.0  354.0  179.0  317.0  4545.0  143.0  278.0  1118.0  248.0  173.0\n",
       "16  652.0  364.0  182.0  326.0  4985.0  146.0  282.0  1129.0  252.0  182.0\n",
       "17  653.0  365.0  183.0  327.0  5452.0  147.0  283.0  1154.0  253.0  183.0\n",
       "18  701.0  366.0  184.0  328.0  5890.0  148.0  284.0  1161.0  254.0  184.0\n",
       "19  705.0  387.0  186.0  345.0  6323.0  150.0  292.0  1170.0  256.0  186.0"
      ]
     },
     "execution_count": 98,
     "metadata": {},
     "output_type": "execute_result"
    }
   ],
   "source": [
    "d = pd.DataFrame(display_history)\n",
    "d"
   ]
  },
  {
   "cell_type": "code",
   "execution_count": 99,
   "metadata": {},
   "outputs": [
    {
     "data": {
      "image/png": "[encoded data removed]",
      "text/plain": [
       "<matplotlib.figure.Figure at 0x10efd24a8>"
      ]
     },
     "metadata": {},
     "output_type": "display_data"
    }
   ],
   "source": [
    "for i in range (0,10):\n",
    "    plt.plot(d[i])\n",
    "plt.title('Visualisation des affichages dans le temps')\n",
    "plt.xlabel('Le temps : from zero to 10.000')\n",
    "plt.ylabel('Number of times each ad was displayed')\n",
    "plt.show()"
   ]
  },
  {
   "cell_type": "markdown",
   "metadata": {},
   "source": [
    "# Random sampling"
   ]
  },
  {
   "cell_type": "markdown",
   "metadata": {},
   "source": [
    "Maintenant vous pouvez faire la même chose en choisissant une publicité au hasard random(0,9) \n",
    "et comparer les résultats.\n",
    "Ce qu'il faut surtout comparer c'est le nombre total de clics dans les deux cas."
   ]
  }
 ],
 "metadata": {
  "kernelspec": {
   "display_name": "Python 3",
   "language": "python",
   "name": "python3"
  },
  "language_info": {
   "codemirror_mode": {
    "name": "ipython",
    "version": 3
   },
   "file_extension": ".py",
   "mimetype": "text/x-python",
   "name": "python",
   "nbconvert_exporter": "python",
   "pygments_lexer": "ipython3",
   "version": "3.6.3"
  }
 },
 "nbformat": 4,
 "nbformat_minor": 2
}
