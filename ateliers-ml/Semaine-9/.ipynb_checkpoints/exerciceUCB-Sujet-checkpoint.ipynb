{
 "cells": [
  {
   "cell_type": "markdown",
   "metadata": {},
   "source": [
    "# Upper Confidence Bound Algorithm"
   ]
  },
  {
   "cell_type": "markdown",
   "metadata": {},
   "source": [
    "Importer les librairies numpy, matplotlib.pyplot, pandas, math"
   ]
  },
  {
   "cell_type": "code",
   "execution_count": 20,
   "metadata": {
    "collapsed": true
   },
   "outputs": [],
   "source": [
    "import numpy as np\n",
    "import pandas as pd\n",
    "import matplotlib.pyplot as plt\n",
    "import math\n",
    "%matplotlib inline"
   ]
  },
  {
   "cell_type": "markdown",
   "metadata": {},
   "source": [
    "Importer le fichier 'Ads_CTR_Optimisation.csv'\n",
    "Afficher les 10 premières lignes pour voir les données"
   ]
  },
  {
   "cell_type": "code",
   "execution_count": 21,
   "metadata": {},
   "outputs": [
    {
     "data": {
      "text/html": [
       "<div>\n",
       "<style>\n",
       "    .dataframe thead tr:only-child th {\n",
       "        text-align: right;\n",
       "    }\n",
       "\n",
       "    .dataframe thead th {\n",
       "        text-align: left;\n",
       "    }\n",
       "\n",
       "    .dataframe tbody tr th {\n",
       "        vertical-align: top;\n",
       "    }\n",
       "</style>\n",
       "<table border=\"1\" class=\"dataframe\">\n",
       "  <thead>\n",
       "    <tr style=\"text-align: right;\">\n",
       "      <th></th>\n",
       "      <th>Ad 1</th>\n",
       "      <th>Ad 2</th>\n",
       "      <th>Ad 3</th>\n",
       "      <th>Ad 4</th>\n",
       "      <th>Ad 5</th>\n",
       "      <th>Ad 6</th>\n",
       "      <th>Ad 7</th>\n",
       "      <th>Ad 8</th>\n",
       "      <th>Ad 9</th>\n",
       "      <th>Ad 10</th>\n",
       "    </tr>\n",
       "  </thead>\n",
       "  <tbody>\n",
       "    <tr>\n",
       "      <th>0</th>\n",
       "      <td>1</td>\n",
       "      <td>0</td>\n",
       "      <td>0</td>\n",
       "      <td>0</td>\n",
       "      <td>1</td>\n",
       "      <td>0</td>\n",
       "      <td>0</td>\n",
       "      <td>0</td>\n",
       "      <td>1</td>\n",
       "      <td>0</td>\n",
       "    </tr>\n",
       "    <tr>\n",
       "      <th>1</th>\n",
       "      <td>0</td>\n",
       "      <td>0</td>\n",
       "      <td>0</td>\n",
       "      <td>0</td>\n",
       "      <td>0</td>\n",
       "      <td>0</td>\n",
       "      <td>0</td>\n",
       "      <td>0</td>\n",
       "      <td>1</td>\n",
       "      <td>0</td>\n",
       "    </tr>\n",
       "    <tr>\n",
       "      <th>2</th>\n",
       "      <td>0</td>\n",
       "      <td>0</td>\n",
       "      <td>0</td>\n",
       "      <td>0</td>\n",
       "      <td>0</td>\n",
       "      <td>0</td>\n",
       "      <td>0</td>\n",
       "      <td>0</td>\n",
       "      <td>0</td>\n",
       "      <td>0</td>\n",
       "    </tr>\n",
       "    <tr>\n",
       "      <th>3</th>\n",
       "      <td>0</td>\n",
       "      <td>1</td>\n",
       "      <td>0</td>\n",
       "      <td>0</td>\n",
       "      <td>0</td>\n",
       "      <td>0</td>\n",
       "      <td>0</td>\n",
       "      <td>1</td>\n",
       "      <td>0</td>\n",
       "      <td>0</td>\n",
       "    </tr>\n",
       "    <tr>\n",
       "      <th>4</th>\n",
       "      <td>0</td>\n",
       "      <td>0</td>\n",
       "      <td>0</td>\n",
       "      <td>0</td>\n",
       "      <td>0</td>\n",
       "      <td>0</td>\n",
       "      <td>0</td>\n",
       "      <td>0</td>\n",
       "      <td>0</td>\n",
       "      <td>0</td>\n",
       "    </tr>\n",
       "  </tbody>\n",
       "</table>\n",
       "</div>"
      ],
      "text/plain": [
       "   Ad 1  Ad 2  Ad 3  Ad 4  Ad 5  Ad 6  Ad 7  Ad 8  Ad 9  Ad 10\n",
       "0     1     0     0     0     1     0     0     0     1      0\n",
       "1     0     0     0     0     0     0     0     0     1      0\n",
       "2     0     0     0     0     0     0     0     0     0      0\n",
       "3     0     1     0     0     0     0     0     1     0      0\n",
       "4     0     0     0     0     0     0     0     0     0      0"
      ]
     },
     "execution_count": 21,
     "metadata": {},
     "output_type": "execute_result"
    }
   ],
   "source": [
    "data_ads = pd.read_csv(\"Ads_CTR_Optimisation.csv\")\n",
    "data_ads.head()"
   ]
  },
  {
   "cell_type": "markdown",
   "metadata": {},
   "source": [
    " Initialisez les variables necessaires : \n",
    " N (nombre d'iterations egale le nombre de lignes dans le dataset), \n",
    " number_ads (nombre de publicites a afficher = nombre de colonnes)"
   ]
  },
  {
   "cell_type": "code",
   "execution_count": 22,
   "metadata": {},
   "outputs": [
    {
     "data": {
      "text/plain": [
       "(10000, 10)"
      ]
     },
     "execution_count": 22,
     "metadata": {},
     "output_type": "execute_result"
    }
   ],
   "source": [
    "N, number_ads = data_ads.shape\n",
    "N, number_ads"
   ]
  },
  {
   "cell_type": "markdown",
   "metadata": {},
   "source": [
    "Initialisez les 4 variables ci-dessous sous forme de listes d'entiers stockant les resultats d'affichage (nombre d'affichage de chaque publicite, nombre de clicks de chaque publicite, le taux de clicks de chaque publicite, le ucb de chaque publicite)\n",
    "Initialisez toutes les listes a zero, sauf ucb qui devrait etre initialise a 1e400, puis multipliez chaque liste par le nombre de publicités."
   ]
  },
  {
   "cell_type": "code",
   "execution_count": 23,
   "metadata": {
    "collapsed": true
   },
   "outputs": [],
   "source": [
    "number_of_display = np.zeros(number_ads) \n",
    "number_of_clicks = np.zeros(number_ads)\n",
    "taux_de_click = np.zeros(number_ads)\n",
    "ucb = np.dot(np.ones(number_ads), 1e400)"
   ]
  },
  {
   "cell_type": "code",
   "execution_count": 24,
   "metadata": {},
   "outputs": [
    {
     "name": "stdout",
     "output_type": "stream",
     "text": [
      "[ 0.  0.  0.  0.  0.  0.  0.  0.  0.  0.]\n",
      "[ 0.  0.  0.  0.  0.  0.  0.  0.  0.  0.]\n",
      "[ 0.  0.  0.  0.  0.  0.  0.  0.  0.  0.]\n",
      "[ inf  inf  inf  inf  inf  inf  inf  inf  inf  inf]\n"
     ]
    }
   ],
   "source": [
    "print(number_of_display)\n",
    "print(number_of_clicks)\n",
    "print(taux_de_click)\n",
    "print(ucb)"
   ]
  },
  {
   "cell_type": "markdown",
   "metadata": {},
   "source": [
    "On initialise une liste pour sauvegarder l'historique des actions "
   ]
  },
  {
   "cell_type": "code",
   "execution_count": 25,
   "metadata": {
    "collapsed": true
   },
   "outputs": [],
   "source": [
    "display_history = []"
   ]
  },
  {
   "cell_type": "markdown",
   "metadata": {},
   "source": [
    "Définissez une fonction qui calcule le taux de click pour une publicité donnée. \n",
    "Il faut diviser le nombre de fois où cette publicité a été cliquée par le nombre de fois qu'elle a été affichée. Attention à la division par zéro !!!"
   ]
  },
  {
   "cell_type": "code",
   "execution_count": 132,
   "metadata": {
    "collapsed": true
   },
   "outputs": [],
   "source": [
    "def calcul_taux_de_click (ad_index):\n",
    "    "
   ]
  },
  {
   "cell_type": "markdown",
   "metadata": {},
   "source": [
    "Définissez une fonction qui vérifie si la publicité affichée a été cliquée ou pas. Elle va  chercher dans le dataset la valeur 0 ou 1 suivant le numéro d'internaute et le numéro de la publicité affichée. Vous pouvez utiliser une méthode dataset.values[row, column] de l'objet dataset."
   ]
  },
  {
   "cell_type": "code",
   "execution_count": 133,
   "metadata": {
    "collapsed": true
   },
   "outputs": [],
   "source": [
    "def get_result_from_file(row, column):\n",
    "   "
   ]
  },
  {
   "cell_type": "markdown",
   "metadata": {},
   "source": [
    "Définissez une fonction qui calcule l'intervalle de confiance (DELTA). La formule magique est dans le cours, mais c'est aussi une racine carrée du :\n",
    "    logarithme de N divisé par le nombre de fois que la publicité a été affichée. \n",
    "    coeficient 3/2\n",
    "Attention à la division par zéro et au log de zéro !!!\n",
    "Vous pouvez ajouter + 1 par exemple\n"
   ]
  },
  {
   "cell_type": "code",
   "execution_count": 134,
   "metadata": {
    "collapsed": true
   },
   "outputs": [],
   "source": [
    "def calcul_delta (n, ad_index):\n",
    "    return math.sqrt(3/2 * math.log(n + 1) / number_of_display[ad_index])"
   ]
  },
  {
   "cell_type": "markdown",
   "metadata": {},
   "source": [
    "La dernière fonction : calculer le UCB pour une publicité donnée. Ceci est vraiment simple. C'est la valeur maximale de taux de clics plus delta, elle appelle donc la fonction précédente. Si le nombre d'affichages de la publicité donnée est égal à zéro, retourner 1e400."
   ]
  },
  {
   "cell_type": "code",
   "execution_count": 135,
   "metadata": {
    "collapsed": true
   },
   "outputs": [],
   "source": [
    "def calcul_UCB (n, ad_index):\n",
    "    if number_of_display[ad_index] > 0 :\n",
    "        return (taux_de_click[ad_index] + calcul_delta (n, ad_index))\n",
    "    else:\n",
    "        return 1e400"
   ]
  },
  {
   "cell_type": "markdown",
   "metadata": {},
   "source": [
    "Ecrivez le corps de l'algorithme, tel que vu en cours.\n",
    "A la fin de chaque itération ajoutez le code suivant\n",
    "    if iteration % 1000 == 0 :\n",
    "        display_history.append(number_of_display.copy())\n",
    "Ceci va permettre d'enregistrer l'historique de modification de comportement de l'algorithme toutes les 1000 itérations."
   ]
  },
  {
   "cell_type": "code",
   "execution_count": 136,
   "metadata": {},
   "outputs": [
    {
     "name": "stdout",
     "output_type": "stream",
     "text": [
      "appending  [1, 0, 0, 0, 0, 0, 0, 0, 0, 0]\n",
      "appending  [109, 79, 53, 68, 288, 53, 86, 140, 64, 61]\n",
      "appending  [200, 126, 86, 126, 685, 81, 142, 337, 118, 100]\n",
      "appending  [281, 213, 109, 188, 1227, 99, 184, 424, 157, 119]\n",
      "appending  [357, 245, 123, 254, 1780, 112, 215, 586, 196, 133]\n",
      "appending  [395, 273, 135, 265, 2588, 119, 229, 650, 206, 141]\n",
      "appending  [436, 315, 154, 297, 3231, 130, 255, 803, 221, 159]\n",
      "appending  [595, 325, 172, 306, 3731, 137, 269, 1061, 239, 166]\n",
      "appending  [645, 354, 179, 317, 4546, 143, 278, 1118, 248, 173]\n",
      "appending  [653, 365, 183, 327, 5453, 147, 283, 1154, 253, 183]\n"
     ]
    }
   ],
   "source": [
    "# pour chaque iteration je cherche la meilleure publicite a afficher\n",
    "\n",
    "for n in range(0, N):\n",
    "\n",
    "    # pour chaque publicite (action possible) je compare le ucb, et je garde index du meilleur ucb\n",
    "    for ad_index in range(0, number_ads):\n",
    "        \n",
    "        # mettre a jour le tableau avec les taux de clicks\n",
    "       \n",
    "        \n",
    "        # mettre a jour le UCB pour chaque publicite\n",
    "        \n",
    "        \n",
    "        # trouver le meilleur ucb et la publicite a afficher\n",
    "    \n",
    "    \n",
    "    \n",
    "    # verifier le resultat d'affichage de la publicite dans le fichier de simulation\n",
    "    \n",
    "    \n",
    "    # mettre a jour le tableau d'affichages\n",
    "    \n",
    "    \n",
    "    # mettre a jour le tableau de clicks\n",
    "    \n",
    "    \n",
    "    # ici memoriser historique des choix de l'algorithme apres chaque 1000 iterations\n",
    "    if n % 1000 == 0 :\n",
    "        print(\"appending \", number_of_display)\n",
    "        display_history.append(number_of_display.copy())"
   ]
  },
  {
   "cell_type": "markdown",
   "metadata": {},
   "source": [
    "# Visualisations"
   ]
  },
  {
   "cell_type": "markdown",
   "metadata": {},
   "source": [
    "Félicitations ! Maintenant vous pouvez visualiser les résultats\n",
    "(hint: la 5e publicité (=index 4) devrait être affichée environ 6.500 fois)"
   ]
  },
  {
   "cell_type": "code",
   "execution_count": 137,
   "metadata": {},
   "outputs": [
    {
     "data": {
      "text/plain": [
       "[705, 387, 186, 345, 6323, 150, 292, 1170, 256, 186]"
      ]
     },
     "execution_count": 137,
     "metadata": {},
     "output_type": "execute_result"
    }
   ],
   "source": [
    "number_of_display"
   ]
  },
  {
   "cell_type": "code",
   "execution_count": 109,
   "metadata": {},
   "outputs": [
    {
     "data": {
      "image/png": "[encoded data removed]",
      "text/plain": [
       "<Figure size 432x288 with 1 Axes>"
      ]
     },
     "metadata": {},
     "output_type": "display_data"
    }
   ],
   "source": [
    "plt.bar(range(10), number_of_display)\n",
    "plt.title('Visualisation des affichages')\n",
    "plt.xlabel('Ads Index')\n",
    "plt.ylabel('Number of times each ad was displayed')\n",
    "plt.show()"
   ]
  },
  {
   "cell_type": "code",
   "execution_count": 138,
   "metadata": {},
   "outputs": [
    {
     "data": {
      "text/plain": [
       "[120, 47, 7, 38, 1675, 1, 27, 236, 20, 7]"
      ]
     },
     "execution_count": 138,
     "metadata": {},
     "output_type": "execute_result"
    }
   ],
   "source": [
    "number_of_clicks"
   ]
  },
  {
   "cell_type": "markdown",
   "metadata": {},
   "source": [
    "Calculer le nombre total de clics :"
   ]
  },
  {
   "cell_type": "code",
   "execution_count": 139,
   "metadata": {},
   "outputs": [
    {
     "data": {
      "text/plain": [
       "2178"
      ]
     },
     "execution_count": 139,
     "metadata": {},
     "output_type": "execute_result"
    }
   ],
   "source": [
    "total_clicks = sum(number_of_clicks)\n",
    "total_clicks"
   ]
  },
  {
   "cell_type": "code",
   "execution_count": 112,
   "metadata": {},
   "outputs": [
    {
     "data": {
      "image/png": "[encoded data removed]",
      "text/plain": [
       "<Figure size 432x288 with 1 Axes>"
      ]
     },
     "metadata": {},
     "output_type": "display_data"
    }
   ],
   "source": [
    "plt.bar(range(10), number_of_clicks)\n",
    "plt.title('Visualisation des  clicks')\n",
    "plt.xlabel('Ads Index')\n",
    "plt.ylabel('Number of times each ad was clicked')\n",
    "plt.show()"
   ]
  },
  {
   "cell_type": "code",
   "execution_count": 113,
   "metadata": {},
   "outputs": [
    {
     "data": {
      "image/png": "[encoded data removed]",
      "text/plain": [
       "<Figure size 432x288 with 1 Axes>"
      ]
     },
     "metadata": {},
     "output_type": "display_data"
    }
   ],
   "source": [
    "plt.plot(number_of_display, color=\"blue\")\n",
    "plt.plot(number_of_clicks, color=\"red\")\n",
    "plt.title('Visualisation des affichages et de clicks')\n",
    "plt.xlabel('Ads Index')\n",
    "plt.ylabel('Number of times each ad was displayed or clicked')\n",
    "plt.show()"
   ]
  },
  {
   "cell_type": "code",
   "execution_count": 115,
   "metadata": {
    "scrolled": true
   },
   "outputs": [
    {
     "data": {
      "text/plain": [
       "[[1, 0, 0, 0, 0, 0, 0, 0, 0, 0],\n",
       " [109, 79, 53, 68, 288, 53, 86, 140, 64, 61],\n",
       " [200, 126, 86, 126, 685, 81, 142, 337, 118, 100],\n",
       " [281, 213, 109, 188, 1227, 99, 184, 424, 157, 119],\n",
       " [357, 245, 123, 254, 1780, 112, 215, 586, 196, 133],\n",
       " [395, 273, 135, 265, 2588, 119, 229, 650, 206, 141],\n",
       " [436, 315, 154, 297, 3231, 130, 255, 803, 221, 159],\n",
       " [595, 325, 172, 306, 3731, 137, 269, 1061, 239, 166],\n",
       " [645, 354, 179, 317, 4546, 143, 278, 1118, 248, 173],\n",
       " [653, 365, 183, 327, 5453, 147, 283, 1154, 253, 183]]"
      ]
     },
     "execution_count": 115,
     "metadata": {},
     "output_type": "execute_result"
    }
   ],
   "source": [
    "display_history"
   ]
  },
  {
   "cell_type": "code",
   "execution_count": 122,
   "metadata": {},
   "outputs": [
    {
     "data": {
      "text/html": [
       "<div>\n",
       "<style scoped>\n",
       "    .dataframe tbody tr th:only-of-type {\n",
       "        vertical-align: middle;\n",
       "    }\n",
       "\n",
       "    .dataframe tbody tr th {\n",
       "        vertical-align: top;\n",
       "    }\n",
       "\n",
       "    .dataframe thead th {\n",
       "        text-align: right;\n",
       "    }\n",
       "</style>\n",
       "<table border=\"1\" class=\"dataframe\">\n",
       "  <thead>\n",
       "    <tr style=\"text-align: right;\">\n",
       "      <th></th>\n",
       "      <th>0</th>\n",
       "      <th>1</th>\n",
       "      <th>2</th>\n",
       "      <th>3</th>\n",
       "      <th>4</th>\n",
       "      <th>5</th>\n",
       "      <th>6</th>\n",
       "      <th>7</th>\n",
       "      <th>8</th>\n",
       "      <th>9</th>\n",
       "    </tr>\n",
       "  </thead>\n",
       "  <tbody>\n",
       "    <tr>\n",
       "      <th>0</th>\n",
       "      <td>1</td>\n",
       "      <td>0</td>\n",
       "      <td>0</td>\n",
       "      <td>0</td>\n",
       "      <td>0</td>\n",
       "      <td>0</td>\n",
       "      <td>0</td>\n",
       "      <td>0</td>\n",
       "      <td>0</td>\n",
       "      <td>0</td>\n",
       "    </tr>\n",
       "    <tr>\n",
       "      <th>1</th>\n",
       "      <td>109</td>\n",
       "      <td>79</td>\n",
       "      <td>53</td>\n",
       "      <td>68</td>\n",
       "      <td>288</td>\n",
       "      <td>53</td>\n",
       "      <td>86</td>\n",
       "      <td>140</td>\n",
       "      <td>64</td>\n",
       "      <td>61</td>\n",
       "    </tr>\n",
       "    <tr>\n",
       "      <th>2</th>\n",
       "      <td>200</td>\n",
       "      <td>126</td>\n",
       "      <td>86</td>\n",
       "      <td>126</td>\n",
       "      <td>685</td>\n",
       "      <td>81</td>\n",
       "      <td>142</td>\n",
       "      <td>337</td>\n",
       "      <td>118</td>\n",
       "      <td>100</td>\n",
       "    </tr>\n",
       "    <tr>\n",
       "      <th>3</th>\n",
       "      <td>281</td>\n",
       "      <td>213</td>\n",
       "      <td>109</td>\n",
       "      <td>188</td>\n",
       "      <td>1227</td>\n",
       "      <td>99</td>\n",
       "      <td>184</td>\n",
       "      <td>424</td>\n",
       "      <td>157</td>\n",
       "      <td>119</td>\n",
       "    </tr>\n",
       "    <tr>\n",
       "      <th>4</th>\n",
       "      <td>357</td>\n",
       "      <td>245</td>\n",
       "      <td>123</td>\n",
       "      <td>254</td>\n",
       "      <td>1780</td>\n",
       "      <td>112</td>\n",
       "      <td>215</td>\n",
       "      <td>586</td>\n",
       "      <td>196</td>\n",
       "      <td>133</td>\n",
       "    </tr>\n",
       "  </tbody>\n",
       "</table>\n",
       "</div>"
      ],
      "text/plain": [
       "     0    1    2    3     4    5    6    7    8    9\n",
       "0    1    0    0    0     0    0    0    0    0    0\n",
       "1  109   79   53   68   288   53   86  140   64   61\n",
       "2  200  126   86  126   685   81  142  337  118  100\n",
       "3  281  213  109  188  1227   99  184  424  157  119\n",
       "4  357  245  123  254  1780  112  215  586  196  133"
      ]
     },
     "execution_count": 122,
     "metadata": {},
     "output_type": "execute_result"
    }
   ],
   "source": [
    "d = pd.DataFrame(display_history)\n",
    "d.head()"
   ]
  },
  {
   "cell_type": "code",
   "execution_count": 124,
   "metadata": {},
   "outputs": [
    {
     "data": {
      "image/png": "[encoded data removed]",
      "text/plain": [
       "<Figure size 432x288 with 1 Axes>"
      ]
     },
     "metadata": {},
     "output_type": "display_data"
    }
   ],
   "source": [
    "for i in range (0,10):\n",
    "    plt.plot(d[i])"
   ]
  },
  {
   "cell_type": "markdown",
   "metadata": {},
   "source": [
    "# Random sampling"
   ]
  },
  {
   "cell_type": "markdown",
   "metadata": {},
   "source": [
    "Maintenant vous pouvez faire la même chose en choisissant une publicité au hasard random(0,9) \n",
    "et comparer les résultats.\n",
    "Ce qu'il faut surtout comparer c'est le nombre total de clics dans les deux cas."
   ]
  }
 ],
 "metadata": {
  "kernelspec": {
   "display_name": "Python 3",
   "language": "python",
   "name": "python3"
  },
  "language_info": {
   "codemirror_mode": {
    "name": "ipython",
    "version": 3
   },
   "file_extension": ".py",
   "mimetype": "text/x-python",
   "name": "python",
   "nbconvert_exporter": "python",
   "pygments_lexer": "ipython3",
   "version": "3.6.3"
  }
 },
 "nbformat": 4,
 "nbformat_minor": 2
}
