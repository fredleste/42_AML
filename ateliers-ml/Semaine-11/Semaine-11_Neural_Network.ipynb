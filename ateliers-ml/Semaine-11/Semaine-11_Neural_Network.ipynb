{
 "cells": [
  {
   "cell_type": "markdown",
   "metadata": {},
   "source": [
    "# Semaine 11 - Réseau de neurones de base"
   ]
  },
  {
   "cell_type": "markdown",
   "metadata": {},
   "source": [
    "Cette semaine nous allons écrire un réseau de neurones de base, que nous allons entraîner afin qu'il inverse des séquences de bits. Si vous réussissez à l'implémenter, vous pourrez ensuite vous amuser à l'utiliser sur d'autres types de données"
   ]
  },
  {
   "cell_type": "markdown",
   "metadata": {},
   "source": [
    "## Importations et initialisations de variables"
   ]
  },
  {
   "cell_type": "markdown",
   "metadata": {},
   "source": [
    "Nous n'allons utiliser que numpy pour cet exercice"
   ]
  },
  {
   "cell_type": "code",
   "execution_count": 1,
   "metadata": {
    "collapsed": true
   },
   "outputs": [],
   "source": [
    "import numpy as np\n",
    "import random\n",
    "import matplotlib.pyplot as plt"
   ]
  },
  {
   "cell_type": "markdown",
   "metadata": {},
   "source": [
    "Nous avons un réseau à deux couches (l'input ne comptant pas pour une couche). Nous allons utiliser 300 séquences de bits pour l'entraînement."
   ]
  },
  {
   "cell_type": "code",
   "execution_count": 2,
   "metadata": {
    "collapsed": true
   },
   "outputs": [],
   "source": [
    "# Nb de neurones sur chaque couche\n",
    "n_in = 10\n",
    "n_hidden = 8\n",
    "n_out = 10\n",
    "\n",
    "# Nb de 'training examples'\n",
    "m = 300"
   ]
  },
  {
   "cell_type": "code",
   "execution_count": 223,
   "metadata": {
    "collapsed": true
   },
   "outputs": [],
   "source": [
    "alpha = 0.5  # Learning rate\n",
    "epochs = 280 # nb iterations du gradient descent"
   ]
  },
  {
   "cell_type": "markdown",
   "metadata": {},
   "source": [
    "## Définition des fonctions d'activation"
   ]
  },
  {
   "cell_type": "markdown",
   "metadata": {},
   "source": [
    "Nous utiliserons la fonction tanh pour l'activation de la \"hidden layer\", et la sigmoïde pour la dernière couche. Implémentez-les si elle n'existent pas déjà dans numpy. Implémentez aussi la dérivée de l'une ou l'autre d'entre elles, le cas échéant.\n",
    "Attention! Les fonctions doivent pouvoir traiter des vecteurs ou des matrices en effectuant l'opération sur chaque élément de ces derniers."
   ]
  },
  {
   "cell_type": "code",
   "execution_count": 4,
   "metadata": {
    "collapsed": true
   },
   "outputs": [],
   "source": [
    "def sigmoid(x):\n",
    "    return 1 / (1 + np.exp(-x))"
   ]
  },
  {
   "cell_type": "code",
   "execution_count": 103,
   "metadata": {
    "collapsed": true
   },
   "outputs": [],
   "source": [
    "# Dérivée de tanh\n",
    "def tanh_prime(x):\n",
    "    return 1 - np.power(np.tanh(x), 2)"
   ]
  },
  {
   "cell_type": "markdown",
   "metadata": {},
   "source": [
    "\n",
    "## Entraînement du réseau de neurones"
   ]
  },
  {
   "cell_type": "markdown",
   "metadata": {},
   "source": [
    "Nous allons écrire une fonction qui fait une activation puis une rétropropagation, puis renvoie l'erreur (loss) et le gradient (toutes ces variables qui commencent par d...). L'itération sur les 200 epochs se fera dans un deuxième temps."
   ]
  },
  {
   "cell_type": "code",
   "execution_count": 104,
   "metadata": {
    "collapsed": true
   },
   "outputs": [],
   "source": [
    "def train(X, Y, W1, W2, b1, b2):\n",
    "    loss_history = []    \n",
    "    for epoch in range(epochs):\n",
    "        # Forward\n",
    "        Z1 = np.dot(W1, X) + b1\n",
    "        A1 = np.tanh(Z1)\n",
    "        Z2 = np.dot(W2, A1) + b2\n",
    "        A2 = sigmoid(Z2)\n",
    "        # Backward\n",
    "        dZ2 = A2 - Y\n",
    "        dW2 = (1 / m) * np.dot(dZ2, A1.T)\n",
    "        db2 = (1 / m) * np.sum(dZ2, axis=1, keepdims = True)\n",
    "        dZ1 = np.multiply(np.dot(W2.T, dZ2), tanh_prime(Z1))\n",
    "        dW1 = (1 / m) * np.dot(dZ1, X.T)\n",
    "        db1 = (1 / m) * np.sum(dZ1, axis=1, keepdims = True)\n",
    "        # Parameter update (use the learning rate alpha here!)\n",
    "        W1 = W1 - (alpha * dW1)\n",
    "        W2 = W2 - (alpha * dW2)\n",
    "        b1 = b1 - (alpha * db1)\n",
    "        b2 = b2 - (alpha * db2)\n",
    "        # Compute loss\n",
    "        L = np.multiply(Y, np.log(A2)) + np.multiply((1 - Y), np.log(1 - A2))\n",
    "        loss = - np.sum(L) / m\n",
    "        #loss = - (np.dot(Y, np.log(A2)) + np.dot((1 - Y), np.log(1 - A2))) / m\n",
    "        loss_history.append(loss)\n",
    "        print(\"Epoch %d, Loss: %.8f\" % (epoch, loss))\n",
    "    return loss_history, W1, W2, b1, b2"
   ]
  },
  {
   "cell_type": "markdown",
   "metadata": {},
   "source": [
    "### Initialisation des paramètres du réseau"
   ]
  },
  {
   "cell_type": "markdown",
   "metadata": {},
   "source": [
    "Attention, certains paramètres sont initalisés à zéro, d'autres non..."
   ]
  },
  {
   "cell_type": "code",
   "execution_count": 228,
   "metadata": {},
   "outputs": [
    {
     "data": {
      "text/plain": [
       "(10, 8)"
      ]
     },
     "execution_count": 228,
     "metadata": {},
     "output_type": "execute_result"
    }
   ],
   "source": [
    "W1 = np.random.randn(n_hidden, n_in) * 0.01\n",
    "W2 = np.random.randn(n_out, n_hidden) * 0.01\n",
    "b1 = np.zeros((n_hidden, 1))\n",
    "b2 = np.zeros((n_out, 1))\n",
    "W2.shape"
   ]
  },
  {
   "cell_type": "markdown",
   "metadata": {},
   "source": [
    "## Génération des données d'entraînement"
   ]
  },
  {
   "cell_type": "markdown",
   "metadata": {},
   "source": [
    "Ici il s'agit créer 300 séries de 10 chiffres binaires (1 et 0) pour les X.\n",
    "Les Y seront ces mêmes séries, inversées."
   ]
  },
  {
   "cell_type": "code",
   "execution_count": 229,
   "metadata": {},
   "outputs": [
    {
     "name": "stdout",
     "output_type": "stream",
     "text": [
      "[[1 0 1 ..., 0 1 1]\n",
      " [1 1 0 ..., 0 0 0]\n",
      " [1 0 0 ..., 0 0 0]\n",
      " ..., \n",
      " [1 0 0 ..., 1 1 0]\n",
      " [0 1 1 ..., 0 0 0]\n",
      " [0 1 0 ..., 1 1 1]]\n",
      "[[0 1 0 ..., 1 0 0]\n",
      " [0 0 1 ..., 1 1 1]\n",
      " [0 1 1 ..., 1 1 1]\n",
      " ..., \n",
      " [0 1 1 ..., 0 0 1]\n",
      " [1 0 0 ..., 1 1 1]\n",
      " [1 0 1 ..., 0 0 0]]\n"
     ]
    }
   ],
   "source": [
    "# Data generation\n",
    "X = np.random.binomial(1, 0.5, (n_in, m))\n",
    "Y = X ^ 1\n",
    "print(X)\n",
    "print(Y)"
   ]
  },
  {
   "cell_type": "markdown",
   "metadata": {},
   "source": [
    "## Lancer l'entraînement du réseau"
   ]
  },
  {
   "cell_type": "code",
   "execution_count": 230,
   "metadata": {},
   "outputs": [
    {
     "name": "stdout",
     "output_type": "stream",
     "text": [
      "Epoch 0, Loss: 6.93109187\n",
      "Epoch 1, Loss: 6.92819439\n",
      "Epoch 2, Loss: 6.92580893\n",
      "Epoch 3, Loss: 6.92376792\n",
      "Epoch 4, Loss: 6.92192986\n",
      "Epoch 5, Loss: 6.92016930\n",
      "Epoch 6, Loss: 6.91836808\n",
      "Epoch 7, Loss: 6.91640727\n",
      "Epoch 8, Loss: 6.91415932\n",
      "Epoch 9, Loss: 6.91147993\n",
      "Epoch 10, Loss: 6.90819924\n",
      "Epoch 11, Loss: 6.90411199\n",
      "Epoch 12, Loss: 6.89896632\n",
      "Epoch 13, Loss: 6.89245130\n",
      "Epoch 14, Loss: 6.88418310\n",
      "Epoch 15, Loss: 6.87369070\n",
      "Epoch 16, Loss: 6.86040227\n",
      "Epoch 17, Loss: 6.84363482\n",
      "Epoch 18, Loss: 6.82259085\n",
      "Epoch 19, Loss: 6.79636733\n",
      "Epoch 20, Loss: 6.76398387\n",
      "Epoch 21, Loss: 6.72443693\n",
      "Epoch 22, Loss: 6.67678363\n",
      "Epoch 23, Loss: 6.62025160\n",
      "Epoch 24, Loss: 6.55435806\n",
      "Epoch 25, Loss: 6.47900884\n",
      "Epoch 26, Loss: 6.39454239\n",
      "Epoch 27, Loss: 6.30169514\n",
      "Epoch 28, Loss: 6.20149120\n",
      "Epoch 29, Loss: 6.09509097\n",
      "Epoch 30, Loss: 5.98365113\n",
      "Epoch 31, Loss: 5.86823921\n",
      "Epoch 32, Loss: 5.74981466\n",
      "Epoch 33, Loss: 5.62925640\n",
      "Epoch 34, Loss: 5.50740252\n",
      "Epoch 35, Loss: 5.38507426\n",
      "Epoch 36, Loss: 5.26307371\n",
      "Epoch 37, Loss: 5.14216038\n",
      "Epoch 38, Loss: 5.02301940\n",
      "Epoch 39, Loss: 4.90623395\n",
      "Epoch 40, Loss: 4.79226931\n",
      "Epoch 41, Loss: 4.68147069\n",
      "Epoch 42, Loss: 4.57407260\n",
      "Epoch 43, Loss: 4.47021561\n",
      "Epoch 44, Loss: 4.36996620\n",
      "Epoch 45, Loss: 4.27333631\n",
      "Epoch 46, Loss: 4.18030024\n",
      "Epoch 47, Loss: 4.09080785\n",
      "Epoch 48, Loss: 4.00479373\n",
      "Epoch 49, Loss: 3.92218286\n",
      "Epoch 50, Loss: 3.84289330\n",
      "Epoch 51, Loss: 3.76683694\n",
      "Epoch 52, Loss: 3.69391911\n",
      "Epoch 53, Loss: 3.62403785\n",
      "Epoch 54, Loss: 3.55708342\n",
      "Epoch 55, Loss: 3.49293847\n",
      "Epoch 56, Loss: 3.43147895\n",
      "Epoch 57, Loss: 3.37257577\n",
      "Epoch 58, Loss: 3.31609710\n",
      "Epoch 59, Loss: 3.26191099\n",
      "Epoch 60, Loss: 3.20988809\n",
      "Epoch 61, Loss: 3.15990415\n",
      "Epoch 62, Loss: 3.11184224\n",
      "Epoch 63, Loss: 3.06559441\n",
      "Epoch 64, Loss: 3.02106271\n",
      "Epoch 65, Loss: 2.97815966\n",
      "Epoch 66, Loss: 2.93680811\n",
      "Epoch 67, Loss: 2.89694058\n",
      "Epoch 68, Loss: 2.85849824\n",
      "Epoch 69, Loss: 2.82142953\n",
      "Epoch 70, Loss: 2.78568873\n",
      "Epoch 71, Loss: 2.75123444\n",
      "Epoch 72, Loss: 2.71802810\n",
      "Epoch 73, Loss: 2.68603272\n",
      "Epoch 74, Loss: 2.65521179\n",
      "Epoch 75, Loss: 2.62552845\n",
      "Epoch 76, Loss: 2.59694486\n",
      "Epoch 77, Loss: 2.56942185\n",
      "Epoch 78, Loss: 2.54291877\n",
      "Epoch 79, Loss: 2.51739351\n",
      "Epoch 80, Loss: 2.49280261\n",
      "Epoch 81, Loss: 2.46910156\n",
      "Epoch 82, Loss: 2.44624505\n",
      "Epoch 83, Loss: 2.42418731\n",
      "Epoch 84, Loss: 2.40288242\n",
      "Epoch 85, Loss: 2.38228462\n",
      "Epoch 86, Loss: 2.36234855\n",
      "Epoch 87, Loss: 2.34302950\n",
      "Epoch 88, Loss: 2.32428362\n",
      "Epoch 89, Loss: 2.30606797\n",
      "Epoch 90, Loss: 2.28834075\n",
      "Epoch 91, Loss: 2.27106126\n",
      "Epoch 92, Loss: 2.25419002\n",
      "Epoch 93, Loss: 2.23768879\n",
      "Epoch 94, Loss: 2.22152051\n",
      "Epoch 95, Loss: 2.20564941\n",
      "Epoch 96, Loss: 2.19004090\n",
      "Epoch 97, Loss: 2.17466168\n",
      "Epoch 98, Loss: 2.15947965\n",
      "Epoch 99, Loss: 2.14446399\n",
      "Epoch 100, Loss: 2.12958516\n",
      "Epoch 101, Loss: 2.11481498\n",
      "Epoch 102, Loss: 2.10012667\n",
      "Epoch 103, Loss: 2.08549492\n",
      "Epoch 104, Loss: 2.07089603\n",
      "Epoch 105, Loss: 2.05630799\n",
      "Epoch 106, Loss: 2.04171066\n",
      "Epoch 107, Loss: 2.02708588\n",
      "Epoch 108, Loss: 2.01241765\n",
      "Epoch 109, Loss: 1.99769227\n",
      "Epoch 110, Loss: 1.98289854\n",
      "Epoch 111, Loss: 1.96802791\n",
      "Epoch 112, Loss: 1.95307459\n",
      "Epoch 113, Loss: 1.93803571\n",
      "Epoch 114, Loss: 1.92291138\n",
      "Epoch 115, Loss: 1.90770476\n",
      "Epoch 116, Loss: 1.89242204\n",
      "Epoch 117, Loss: 1.87707240\n",
      "Epoch 118, Loss: 1.86166789\n",
      "Epoch 119, Loss: 1.84622328\n",
      "Epoch 120, Loss: 1.83075580\n",
      "Epoch 121, Loss: 1.81528485\n",
      "Epoch 122, Loss: 1.79983169\n",
      "Epoch 123, Loss: 1.78441906\n",
      "Epoch 124, Loss: 1.76907072\n",
      "Epoch 125, Loss: 1.75381112\n",
      "Epoch 126, Loss: 1.73866489\n",
      "Epoch 127, Loss: 1.72365648\n",
      "Epoch 128, Loss: 1.70880975\n",
      "Epoch 129, Loss: 1.69414762\n",
      "Epoch 130, Loss: 1.67969171\n",
      "Epoch 131, Loss: 1.66546210\n",
      "Epoch 132, Loss: 1.65147708\n",
      "Epoch 133, Loss: 1.63775296\n",
      "Epoch 134, Loss: 1.62430395\n",
      "Epoch 135, Loss: 1.61114205\n",
      "Epoch 136, Loss: 1.59827705\n",
      "Epoch 137, Loss: 1.58571647\n",
      "Epoch 138, Loss: 1.57346566\n",
      "Epoch 139, Loss: 1.56152784\n",
      "Epoch 140, Loss: 1.54990422\n",
      "Epoch 141, Loss: 1.53859414\n",
      "Epoch 142, Loss: 1.52759521\n",
      "Epoch 143, Loss: 1.51690350\n",
      "Epoch 144, Loss: 1.50651372\n",
      "Epoch 145, Loss: 1.49641939\n",
      "Epoch 146, Loss: 1.48661304\n",
      "Epoch 147, Loss: 1.47708641\n",
      "Epoch 148, Loss: 1.46783059\n",
      "Epoch 149, Loss: 1.45883625\n",
      "Epoch 150, Loss: 1.45009370\n",
      "Epoch 151, Loss: 1.44159312\n",
      "Epoch 152, Loss: 1.43332464\n",
      "Epoch 153, Loss: 1.42527841\n",
      "Epoch 154, Loss: 1.41744475\n",
      "Epoch 155, Loss: 1.40981421\n",
      "Epoch 156, Loss: 1.40237757\n",
      "Epoch 157, Loss: 1.39512597\n",
      "Epoch 158, Loss: 1.38805086\n",
      "Epoch 159, Loss: 1.38114409\n",
      "Epoch 160, Loss: 1.37439787\n",
      "Epoch 161, Loss: 1.36780481\n",
      "Epoch 162, Loss: 1.36135790\n",
      "Epoch 163, Loss: 1.35505051\n",
      "Epoch 164, Loss: 1.34887639\n",
      "Epoch 165, Loss: 1.34282964\n",
      "Epoch 166, Loss: 1.33690469\n",
      "Epoch 167, Loss: 1.33109632\n",
      "Epoch 168, Loss: 1.32539960\n",
      "Epoch 169, Loss: 1.31980991\n",
      "Epoch 170, Loss: 1.31432289\n",
      "Epoch 171, Loss: 1.30893445\n",
      "Epoch 172, Loss: 1.30364073\n",
      "Epoch 173, Loss: 1.29843811\n",
      "Epoch 174, Loss: 1.29332317\n",
      "Epoch 175, Loss: 1.28829268\n",
      "Epoch 176, Loss: 1.28334362\n",
      "Epoch 177, Loss: 1.27847311\n",
      "Epoch 178, Loss: 1.27367844\n",
      "Epoch 179, Loss: 1.26895705\n",
      "Epoch 180, Loss: 1.26430652\n",
      "Epoch 181, Loss: 1.25972455\n",
      "Epoch 182, Loss: 1.25520896\n",
      "Epoch 183, Loss: 1.25075768\n",
      "Epoch 184, Loss: 1.24636874\n",
      "Epoch 185, Loss: 1.24204029\n",
      "Epoch 186, Loss: 1.23777053\n",
      "Epoch 187, Loss: 1.23355777\n",
      "Epoch 188, Loss: 1.22940040\n",
      "Epoch 189, Loss: 1.22529688\n",
      "Epoch 190, Loss: 1.22124572\n",
      "Epoch 191, Loss: 1.21724551\n",
      "Epoch 192, Loss: 1.21329492\n",
      "Epoch 193, Loss: 1.20939264\n",
      "Epoch 194, Loss: 1.20553744\n",
      "Epoch 195, Loss: 1.20172813\n",
      "Epoch 196, Loss: 1.19796357\n",
      "Epoch 197, Loss: 1.19424267\n",
      "Epoch 198, Loss: 1.19056436\n",
      "Epoch 199, Loss: 1.18692765\n",
      "Epoch 200, Loss: 1.18333156\n",
      "Epoch 201, Loss: 1.17977514\n",
      "Epoch 202, Loss: 1.17625750\n",
      "Epoch 203, Loss: 1.17277776\n",
      "Epoch 204, Loss: 1.16933509\n",
      "Epoch 205, Loss: 1.16592867\n",
      "Epoch 206, Loss: 1.16255772\n",
      "Epoch 207, Loss: 1.15922150\n",
      "Epoch 208, Loss: 1.15591926\n",
      "Epoch 209, Loss: 1.15265030\n",
      "Epoch 210, Loss: 1.14941394\n",
      "Epoch 211, Loss: 1.14620952\n",
      "Epoch 212, Loss: 1.14303640\n",
      "Epoch 213, Loss: 1.13989397\n",
      "Epoch 214, Loss: 1.13678161\n",
      "Epoch 215, Loss: 1.13369876\n",
      "Epoch 216, Loss: 1.13064485\n",
      "Epoch 217, Loss: 1.12761934\n",
      "Epoch 218, Loss: 1.12462169\n",
      "Epoch 219, Loss: 1.12165139\n",
      "Epoch 220, Loss: 1.11870795\n",
      "Epoch 221, Loss: 1.11579087\n",
      "Epoch 222, Loss: 1.11289970\n",
      "Epoch 223, Loss: 1.11003397\n",
      "Epoch 224, Loss: 1.10719324\n",
      "Epoch 225, Loss: 1.10437708\n",
      "Epoch 226, Loss: 1.10158507\n",
      "Epoch 227, Loss: 1.09881680\n",
      "Epoch 228, Loss: 1.09607188\n",
      "Epoch 229, Loss: 1.09334991\n",
      "Epoch 230, Loss: 1.09065053\n",
      "Epoch 231, Loss: 1.08797338\n",
      "Epoch 232, Loss: 1.08531808\n",
      "Epoch 233, Loss: 1.08268430\n",
      "Epoch 234, Loss: 1.08007169\n",
      "Epoch 235, Loss: 1.07747994\n",
      "Epoch 236, Loss: 1.07490871\n",
      "Epoch 237, Loss: 1.07235770\n",
      "Epoch 238, Loss: 1.06982660\n",
      "Epoch 239, Loss: 1.06731510\n",
      "Epoch 240, Loss: 1.06482293\n",
      "Epoch 241, Loss: 1.06234980\n",
      "Epoch 242, Loss: 1.05989542\n",
      "Epoch 243, Loss: 1.05745954\n",
      "Epoch 244, Loss: 1.05504188\n",
      "Epoch 245, Loss: 1.05264219\n",
      "Epoch 246, Loss: 1.05026022\n",
      "Epoch 247, Loss: 1.04789571\n",
      "Epoch 248, Loss: 1.04554844\n",
      "Epoch 249, Loss: 1.04321816\n",
      "Epoch 250, Loss: 1.04090465\n",
      "Epoch 251, Loss: 1.03860768\n",
      "Epoch 252, Loss: 1.03632703\n",
      "Epoch 253, Loss: 1.03406248\n",
      "Epoch 254, Loss: 1.03181383\n",
      "Epoch 255, Loss: 1.02958086\n",
      "Epoch 256, Loss: 1.02736339\n",
      "Epoch 257, Loss: 1.02516120\n",
      "Epoch 258, Loss: 1.02297411\n",
      "Epoch 259, Loss: 1.02080192\n",
      "Epoch 260, Loss: 1.01864446\n",
      "Epoch 261, Loss: 1.01650154\n",
      "Epoch 262, Loss: 1.01437297\n",
      "Epoch 263, Loss: 1.01225860\n",
      "Epoch 264, Loss: 1.01015824\n",
      "Epoch 265, Loss: 1.00807173\n",
      "Epoch 266, Loss: 1.00599890\n",
      "Epoch 267, Loss: 1.00393959\n",
      "Epoch 268, Loss: 1.00189364\n",
      "Epoch 269, Loss: 0.99986091\n",
      "Epoch 270, Loss: 0.99784123\n",
      "Epoch 271, Loss: 0.99583445\n",
      "Epoch 272, Loss: 0.99384044\n",
      "Epoch 273, Loss: 0.99185904\n",
      "Epoch 274, Loss: 0.98989012\n",
      "Epoch 275, Loss: 0.98793353\n",
      "Epoch 276, Loss: 0.98598913\n",
      "Epoch 277, Loss: 0.98405681\n",
      "Epoch 278, Loss: 0.98213641\n",
      "Epoch 279, Loss: 0.98022782\n"
     ]
    }
   ],
   "source": [
    "loss_history, W1, W2, b1, b2 = train(X, Y, W1, W2, b1, b2)"
   ]
  },
  {
   "cell_type": "markdown",
   "metadata": {},
   "source": [
    "### Visualiser la décroissance de l'erreur sur un graphe (optionnel)"
   ]
  },
  {
   "cell_type": "code",
   "execution_count": 231,
   "metadata": {},
   "outputs": [
    {
     "data": {
      "text/plain": [
       "[<matplotlib.lines.Line2D at 0x1a1a2b1a20>]"
      ]
     },
     "execution_count": 231,
     "metadata": {},
     "output_type": "execute_result"
    },
    {
     "data": {
      "image/png": "[encoded data removed]",
      "text/plain": [
       "<matplotlib.figure.Figure at 0x1a1a209320>"
      ]
     },
     "metadata": {},
     "output_type": "display_data"
    }
   ],
   "source": [
    "%matplotlib inline\n",
    "fit = plt.figure()\n",
    "ax = plt.axes()\n",
    "ax.plot(loss_history)"
   ]
  },
  {
   "cell_type": "markdown",
   "metadata": {},
   "source": [
    "## Évaluation du réseau de neurones"
   ]
  },
  {
   "cell_type": "markdown",
   "metadata": {},
   "source": [
    "Écrivez une petite fonction qui, à partir des activation de la dernière couche du réseau, produit un vecteur de 1 et de 0. Normalement il suffit de copier-coller quelque lignes de code et d'ajouter quelque chose à la fin. Attention, ici, contrairement à ce qu'on avait dans le MOOC, la dernière couche a 10 valeurs de sortie, et non pas une seule."
   ]
  },
  {
   "cell_type": "code",
   "execution_count": 186,
   "metadata": {},
   "outputs": [],
   "source": [
    "def predict(X, W1, W2, b1, b2):\n",
    "    Z1 = np.dot(W1, X) + b1\n",
    "    A1 = np.tanh(Z1)\n",
    "    Z2 = np.dot(W2, A1) + b2\n",
    "    A2 = sigmoid(Z2)\n",
    "    return np.array([0 if y < 0.5 else 1 for y in A2])"
   ]
  },
  {
   "cell_type": "markdown",
   "metadata": {},
   "source": [
    "### Tester la performance sur un seul exemple\n",
    "Ici on génère un seul exemple (une série de 10 chiffres binaires), puis on fait prédire son inversion."
   ]
  },
  {
   "cell_type": "code",
   "execution_count": 232,
   "metadata": {},
   "outputs": [
    {
     "name": "stdout",
     "output_type": "stream",
     "text": [
      "X  = [[1 0 1 0 1 0 1 1 0 1]]\n",
      "Y  = [[0 1 0 1 0 1 0 0 1 0]]\n",
      "Y^ =  [0 1 0 1 0 1 0 0 1 0]\n"
     ]
    }
   ],
   "source": [
    "X = np.random.binomial(1, 0.5, (n_in,1))\n",
    "print(\"X  =\", X.T)\n",
    "print(\"Y  =\", (X ^ 1).T)\n",
    "print(\"Y^ = \", predict(X, W1, W2, b1, b2).T)"
   ]
  },
  {
   "cell_type": "markdown",
   "metadata": {},
   "source": [
    "### Tester la performance sur une série d'exemples"
   ]
  },
  {
   "cell_type": "code",
   "execution_count": 240,
   "metadata": {},
   "outputs": [
    {
     "name": "stdout",
     "output_type": "stream",
     "text": [
      "[1.0, 1.0, 0.91666666666666674, 0.8125, 1.0, 1.0, 0.9375, 0.91666666666666674, 0.9375, 1.0, 1.0, 0.9285714285714286, 1.0, 1.0, 1.0, 1.0, 1.0, 1.0, 0.90000000000000002, 0.90000000000000002, 0.91666666666666674, 1.0, 1.0, 0.70833333333333337, 1.0, 1.0, 1.0, 1.0, 1.0, 0.9285714285714286, 0.83333333333333337, 1.0, 1.0, 1.0, 1.0, 1.0, 1.0, 1.0, 1.0, 1.0, 1.0, 1.0, 1.0, 1.0, 0.91666666666666674, 1.0, 1.0, 1.0, 1.0, 1.0, 1.0, 1.0, 1.0, 0.94444444444444442, 1.0, 1.0, 1.0, 1.0, 1.0, 1.0, 1.0, 1.0, 0.875, 1.0, 1.0, 1.0, 1.0, 1.0, 1.0, 0.75, 0.90000000000000002, 0.9285714285714286, 1.0, 0.9375, 1.0, 1.0, 1.0, 1.0, 0.9375, 0.83333333333333337, 1.0, 1.0, 1.0, 1.0, 0.875, 0.875, 1.0, 1.0, 1.0, 1.0, 1.0, 0.75, 1.0, 1.0, 1.0, 1.0, 0.7857142857142857, 1.0, 1.0, 0.85714285714285721]\n",
      "0.968021825397\n"
     ]
    }
   ],
   "source": [
    "from sklearn.metrics import roc_auc_score\n",
    "val_list = list()\n",
    "for i in range (100) :\n",
    "    X = np.random.binomial(1, 0.5, (n_in, 1))\n",
    "    Y = X ^ 1\n",
    "    val_list.append(roc_auc_score(Y, predict(X, W1, W2, b1, b2)))\n",
    "    \n",
    "print(val_list)\n",
    "print(np.mean(val_list))"
   ]
  },
  {
   "cell_type": "code",
   "execution_count": null,
   "metadata": {
    "collapsed": true
   },
   "outputs": [],
   "source": []
  }
 ],
 "metadata": {
  "kernelspec": {
   "display_name": "Python 3",
   "language": "python",
   "name": "python3"
  },
  "language_info": {
   "codemirror_mode": {
    "name": "ipython",
    "version": 3
   },
   "file_extension": ".py",
   "mimetype": "text/x-python",
   "name": "python",
   "nbconvert_exporter": "python",
   "pygments_lexer": "ipython3",
   "version": "3.6.3"
  }
 },
 "nbformat": 4,
 "nbformat_minor": 2
}
