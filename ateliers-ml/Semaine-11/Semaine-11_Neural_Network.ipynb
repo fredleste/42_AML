{
 "cells": [
  {
   "cell_type": "markdown",
   "metadata": {},
   "source": [
    "# Semaine 11 - Réseau de neurones de base"
   ]
  },
  {
   "cell_type": "markdown",
   "metadata": {},
   "source": [
    "Cette semaine nous allons écrire un réseau de neurones de base, que nous allons entraîner afin qu'il inverse des séquences de bits. Si vous réussissez à l'implémenter, vous pourrez ensuite vous amuser à l'utiliser sur d'autres types de données"
   ]
  },
  {
   "cell_type": "markdown",
   "metadata": {},
   "source": [
    "## Importations et initialisations de variables"
   ]
  },
  {
   "cell_type": "markdown",
   "metadata": {},
   "source": [
    "Nous n'allons utiliser que numpy pour cet exercice"
   ]
  },
  {
   "cell_type": "code",
   "execution_count": 1,
   "metadata": {
    "collapsed": true
   },
   "outputs": [],
   "source": [
    "import numpy as np\n",
    "import random\n",
    "import matplotlib.pyplot as plt"
   ]
  },
  {
   "cell_type": "markdown",
   "metadata": {},
   "source": [
    "Nous avons un réseau à deux couches (l'input ne comptant pas pour une couche). Nous allons utiliser 300 séquences de bits pour l'entraînement."
   ]
  },
  {
   "cell_type": "code",
   "execution_count": 2,
   "metadata": {
    "collapsed": true
   },
   "outputs": [],
   "source": [
    "# Nb de neurones sur chaque couche\n",
    "n_in = 10\n",
    "n_hidden = 8\n",
    "n_out = 10\n",
    "\n",
    "# Nb de 'training examples'\n",
    "m = 300"
   ]
  },
  {
   "cell_type": "code",
   "execution_count": 40,
   "metadata": {
    "collapsed": true
   },
   "outputs": [],
   "source": [
    "alpha = 0.5  # Learning rate\n",
    "epochs = 250 # nb iterations du gradient descent"
   ]
  },
  {
   "cell_type": "markdown",
   "metadata": {},
   "source": [
    "## Définition des fonctions d'activation"
   ]
  },
  {
   "cell_type": "markdown",
   "metadata": {},
   "source": [
    "Nous utiliserons la fonction tanh pour l'activation de la \"hidden layer\", et la sigmoïde pour la dernière couche. Implémentez-les si elle n'existent pas déjà dans numpy. Implémentez aussi la dérivée de l'une ou l'autre d'entre elles, le cas échéant.\n",
    "Attention! Les fonctions doivent pouvoir traiter des vecteurs ou des matrices en effectuant l'opération sur chaque élément de ces derniers."
   ]
  },
  {
   "cell_type": "code",
   "execution_count": 4,
   "metadata": {
    "collapsed": true
   },
   "outputs": [],
   "source": [
    "def sigmoid(x):\n",
    "    return 1 / (1 + np.exp(-x))"
   ]
  },
  {
   "cell_type": "code",
   "execution_count": 24,
   "metadata": {
    "collapsed": true
   },
   "outputs": [],
   "source": [
    "# Dérivée de tanh\n",
    "def tanh_prime(x):\n",
    "    return 1 - np.tanh(x)**2\n",
    "#    return 1 - np.power(np.tanh(x), 2)\n"
   ]
  },
  {
   "cell_type": "code",
   "execution_count": 7,
   "metadata": {
    "collapsed": true
   },
   "outputs": [],
   "source": [
    "# Dérivée de sigmoid\n",
    "def sigmoid_prime(x):\n",
    "    return sigmoid(x) * (1 - sigmoid(x))"
   ]
  },
  {
   "cell_type": "code",
   "execution_count": null,
   "metadata": {
    "collapsed": true
   },
   "outputs": [],
   "source": []
  },
  {
   "cell_type": "markdown",
   "metadata": {},
   "source": [
    "\n",
    "## Entraînement du réseau de neurones"
   ]
  },
  {
   "cell_type": "markdown",
   "metadata": {},
   "source": [
    "Nous allons écrire une fonction qui fait une activation puis une rétropropagation, puis renvoie l'erreur (loss) et le gradient (toutes ces variables qui commencent par d...). L'itération sur les 200 epochs se fera dans un deuxième temps."
   ]
  },
  {
   "cell_type": "code",
   "execution_count": 8,
   "metadata": {
    "collapsed": true
   },
   "outputs": [],
   "source": [
    "def train(X, Y, W1, W2, b1, b2):\n",
    "    loss_history = []    \n",
    "    for epoch in range(epochs):\n",
    "        # Forward\n",
    "        Z1 = np.dot(W1, X) + b1\n",
    "        A1 = np.tanh(Z1)\n",
    "        Z2 = np.dot(W2, A1) + b2\n",
    "        A2 = sigmoid(Z2)\n",
    "        # Backward\n",
    "        dZ2 = A2 - Y\n",
    "        dW2 = (1 / m) * np.dot(dZ2, A1.T)\n",
    "        db2 = (1 / m) * np.sum(dZ2, axis=1, keepdims = True)\n",
    "        dZ1 = np.multiply(np.dot(W2.T, dZ2), tanh_prime(Z1))\n",
    "        dW1 = (1 / m) * np.dot(dZ1, X.T)\n",
    "        db1 = (1 / m) * np.sum(dZ1, axis=1, keepdims = True)\n",
    "        # Parameter update (use the learning rate alpha here!)\n",
    "        W1 = W1 - (alpha * dW1)\n",
    "        W2 = W2 - (alpha * dW2)\n",
    "        b1 = b1 - (alpha * db1)\n",
    "        b2 = b2 - (alpha * db2)\n",
    "        # Compute loss\n",
    "        L = np.multiply(Y, np.log(A2)) + np.multiply((1 - Y), np.log(1 - A2))\n",
    "        loss = - np.sum(L) / m\n",
    "        #loss = - (np.dot(Y, np.log(A2)) + np.dot((1 - Y), np.log(1 - A2))) / m\n",
    "        loss_history.append(loss)\n",
    "        print(\"Epoch %d, Loss: %.8f\" % (epoch, loss))\n",
    "    return loss_history, W1, W2, b1, b2"
   ]
  },
  {
   "cell_type": "markdown",
   "metadata": {},
   "source": [
    "### Initialisation des paramètres du réseau"
   ]
  },
  {
   "cell_type": "markdown",
   "metadata": {},
   "source": [
    "Attention, certains paramètres sont initalisés à zéro, d'autres non..."
   ]
  },
  {
   "cell_type": "code",
   "execution_count": 41,
   "metadata": {},
   "outputs": [
    {
     "data": {
      "text/plain": [
       "(10, 8)"
      ]
     },
     "execution_count": 41,
     "metadata": {},
     "output_type": "execute_result"
    }
   ],
   "source": [
    "W1 = np.random.randn(n_hidden, n_in) * 0.01\n",
    "W2 = np.random.randn(n_out, n_hidden) * 0.01\n",
    "b1 = np.zeros((n_hidden, 1))\n",
    "b2 = np.zeros((n_out, 1))\n",
    "W2.shape"
   ]
  },
  {
   "cell_type": "markdown",
   "metadata": {},
   "source": [
    "## Génération des données d'entraînement"
   ]
  },
  {
   "cell_type": "markdown",
   "metadata": {},
   "source": [
    "Ici il s'agit créer 300 séries de 10 chiffres binaires (1 et 0) pour les X.\n",
    "Les Y seront ces mêmes séries, inversées."
   ]
  },
  {
   "cell_type": "code",
   "execution_count": 12,
   "metadata": {},
   "outputs": [
    {
     "name": "stdout",
     "output_type": "stream",
     "text": [
      "[[0 1 0 ..., 1 0 1]\n",
      " [1 0 0 ..., 0 0 1]\n",
      " [1 0 1 ..., 1 1 0]\n",
      " ..., \n",
      " [1 0 0 ..., 0 1 0]\n",
      " [1 0 1 ..., 1 0 0]\n",
      " [1 0 1 ..., 0 0 1]]\n",
      "[[1 0 1 ..., 0 1 0]\n",
      " [0 1 1 ..., 1 1 0]\n",
      " [0 1 0 ..., 0 0 1]\n",
      " ..., \n",
      " [0 1 1 ..., 1 0 1]\n",
      " [0 1 0 ..., 0 1 1]\n",
      " [0 1 0 ..., 1 1 0]]\n"
     ]
    }
   ],
   "source": [
    "# Data generation\n",
    "X = np.random.binomial(1, 0.5, (n_in, m))\n",
    "Y = X ^ 1\n",
    "print(X)\n",
    "print(Y)"
   ]
  },
  {
   "cell_type": "markdown",
   "metadata": {},
   "source": [
    "## Lancer l'entraînement du réseau"
   ]
  },
  {
   "cell_type": "code",
   "execution_count": 42,
   "metadata": {},
   "outputs": [
    {
     "name": "stdout",
     "output_type": "stream",
     "text": [
      "Epoch 0, Loss: 6.93120632\n",
      "Epoch 1, Loss: 6.92791003\n",
      "Epoch 2, Loss: 6.92522168\n",
      "Epoch 3, Loss: 6.92294821\n",
      "Epoch 4, Loss: 6.92092786\n",
      "Epoch 5, Loss: 6.91901803\n",
      "Epoch 6, Loss: 6.91708471\n",
      "Epoch 7, Loss: 6.91499264\n",
      "Epoch 8, Loss: 6.91259556\n",
      "Epoch 9, Loss: 6.90972583\n",
      "Epoch 10, Loss: 6.90618279\n",
      "Epoch 11, Loss: 6.90171940\n",
      "Epoch 12, Loss: 6.89602651\n",
      "Epoch 13, Loss: 6.88871466\n",
      "Epoch 14, Loss: 6.87929338\n",
      "Epoch 15, Loss: 6.86714888\n",
      "Epoch 16, Loss: 6.85152223\n",
      "Epoch 17, Loss: 6.83149174\n",
      "Epoch 18, Loss: 6.80596588\n",
      "Epoch 19, Loss: 6.77369580\n",
      "Epoch 20, Loss: 6.73331892\n",
      "Epoch 21, Loss: 6.68344554\n",
      "Epoch 22, Loss: 6.62279635\n",
      "Epoch 23, Loss: 6.55038739\n",
      "Epoch 24, Loss: 6.46573939\n",
      "Epoch 25, Loss: 6.36906308\n",
      "Epoch 26, Loss: 6.26135559\n",
      "Epoch 27, Loss: 6.14435109\n",
      "Epoch 28, Loss: 6.02031304\n",
      "Epoch 29, Loss: 5.89171769\n",
      "Epoch 30, Loss: 5.76092239\n",
      "Epoch 31, Loss: 5.62991051\n",
      "Epoch 32, Loss: 5.50016191\n",
      "Epoch 33, Loss: 5.37264467\n",
      "Epoch 34, Loss: 5.24788966\n",
      "Epoch 35, Loss: 5.12610216\n",
      "Epoch 36, Loss: 5.00727564\n",
      "Epoch 37, Loss: 4.89128831\n",
      "Epoch 38, Loss: 4.77797557\n",
      "Epoch 39, Loss: 4.66717860\n",
      "Epoch 40, Loss: 4.55877265\n",
      "Epoch 41, Loss: 4.45267952\n",
      "Epoch 42, Loss: 4.34886854\n",
      "Epoch 43, Loss: 4.24735007\n",
      "Epoch 44, Loss: 4.14816482\n",
      "Epoch 45, Loss: 4.05137169\n",
      "Epoch 46, Loss: 3.95703599\n",
      "Epoch 47, Loss: 3.86521941\n",
      "Epoch 48, Loss: 3.77597228\n",
      "Epoch 49, Loss: 3.68932844\n",
      "Epoch 50, Loss: 3.60530255\n",
      "Epoch 51, Loss: 3.52388946\n",
      "Epoch 52, Loss: 3.44506543\n",
      "Epoch 53, Loss: 3.36879054\n",
      "Epoch 54, Loss: 3.29501194\n",
      "Epoch 55, Loss: 3.22366738\n",
      "Epoch 56, Loss: 3.15468879\n",
      "Epoch 57, Loss: 3.08800541\n",
      "Epoch 58, Loss: 3.02354642\n",
      "Epoch 59, Loss: 2.96124291\n",
      "Epoch 60, Loss: 2.90102913\n",
      "Epoch 61, Loss: 2.84284317\n",
      "Epoch 62, Loss: 2.78662711\n",
      "Epoch 63, Loss: 2.73232678\n",
      "Epoch 64, Loss: 2.67989130\n",
      "Epoch 65, Loss: 2.62927241\n",
      "Epoch 66, Loss: 2.58042385\n",
      "Epoch 67, Loss: 2.53330066\n",
      "Epoch 68, Loss: 2.48785871\n",
      "Epoch 69, Loss: 2.44405417\n",
      "Epoch 70, Loss: 2.40184320\n",
      "Epoch 71, Loss: 2.36118174\n",
      "Epoch 72, Loss: 2.32202531\n",
      "Epoch 73, Loss: 2.28432900\n",
      "Epoch 74, Loss: 2.24804745\n",
      "Epoch 75, Loss: 2.21313493\n",
      "Epoch 76, Loss: 2.17954539\n",
      "Epoch 77, Loss: 2.14723262\n",
      "Epoch 78, Loss: 2.11615038\n",
      "Epoch 79, Loss: 2.08625254\n",
      "Epoch 80, Loss: 2.05749325\n",
      "Epoch 81, Loss: 2.02982709\n",
      "Epoch 82, Loss: 2.00320924\n",
      "Epoch 83, Loss: 1.97759562\n",
      "Epoch 84, Loss: 1.95294303\n",
      "Epoch 85, Loss: 1.92920926\n",
      "Epoch 86, Loss: 1.90635324\n",
      "Epoch 87, Loss: 1.88433510\n",
      "Epoch 88, Loss: 1.86311628\n",
      "Epoch 89, Loss: 1.84265955\n",
      "Epoch 90, Loss: 1.82292911\n",
      "Epoch 91, Loss: 1.80389057\n",
      "Epoch 92, Loss: 1.78551102\n",
      "Epoch 93, Loss: 1.76775897\n",
      "Epoch 94, Loss: 1.75060441\n",
      "Epoch 95, Loss: 1.73401871\n",
      "Epoch 96, Loss: 1.71797468\n",
      "Epoch 97, Loss: 1.70244646\n",
      "Epoch 98, Loss: 1.68740953\n",
      "Epoch 99, Loss: 1.67284064\n",
      "Epoch 100, Loss: 1.65871776\n",
      "Epoch 101, Loss: 1.64502004\n",
      "Epoch 102, Loss: 1.63172774\n",
      "Epoch 103, Loss: 1.61882220\n",
      "Epoch 104, Loss: 1.60628579\n",
      "Epoch 105, Loss: 1.59410180\n",
      "Epoch 106, Loss: 1.58225447\n",
      "Epoch 107, Loss: 1.57072890\n",
      "Epoch 108, Loss: 1.55951098\n",
      "Epoch 109, Loss: 1.54858738\n",
      "Epoch 110, Loss: 1.53794551\n",
      "Epoch 111, Loss: 1.52757342\n",
      "Epoch 112, Loss: 1.51745985\n",
      "Epoch 113, Loss: 1.50759411\n",
      "Epoch 114, Loss: 1.49796609\n",
      "Epoch 115, Loss: 1.48856620\n",
      "Epoch 116, Loss: 1.47938537\n",
      "Epoch 117, Loss: 1.47041498\n",
      "Epoch 118, Loss: 1.46164688\n",
      "Epoch 119, Loss: 1.45307330\n",
      "Epoch 120, Loss: 1.44468689\n",
      "Epoch 121, Loss: 1.43648066\n",
      "Epoch 122, Loss: 1.42844797\n",
      "Epoch 123, Loss: 1.42058250\n",
      "Epoch 124, Loss: 1.41287824\n",
      "Epoch 125, Loss: 1.40532947\n",
      "Epoch 126, Loss: 1.39793073\n",
      "Epoch 127, Loss: 1.39067683\n",
      "Epoch 128, Loss: 1.38356284\n",
      "Epoch 129, Loss: 1.37658401\n",
      "Epoch 130, Loss: 1.36973586\n",
      "Epoch 131, Loss: 1.36301407\n",
      "Epoch 132, Loss: 1.35641454\n",
      "Epoch 133, Loss: 1.34993334\n",
      "Epoch 134, Loss: 1.34356671\n",
      "Epoch 135, Loss: 1.33731107\n",
      "Epoch 136, Loss: 1.33116298\n",
      "Epoch 137, Loss: 1.32511914\n",
      "Epoch 138, Loss: 1.31917640\n",
      "Epoch 139, Loss: 1.31333174\n",
      "Epoch 140, Loss: 1.30758226\n",
      "Epoch 141, Loss: 1.30192519\n",
      "Epoch 142, Loss: 1.29635785\n",
      "Epoch 143, Loss: 1.29087769\n",
      "Epoch 144, Loss: 1.28548225\n",
      "Epoch 145, Loss: 1.28016917\n",
      "Epoch 146, Loss: 1.27493618\n",
      "Epoch 147, Loss: 1.26978109\n",
      "Epoch 148, Loss: 1.26470180\n",
      "Epoch 149, Loss: 1.25969630\n",
      "Epoch 150, Loss: 1.25476264\n",
      "Epoch 151, Loss: 1.24989895\n",
      "Epoch 152, Loss: 1.24510342\n",
      "Epoch 153, Loss: 1.24037431\n",
      "Epoch 154, Loss: 1.23570995\n",
      "Epoch 155, Loss: 1.23110873\n",
      "Epoch 156, Loss: 1.22656907\n",
      "Epoch 157, Loss: 1.22208948\n",
      "Epoch 158, Loss: 1.21766851\n",
      "Epoch 159, Loss: 1.21330475\n",
      "Epoch 160, Loss: 1.20899685\n",
      "Epoch 161, Loss: 1.20474349\n",
      "Epoch 162, Loss: 1.20054342\n",
      "Epoch 163, Loss: 1.19639541\n",
      "Epoch 164, Loss: 1.19229827\n",
      "Epoch 165, Loss: 1.18825086\n",
      "Epoch 166, Loss: 1.18425208\n",
      "Epoch 167, Loss: 1.18030085\n",
      "Epoch 168, Loss: 1.17639612\n",
      "Epoch 169, Loss: 1.17253691\n",
      "Epoch 170, Loss: 1.16872222\n",
      "Epoch 171, Loss: 1.16495112\n",
      "Epoch 172, Loss: 1.16122269\n",
      "Epoch 173, Loss: 1.15753604\n",
      "Epoch 174, Loss: 1.15389031\n",
      "Epoch 175, Loss: 1.15028466\n",
      "Epoch 176, Loss: 1.14671829\n",
      "Epoch 177, Loss: 1.14319041\n",
      "Epoch 178, Loss: 1.13970024\n",
      "Epoch 179, Loss: 1.13624706\n",
      "Epoch 180, Loss: 1.13283013\n",
      "Epoch 181, Loss: 1.12944875\n",
      "Epoch 182, Loss: 1.12610226\n",
      "Epoch 183, Loss: 1.12278997\n",
      "Epoch 184, Loss: 1.11951125\n",
      "Epoch 185, Loss: 1.11626547\n",
      "Epoch 186, Loss: 1.11305203\n",
      "Epoch 187, Loss: 1.10987032\n",
      "Epoch 188, Loss: 1.10671977\n",
      "Epoch 189, Loss: 1.10359982\n",
      "Epoch 190, Loss: 1.10050992\n",
      "Epoch 191, Loss: 1.09744954\n",
      "Epoch 192, Loss: 1.09441816\n",
      "Epoch 193, Loss: 1.09141527\n",
      "Epoch 194, Loss: 1.08844038\n",
      "Epoch 195, Loss: 1.08549301\n",
      "Epoch 196, Loss: 1.08257268\n",
      "Epoch 197, Loss: 1.07967895\n",
      "Epoch 198, Loss: 1.07681136\n",
      "Epoch 199, Loss: 1.07396948\n",
      "Epoch 200, Loss: 1.07115289\n",
      "Epoch 201, Loss: 1.06836117\n",
      "Epoch 202, Loss: 1.06559391\n",
      "Epoch 203, Loss: 1.06285073\n",
      "Epoch 204, Loss: 1.06013124\n",
      "Epoch 205, Loss: 1.05743505\n",
      "Epoch 206, Loss: 1.05476180\n",
      "Epoch 207, Loss: 1.05211114\n",
      "Epoch 208, Loss: 1.04948271\n",
      "Epoch 209, Loss: 1.04687616\n",
      "Epoch 210, Loss: 1.04429117\n",
      "Epoch 211, Loss: 1.04172739\n",
      "Epoch 212, Loss: 1.03918453\n",
      "Epoch 213, Loss: 1.03666225\n",
      "Epoch 214, Loss: 1.03416025\n",
      "Epoch 215, Loss: 1.03167823\n",
      "Epoch 216, Loss: 1.02921590\n",
      "Epoch 217, Loss: 1.02677297\n",
      "Epoch 218, Loss: 1.02434916\n",
      "Epoch 219, Loss: 1.02194419\n",
      "Epoch 220, Loss: 1.01955780\n",
      "Epoch 221, Loss: 1.01718971\n",
      "Epoch 222, Loss: 1.01483968\n",
      "Epoch 223, Loss: 1.01250744\n",
      "Epoch 224, Loss: 1.01019276\n",
      "Epoch 225, Loss: 1.00789538\n",
      "Epoch 226, Loss: 1.00561506\n",
      "Epoch 227, Loss: 1.00335159\n",
      "Epoch 228, Loss: 1.00110471\n",
      "Epoch 229, Loss: 0.99887422\n",
      "Epoch 230, Loss: 0.99665990\n",
      "Epoch 231, Loss: 0.99446151\n",
      "Epoch 232, Loss: 0.99227887\n",
      "Epoch 233, Loss: 0.99011175\n",
      "Epoch 234, Loss: 0.98795996\n",
      "Epoch 235, Loss: 0.98582329\n",
      "Epoch 236, Loss: 0.98370155\n",
      "Epoch 237, Loss: 0.98159456\n",
      "Epoch 238, Loss: 0.97950211\n",
      "Epoch 239, Loss: 0.97742402\n",
      "Epoch 240, Loss: 0.97536012\n",
      "Epoch 241, Loss: 0.97331023\n",
      "Epoch 242, Loss: 0.97127417\n",
      "Epoch 243, Loss: 0.96925177\n",
      "Epoch 244, Loss: 0.96724286\n",
      "Epoch 245, Loss: 0.96524727\n",
      "Epoch 246, Loss: 0.96326485\n",
      "Epoch 247, Loss: 0.96129544\n",
      "Epoch 248, Loss: 0.95933887\n",
      "Epoch 249, Loss: 0.95739499\n"
     ]
    }
   ],
   "source": [
    "loss_history, W1, W2, b1, b2 = train(X, Y, W1, W2, b1, b2)"
   ]
  },
  {
   "cell_type": "markdown",
   "metadata": {},
   "source": [
    "### Visualiser la décroissance de l'erreur sur un graphe (optionnel)"
   ]
  },
  {
   "cell_type": "code",
   "execution_count": 43,
   "metadata": {},
   "outputs": [
    {
     "data": {
      "text/plain": [
       "[<matplotlib.lines.Line2D at 0x10e6d3cc0>]"
      ]
     },
     "execution_count": 43,
     "metadata": {},
     "output_type": "execute_result"
    },
    {
     "data": {
      "image/png": "[encoded data removed]",
      "text/plain": [
       "<matplotlib.figure.Figure at 0x10e588e10>"
      ]
     },
     "metadata": {},
     "output_type": "display_data"
    }
   ],
   "source": [
    "%matplotlib inline\n",
    "fit = plt.figure()\n",
    "ax = plt.axes()\n",
    "ax.plot(loss_history)"
   ]
  },
  {
   "cell_type": "markdown",
   "metadata": {},
   "source": [
    "## Évaluation du réseau de neurones"
   ]
  },
  {
   "cell_type": "markdown",
   "metadata": {},
   "source": [
    "Écrivez une petite fonction qui, à partir des activation de la dernière couche du réseau, produit un vecteur de 1 et de 0. Normalement il suffit de copier-coller quelque lignes de code et d'ajouter quelque chose à la fin. Attention, ici, contrairement à ce qu'on avait dans le MOOC, la dernière couche a 10 valeurs de sortie, et non pas une seule."
   ]
  },
  {
   "cell_type": "code",
   "execution_count": null,
   "metadata": {
    "collapsed": true
   },
   "outputs": [],
   "source": [
    "def predict(X, W1, W2, b1, b2):\n",
    "   \n"
   ]
  },
  {
   "cell_type": "markdown",
   "metadata": {},
   "source": [
    "### Tester la performance sur un seul exemple\n",
    "Ici on génère un seul exemple (une série de 10 chiffres binaires), puis on fait prédire son inversion."
   ]
  },
  {
   "cell_type": "code",
   "execution_count": null,
   "metadata": {
    "collapsed": true
   },
   "outputs": [],
   "source": [
    "X = np.random.binomial(1, 0.5, (n_in,1))\n",
    "print(X.T)\n",
    "print(predict(X, W1, W2, b1, b2).T)"
   ]
  },
  {
   "cell_type": "markdown",
   "metadata": {},
   "source": [
    "### Tester la performance sur une série d'exemples"
   ]
  },
  {
   "cell_type": "code",
   "execution_count": null,
   "metadata": {
    "collapsed": true
   },
   "outputs": [],
   "source": []
  }
 ],
 "metadata": {
  "kernelspec": {
   "display_name": "Python 3",
   "language": "python",
   "name": "python3"
  },
  "language_info": {
   "codemirror_mode": {
    "name": "ipython",
    "version": 3
   },
   "file_extension": ".py",
   "mimetype": "text/x-python",
   "name": "python",
   "nbconvert_exporter": "python",
   "pygments_lexer": "ipython3",
   "version": "3.6.3"
  }
 },
 "nbformat": 4,
 "nbformat_minor": 2
}
