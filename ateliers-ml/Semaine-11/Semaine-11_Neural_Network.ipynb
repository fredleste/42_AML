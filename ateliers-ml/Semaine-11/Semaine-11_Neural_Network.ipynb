{
 "cells": [
  {
   "cell_type": "markdown",
   "metadata": {},
   "source": [
    "# Semaine 11 - Réseau de neurones de base"
   ]
  },
  {
   "cell_type": "markdown",
   "metadata": {},
   "source": [
    "Cette semaine nous allons écrire un réseau de neurones de base, que nous allons entraîner afin qu'il inverse des séquences de bits. Si vous réussissez à l'implémenter, vous pourrez ensuite vous amuser à l'utiliser sur d'autres types de données"
   ]
  },
  {
   "cell_type": "markdown",
   "metadata": {},
   "source": [
    "## Importations et initialisations de variables"
   ]
  },
  {
   "cell_type": "markdown",
   "metadata": {},
   "source": [
    "Nous n'allons utiliser que numpy pour cet exercice"
   ]
  },
  {
   "cell_type": "code",
   "execution_count": 69,
   "metadata": {
    "collapsed": true
   },
   "outputs": [],
   "source": [
    "import numpy as np\n",
    "import random\n",
    "import matplotlib.pyplot as plt"
   ]
  },
  {
   "cell_type": "markdown",
   "metadata": {},
   "source": [
    "Nous avons un réseau à deux couches (l'input ne comptant pas pour une couche). Nous allons utiliser 300 séquences de bits pour l'entraînement."
   ]
  },
  {
   "cell_type": "code",
   "execution_count": 49,
   "metadata": {
    "collapsed": true
   },
   "outputs": [],
   "source": [
    "# Nb de neurones sur chaque couche\n",
    "n_in = 10\n",
    "n_hidden = 8\n",
    "n_out = 10\n",
    "\n",
    "# Nb de 'training examples'\n",
    "m = 300"
   ]
  },
  {
   "cell_type": "code",
   "execution_count": 50,
   "metadata": {
    "collapsed": true
   },
   "outputs": [],
   "source": [
    "alpha = 1  # Learning rate\n",
    "epochs = 200  # nb iterations du gradient descent"
   ]
  },
  {
   "cell_type": "markdown",
   "metadata": {},
   "source": [
    "## Définition des fonctions d'activation"
   ]
  },
  {
   "cell_type": "markdown",
   "metadata": {},
   "source": [
    "Nous utiliserons la fonction tanh pour l'activation de la \"hidden layer\", et la sigmoïde pour la dernière couche. Implémentez-les si elle n'existent pas déjà dans numpy. Implémentez aussi la dérivée de l'une ou l'autre d'entre elles, le cas échéant.\n",
    "Attention! Les fonctions doivent pouvoir traiter des vecteurs ou des matrices en effectuant l'opération sur chaque élément de ces derniers."
   ]
  },
  {
   "cell_type": "code",
   "execution_count": 51,
   "metadata": {
    "collapsed": true
   },
   "outputs": [],
   "source": [
    "def sigmoid(x):\n",
    "    return 1 / (1 + np.exp(-x))"
   ]
  },
  {
   "cell_type": "code",
   "execution_count": 52,
   "metadata": {
    "collapsed": true
   },
   "outputs": [],
   "source": [
    "# Dérivée de tanh\n",
    "def tanh_prime(x):\n",
    "    return 1 - np.power(np.tanh(x), 2)"
   ]
  },
  {
   "cell_type": "code",
   "execution_count": 53,
   "metadata": {},
   "outputs": [],
   "source": [
    "# Dérivée de sigmoid\n",
    "def sigmoid_prime(x):\n",
    "    return sigmoid(x) * (1 - sigmoid(x))"
   ]
  },
  {
   "cell_type": "code",
   "execution_count": null,
   "metadata": {
    "collapsed": true
   },
   "outputs": [],
   "source": []
  },
  {
   "cell_type": "markdown",
   "metadata": {},
   "source": [
    "\n",
    "## Entraînement du réseau de neurones"
   ]
  },
  {
   "cell_type": "markdown",
   "metadata": {},
   "source": [
    "Nous allons écrire une fonction qui fait une activation puis une rétropropagation, puis renvoie l'erreur (loss) et le gradient (toutes ces variables qui commencent par d...). L'itération sur les 200 epochs se fera dans un deuxième temps."
   ]
  },
  {
   "cell_type": "code",
   "execution_count": 67,
   "metadata": {},
   "outputs": [],
   "source": [
    "def train(X, Y, W1, W2, b1, b2):\n",
    "    loss_history = []    \n",
    "    for epoch in range(epochs):\n",
    "        # Forward\n",
    "        Z1 = np.dot(W1, X) + b1\n",
    "        A1 = np.tanh(Z1)\n",
    "        Z2 = np.dot(W2, A1) + b2\n",
    "        A2 = sigmoid(Z2)\n",
    "        # Backward\n",
    "        dZ2 = A2 - Y\n",
    "        dW2 = (1 / m) * np.dot(dZ2, A1.T)\n",
    "        db2 = (1 / m) * np.sum(dZ2, axis=1, keepdims = True)\n",
    "        dZ1 = np.multiply(np.dot(W2.T, dZ2), tanh_prime(Z1))\n",
    "        dW1 = (1 / m) * np.dot(dZ1, X.T)\n",
    "        db1 = (1 / m) * np.sum(dZ1, axis=1, keepdims = True)\n",
    "        # Parameter update (use the learning rate alpha here!)\n",
    "        W1 = W1 - (alpha * dW1)\n",
    "        W2 = W2 - (alpha * dW2)\n",
    "        b1 = b1 - (alpha * db1)\n",
    "        b2 = b2 - (alpha * db2)\n",
    "        # Compute loss\n",
    "        L = np.multiply(Y, np.log(A2)) + np.multiply((1 - Y), np.log(1 - A2))\n",
    "        loss = - np.sum(L) / m\n",
    "        #loss = - (np.dot(Y, np.log(A2)) + np.dot((1 - Y), np.log(1 - A2))) / m\n",
    "        loss_history.append(loss)\n",
    "        print(\"Epoch %d, Loss: %.8f\" % (epoch, loss))\n",
    "    return loss_history, W1, W2, b1, b2"
   ]
  },
  {
   "cell_type": "markdown",
   "metadata": {},
   "source": [
    "### Initialisation des paramètres du réseau"
   ]
  },
  {
   "cell_type": "markdown",
   "metadata": {},
   "source": [
    "Attention, certains paramètres sont initalisés à zéro, d'autres non..."
   ]
  },
  {
   "cell_type": "code",
   "execution_count": 60,
   "metadata": {},
   "outputs": [
    {
     "data": {
      "text/plain": [
       "(10, 8)"
      ]
     },
     "execution_count": 60,
     "metadata": {},
     "output_type": "execute_result"
    }
   ],
   "source": [
    "W1 = np.random.randn(n_hidden, n_in) * 0.01\n",
    "W2 = np.random.randn(n_out, n_hidden) * 0.01\n",
    "b1 = np.zeros((n_hidden, 1))\n",
    "b2 = np.zeros((n_out, 1))\n",
    "W2.shape"
   ]
  },
  {
   "cell_type": "markdown",
   "metadata": {},
   "source": [
    "## Génération des données d'entraînement"
   ]
  },
  {
   "cell_type": "markdown",
   "metadata": {},
   "source": [
    "Ici il s'agit créer 300 séries de 10 chiffres binaires (1 et 0) pour les X.\n",
    "Les Y seront ces mêmes séries, inversées."
   ]
  },
  {
   "cell_type": "code",
   "execution_count": 56,
   "metadata": {},
   "outputs": [
    {
     "name": "stdout",
     "output_type": "stream",
     "text": [
      "[[1 0 0 ..., 1 0 1]\n",
      " [0 1 0 ..., 0 0 0]\n",
      " [1 0 1 ..., 1 0 1]\n",
      " ..., \n",
      " [0 1 0 ..., 1 1 1]\n",
      " [1 0 1 ..., 0 0 1]\n",
      " [0 0 0 ..., 0 0 1]]\n",
      "[[0 1 1 ..., 0 1 0]\n",
      " [1 0 1 ..., 1 1 1]\n",
      " [0 1 0 ..., 0 1 0]\n",
      " ..., \n",
      " [1 0 1 ..., 0 0 0]\n",
      " [0 1 0 ..., 1 1 0]\n",
      " [1 1 1 ..., 1 1 0]]\n"
     ]
    }
   ],
   "source": [
    "# Data generation\n",
    "X = np.random.binomial(1, 0.5, (n_in, m))\n",
    "Y = X ^ 1\n",
    "print(X)\n",
    "print(Y)"
   ]
  },
  {
   "cell_type": "markdown",
   "metadata": {},
   "source": [
    "## Lancer l'entraînement du réseau"
   ]
  },
  {
   "cell_type": "code",
   "execution_count": 68,
   "metadata": {},
   "outputs": [
    {
     "name": "stdout",
     "output_type": "stream",
     "text": [
      "Epoch 0, Loss: 6.93101591\n",
      "Epoch 1, Loss: 6.91897198\n",
      "Epoch 2, Loss: 6.91139705\n",
      "Epoch 3, Loss: 6.90578958\n",
      "Epoch 4, Loss: 6.90044178\n",
      "Epoch 5, Loss: 6.89387820\n",
      "Epoch 6, Loss: 6.88444132\n",
      "Epoch 7, Loss: 6.86990555\n",
      "Epoch 8, Loss: 6.84706618\n",
      "Epoch 9, Loss: 6.81132542\n",
      "Epoch 10, Loss: 6.75644244\n",
      "Epoch 11, Loss: 6.67488130\n",
      "Epoch 12, Loss: 6.55947600\n",
      "Epoch 13, Loss: 6.40671452\n",
      "Epoch 14, Loss: 6.21991483\n",
      "Epoch 15, Loss: 6.00886776\n",
      "Epoch 16, Loss: 5.78516868\n",
      "Epoch 17, Loss: 5.55738756\n",
      "Epoch 18, Loss: 5.33013446\n",
      "Epoch 19, Loss: 5.10609974\n",
      "Epoch 20, Loss: 4.88798761\n",
      "Epoch 21, Loss: 4.67893281\n",
      "Epoch 22, Loss: 4.48180749\n",
      "Epoch 23, Loss: 4.29838287\n",
      "Epoch 24, Loss: 4.12900389\n",
      "Epoch 25, Loss: 3.97283633\n",
      "Epoch 26, Loss: 3.82840605\n",
      "Epoch 27, Loss: 3.69412197\n",
      "Epoch 28, Loss: 3.56888359\n",
      "Epoch 29, Loss: 3.45336681\n",
      "Epoch 30, Loss: 3.35517230\n",
      "Epoch 31, Loss: 3.31036195\n",
      "Epoch 32, Loss: 3.44003076\n",
      "Epoch 33, Loss: 3.93804343\n",
      "Epoch 34, Loss: 4.17205259\n",
      "Epoch 35, Loss: 3.77592950\n",
      "Epoch 36, Loss: 3.23217155\n",
      "Epoch 37, Loss: 3.08925304\n",
      "Epoch 38, Loss: 3.04033212\n",
      "Epoch 39, Loss: 3.02529493\n",
      "Epoch 40, Loss: 2.95766400\n",
      "Epoch 41, Loss: 2.82065952\n",
      "Epoch 42, Loss: 2.68566456\n",
      "Epoch 43, Loss: 2.57514971\n",
      "Epoch 44, Loss: 2.49655458\n",
      "Epoch 45, Loss: 2.45711709\n",
      "Epoch 46, Loss: 2.45217901\n",
      "Epoch 47, Loss: 2.45278693\n",
      "Epoch 48, Loss: 2.47110323\n",
      "Epoch 49, Loss: 2.39040255\n",
      "Epoch 50, Loss: 2.35266587\n",
      "Epoch 51, Loss: 2.26003922\n",
      "Epoch 52, Loss: 2.33202043\n",
      "Epoch 53, Loss: 2.46603207\n",
      "Epoch 54, Loss: 2.53985301\n",
      "Epoch 55, Loss: 2.56868623\n",
      "Epoch 56, Loss: 2.29206155\n",
      "Epoch 57, Loss: 2.12360527\n",
      "Epoch 58, Loss: 2.01541632\n",
      "Epoch 59, Loss: 1.98349445\n",
      "Epoch 60, Loss: 1.95386289\n",
      "Epoch 61, Loss: 1.95935514\n",
      "Epoch 62, Loss: 1.94634460\n",
      "Epoch 63, Loss: 1.96986939\n",
      "Epoch 64, Loss: 1.94807229\n",
      "Epoch 65, Loss: 1.96955590\n",
      "Epoch 66, Loss: 1.89616068\n",
      "Epoch 67, Loss: 1.88624737\n",
      "Epoch 68, Loss: 1.79807758\n",
      "Epoch 69, Loss: 1.77486989\n",
      "Epoch 70, Loss: 1.71601592\n",
      "Epoch 71, Loss: 1.69985315\n",
      "Epoch 72, Loss: 1.66955246\n",
      "Epoch 73, Loss: 1.66773132\n",
      "Epoch 74, Loss: 1.66141175\n",
      "Epoch 75, Loss: 1.68055528\n",
      "Epoch 76, Loss: 1.70247565\n",
      "Epoch 77, Loss: 1.74502969\n",
      "Epoch 78, Loss: 1.78343165\n",
      "Epoch 79, Loss: 1.80519578\n",
      "Epoch 80, Loss: 1.79813682\n",
      "Epoch 81, Loss: 1.75583353\n",
      "Epoch 82, Loss: 1.69891464\n",
      "Epoch 83, Loss: 1.63913970\n",
      "Epoch 84, Loss: 1.59087513\n",
      "Epoch 85, Loss: 1.56409863\n",
      "Epoch 86, Loss: 1.54987101\n",
      "Epoch 87, Loss: 1.57790126\n",
      "Epoch 88, Loss: 1.62682666\n",
      "Epoch 89, Loss: 1.75765723\n",
      "Epoch 90, Loss: 1.90120814\n",
      "Epoch 91, Loss: 2.02991718\n",
      "Epoch 92, Loss: 2.11945867\n",
      "Epoch 93, Loss: 2.01539464\n",
      "Epoch 94, Loss: 1.90368949\n",
      "Epoch 95, Loss: 1.76500530\n",
      "Epoch 96, Loss: 1.59706656\n",
      "Epoch 97, Loss: 1.53929217\n",
      "Epoch 98, Loss: 1.50699728\n",
      "Epoch 99, Loss: 1.50252568\n",
      "Epoch 100, Loss: 1.55989600\n",
      "Epoch 101, Loss: 1.54561107\n",
      "Epoch 102, Loss: 1.62977676\n",
      "Epoch 103, Loss: 1.57322402\n",
      "Epoch 104, Loss: 1.62249788\n",
      "Epoch 105, Loss: 1.55446982\n",
      "Epoch 106, Loss: 1.55210875\n",
      "Epoch 107, Loss: 1.51872439\n",
      "Epoch 108, Loss: 1.48222767\n",
      "Epoch 109, Loss: 1.50089168\n",
      "Epoch 110, Loss: 1.46402492\n",
      "Epoch 111, Loss: 1.52667415\n",
      "Epoch 112, Loss: 1.54399626\n",
      "Epoch 113, Loss: 1.60629798\n",
      "Epoch 114, Loss: 1.67687411\n",
      "Epoch 115, Loss: 1.71454630\n",
      "Epoch 116, Loss: 1.67947081\n",
      "Epoch 117, Loss: 1.67783322\n",
      "Epoch 118, Loss: 1.69606105\n",
      "Epoch 119, Loss: 1.89292329\n",
      "Epoch 120, Loss: 2.22084868\n",
      "Epoch 121, Loss: 2.29780940\n",
      "Epoch 122, Loss: 2.15799057\n",
      "Epoch 123, Loss: 1.69124806\n",
      "Epoch 124, Loss: 1.50406810\n",
      "Epoch 125, Loss: 1.38713427\n",
      "Epoch 126, Loss: 1.36612892\n",
      "Epoch 127, Loss: 1.38586169\n",
      "Epoch 128, Loss: 1.44002555\n",
      "Epoch 129, Loss: 1.53271211\n",
      "Epoch 130, Loss: 1.65459917\n",
      "Epoch 131, Loss: 1.72299787\n",
      "Epoch 132, Loss: 1.78654065\n",
      "Epoch 133, Loss: 1.68862713\n",
      "Epoch 134, Loss: 1.60563633\n",
      "Epoch 135, Loss: 1.49251261\n",
      "Epoch 136, Loss: 1.43313836\n",
      "Epoch 137, Loss: 1.41282258\n",
      "Epoch 138, Loss: 1.39294260\n",
      "Epoch 139, Loss: 1.38493968\n",
      "Epoch 140, Loss: 1.36947911\n",
      "Epoch 141, Loss: 1.36455192\n",
      "Epoch 142, Loss: 1.35364063\n",
      "Epoch 143, Loss: 1.35020135\n",
      "Epoch 144, Loss: 1.34112820\n",
      "Epoch 145, Loss: 1.33990553\n",
      "Epoch 146, Loss: 1.32982782\n",
      "Epoch 147, Loss: 1.33053057\n",
      "Epoch 148, Loss: 1.31969672\n",
      "Epoch 149, Loss: 1.31814632\n",
      "Epoch 150, Loss: 1.30776541\n",
      "Epoch 151, Loss: 1.30175713\n",
      "Epoch 152, Loss: 1.29807705\n",
      "Epoch 153, Loss: 1.29879023\n",
      "Epoch 154, Loss: 1.31682196\n",
      "Epoch 155, Loss: 1.32790400\n",
      "Epoch 156, Loss: 1.36877529\n",
      "Epoch 157, Loss: 1.36357981\n",
      "Epoch 158, Loss: 1.42520876\n",
      "Epoch 159, Loss: 1.45627910\n",
      "Epoch 160, Loss: 1.66374449\n",
      "Epoch 161, Loss: 1.89289052\n",
      "Epoch 162, Loss: 1.92147348\n",
      "Epoch 163, Loss: 1.93148635\n",
      "Epoch 164, Loss: 1.51431187\n",
      "Epoch 165, Loss: 1.37661321\n",
      "Epoch 166, Loss: 1.35989190\n",
      "Epoch 167, Loss: 1.52250384\n",
      "Epoch 168, Loss: 1.89334837\n",
      "Epoch 169, Loss: 2.38878684\n",
      "Epoch 170, Loss: 2.12833990\n",
      "Epoch 171, Loss: 1.79894068\n",
      "Epoch 172, Loss: 1.60830831\n",
      "Epoch 173, Loss: 1.55371485\n",
      "Epoch 174, Loss: 1.46949877\n",
      "Epoch 175, Loss: 1.51839690\n",
      "Epoch 176, Loss: 1.54670030\n",
      "Epoch 177, Loss: 1.52434197\n",
      "Epoch 178, Loss: 1.41797217\n",
      "Epoch 179, Loss: 1.34136561\n",
      "Epoch 180, Loss: 1.27822056\n",
      "Epoch 181, Loss: 1.29846736\n",
      "Epoch 182, Loss: 1.35526550\n",
      "Epoch 183, Loss: 1.49846686\n",
      "Epoch 184, Loss: 1.51299624\n",
      "Epoch 185, Loss: 1.61171819\n",
      "Epoch 186, Loss: 1.49806450\n",
      "Epoch 187, Loss: 1.50136494\n",
      "Epoch 188, Loss: 1.41523094\n",
      "Epoch 189, Loss: 1.35987695\n",
      "Epoch 190, Loss: 1.23922493\n",
      "Epoch 191, Loss: 1.21660734\n",
      "Epoch 192, Loss: 1.20026463\n",
      "Epoch 193, Loss: 1.22439002\n",
      "Epoch 194, Loss: 1.27070182\n",
      "Epoch 195, Loss: 1.31641671\n",
      "Epoch 196, Loss: 1.39862146\n",
      "Epoch 197, Loss: 1.41476101\n",
      "Epoch 198, Loss: 1.47457947\n",
      "Epoch 199, Loss: 1.41898644\n"
     ]
    }
   ],
   "source": [
    "loss_history, W1, W2, b1, b2 = train(X, Y, W1, W2, b1, b2)"
   ]
  },
  {
   "cell_type": "markdown",
   "metadata": {},
   "source": [
    "### Visualiser la décroissance de l'erreur sur un graphe (optionnel)"
   ]
  },
  {
   "cell_type": "code",
   "execution_count": 70,
   "metadata": {},
   "outputs": [
    {
     "data": {
      "text/plain": [
       "[<matplotlib.lines.Line2D at 0x111eda748>]"
      ]
     },
     "execution_count": 70,
     "metadata": {},
     "output_type": "execute_result"
    },
    {
     "data": {
      "image/png": "[encoded data removed]",
      "text/plain": [
       "<matplotlib.figure.Figure at 0x111dc7eb8>"
      ]
     },
     "metadata": {},
     "output_type": "display_data"
    }
   ],
   "source": [
    "%matplotlib inline\n",
    "fit = plt.figure()\n",
    "ax = plt.axes()\n",
    "ax.plot(loss_history)"
   ]
  },
  {
   "cell_type": "markdown",
   "metadata": {},
   "source": [
    "## Évaluation du réseau de neurones"
   ]
  },
  {
   "cell_type": "markdown",
   "metadata": {},
   "source": [
    "Écrivez une petite fonction qui, à partir des activation de la dernière couche du réseau, produit un vecteur de 1 et de 0. Normalement il suffit de copier-coller quelque lignes de code et d'ajouter quelque chose à la fin. Attention, ici, contrairement à ce qu'on avait dans le MOOC, la dernière couche a 10 valeurs de sortie, et non pas une seule."
   ]
  },
  {
   "cell_type": "code",
   "execution_count": null,
   "metadata": {
    "collapsed": true
   },
   "outputs": [],
   "source": [
    "def predict(X, W1, W2, b1, b2):\n",
    "   \n"
   ]
  },
  {
   "cell_type": "markdown",
   "metadata": {},
   "source": [
    "### Tester la performance sur un seul exemple\n",
    "Ici on génère un seul exemple (une série de 10 chiffres binaires), puis on fait prédire son inversion."
   ]
  },
  {
   "cell_type": "code",
   "execution_count": null,
   "metadata": {
    "collapsed": true
   },
   "outputs": [],
   "source": [
    "X = np.random.binomial(1, 0.5, (n_in,1))\n",
    "print(X.T)\n",
    "print(predict(X, W1, W2, b1, b2).T)"
   ]
  },
  {
   "cell_type": "markdown",
   "metadata": {},
   "source": [
    "### Tester la performance sur une série d'exemples"
   ]
  },
  {
   "cell_type": "code",
   "execution_count": null,
   "metadata": {
    "collapsed": true
   },
   "outputs": [],
   "source": []
  }
 ],
 "metadata": {
  "kernelspec": {
   "display_name": "Python 3",
   "language": "python",
   "name": "python3"
  },
  "language_info": {
   "codemirror_mode": {
    "name": "ipython",
    "version": 3
   },
   "file_extension": ".py",
   "mimetype": "text/x-python",
   "name": "python",
   "nbconvert_exporter": "python",
   "pygments_lexer": "ipython3",
   "version": "3.6.3"
  }
 },
 "nbformat": 4,
 "nbformat_minor": 2
}
