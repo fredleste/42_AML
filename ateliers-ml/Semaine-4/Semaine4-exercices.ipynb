{
 "cells": [
  {
   "cell_type": "markdown",
   "metadata": {},
   "source": [
    "# Support Vector Machines - Exercices tirés du MOOC d'Andrew Ng"
   ]
  },
  {
   "cell_type": "markdown",
   "metadata": {},
   "source": [
    "Voici une adaptation en Python de l'exercice de programmation de la 7e semaine du cours Machine Learning d'Andrew Ng, disponible sur [Coursera](https://www.coursera.org/learn/machine-learning).\n",
    "Voir [l'énoncé original](https://github.com/42-AI/ateliers-ml/Semaine-4/Sujet.pdf) de l'exercice pour le détail des instructions et un rappel des équations à utiliser."
   ]
  },
  {
   "cell_type": "markdown",
   "metadata": {},
   "source": [
    "Cet exercice, nous utiliserons les SVMs sur trois jeux de données différents pour comprendre comment ils fonctionnent."
   ]
  },
  {
   "cell_type": "markdown",
   "metadata": {},
   "source": [
    "## 1- Expérimentations avec les Support Vector Machines"
   ]
  },
  {
   "cell_type": "markdown",
   "metadata": {},
   "source": [
    "Ici, nous utiliserons un jeu de données simple à deux dimensions dont les données peuvent être séparées par une frontière de décision linéaire. L'idée ici est de comprendre comment le paramètre **C** influence cette frontière de décision."
   ]
  },
  {
   "cell_type": "markdown",
   "metadata": {},
   "source": [
    "### Chargement des données"
   ]
  },
  {
   "cell_type": "markdown",
   "metadata": {},
   "source": [
    "Les données sont en format matlab, donc nous utiliserons ici une fonction de scipy pour les ouvrir."
   ]
  },
  {
   "cell_type": "code",
   "execution_count": 6,
   "metadata": {
    "collapsed": true
   },
   "outputs": [],
   "source": [
    "import numpy as np\n",
    "import pandas as pd\n",
    "import matplotlib.pyplot as plt"
   ]
  },
  {
   "cell_type": "code",
   "execution_count": 2,
   "metadata": {
    "collapsed": true
   },
   "outputs": [],
   "source": [
    "\n",
    "from scipy.io import loadmat\n",
    "raw_data = loadmat('ex6data1.mat')\n"
   ]
  },
  {
   "cell_type": "markdown",
   "metadata": {},
   "source": [
    "Cool... mais elles ont quel format? Et quel type a la variable *raw_data* ? Il serait important de voir cela pour savoir quelles manipulations sont possibles avec la structure de données qui y est associée."
   ]
  },
  {
   "cell_type": "code",
   "execution_count": 5,
   "metadata": {},
   "outputs": [
    {
     "data": {
      "text/plain": [
       "{'X': array([[ 1.9643  ,  4.5957  ],\n",
       "        [ 2.2753  ,  3.8589  ],\n",
       "        [ 2.9781  ,  4.5651  ],\n",
       "        [ 2.932   ,  3.5519  ],\n",
       "        [ 3.5772  ,  2.856   ],\n",
       "        [ 4.015   ,  3.1937  ],\n",
       "        [ 3.3814  ,  3.4291  ],\n",
       "        [ 3.9113  ,  4.1761  ],\n",
       "        [ 2.7822  ,  4.0431  ],\n",
       "        [ 2.5518  ,  4.6162  ],\n",
       "        [ 3.3698  ,  3.9101  ],\n",
       "        [ 3.1048  ,  3.0709  ],\n",
       "        [ 1.9182  ,  4.0534  ],\n",
       "        [ 2.2638  ,  4.3706  ],\n",
       "        [ 2.6555  ,  3.5008  ],\n",
       "        [ 3.1855  ,  4.2888  ],\n",
       "        [ 3.6579  ,  3.8692  ],\n",
       "        [ 3.9113  ,  3.4291  ],\n",
       "        [ 3.6002  ,  3.1221  ],\n",
       "        [ 3.0357  ,  3.3165  ],\n",
       "        [ 1.5841  ,  3.3575  ],\n",
       "        [ 2.0103  ,  3.2039  ],\n",
       "        [ 1.9527  ,  2.7843  ],\n",
       "        [ 2.2753  ,  2.7127  ],\n",
       "        [ 2.3099  ,  2.9584  ],\n",
       "        [ 2.8283  ,  2.6309  ],\n",
       "        [ 3.0473  ,  2.2931  ],\n",
       "        [ 2.4827  ,  2.0373  ],\n",
       "        [ 2.5057  ,  2.3853  ],\n",
       "        [ 1.8721  ,  2.0577  ],\n",
       "        [ 2.0103  ,  2.3546  ],\n",
       "        [ 1.2269  ,  2.3239  ],\n",
       "        [ 1.8951  ,  2.9174  ],\n",
       "        [ 1.561   ,  3.0709  ],\n",
       "        [ 1.5495  ,  2.6923  ],\n",
       "        [ 1.6878  ,  2.4057  ],\n",
       "        [ 1.4919  ,  2.0271  ],\n",
       "        [ 0.962   ,  2.682   ],\n",
       "        [ 1.1693  ,  2.9276  ],\n",
       "        [ 0.8122  ,  2.9992  ],\n",
       "        [ 0.9735  ,  3.3881  ],\n",
       "        [ 1.25    ,  3.1937  ],\n",
       "        [ 1.3191  ,  3.5109  ],\n",
       "        [ 2.2292  ,  2.201   ],\n",
       "        [ 2.4482  ,  2.6411  ],\n",
       "        [ 2.7938  ,  1.9656  ],\n",
       "        [ 2.091   ,  1.6177  ],\n",
       "        [ 2.5403  ,  2.8867  ],\n",
       "        [ 0.9044  ,  3.0198  ],\n",
       "        [ 0.76615 ,  2.5899  ],\n",
       "        [ 0.086405,  4.1045  ]]),\n",
       " '__globals__': [],\n",
       " '__header__': b'MATLAB 5.0 MAT-file, Platform: GLNXA64, Created on: Sun Nov 13 14:28:43 2011',\n",
       " '__version__': '1.0',\n",
       " 'y': array([[1],\n",
       "        [1],\n",
       "        [1],\n",
       "        [1],\n",
       "        [1],\n",
       "        [1],\n",
       "        [1],\n",
       "        [1],\n",
       "        [1],\n",
       "        [1],\n",
       "        [1],\n",
       "        [1],\n",
       "        [1],\n",
       "        [1],\n",
       "        [1],\n",
       "        [1],\n",
       "        [1],\n",
       "        [1],\n",
       "        [1],\n",
       "        [1],\n",
       "        [0],\n",
       "        [0],\n",
       "        [0],\n",
       "        [0],\n",
       "        [0],\n",
       "        [0],\n",
       "        [0],\n",
       "        [0],\n",
       "        [0],\n",
       "        [0],\n",
       "        [0],\n",
       "        [0],\n",
       "        [0],\n",
       "        [0],\n",
       "        [0],\n",
       "        [0],\n",
       "        [0],\n",
       "        [0],\n",
       "        [0],\n",
       "        [0],\n",
       "        [0],\n",
       "        [0],\n",
       "        [0],\n",
       "        [0],\n",
       "        [0],\n",
       "        [0],\n",
       "        [0],\n",
       "        [0],\n",
       "        [0],\n",
       "        [0],\n",
       "        [1]], dtype=uint8)}"
      ]
     },
     "execution_count": 5,
     "metadata": {},
     "output_type": "execute_result"
    }
   ],
   "source": [
    "raw_data"
   ]
  },
  {
   "cell_type": "markdown",
   "metadata": {},
   "source": [
    "### Transformation de *raw_data* en un format moins ésotérique..."
   ]
  },
  {
   "cell_type": "markdown",
   "metadata": {},
   "source": [
    "Transférez les données dans un DataFrame pandas (appelé *data*) qui aura trois colonnes apppelées X1, X2, y"
   ]
  },
  {
   "cell_type": "code",
   "execution_count": 6,
   "metadata": {},
   "outputs": [
    {
     "data": {
      "text/html": [
       "<div>\n",
       "<style>\n",
       "    .dataframe thead tr:only-child th {\n",
       "        text-align: right;\n",
       "    }\n",
       "\n",
       "    .dataframe thead th {\n",
       "        text-align: left;\n",
       "    }\n",
       "\n",
       "    .dataframe tbody tr th {\n",
       "        vertical-align: top;\n",
       "    }\n",
       "</style>\n",
       "<table border=\"1\" class=\"dataframe\">\n",
       "  <thead>\n",
       "    <tr style=\"text-align: right;\">\n",
       "      <th></th>\n",
       "      <th>X1</th>\n",
       "      <th>X2</th>\n",
       "      <th>y</th>\n",
       "    </tr>\n",
       "  </thead>\n",
       "  <tbody>\n",
       "    <tr>\n",
       "      <th>0</th>\n",
       "      <td>1.964300</td>\n",
       "      <td>4.5957</td>\n",
       "      <td>1</td>\n",
       "    </tr>\n",
       "    <tr>\n",
       "      <th>1</th>\n",
       "      <td>2.275300</td>\n",
       "      <td>3.8589</td>\n",
       "      <td>1</td>\n",
       "    </tr>\n",
       "    <tr>\n",
       "      <th>2</th>\n",
       "      <td>2.978100</td>\n",
       "      <td>4.5651</td>\n",
       "      <td>1</td>\n",
       "    </tr>\n",
       "    <tr>\n",
       "      <th>3</th>\n",
       "      <td>2.932000</td>\n",
       "      <td>3.5519</td>\n",
       "      <td>1</td>\n",
       "    </tr>\n",
       "    <tr>\n",
       "      <th>4</th>\n",
       "      <td>3.577200</td>\n",
       "      <td>2.8560</td>\n",
       "      <td>1</td>\n",
       "    </tr>\n",
       "    <tr>\n",
       "      <th>5</th>\n",
       "      <td>4.015000</td>\n",
       "      <td>3.1937</td>\n",
       "      <td>1</td>\n",
       "    </tr>\n",
       "    <tr>\n",
       "      <th>6</th>\n",
       "      <td>3.381400</td>\n",
       "      <td>3.4291</td>\n",
       "      <td>1</td>\n",
       "    </tr>\n",
       "    <tr>\n",
       "      <th>7</th>\n",
       "      <td>3.911300</td>\n",
       "      <td>4.1761</td>\n",
       "      <td>1</td>\n",
       "    </tr>\n",
       "    <tr>\n",
       "      <th>8</th>\n",
       "      <td>2.782200</td>\n",
       "      <td>4.0431</td>\n",
       "      <td>1</td>\n",
       "    </tr>\n",
       "    <tr>\n",
       "      <th>9</th>\n",
       "      <td>2.551800</td>\n",
       "      <td>4.6162</td>\n",
       "      <td>1</td>\n",
       "    </tr>\n",
       "    <tr>\n",
       "      <th>10</th>\n",
       "      <td>3.369800</td>\n",
       "      <td>3.9101</td>\n",
       "      <td>1</td>\n",
       "    </tr>\n",
       "    <tr>\n",
       "      <th>11</th>\n",
       "      <td>3.104800</td>\n",
       "      <td>3.0709</td>\n",
       "      <td>1</td>\n",
       "    </tr>\n",
       "    <tr>\n",
       "      <th>12</th>\n",
       "      <td>1.918200</td>\n",
       "      <td>4.0534</td>\n",
       "      <td>1</td>\n",
       "    </tr>\n",
       "    <tr>\n",
       "      <th>13</th>\n",
       "      <td>2.263800</td>\n",
       "      <td>4.3706</td>\n",
       "      <td>1</td>\n",
       "    </tr>\n",
       "    <tr>\n",
       "      <th>14</th>\n",
       "      <td>2.655500</td>\n",
       "      <td>3.5008</td>\n",
       "      <td>1</td>\n",
       "    </tr>\n",
       "    <tr>\n",
       "      <th>15</th>\n",
       "      <td>3.185500</td>\n",
       "      <td>4.2888</td>\n",
       "      <td>1</td>\n",
       "    </tr>\n",
       "    <tr>\n",
       "      <th>16</th>\n",
       "      <td>3.657900</td>\n",
       "      <td>3.8692</td>\n",
       "      <td>1</td>\n",
       "    </tr>\n",
       "    <tr>\n",
       "      <th>17</th>\n",
       "      <td>3.911300</td>\n",
       "      <td>3.4291</td>\n",
       "      <td>1</td>\n",
       "    </tr>\n",
       "    <tr>\n",
       "      <th>18</th>\n",
       "      <td>3.600200</td>\n",
       "      <td>3.1221</td>\n",
       "      <td>1</td>\n",
       "    </tr>\n",
       "    <tr>\n",
       "      <th>19</th>\n",
       "      <td>3.035700</td>\n",
       "      <td>3.3165</td>\n",
       "      <td>1</td>\n",
       "    </tr>\n",
       "    <tr>\n",
       "      <th>20</th>\n",
       "      <td>1.584100</td>\n",
       "      <td>3.3575</td>\n",
       "      <td>0</td>\n",
       "    </tr>\n",
       "    <tr>\n",
       "      <th>21</th>\n",
       "      <td>2.010300</td>\n",
       "      <td>3.2039</td>\n",
       "      <td>0</td>\n",
       "    </tr>\n",
       "    <tr>\n",
       "      <th>22</th>\n",
       "      <td>1.952700</td>\n",
       "      <td>2.7843</td>\n",
       "      <td>0</td>\n",
       "    </tr>\n",
       "    <tr>\n",
       "      <th>23</th>\n",
       "      <td>2.275300</td>\n",
       "      <td>2.7127</td>\n",
       "      <td>0</td>\n",
       "    </tr>\n",
       "    <tr>\n",
       "      <th>24</th>\n",
       "      <td>2.309900</td>\n",
       "      <td>2.9584</td>\n",
       "      <td>0</td>\n",
       "    </tr>\n",
       "    <tr>\n",
       "      <th>25</th>\n",
       "      <td>2.828300</td>\n",
       "      <td>2.6309</td>\n",
       "      <td>0</td>\n",
       "    </tr>\n",
       "    <tr>\n",
       "      <th>26</th>\n",
       "      <td>3.047300</td>\n",
       "      <td>2.2931</td>\n",
       "      <td>0</td>\n",
       "    </tr>\n",
       "    <tr>\n",
       "      <th>27</th>\n",
       "      <td>2.482700</td>\n",
       "      <td>2.0373</td>\n",
       "      <td>0</td>\n",
       "    </tr>\n",
       "    <tr>\n",
       "      <th>28</th>\n",
       "      <td>2.505700</td>\n",
       "      <td>2.3853</td>\n",
       "      <td>0</td>\n",
       "    </tr>\n",
       "    <tr>\n",
       "      <th>29</th>\n",
       "      <td>1.872100</td>\n",
       "      <td>2.0577</td>\n",
       "      <td>0</td>\n",
       "    </tr>\n",
       "    <tr>\n",
       "      <th>30</th>\n",
       "      <td>2.010300</td>\n",
       "      <td>2.3546</td>\n",
       "      <td>0</td>\n",
       "    </tr>\n",
       "    <tr>\n",
       "      <th>31</th>\n",
       "      <td>1.226900</td>\n",
       "      <td>2.3239</td>\n",
       "      <td>0</td>\n",
       "    </tr>\n",
       "    <tr>\n",
       "      <th>32</th>\n",
       "      <td>1.895100</td>\n",
       "      <td>2.9174</td>\n",
       "      <td>0</td>\n",
       "    </tr>\n",
       "    <tr>\n",
       "      <th>33</th>\n",
       "      <td>1.561000</td>\n",
       "      <td>3.0709</td>\n",
       "      <td>0</td>\n",
       "    </tr>\n",
       "    <tr>\n",
       "      <th>34</th>\n",
       "      <td>1.549500</td>\n",
       "      <td>2.6923</td>\n",
       "      <td>0</td>\n",
       "    </tr>\n",
       "    <tr>\n",
       "      <th>35</th>\n",
       "      <td>1.687800</td>\n",
       "      <td>2.4057</td>\n",
       "      <td>0</td>\n",
       "    </tr>\n",
       "    <tr>\n",
       "      <th>36</th>\n",
       "      <td>1.491900</td>\n",
       "      <td>2.0271</td>\n",
       "      <td>0</td>\n",
       "    </tr>\n",
       "    <tr>\n",
       "      <th>37</th>\n",
       "      <td>0.962000</td>\n",
       "      <td>2.6820</td>\n",
       "      <td>0</td>\n",
       "    </tr>\n",
       "    <tr>\n",
       "      <th>38</th>\n",
       "      <td>1.169300</td>\n",
       "      <td>2.9276</td>\n",
       "      <td>0</td>\n",
       "    </tr>\n",
       "    <tr>\n",
       "      <th>39</th>\n",
       "      <td>0.812200</td>\n",
       "      <td>2.9992</td>\n",
       "      <td>0</td>\n",
       "    </tr>\n",
       "    <tr>\n",
       "      <th>40</th>\n",
       "      <td>0.973500</td>\n",
       "      <td>3.3881</td>\n",
       "      <td>0</td>\n",
       "    </tr>\n",
       "    <tr>\n",
       "      <th>41</th>\n",
       "      <td>1.250000</td>\n",
       "      <td>3.1937</td>\n",
       "      <td>0</td>\n",
       "    </tr>\n",
       "    <tr>\n",
       "      <th>42</th>\n",
       "      <td>1.319100</td>\n",
       "      <td>3.5109</td>\n",
       "      <td>0</td>\n",
       "    </tr>\n",
       "    <tr>\n",
       "      <th>43</th>\n",
       "      <td>2.229200</td>\n",
       "      <td>2.2010</td>\n",
       "      <td>0</td>\n",
       "    </tr>\n",
       "    <tr>\n",
       "      <th>44</th>\n",
       "      <td>2.448200</td>\n",
       "      <td>2.6411</td>\n",
       "      <td>0</td>\n",
       "    </tr>\n",
       "    <tr>\n",
       "      <th>45</th>\n",
       "      <td>2.793800</td>\n",
       "      <td>1.9656</td>\n",
       "      <td>0</td>\n",
       "    </tr>\n",
       "    <tr>\n",
       "      <th>46</th>\n",
       "      <td>2.091000</td>\n",
       "      <td>1.6177</td>\n",
       "      <td>0</td>\n",
       "    </tr>\n",
       "    <tr>\n",
       "      <th>47</th>\n",
       "      <td>2.540300</td>\n",
       "      <td>2.8867</td>\n",
       "      <td>0</td>\n",
       "    </tr>\n",
       "    <tr>\n",
       "      <th>48</th>\n",
       "      <td>0.904400</td>\n",
       "      <td>3.0198</td>\n",
       "      <td>0</td>\n",
       "    </tr>\n",
       "    <tr>\n",
       "      <th>49</th>\n",
       "      <td>0.766150</td>\n",
       "      <td>2.5899</td>\n",
       "      <td>0</td>\n",
       "    </tr>\n",
       "    <tr>\n",
       "      <th>50</th>\n",
       "      <td>0.086405</td>\n",
       "      <td>4.1045</td>\n",
       "      <td>1</td>\n",
       "    </tr>\n",
       "  </tbody>\n",
       "</table>\n",
       "</div>"
      ],
      "text/plain": [
       "          X1      X2  y\n",
       "0   1.964300  4.5957  1\n",
       "1   2.275300  3.8589  1\n",
       "2   2.978100  4.5651  1\n",
       "3   2.932000  3.5519  1\n",
       "4   3.577200  2.8560  1\n",
       "5   4.015000  3.1937  1\n",
       "6   3.381400  3.4291  1\n",
       "7   3.911300  4.1761  1\n",
       "8   2.782200  4.0431  1\n",
       "9   2.551800  4.6162  1\n",
       "10  3.369800  3.9101  1\n",
       "11  3.104800  3.0709  1\n",
       "12  1.918200  4.0534  1\n",
       "13  2.263800  4.3706  1\n",
       "14  2.655500  3.5008  1\n",
       "15  3.185500  4.2888  1\n",
       "16  3.657900  3.8692  1\n",
       "17  3.911300  3.4291  1\n",
       "18  3.600200  3.1221  1\n",
       "19  3.035700  3.3165  1\n",
       "20  1.584100  3.3575  0\n",
       "21  2.010300  3.2039  0\n",
       "22  1.952700  2.7843  0\n",
       "23  2.275300  2.7127  0\n",
       "24  2.309900  2.9584  0\n",
       "25  2.828300  2.6309  0\n",
       "26  3.047300  2.2931  0\n",
       "27  2.482700  2.0373  0\n",
       "28  2.505700  2.3853  0\n",
       "29  1.872100  2.0577  0\n",
       "30  2.010300  2.3546  0\n",
       "31  1.226900  2.3239  0\n",
       "32  1.895100  2.9174  0\n",
       "33  1.561000  3.0709  0\n",
       "34  1.549500  2.6923  0\n",
       "35  1.687800  2.4057  0\n",
       "36  1.491900  2.0271  0\n",
       "37  0.962000  2.6820  0\n",
       "38  1.169300  2.9276  0\n",
       "39  0.812200  2.9992  0\n",
       "40  0.973500  3.3881  0\n",
       "41  1.250000  3.1937  0\n",
       "42  1.319100  3.5109  0\n",
       "43  2.229200  2.2010  0\n",
       "44  2.448200  2.6411  0\n",
       "45  2.793800  1.9656  0\n",
       "46  2.091000  1.6177  0\n",
       "47  2.540300  2.8867  0\n",
       "48  0.904400  3.0198  0\n",
       "49  0.766150  2.5899  0\n",
       "50  0.086405  4.1045  1"
      ]
     },
     "execution_count": 6,
     "metadata": {},
     "output_type": "execute_result"
    }
   ],
   "source": [
    "data = pd.DataFrame(data=raw_data['X'], columns=['X1', 'X2'])\n",
    "data['y'] = raw_data['y']\n",
    "data"
   ]
  },
  {
   "cell_type": "code",
   "execution_count": 7,
   "metadata": {},
   "outputs": [
    {
     "data": {
      "text/plain": [
       "(51, 3)"
      ]
     },
     "execution_count": 7,
     "metadata": {},
     "output_type": "execute_result"
    }
   ],
   "source": [
    "data.shape"
   ]
  },
  {
   "cell_type": "markdown",
   "metadata": {},
   "source": [
    "### Visualisation des données"
   ]
  },
  {
   "cell_type": "markdown",
   "metadata": {},
   "source": [
    "La visualisation se fera en nuage de points.\n",
    "Séparez les rangées de votre DataFrame afin de séparer les exemples \"positif\" de ceux qui sont marqués \"négatifs\" (i.e. marqués respectivement d'un 1 ou d'un 0 dans la colonne y)."
   ]
  },
  {
   "cell_type": "code",
   "execution_count": 8,
   "metadata": {
    "collapsed": true
   },
   "outputs": [],
   "source": [
    "positive = data.loc[data['y'] == 1]\n",
    "negative = data.loc[data['y'] == 0]"
   ]
  },
  {
   "cell_type": "markdown",
   "metadata": {},
   "source": [
    "Si vous avez bien réussi, vous devriez obtenir un graphe qui ressemble à celui du PDF."
   ]
  },
  {
   "cell_type": "code",
   "execution_count": 9,
   "metadata": {},
   "outputs": [
    {
     "data": {
      "text/plain": [
       "<matplotlib.legend.Legend at 0x11813ce48>"
      ]
     },
     "execution_count": 9,
     "metadata": {},
     "output_type": "execute_result"
    },
    {
     "data": {
      "image/png": "[encoded data removed]",
      "text/plain": [
       "<matplotlib.figure.Figure at 0x116e8d2e8>"
      ]
     },
     "metadata": {},
     "output_type": "display_data"
    }
   ],
   "source": [
    "%matplotlib inline\n",
    "fig, ax = plt.subplots(figsize=(12,8))\n",
    "ax.scatter(positive['X1'], positive['X2'], s=50, marker='x', label='Positive')\n",
    "ax.scatter(negative['X1'], negative['X2'], s=50, marker='o', label='Negative')\n",
    "ax.legend()"
   ]
  },
  {
   "cell_type": "code",
   "execution_count": 10,
   "metadata": {},
   "outputs": [
    {
     "data": {
      "text/plain": [
       "<matplotlib.legend.Legend at 0x118531630>"
      ]
     },
     "execution_count": 10,
     "metadata": {},
     "output_type": "execute_result"
    },
    {
     "data": {
      "image/png": "[encoded data removed]",
      "text/plain": [
       "<matplotlib.figure.Figure at 0x116e8d4a8>"
      ]
     },
     "metadata": {},
     "output_type": "display_data"
    }
   ],
   "source": [
    "%matplotlib inline\n",
    "test1_score = data['X1'].as_matrix()\n",
    "test2_score = data['X2'].as_matrix()\n",
    "valid = data['y'].as_matrix()\n",
    "not_valid = (valid == 0)\n",
    "plt.figure(figsize = (10, 7))\n",
    "plt.scatter(test1_score[np.nonzero(valid)], test2_score[np.nonzero(valid)], marker = '+', label= 'positive')\n",
    "plt.scatter(test1_score[np.nonzero(not_valid)], test2_score[np.nonzero(not_valid)], marker = 'o', label = 'negative')\n",
    "plt.xlabel('X1')\n",
    "plt.ylabel('X2')\n",
    "plt.legend(loc = 1)"
   ]
  },
  {
   "cell_type": "markdown",
   "metadata": {},
   "source": [
    "À noter la présence d'un *x* aberrant sur la gauche. Nous verrons comment il affectera la frontière de décision selon les paramètres qui seront passés au classifieur SVM."
   ]
  },
  {
   "cell_type": "markdown",
   "metadata": {},
   "source": [
    "### Entraînement du classifieur SVM"
   ]
  },
  {
   "cell_type": "markdown",
   "metadata": {},
   "source": [
    "Nous allons pour la première fois utilier la bibliothèque Scikit Learn.\n",
    "Pour ce premier exercice, le modèle LinearSVC suffira. Les paramètres du constructeur peuvent être laissés par défaut, sauf *C* et *loss* que vous devez sélectionner de manière appropriée."
   ]
  },
  {
   "cell_type": "markdown",
   "metadata": {},
   "source": [
    "**1- Créez et entraînez un classifieur qui aura la valeur de C par défaut, et que vous assignerez à la variable *svc***"
   ]
  },
  {
   "cell_type": "code",
   "execution_count": 13,
   "metadata": {
    "collapsed": true
   },
   "outputs": [],
   "source": [
    "from sklearn.svm import LinearSVC\n",
    "svc = LinearSVC()"
   ]
  },
  {
   "cell_type": "markdown",
   "metadata": {},
   "source": [
    "Entraînez-le"
   ]
  },
  {
   "cell_type": "code",
   "execution_count": 14,
   "metadata": {},
   "outputs": [
    {
     "data": {
      "text/plain": [
       "LinearSVC(C=1.0, class_weight=None, dual=True, fit_intercept=True,\n",
       "     intercept_scaling=1, loss='squared_hinge', max_iter=1000,\n",
       "     multi_class='ovr', penalty='l2', random_state=None, tol=0.0001,\n",
       "     verbose=0)"
      ]
     },
     "execution_count": 14,
     "metadata": {},
     "output_type": "execute_result"
    }
   ],
   "source": [
    "X = np.array([data['X1'],data['X2']]).T\n",
    "y = np.array(data['y'])\n",
    "svc.fit(X, y)"
   ]
  },
  {
   "cell_type": "markdown",
   "metadata": {},
   "source": [
    "Mesurez l'exactitude de ses prédictions sur les données d'entraînement."
   ]
  },
  {
   "cell_type": "code",
   "execution_count": 16,
   "metadata": {},
   "outputs": [
    {
     "name": "stdout",
     "output_type": "stream",
     "text": [
      "[[ 0.44887319  0.76398543]]\n",
      "[-3.56318684]\n"
     ]
    },
    {
     "data": {
      "text/plain": [
       "0.98039215686274506"
      ]
     },
     "execution_count": 16,
     "metadata": {},
     "output_type": "execute_result"
    }
   ],
   "source": [
    "print(svc.coef_)\n",
    "print(svc.intercept_)\n",
    "svc.score(X,y)"
   ]
  },
  {
   "cell_type": "code",
   "execution_count": 17,
   "metadata": {
    "collapsed": true
   },
   "outputs": [],
   "source": [
    "data['p'] = svc.predict(X)"
   ]
  },
  {
   "cell_type": "code",
   "execution_count": 18,
   "metadata": {},
   "outputs": [
    {
     "data": {
      "text/html": [
       "<div>\n",
       "<style>\n",
       "    .dataframe thead tr:only-child th {\n",
       "        text-align: right;\n",
       "    }\n",
       "\n",
       "    .dataframe thead th {\n",
       "        text-align: left;\n",
       "    }\n",
       "\n",
       "    .dataframe tbody tr th {\n",
       "        vertical-align: top;\n",
       "    }\n",
       "</style>\n",
       "<table border=\"1\" class=\"dataframe\">\n",
       "  <thead>\n",
       "    <tr style=\"text-align: right;\">\n",
       "      <th></th>\n",
       "      <th>X1</th>\n",
       "      <th>X2</th>\n",
       "      <th>y</th>\n",
       "      <th>p</th>\n",
       "    </tr>\n",
       "  </thead>\n",
       "  <tbody>\n",
       "    <tr>\n",
       "      <th>0</th>\n",
       "      <td>1.964300</td>\n",
       "      <td>4.5957</td>\n",
       "      <td>1</td>\n",
       "      <td>1</td>\n",
       "    </tr>\n",
       "    <tr>\n",
       "      <th>1</th>\n",
       "      <td>2.275300</td>\n",
       "      <td>3.8589</td>\n",
       "      <td>1</td>\n",
       "      <td>1</td>\n",
       "    </tr>\n",
       "    <tr>\n",
       "      <th>2</th>\n",
       "      <td>2.978100</td>\n",
       "      <td>4.5651</td>\n",
       "      <td>1</td>\n",
       "      <td>1</td>\n",
       "    </tr>\n",
       "    <tr>\n",
       "      <th>3</th>\n",
       "      <td>2.932000</td>\n",
       "      <td>3.5519</td>\n",
       "      <td>1</td>\n",
       "      <td>1</td>\n",
       "    </tr>\n",
       "    <tr>\n",
       "      <th>4</th>\n",
       "      <td>3.577200</td>\n",
       "      <td>2.8560</td>\n",
       "      <td>1</td>\n",
       "      <td>1</td>\n",
       "    </tr>\n",
       "    <tr>\n",
       "      <th>5</th>\n",
       "      <td>4.015000</td>\n",
       "      <td>3.1937</td>\n",
       "      <td>1</td>\n",
       "      <td>1</td>\n",
       "    </tr>\n",
       "    <tr>\n",
       "      <th>6</th>\n",
       "      <td>3.381400</td>\n",
       "      <td>3.4291</td>\n",
       "      <td>1</td>\n",
       "      <td>1</td>\n",
       "    </tr>\n",
       "    <tr>\n",
       "      <th>7</th>\n",
       "      <td>3.911300</td>\n",
       "      <td>4.1761</td>\n",
       "      <td>1</td>\n",
       "      <td>1</td>\n",
       "    </tr>\n",
       "    <tr>\n",
       "      <th>8</th>\n",
       "      <td>2.782200</td>\n",
       "      <td>4.0431</td>\n",
       "      <td>1</td>\n",
       "      <td>1</td>\n",
       "    </tr>\n",
       "    <tr>\n",
       "      <th>9</th>\n",
       "      <td>2.551800</td>\n",
       "      <td>4.6162</td>\n",
       "      <td>1</td>\n",
       "      <td>1</td>\n",
       "    </tr>\n",
       "    <tr>\n",
       "      <th>10</th>\n",
       "      <td>3.369800</td>\n",
       "      <td>3.9101</td>\n",
       "      <td>1</td>\n",
       "      <td>1</td>\n",
       "    </tr>\n",
       "    <tr>\n",
       "      <th>11</th>\n",
       "      <td>3.104800</td>\n",
       "      <td>3.0709</td>\n",
       "      <td>1</td>\n",
       "      <td>1</td>\n",
       "    </tr>\n",
       "    <tr>\n",
       "      <th>12</th>\n",
       "      <td>1.918200</td>\n",
       "      <td>4.0534</td>\n",
       "      <td>1</td>\n",
       "      <td>1</td>\n",
       "    </tr>\n",
       "    <tr>\n",
       "      <th>13</th>\n",
       "      <td>2.263800</td>\n",
       "      <td>4.3706</td>\n",
       "      <td>1</td>\n",
       "      <td>1</td>\n",
       "    </tr>\n",
       "    <tr>\n",
       "      <th>14</th>\n",
       "      <td>2.655500</td>\n",
       "      <td>3.5008</td>\n",
       "      <td>1</td>\n",
       "      <td>1</td>\n",
       "    </tr>\n",
       "    <tr>\n",
       "      <th>15</th>\n",
       "      <td>3.185500</td>\n",
       "      <td>4.2888</td>\n",
       "      <td>1</td>\n",
       "      <td>1</td>\n",
       "    </tr>\n",
       "    <tr>\n",
       "      <th>16</th>\n",
       "      <td>3.657900</td>\n",
       "      <td>3.8692</td>\n",
       "      <td>1</td>\n",
       "      <td>1</td>\n",
       "    </tr>\n",
       "    <tr>\n",
       "      <th>17</th>\n",
       "      <td>3.911300</td>\n",
       "      <td>3.4291</td>\n",
       "      <td>1</td>\n",
       "      <td>1</td>\n",
       "    </tr>\n",
       "    <tr>\n",
       "      <th>18</th>\n",
       "      <td>3.600200</td>\n",
       "      <td>3.1221</td>\n",
       "      <td>1</td>\n",
       "      <td>1</td>\n",
       "    </tr>\n",
       "    <tr>\n",
       "      <th>19</th>\n",
       "      <td>3.035700</td>\n",
       "      <td>3.3165</td>\n",
       "      <td>1</td>\n",
       "      <td>1</td>\n",
       "    </tr>\n",
       "    <tr>\n",
       "      <th>20</th>\n",
       "      <td>1.584100</td>\n",
       "      <td>3.3575</td>\n",
       "      <td>0</td>\n",
       "      <td>0</td>\n",
       "    </tr>\n",
       "    <tr>\n",
       "      <th>21</th>\n",
       "      <td>2.010300</td>\n",
       "      <td>3.2039</td>\n",
       "      <td>0</td>\n",
       "      <td>0</td>\n",
       "    </tr>\n",
       "    <tr>\n",
       "      <th>22</th>\n",
       "      <td>1.952700</td>\n",
       "      <td>2.7843</td>\n",
       "      <td>0</td>\n",
       "      <td>0</td>\n",
       "    </tr>\n",
       "    <tr>\n",
       "      <th>23</th>\n",
       "      <td>2.275300</td>\n",
       "      <td>2.7127</td>\n",
       "      <td>0</td>\n",
       "      <td>0</td>\n",
       "    </tr>\n",
       "    <tr>\n",
       "      <th>24</th>\n",
       "      <td>2.309900</td>\n",
       "      <td>2.9584</td>\n",
       "      <td>0</td>\n",
       "      <td>0</td>\n",
       "    </tr>\n",
       "    <tr>\n",
       "      <th>25</th>\n",
       "      <td>2.828300</td>\n",
       "      <td>2.6309</td>\n",
       "      <td>0</td>\n",
       "      <td>0</td>\n",
       "    </tr>\n",
       "    <tr>\n",
       "      <th>26</th>\n",
       "      <td>3.047300</td>\n",
       "      <td>2.2931</td>\n",
       "      <td>0</td>\n",
       "      <td>0</td>\n",
       "    </tr>\n",
       "    <tr>\n",
       "      <th>27</th>\n",
       "      <td>2.482700</td>\n",
       "      <td>2.0373</td>\n",
       "      <td>0</td>\n",
       "      <td>0</td>\n",
       "    </tr>\n",
       "    <tr>\n",
       "      <th>28</th>\n",
       "      <td>2.505700</td>\n",
       "      <td>2.3853</td>\n",
       "      <td>0</td>\n",
       "      <td>0</td>\n",
       "    </tr>\n",
       "    <tr>\n",
       "      <th>29</th>\n",
       "      <td>1.872100</td>\n",
       "      <td>2.0577</td>\n",
       "      <td>0</td>\n",
       "      <td>0</td>\n",
       "    </tr>\n",
       "    <tr>\n",
       "      <th>30</th>\n",
       "      <td>2.010300</td>\n",
       "      <td>2.3546</td>\n",
       "      <td>0</td>\n",
       "      <td>0</td>\n",
       "    </tr>\n",
       "    <tr>\n",
       "      <th>31</th>\n",
       "      <td>1.226900</td>\n",
       "      <td>2.3239</td>\n",
       "      <td>0</td>\n",
       "      <td>0</td>\n",
       "    </tr>\n",
       "    <tr>\n",
       "      <th>32</th>\n",
       "      <td>1.895100</td>\n",
       "      <td>2.9174</td>\n",
       "      <td>0</td>\n",
       "      <td>0</td>\n",
       "    </tr>\n",
       "    <tr>\n",
       "      <th>33</th>\n",
       "      <td>1.561000</td>\n",
       "      <td>3.0709</td>\n",
       "      <td>0</td>\n",
       "      <td>0</td>\n",
       "    </tr>\n",
       "    <tr>\n",
       "      <th>34</th>\n",
       "      <td>1.549500</td>\n",
       "      <td>2.6923</td>\n",
       "      <td>0</td>\n",
       "      <td>0</td>\n",
       "    </tr>\n",
       "    <tr>\n",
       "      <th>35</th>\n",
       "      <td>1.687800</td>\n",
       "      <td>2.4057</td>\n",
       "      <td>0</td>\n",
       "      <td>0</td>\n",
       "    </tr>\n",
       "    <tr>\n",
       "      <th>36</th>\n",
       "      <td>1.491900</td>\n",
       "      <td>2.0271</td>\n",
       "      <td>0</td>\n",
       "      <td>0</td>\n",
       "    </tr>\n",
       "    <tr>\n",
       "      <th>37</th>\n",
       "      <td>0.962000</td>\n",
       "      <td>2.6820</td>\n",
       "      <td>0</td>\n",
       "      <td>0</td>\n",
       "    </tr>\n",
       "    <tr>\n",
       "      <th>38</th>\n",
       "      <td>1.169300</td>\n",
       "      <td>2.9276</td>\n",
       "      <td>0</td>\n",
       "      <td>0</td>\n",
       "    </tr>\n",
       "    <tr>\n",
       "      <th>39</th>\n",
       "      <td>0.812200</td>\n",
       "      <td>2.9992</td>\n",
       "      <td>0</td>\n",
       "      <td>0</td>\n",
       "    </tr>\n",
       "    <tr>\n",
       "      <th>40</th>\n",
       "      <td>0.973500</td>\n",
       "      <td>3.3881</td>\n",
       "      <td>0</td>\n",
       "      <td>0</td>\n",
       "    </tr>\n",
       "    <tr>\n",
       "      <th>41</th>\n",
       "      <td>1.250000</td>\n",
       "      <td>3.1937</td>\n",
       "      <td>0</td>\n",
       "      <td>0</td>\n",
       "    </tr>\n",
       "    <tr>\n",
       "      <th>42</th>\n",
       "      <td>1.319100</td>\n",
       "      <td>3.5109</td>\n",
       "      <td>0</td>\n",
       "      <td>0</td>\n",
       "    </tr>\n",
       "    <tr>\n",
       "      <th>43</th>\n",
       "      <td>2.229200</td>\n",
       "      <td>2.2010</td>\n",
       "      <td>0</td>\n",
       "      <td>0</td>\n",
       "    </tr>\n",
       "    <tr>\n",
       "      <th>44</th>\n",
       "      <td>2.448200</td>\n",
       "      <td>2.6411</td>\n",
       "      <td>0</td>\n",
       "      <td>0</td>\n",
       "    </tr>\n",
       "    <tr>\n",
       "      <th>45</th>\n",
       "      <td>2.793800</td>\n",
       "      <td>1.9656</td>\n",
       "      <td>0</td>\n",
       "      <td>0</td>\n",
       "    </tr>\n",
       "    <tr>\n",
       "      <th>46</th>\n",
       "      <td>2.091000</td>\n",
       "      <td>1.6177</td>\n",
       "      <td>0</td>\n",
       "      <td>0</td>\n",
       "    </tr>\n",
       "    <tr>\n",
       "      <th>47</th>\n",
       "      <td>2.540300</td>\n",
       "      <td>2.8867</td>\n",
       "      <td>0</td>\n",
       "      <td>0</td>\n",
       "    </tr>\n",
       "    <tr>\n",
       "      <th>48</th>\n",
       "      <td>0.904400</td>\n",
       "      <td>3.0198</td>\n",
       "      <td>0</td>\n",
       "      <td>0</td>\n",
       "    </tr>\n",
       "    <tr>\n",
       "      <th>49</th>\n",
       "      <td>0.766150</td>\n",
       "      <td>2.5899</td>\n",
       "      <td>0</td>\n",
       "      <td>0</td>\n",
       "    </tr>\n",
       "    <tr>\n",
       "      <th>50</th>\n",
       "      <td>0.086405</td>\n",
       "      <td>4.1045</td>\n",
       "      <td>1</td>\n",
       "      <td>0</td>\n",
       "    </tr>\n",
       "  </tbody>\n",
       "</table>\n",
       "</div>"
      ],
      "text/plain": [
       "          X1      X2  y  p\n",
       "0   1.964300  4.5957  1  1\n",
       "1   2.275300  3.8589  1  1\n",
       "2   2.978100  4.5651  1  1\n",
       "3   2.932000  3.5519  1  1\n",
       "4   3.577200  2.8560  1  1\n",
       "5   4.015000  3.1937  1  1\n",
       "6   3.381400  3.4291  1  1\n",
       "7   3.911300  4.1761  1  1\n",
       "8   2.782200  4.0431  1  1\n",
       "9   2.551800  4.6162  1  1\n",
       "10  3.369800  3.9101  1  1\n",
       "11  3.104800  3.0709  1  1\n",
       "12  1.918200  4.0534  1  1\n",
       "13  2.263800  4.3706  1  1\n",
       "14  2.655500  3.5008  1  1\n",
       "15  3.185500  4.2888  1  1\n",
       "16  3.657900  3.8692  1  1\n",
       "17  3.911300  3.4291  1  1\n",
       "18  3.600200  3.1221  1  1\n",
       "19  3.035700  3.3165  1  1\n",
       "20  1.584100  3.3575  0  0\n",
       "21  2.010300  3.2039  0  0\n",
       "22  1.952700  2.7843  0  0\n",
       "23  2.275300  2.7127  0  0\n",
       "24  2.309900  2.9584  0  0\n",
       "25  2.828300  2.6309  0  0\n",
       "26  3.047300  2.2931  0  0\n",
       "27  2.482700  2.0373  0  0\n",
       "28  2.505700  2.3853  0  0\n",
       "29  1.872100  2.0577  0  0\n",
       "30  2.010300  2.3546  0  0\n",
       "31  1.226900  2.3239  0  0\n",
       "32  1.895100  2.9174  0  0\n",
       "33  1.561000  3.0709  0  0\n",
       "34  1.549500  2.6923  0  0\n",
       "35  1.687800  2.4057  0  0\n",
       "36  1.491900  2.0271  0  0\n",
       "37  0.962000  2.6820  0  0\n",
       "38  1.169300  2.9276  0  0\n",
       "39  0.812200  2.9992  0  0\n",
       "40  0.973500  3.3881  0  0\n",
       "41  1.250000  3.1937  0  0\n",
       "42  1.319100  3.5109  0  0\n",
       "43  2.229200  2.2010  0  0\n",
       "44  2.448200  2.6411  0  0\n",
       "45  2.793800  1.9656  0  0\n",
       "46  2.091000  1.6177  0  0\n",
       "47  2.540300  2.8867  0  0\n",
       "48  0.904400  3.0198  0  0\n",
       "49  0.766150  2.5899  0  0\n",
       "50  0.086405  4.1045  1  0"
      ]
     },
     "execution_count": 18,
     "metadata": {},
     "output_type": "execute_result"
    }
   ],
   "source": [
    "data"
   ]
  },
  {
   "cell_type": "code",
   "execution_count": 19,
   "metadata": {},
   "outputs": [
    {
     "data": {
      "text/plain": [
       "[<matplotlib.lines.Line2D at 0x1a1fdc1c88>]"
      ]
     },
     "execution_count": 19,
     "metadata": {},
     "output_type": "execute_result"
    },
    {
     "data": {
      "image/png": "[encoded data removed]",
      "text/plain": [
       "<matplotlib.figure.Figure at 0x1a1fd81198>"
      ]
     },
     "metadata": {},
     "output_type": "display_data"
    }
   ],
   "source": [
    "%matplotlib inline\n",
    "test1_score = data['X1'].as_matrix()\n",
    "test2_score = data['X2'].as_matrix()\n",
    "valid = data['p'].as_matrix()\n",
    "not_valid = (valid == 0)\n",
    "plt.figure(figsize = (10, 7))\n",
    "plt.scatter(test1_score[np.nonzero(valid)], test2_score[np.nonzero(valid)], marker = '+', label= 'positive')\n",
    "plt.scatter(test1_score[np.nonzero(not_valid)], test2_score[np.nonzero(not_valid)], marker = 'o', label = 'negative')\n",
    "plt.xlabel('X1')\n",
    "plt.ylabel('X2')\n",
    "plt.legend(loc = 1)\n",
    "\n",
    "w = svc.coef_[0]\n",
    "a = -w[0] / w[1]\n",
    "xx = np.linspace(0, 4)\n",
    "yy = a * xx - (svc.intercept_[0]) / w[1]\n",
    "margin = 1 / np.sqrt(np.sum(svc.coef_ ** 2))\n",
    "yy_down = yy - np.sqrt(1 + a ** 2) * margin\n",
    "yy_up = yy + np.sqrt(1 + a ** 2) * margin\n",
    "plt.plot(xx, yy, 'k-')\n",
    "plt.plot(xx, yy_down, 'k--')\n",
    "plt.plot(xx, yy_up, 'k--')"
   ]
  },
  {
   "cell_type": "code",
   "execution_count": 20,
   "metadata": {},
   "outputs": [
    {
     "data": {
      "text/plain": [
       "<matplotlib.legend.Legend at 0x1a1ff2c748>"
      ]
     },
     "execution_count": 20,
     "metadata": {},
     "output_type": "execute_result"
    },
    {
     "data": {
      "image/png": "[encoded data removed]",
      "text/plain": [
       "<matplotlib.figure.Figure at 0x11814f278>"
      ]
     },
     "metadata": {},
     "output_type": "display_data"
    }
   ],
   "source": [
    "positive = data.loc[data['p'] == 1]\n",
    "negative = data.loc[data['p'] == 0]\n",
    "%matplotlib inline\n",
    "fig, ax = plt.subplots(figsize=(12,8))\n",
    "ax.scatter(positive['X1'], positive['X2'], s=50, marker='x', label='Positive')\n",
    "ax.scatter(negative['X1'], negative['X2'], s=50, marker='o', label='Negative')\n",
    "ax.legend()\n"
   ]
  },
  {
   "cell_type": "code",
   "execution_count": 21,
   "metadata": {},
   "outputs": [
    {
     "data": {
      "text/plain": [
       "0.98039215686274506"
      ]
     },
     "execution_count": 21,
     "metadata": {},
     "output_type": "execute_result"
    }
   ],
   "source": [
    "svc.score(X,y)"
   ]
  },
  {
   "cell_type": "markdown",
   "metadata": {},
   "source": [
    "L'exactitude est-elle de 100% ? Le classifieur semble avoir raté son coup pour au moins un exemple... \n",
    "Comment faire pour qu'il soit juste pour tous les exemples?"
   ]
  },
  {
   "cell_type": "markdown",
   "metadata": {},
   "source": [
    "**2- Créez et entraînez un deuxième classifieur, qui ne laissera pas le moindre exemple mal classé! Vous l'appellerez *svc2***"
   ]
  },
  {
   "cell_type": "code",
   "execution_count": 22,
   "metadata": {
    "collapsed": true
   },
   "outputs": [],
   "source": [
    "X = np.array([data['X1'],data['X2']]).T\n",
    "y = np.array(data['y'])"
   ]
  },
  {
   "cell_type": "code",
   "execution_count": 23,
   "metadata": {
    "collapsed": true
   },
   "outputs": [],
   "source": [
    "svc2 = LinearSVC(C=88.88)"
   ]
  },
  {
   "cell_type": "code",
   "execution_count": 39,
   "metadata": {},
   "outputs": [
    {
     "data": {
      "text/plain": [
       "LinearSVC(C=88.88, class_weight=None, dual=True, fit_intercept=True,\n",
       "     intercept_scaling=1, loss='squared_hinge', max_iter=1000,\n",
       "     multi_class='ovr', penalty='l2', random_state=None, tol=0.0001,\n",
       "     verbose=0)"
      ]
     },
     "execution_count": 39,
     "metadata": {},
     "output_type": "execute_result"
    }
   ],
   "source": [
    "svc2.fit(X, y)"
   ]
  },
  {
   "cell_type": "code",
   "execution_count": 40,
   "metadata": {},
   "outputs": [
    {
     "data": {
      "text/plain": [
       "array([1, 1, 1, 1, 1, 1, 1, 1, 1, 1, 1, 1, 1, 1, 1, 1, 1, 1, 1, 1, 0, 0, 0,\n",
       "       0, 0, 0, 0, 0, 0, 0, 0, 0, 0, 0, 0, 0, 0, 0, 0, 0, 0, 0, 0, 0, 0, 0,\n",
       "       0, 0, 0, 0, 1], dtype=uint8)"
      ]
     },
     "execution_count": 40,
     "metadata": {},
     "output_type": "execute_result"
    }
   ],
   "source": [
    "svc2.predict(X)"
   ]
  },
  {
   "cell_type": "code",
   "execution_count": 41,
   "metadata": {},
   "outputs": [
    {
     "data": {
      "text/plain": [
       "[<matplotlib.lines.Line2D at 0x1a200f9da0>]"
      ]
     },
     "execution_count": 41,
     "metadata": {},
     "output_type": "execute_result"
    },
    {
     "data": {
      "image/png": "[encoded data removed]",
      "text/plain": [
       "<matplotlib.figure.Figure at 0x1a1fd65630>"
      ]
     },
     "metadata": {},
     "output_type": "display_data"
    }
   ],
   "source": [
    "data['p2'] = svc2.predict(X)\n",
    "%matplotlib inline\n",
    "test1_score = data['X1'].as_matrix()\n",
    "test2_score = data['X2'].as_matrix()\n",
    "valid = data['p2'].as_matrix()\n",
    "not_valid = (valid == 0)\n",
    "plt.figure(figsize = (10, 7))\n",
    "plt.scatter(test1_score[np.nonzero(valid)], test2_score[np.nonzero(valid)], marker = '+', label= 'positive')\n",
    "plt.scatter(test1_score[np.nonzero(not_valid)], test2_score[np.nonzero(not_valid)], marker = 'o', label = 'negative')\n",
    "plt.xlabel('X1')\n",
    "plt.ylabel('X2')\n",
    "plt.legend(loc = 1)\n",
    "\n",
    "w = svc2.coef_[0]\n",
    "a = -w[0] / w[1]\n",
    "xx = np.linspace(0, 4)\n",
    "yy = a * xx - (svc2.intercept_[0]) / w[1]\n",
    "margin = 1 / np.sqrt(np.sum(svc2.coef_ ** 2))\n",
    "yy_down = yy - np.sqrt(1 + a ** 2) * margin\n",
    "yy_up = yy + np.sqrt(1 + a ** 2) * margin\n",
    "plt.plot(xx, yy, 'k-')\n",
    "plt.plot(xx, yy_down, 'k--')\n",
    "plt.plot(xx, yy_up, 'k--')"
   ]
  },
  {
   "cell_type": "markdown",
   "metadata": {},
   "source": [
    "Mesurez son exactitude. Est-elle de 100% maintenant?"
   ]
  },
  {
   "cell_type": "code",
   "execution_count": 43,
   "metadata": {},
   "outputs": [
    {
     "name": "stdout",
     "output_type": "stream",
     "text": [
      "[[ 1.00564654  2.78395444]]\n",
      "[-11.45696772]\n"
     ]
    },
    {
     "data": {
      "text/plain": [
       "1.0"
      ]
     },
     "execution_count": 43,
     "metadata": {},
     "output_type": "execute_result"
    }
   ],
   "source": [
    "print(svc2.coef_)\n",
    "print(svc2.intercept_)\n",
    "svc2.score(X,y)"
   ]
  },
  {
   "cell_type": "markdown",
   "metadata": {},
   "source": [
    "### Visualisation de la frontière de décision"
   ]
  },
  {
   "cell_type": "markdown",
   "metadata": {},
   "source": [
    "Voyons comment notre paramétrage a permis d'influcencer la frontière de décision. Pour ce faire, le LinearSVC nous permet d'avoir accès au \"Confidence level\" de chaque prédiction, qui est en d'autres mots la distance de chaque point de la frontière de décision (d'où les couleurs sur les graphiques qui devraient s'afficher ci-dessous...)"
   ]
  },
  {
   "cell_type": "code",
   "execution_count": 44,
   "metadata": {},
   "outputs": [
    {
     "data": {
      "text/plain": [
       "Text(0.5,1,'SVM (C=1) Decision Confidence')"
      ]
     },
     "execution_count": 44,
     "metadata": {},
     "output_type": "execute_result"
    },
    {
     "data": {
      "image/png": "[encoded data removed]",
      "text/plain": [
       "<matplotlib.figure.Figure at 0x1a1fe0ea90>"
      ]
     },
     "metadata": {},
     "output_type": "display_data"
    }
   ],
   "source": [
    "data['SVM 1 Confidence'] = svc.decision_function(data[['X1', 'X2']])\n",
    "\n",
    "fig, ax = plt.subplots(figsize=(12,8))\n",
    "ax.scatter(data['X1'], data['X2'], s=50, c=data['SVM 1 Confidence'], cmap='seismic')\n",
    "ax.set_title('SVM (C=1) Decision Confidence')"
   ]
  },
  {
   "cell_type": "code",
   "execution_count": 45,
   "metadata": {},
   "outputs": [
    {
     "data": {
      "text/plain": [
       "Text(0.5,1,'SVM (C=100) Decision Confidence')"
      ]
     },
     "execution_count": 45,
     "metadata": {},
     "output_type": "execute_result"
    },
    {
     "data": {
      "image/png": "[encoded data removed]",
      "text/plain": [
       "<matplotlib.figure.Figure at 0x1a20292cc0>"
      ]
     },
     "metadata": {},
     "output_type": "display_data"
    }
   ],
   "source": [
    "data['SVM 2 Confidence'] = svc2.decision_function(data[['X1', 'X2']])\n",
    "\n",
    "fig, ax = plt.subplots(figsize=(12,8))\n",
    "ax.scatter(data['X1'], data['X2'], s=50, c=data['SVM 2 Confidence'], cmap='seismic')\n",
    "ax.set_title('SVM (C=100) Decision Confidence')\n"
   ]
  },
  {
   "cell_type": "code",
   "execution_count": 46,
   "metadata": {},
   "outputs": [
    {
     "data": {
      "text/plain": [
       "[<matplotlib.lines.Line2D at 0x1a205d3f98>]"
      ]
     },
     "execution_count": 46,
     "metadata": {},
     "output_type": "execute_result"
    },
    {
     "data": {
      "image/png": "[encoded data removed]",
      "text/plain": [
       "<matplotlib.figure.Figure at 0x1a20132940>"
      ]
     },
     "metadata": {},
     "output_type": "display_data"
    }
   ],
   "source": [
    "data['SVM 2 Confidence'] = svc2.decision_function(data[['X1', 'X2']])\n",
    "\n",
    "fig, ax = plt.subplots(figsize=(12,8))\n",
    "ax.scatter(data['X1'], data['X2'], s=50, c=data['SVM 2 Confidence'], cmap='seismic')\n",
    "ax.set_title('SVM (C=100) Decision Confidence')\n",
    "w = svc2.coef_[0]\n",
    "a = -w[0] / w[1]\n",
    "xx = np.linspace(0, 4)\n",
    "yy = a * xx - (svc2.intercept_[0]) / w[1]\n",
    "margin = 1 / np.sqrt(np.sum(svc2.coef_ ** 2))\n",
    "yy_down = yy - np.sqrt(1 + a ** 2) * margin\n",
    "yy_up = yy + np.sqrt(1 + a ** 2) * margin\n",
    "plt.plot(xx, yy, 'k-')\n",
    "plt.plot(xx, yy_down, 'k--')\n",
    "plt.plot(xx, yy_up, 'k--')"
   ]
  },
  {
   "cell_type": "markdown",
   "metadata": {},
   "source": [
    "Ouais...c'est mignon les couleurs, mais... pas très clair tout ça... \n",
    "High five à ceux qui trouveront le moyen en plus de tracer la frontière de décision sur le graphe! \n",
    "Les autres pourront aller voir sur le PDF..."
   ]
  },
  {
   "cell_type": "markdown",
   "metadata": {},
   "source": [
    "## 2- Kernels gaussiens"
   ]
  },
  {
   "cell_type": "markdown",
   "metadata": {},
   "source": [
    "### Définition de la fonction"
   ]
  },
  {
   "cell_type": "markdown",
   "metadata": {},
   "source": [
    "Le kernel est en fait une fonction qu'on utilise pour transformer les données avant de les fournir au SVM.\n",
    "Commençons par écrire cette fonction."
   ]
  },
  {
   "cell_type": "code",
   "execution_count": 47,
   "metadata": {
    "collapsed": true
   },
   "outputs": [],
   "source": [
    "from sklearn.svm import SVC\n",
    "from sklearn import svm"
   ]
  },
  {
   "cell_type": "code",
   "execution_count": 3,
   "metadata": {
    "collapsed": true
   },
   "outputs": [],
   "source": [
    "def gaussian_kernel(x1, x2, sigma):\n",
    "    #sigma2 = np.power(sigma,2)\n",
    "    return np.exp(-(x1-x2).T.dot(x1-x2)/(2*sigma**2))"
   ]
  },
  {
   "cell_type": "markdown",
   "metadata": {},
   "source": [
    "Quelle valeur votre kernel renvoie-t-il si on lui donne deux vecteurs dont les valeurs seraient de [1, 2, 1] et [0,4,-1], pour un sigma de 2 ?"
   ]
  },
  {
   "cell_type": "code",
   "execution_count": 4,
   "metadata": {},
   "outputs": [
    {
     "data": {
      "text/plain": [
       "0.32465246735834974"
      ]
     },
     "execution_count": 4,
     "metadata": {},
     "output_type": "execute_result"
    }
   ],
   "source": [
    "gaussian_kernel(np.array([1, 2, 1]),np.array([0, 4, -1]), 2)"
   ]
  },
  {
   "cell_type": "markdown",
   "metadata": {},
   "source": [
    "Vous devriez obtenir environ 0.32464"
   ]
  },
  {
   "cell_type": "markdown",
   "metadata": {},
   "source": [
    "Bonus: fixez x2, et essayez de voir avec différentes valeurs de x1, comment la mesure de similarité varie. Encore mieux si vous pouvez afficher vos résultats sur un graphe!"
   ]
  },
  {
   "cell_type": "markdown",
   "metadata": {},
   "source": [
    "\n",
    "### Chargement et manipulation des données"
   ]
  },
  {
   "cell_type": "markdown",
   "metadata": {},
   "source": [
    "Les données sont dans le fichier ex6data2.mat...."
   ]
  },
  {
   "cell_type": "code",
   "execution_count": 8,
   "metadata": {
    "collapsed": true
   },
   "outputs": [],
   "source": [
    "from scipy.io import loadmat\n",
    "raw_data2 = loadmat('ex6data2.mat')\n",
    "data2 = pd.DataFrame(data=raw_data2['X'], columns=['X1', 'X2'])\n",
    "data2['y'] = raw_data2['y']"
   ]
  },
  {
   "cell_type": "markdown",
   "metadata": {},
   "source": [
    "Et pas encore dans un DataFrame dont les colonnes s'appellent X1, X2 et y..."
   ]
  },
  {
   "cell_type": "code",
   "execution_count": 22,
   "metadata": {
    "collapsed": true
   },
   "outputs": [],
   "source": [
    "X = np.array([data2['X1'],data2['X2']]).T\n",
    "y = np.array(data2['y'])"
   ]
  },
  {
   "cell_type": "markdown",
   "metadata": {},
   "source": [
    "Et il faut aussi séparer les exemples positifs et négatifs en deux ensemble différents pour que Matplotlib les affiche en deux couleurs différentes."
   ]
  },
  {
   "cell_type": "code",
   "execution_count": 9,
   "metadata": {
    "collapsed": true
   },
   "outputs": [],
   "source": [
    "positive = data2.loc[data2['y'] == 1]\n",
    "negative = data2.loc[data2['y'] == 0]"
   ]
  },
  {
   "cell_type": "markdown",
   "metadata": {},
   "source": [
    "### Visualisation des données"
   ]
  },
  {
   "cell_type": "code",
   "execution_count": 12,
   "metadata": {},
   "outputs": [
    {
     "data": {
      "text/plain": [
       "<matplotlib.legend.Legend at 0x1151eaa90>"
      ]
     },
     "execution_count": 12,
     "metadata": {},
     "output_type": "execute_result"
    },
    {
     "data": {
      "image/png": "[encoded data removed]",
      "text/plain": [
       "<matplotlib.figure.Figure at 0x11516fc88>"
      ]
     },
     "metadata": {},
     "output_type": "display_data"
    }
   ],
   "source": [
    "%matplotlib inline\n",
    "\n",
    "fig, ax = plt.subplots(figsize=(12,8))\n",
    "ax.scatter(positive['X1'], positive['X2'], s=30, marker='x', label='Positive')\n",
    "ax.scatter(negative['X1'], negative['X2'], s=30, marker='o', label='Negative')\n",
    "ax.legend()"
   ]
  },
  {
   "cell_type": "markdown",
   "metadata": {},
   "source": [
    "### Entraînement du classifieur SVM"
   ]
  },
  {
   "cell_type": "markdown",
   "metadata": {},
   "source": [
    "Scikit learn implémente un SVM qui a déjà un kernel gaussien, appelé RBF. "
   ]
  },
  {
   "cell_type": "markdown",
   "metadata": {},
   "source": [
    "**Transformer sigma en gamma**"
   ]
  },
  {
   "cell_type": "markdown",
   "metadata": {},
   "source": [
    "Nous avons vu avec Andrew Ng que le kernel gaussien prend un paramètre sigma au carré. Or, le modèle de scikit learn fonctionne plutôt avec un paramètre gamma. Pour s'y retrouver un peu mieux, il serait bien de trouver une équivalence entre les deux. Vous trouverez dans la documentation de Scikit Learn la formule de leur kernel RBF et pourrez faire le rapprochement.\n",
    "Ceux qui ne veulent pas s'embêter peuvent simplement fixer gamma à 10."
   ]
  },
  {
   "cell_type": "code",
   "execution_count": 26,
   "metadata": {
    "collapsed": true
   },
   "outputs": [],
   "source": [
    "def gamma(sigma):\n",
    "    return 1 / (2 * sigma**2) "
   ]
  },
  {
   "cell_type": "markdown",
   "metadata": {},
   "source": [
    "**Créez un SVM avec un C de 100 pour commencer. Mettez le paramètre probability=True, nous en aurons beson pour afficher le graphique. **"
   ]
  },
  {
   "cell_type": "code",
   "execution_count": 133,
   "metadata": {
    "collapsed": true
   },
   "outputs": [],
   "source": [
    "mdl = SVC(kernel=\"rbf\", C=150, probability=True, gamma=10)"
   ]
  },
  {
   "cell_type": "markdown",
   "metadata": {},
   "source": [
    "**Entraînez le classifieur**"
   ]
  },
  {
   "cell_type": "code",
   "execution_count": 134,
   "metadata": {},
   "outputs": [
    {
     "data": {
      "text/plain": [
       "SVC(C=150, cache_size=200, class_weight=None, coef0=0.0,\n",
       "  decision_function_shape='ovr', degree=3, gamma=10, kernel='rbf',\n",
       "  max_iter=-1, probability=True, random_state=None, shrinking=True,\n",
       "  tol=0.001, verbose=False)"
      ]
     },
     "execution_count": 134,
     "metadata": {},
     "output_type": "execute_result"
    }
   ],
   "source": [
    "mdl.fit(X, y)"
   ]
  },
  {
   "cell_type": "code",
   "execution_count": 135,
   "metadata": {},
   "outputs": [
    {
     "data": {
      "text/plain": [
       "array([1, 1, 1, 1, 1, 1, 1, 1, 1, 1, 1, 1, 1, 1, 1, 1, 1, 1, 1, 1, 1, 1, 1,\n",
       "       1, 1, 1, 1, 1, 1, 1, 1, 1, 1, 1, 1, 1, 1, 1, 1, 1, 1, 1, 1, 1, 1, 1,\n",
       "       1, 1, 1, 1, 1, 1, 1, 1, 1, 1, 1, 1, 1, 1, 1, 1, 1, 1, 1, 1, 1, 1, 1,\n",
       "       1, 1, 1, 1, 1, 1, 1, 1, 1, 1, 1, 1, 1, 1, 1, 1, 1, 1, 1, 1, 1, 1, 1,\n",
       "       1, 1, 1, 1, 1, 1, 1, 1, 1, 1, 1, 1, 1, 1, 1, 1, 1, 0, 1, 1, 1, 1, 1,\n",
       "       1, 1, 1, 1, 1, 1, 1, 1, 1, 1, 1, 1, 1, 1, 1, 1, 1, 1, 1, 1, 1, 1, 1,\n",
       "       1, 1, 1, 1, 1, 1, 1, 1, 1, 1, 1, 1, 1, 1, 1, 1, 1, 1, 1, 1, 1, 1, 1,\n",
       "       1, 1, 1, 1, 1, 1, 1, 1, 1, 1, 1, 1, 1, 1, 1, 1, 1, 1, 1, 1, 1, 1, 1,\n",
       "       1, 1, 1, 1, 1, 1, 1, 1, 1, 1, 1, 0, 0, 0, 0, 0, 0, 0, 0, 0, 0, 0, 0,\n",
       "       0, 0, 0, 0, 0, 0, 0, 0, 0, 0, 0, 0, 0, 0, 0, 0, 0, 0, 0, 0, 0, 0, 0,\n",
       "       0, 0, 0, 0, 0, 0, 0, 0, 0, 0, 0, 0, 0, 0, 0, 0, 0, 0, 0, 0, 0, 0, 0,\n",
       "       0, 0, 0, 0, 0, 0, 0, 0, 0, 0, 0, 0, 0, 0, 0, 0, 0, 0, 0, 0, 0, 0, 0,\n",
       "       0, 0, 0, 0, 0, 0, 0, 0, 0, 0, 0, 0, 0, 0, 0, 0, 0, 0, 0, 0, 0, 0, 0,\n",
       "       0, 0, 0, 0, 0, 0, 0, 0, 0, 0, 0, 0, 0, 0, 0, 0, 0, 0, 0, 0, 0, 0, 0,\n",
       "       0, 0, 1, 1, 1, 1, 0, 1, 1, 1, 1, 1, 1, 1, 1, 1, 1, 1, 1, 1, 1, 1, 1,\n",
       "       1, 1, 1, 1, 1, 1, 1, 1, 1, 1, 1, 1, 1, 1, 1, 1, 1, 1, 1, 1, 1, 1, 1,\n",
       "       1, 1, 1, 1, 1, 1, 1, 1, 1, 0, 0, 0, 0, 0, 0, 0, 0, 0, 0, 0, 0, 0, 0,\n",
       "       0, 0, 0, 0, 0, 0, 0, 0, 0, 0, 0, 0, 0, 0, 0, 1, 1, 1, 1, 1, 1, 1, 1,\n",
       "       1, 1, 1, 1, 1, 1, 1, 1, 1, 1, 1, 0, 0, 0, 1, 1, 1, 1, 1, 1, 1, 1, 1,\n",
       "       1, 1, 1, 1, 1, 1, 1, 1, 1, 1, 1, 1, 1, 1, 1, 1, 0, 0, 0, 0, 0, 0, 0,\n",
       "       0, 0, 0, 0, 0, 0, 0, 0, 0, 0, 0, 0, 0, 0, 0, 0, 0, 0, 0, 0, 0, 0, 0,\n",
       "       0, 0, 0, 0, 0, 0, 0, 0, 0, 0, 0, 0, 0, 0, 0, 0, 0, 0, 0, 0, 0, 0, 0,\n",
       "       0, 0, 0, 0, 0, 0, 0, 0, 0, 0, 0, 1, 1, 1, 1, 1, 1, 1, 1, 1, 1, 1, 1,\n",
       "       1, 1, 1, 1, 1, 1, 1, 1, 1, 1, 1, 1, 1, 1, 0, 0, 0, 0, 0, 0, 0, 0, 0,\n",
       "       0, 0, 0, 0, 0, 0, 0, 0, 0, 0, 0, 0, 0, 0, 0, 0, 0, 0, 0, 0, 0, 0, 0,\n",
       "       0, 1, 1, 1, 1, 1, 1, 1, 1, 1, 1, 1, 1, 1, 1, 1, 1, 1, 1, 1, 1, 1, 1,\n",
       "       1, 1, 1, 1, 1, 1, 1, 1, 0, 0, 0, 0, 1, 1, 1, 1, 1, 1, 1, 1, 0, 0, 0,\n",
       "       0, 0, 0, 0, 0, 0, 0, 0, 0, 0, 0, 0, 0, 0, 0, 0, 0, 0, 0, 0, 0, 0, 0,\n",
       "       0, 0, 0, 0, 0, 0, 0, 0, 0, 0, 0, 0, 0, 0, 0, 0, 0, 0, 0, 0, 0, 0, 0,\n",
       "       0, 0, 0, 0, 0, 0, 0, 0, 0, 0, 0, 0, 0, 0, 0, 0, 0, 0, 0, 0, 1, 1, 1,\n",
       "       1, 1, 1, 1, 1, 1, 1, 1, 1, 1, 1, 1, 1, 1, 1, 1, 1, 1, 1, 1, 1, 1, 1,\n",
       "       1, 1, 1, 1, 1, 1, 1, 1, 1, 1, 1, 1, 1, 1, 1, 1, 1, 1, 1, 1, 1, 1, 1,\n",
       "       1, 1, 1, 1, 1, 1, 1, 0, 0, 1, 1, 1, 1, 1, 1, 1, 0, 0, 0, 0, 0, 0, 0,\n",
       "       0, 0, 0, 0, 0, 0, 0, 1, 1, 0, 0, 0, 0, 0, 0, 0, 0, 0, 0, 0, 0, 0, 0,\n",
       "       0, 0, 0, 0, 0, 0, 0, 0, 0, 0, 0, 0, 0, 0, 0, 0, 0, 0, 0, 0, 0, 0, 0,\n",
       "       0, 0, 0, 0, 0, 0, 0, 0, 1, 1, 1, 1, 1, 1, 1, 1, 1, 1, 1, 1, 1, 1, 1,\n",
       "       1, 1, 1, 1, 1, 1, 1, 1, 1, 1, 1, 1, 1, 1, 1, 1, 1, 1, 1, 1, 1, 1, 1,\n",
       "       1, 1, 1, 1, 1, 1, 1, 1, 1, 1, 1, 1], dtype=uint8)"
      ]
     },
     "execution_count": 135,
     "metadata": {},
     "output_type": "execute_result"
    }
   ],
   "source": [
    "mdl.predict(X)"
   ]
  },
  {
   "cell_type": "code",
   "execution_count": 136,
   "metadata": {},
   "outputs": [
    {
     "data": {
      "text/plain": [
       "0.9779837775202781"
      ]
     },
     "execution_count": 136,
     "metadata": {},
     "output_type": "execute_result"
    }
   ],
   "source": [
    "mdl.score(X,y)"
   ]
  },
  {
   "cell_type": "markdown",
   "metadata": {},
   "source": [
    "### Visualisation de la classification"
   ]
  },
  {
   "cell_type": "markdown",
   "metadata": {},
   "source": [
    "Le graphique affiche des couleurs qui correspondent à la probabilité qu'un point soit classifié positif. Faites varier le paramètre sigma2 (ou gamma en l'occurrence) et notez son influence sur ces probabilités, notamment en bordure de la frontière de décision. "
   ]
  },
  {
   "cell_type": "code",
   "execution_count": 137,
   "metadata": {},
   "outputs": [
    {
     "data": {
      "text/plain": [
       "<matplotlib.contour.QuadContourSet at 0x1a344bd320>"
      ]
     },
     "execution_count": 137,
     "metadata": {},
     "output_type": "execute_result"
    },
    {
     "data": {
      "image/png": "[encoded data removed]",
      "text/plain": [
       "<matplotlib.figure.Figure at 0x1a1b5e4fd0>"
      ]
     },
     "metadata": {},
     "output_type": "display_data"
    }
   ],
   "source": [
    "data2['Probability'] = model.predict_proba(data2[['X1', 'X2']])[:,0]\n",
    "\n",
    "fig, ax = plt.subplots(figsize=(12,8))\n",
    "ax.scatter(data2['X1'], data2['X2'], s=30, c=data2['Probability'], cmap='Reds')\n",
    "\n",
    "h = 0.002  # step size in the mesh\n",
    "# create a mesh to plot in\n",
    "x_min, x_max = 0, 1 #X[:, 0].min() - 1, X[:, 0].max() + 1\n",
    "y_min, y_max = 0.4, 1 #X[:, 1].min() - 1, X[:, 1].max() + 1\n",
    "xx, yy = np.meshgrid(np.arange(x_min, x_max, h),\n",
    "                     np.arange(y_min, y_max, h))\n",
    "Z = mdl.predict(np.c_[xx.ravel(), yy.ravel()])\n",
    "Z = Z.reshape(xx.shape)\n",
    "plt.contour(xx, yy, Z, cmap=plt.cm.Paired)"
   ]
  },
  {
   "cell_type": "markdown",
   "metadata": {},
   "source": [
    "## 3- Sélection des paramètres C et sigma"
   ]
  },
  {
   "cell_type": "markdown",
   "metadata": {},
   "source": [
    "L'idée ici est d'entraîner un classifieur sur des données d'entraînement (X et y) avec un C et un sigma donné, puis de tester la performance sur des données dites de validation (Xval et yval). On choisit ensuite les meilleures valeurs."
   ]
  },
  {
   "cell_type": "markdown",
   "metadata": {},
   "source": [
    "### Chargez les données de ex6data3"
   ]
  },
  {
   "cell_type": "code",
   "execution_count": 222,
   "metadata": {},
   "outputs": [
    {
     "data": {
      "text/plain": [
       "{'X': array([[ -1.58986000e-01,   4.23977000e-01],\n",
       "        [ -3.47926000e-01,   4.70760000e-01],\n",
       "        [ -5.04608000e-01,   3.53801000e-01],\n",
       "        [ -5.96774000e-01,   1.14035000e-01],\n",
       "        [ -5.18433000e-01,  -1.72515000e-01],\n",
       "        [ -2.92627000e-01,  -2.07602000e-01],\n",
       "        [ -1.58986000e-01,  -4.38596000e-02],\n",
       "        [ -5.76037000e-02,   1.43275000e-01],\n",
       "        [ -7.14286000e-02,   2.71930000e-01],\n",
       "        [ -2.97235000e-01,   3.47953000e-01],\n",
       "        [ -4.17051000e-01,   2.01754000e-01],\n",
       "        [ -4.40092000e-01,   8.77193000e-03],\n",
       "        [ -3.24885000e-01,  -3.21637000e-02],\n",
       "        [ -2.46544000e-01,   5.55556000e-02],\n",
       "        [ -2.18894000e-01,   2.01754000e-01],\n",
       "        [ -3.43318000e-01,   1.60819000e-01],\n",
       "        [ -5.09217000e-01,   7.89474000e-02],\n",
       "        [ -3.84793000e-01,  -9.06433000e-02],\n",
       "        [ -1.49770000e-01,   1.25731000e-01],\n",
       "        [ -1.95853000e-01,   3.24561000e-01],\n",
       "        [ -3.91705000e-02,  -2.19298000e-01],\n",
       "        [ -1.08295000e-01,  -3.01170000e-01],\n",
       "        [ -1.86636000e-01,  -3.30409000e-01],\n",
       "        [ -2.18894000e-01,  -4.23977000e-01],\n",
       "        [ -8.06452000e-02,  -5.64327000e-01],\n",
       "        [  6.68203000e-02,  -5.17544000e-01],\n",
       "        [  9.44700000e-02,  -3.24561000e-01],\n",
       "        [  1.86636000e-01,  -1.66667000e-01],\n",
       "        [  6.22120000e-02,  -7.30994000e-02],\n",
       "        [  2.07373000e-02,  -1.95906000e-01],\n",
       "        [  2.99539000e-02,  -3.42105000e-01],\n",
       "        [ -9.90783000e-02,  -3.77193000e-01],\n",
       "        [ -6.91244000e-03,  -4.64912000e-01],\n",
       "        [  1.31336000e-01,  -4.29825000e-01],\n",
       "        [  2.32719000e-01,  -1.95906000e-01],\n",
       "        [  8.52535000e-02,  -8.47953000e-02],\n",
       "        [ -1.31336000e-01,  -2.36842000e-01],\n",
       "        [  2.30415000e-03,  -1.25731000e-01],\n",
       "        [  1.22120000e-01,  -2.92398000e-03],\n",
       "        [ -3.47926000e-01,  -3.12865000e-01],\n",
       "        [ -2.28111000e-01,  -1.25731000e-01],\n",
       "        [ -7.60369000e-02,   1.46199000e-02],\n",
       "        [  4.37788000e-02,   2.04678000e-02],\n",
       "        [  1.15207000e-02,   1.54971000e-01],\n",
       "        [ -4.17051000e-01,  -1.60819000e-01],\n",
       "        [ -3.15668000e-01,  -3.18713000e-01],\n",
       "        [  1.26728000e-01,  -2.19298000e-01],\n",
       "        [  2.05069000e-01,  -3.12865000e-01],\n",
       "        [  2.18894000e-01,  -4.59064000e-01],\n",
       "        [  7.14286000e-02,  -6.46199000e-01],\n",
       "        [ -1.31336000e-01,  -6.05263000e-01],\n",
       "        [ -2.09677000e-01,  -5.81871000e-01],\n",
       "        [ -2.28111000e-01,  -4.29825000e-01],\n",
       "        [ -1.45161000e-01,  -4.12281000e-01],\n",
       "        [ -6.68203000e-02,  -4.82456000e-01],\n",
       "        [  1.35945000e-01,  -5.11696000e-01],\n",
       "        [  2.69585000e-01,  -4.06433000e-01],\n",
       "        [  2.97235000e-01,  -2.95322000e-01],\n",
       "        [  2.74194000e-01,  -1.72515000e-01],\n",
       "        [  2.55760000e-01,  -4.97076000e-02],\n",
       "        [  2.23502000e-01,  -4.97076000e-02],\n",
       "        [  1.82028000e-01,  -8.47953000e-02],\n",
       "        [  1.58986000e-01,  -1.54971000e-01],\n",
       "        [  7.14286000e-02,  -2.13450000e-01],\n",
       "        [  1.61290000e-02,  -2.66082000e-01],\n",
       "        [ -2.53456000e-02,  -3.83041000e-01],\n",
       "        [ -1.15207000e-02,  -4.82456000e-01],\n",
       "        [ -2.30415000e-03,  -5.05848000e-01],\n",
       "        [  2.53456000e-02,  -5.11696000e-01],\n",
       "        [  2.53456000e-02,  -5.58480000e-01],\n",
       "        [  1.15207000e-02,  -6.57895000e-01],\n",
       "        [ -4.83871000e-02,  -6.46199000e-01],\n",
       "        [ -8.52535000e-02,  -5.52632000e-01],\n",
       "        [ -9.90783000e-02,  -5.00000000e-01],\n",
       "        [ -1.61290000e-02,  -4.23977000e-01],\n",
       "        [  1.31336000e-01,  -3.59649000e-01],\n",
       "        [  2.23502000e-01,  -3.71345000e-01],\n",
       "        [  2.92627000e-01,  -3.01170000e-01],\n",
       "        [  2.60369000e-01,  -2.07602000e-01],\n",
       "        [  2.00461000e-01,  -2.25146000e-01],\n",
       "        [  1.72811000e-01,  -2.71930000e-01],\n",
       "        [ -1.31336000e-01,   9.06433000e-02],\n",
       "        [ -1.49770000e-01,   7.30994000e-02],\n",
       "        [ -2.41935000e-01,   6.14035000e-02],\n",
       "        [ -3.01843000e-01,   1.78363000e-01],\n",
       "        [ -2.97235000e-01,   1.95906000e-01],\n",
       "        [ -2.74194000e-01,   3.07018000e-01],\n",
       "        [ -3.24885000e-01,   2.95322000e-01],\n",
       "        [ -3.98618000e-01,   2.66082000e-01],\n",
       "        [ -4.35484000e-01,   1.60819000e-01],\n",
       "        [ -4.72350000e-01,   7.89474000e-02],\n",
       "        [ -3.38710000e-01,   4.38596000e-02],\n",
       "        [ -2.69585000e-01,   4.38596000e-02],\n",
       "        [ -2.55760000e-01,   1.02339000e-01],\n",
       "        [ -1.68203000e-01,   2.66082000e-01],\n",
       "        [ -1.12903000e-01,   3.01170000e-01],\n",
       "        [ -3.91705000e-02,   3.47953000e-01],\n",
       "        [ -1.26728000e-01,   4.41520000e-01],\n",
       "        [ -2.32719000e-01,   4.41520000e-01],\n",
       "        [ -3.38710000e-01,   4.18129000e-01],\n",
       "        [ -4.12442000e-01,   3.53801000e-01],\n",
       "        [ -5.09217000e-01,   2.19298000e-01],\n",
       "        [ -5.41475000e-01,   1.46199000e-02],\n",
       "        [ -5.04608000e-01,  -1.25731000e-01],\n",
       "        [ -4.90783000e-01,  -1.43275000e-01],\n",
       "        [ -3.61751000e-01,  -1.37427000e-01],\n",
       "        [ -2.69585000e-01,  -8.47953000e-02],\n",
       "        [ -2.23502000e-01,  -7.89474000e-02],\n",
       "        [ -1.86636000e-01,  -3.80117000e-02],\n",
       "        [ -1.54378000e-01,  -8.77193000e-03],\n",
       "        [ -1.12903000e-01,   5.55556000e-02],\n",
       "        [ -8.52535000e-02,   1.37427000e-01],\n",
       "        [ -8.52535000e-02,   2.77778000e-01],\n",
       "        [ -1.68203000e-01,   3.01170000e-01],\n",
       "        [ -1.91244000e-01,   1.95906000e-01],\n",
       "        [ -1.40553000e-01,  -4.97076000e-02],\n",
       "        [ -2.99539000e-02,   6.72515000e-02],\n",
       "        [ -2.00461000e-01,  -2.30994000e-01],\n",
       "        [ -1.08295000e-01,  -8.47953000e-02],\n",
       "        [  3.45622000e-02,   6.72515000e-02],\n",
       "        [  8.06452000e-02,   1.19883000e-01],\n",
       "        [ -3.85369000e-01,   3.30409000e-02],\n",
       "        [ -3.81221000e-01,   1.31287000e-01],\n",
       "        [ -3.52189000e-01,   2.58187000e-01],\n",
       "        [ -3.54263000e-01,   3.64620000e-01],\n",
       "        [ -4.14401000e-01,  -6.92982000e-02],\n",
       "        [ -4.99424000e-01,  -3.24561000e-02],\n",
       "        [ -2.98272000e-01,  -9.79532000e-02],\n",
       "        [ -3.16935000e-01,  -1.83918000e-01],\n",
       "        [ -3.68779000e-01,  -2.90351000e-01],\n",
       "        [ -3.56336000e-01,  -3.96784000e-01],\n",
       "        [ -2.71313000e-01,   4.38596000e-03],\n",
       "        [ -1.77995000e-01,   8.62573000e-02],\n",
       "        [ -2.46429000e-01,   1.43567000e-01],\n",
       "        [ -2.50576000e-01,   2.29532000e-01],\n",
       "        [ -2.21544000e-01,   3.76901000e-01],\n",
       "        [ -2.15323000e-01,   2.95029000e-01],\n",
       "        [ -1.30300000e-01,   2.17251000e-01],\n",
       "        [ -2.07028000e-01,   2.89474000e-02],\n",
       "        [ -9.71198000e-02,   2.13158000e-01],\n",
       "        [ -3.90553000e-02,   2.58187000e-01],\n",
       "        [  1.90092000e-02,   4.01462000e-01],\n",
       "        [ -3.69816000e-02,   4.21930000e-01],\n",
       "        [ -6.39401000e-02,   3.31871000e-01],\n",
       "        [ -1.30300000e-01,   3.76901000e-01],\n",
       "        [ -3.75000000e-01,  -4.37719000e-01],\n",
       "        [ -3.95737000e-01,  -3.51754000e-01],\n",
       "        [ -3.54263000e-01,  -2.08480000e-01],\n",
       "        [ -4.37212000e-01,  -3.76316000e-01],\n",
       "        [ -4.80760000e-01,  -5.03216000e-01],\n",
       "        [ -4.10253000e-01,  -4.66374000e-01],\n",
       "        [ -2.48502000e-01,  -2.57602000e-01],\n",
       "        [ -2.27765000e-01,  -3.14912000e-01],\n",
       "        [ -2.83756000e-01,  -3.84503000e-01],\n",
       "        [ -2.92051000e-01,  -4.54094000e-01],\n",
       "        [ -3.37673000e-01,  -5.19591000e-01],\n",
       "        [ -2.77535000e-01,  -5.48246000e-01],\n",
       "        [ -2.07028000e-01,  -5.35965000e-01],\n",
       "        [ -1.86290000e-01,  -4.78655000e-01],\n",
       "        [ -1.32373000e-01,  -5.07310000e-01],\n",
       "        [ -1.77995000e-01,  -2.98538000e-01],\n",
       "        [ -1.65553000e-01,  -1.75731000e-01],\n",
       "        [ -1.61406000e-01,  -1.26608000e-01],\n",
       "        [  3.45622000e-04,   2.58187000e-01],\n",
       "        [  7.91475000e-02,   3.56433000e-01],\n",
       "        [ -2.66129000e-02,   1.80409000e-01],\n",
       "        [ -5.35714000e-02,   7.80702000e-02],\n",
       "        [ -1.41705000e-02,  -5.29240000e-02],\n",
       "        [ -7.01613000e-02,  -1.63450000e-01],\n",
       "        [ -6.39401000e-02,  -2.94444000e-01],\n",
       "        [ -3.07604000e-02,  -4.66374000e-01],\n",
       "        [ -5.77189000e-02,  -5.27778000e-01],\n",
       "        [ -5.35714000e-02,  -3.96784000e-01],\n",
       "        [  5.21889000e-02,  -4.17251000e-01],\n",
       "        [ -1.62442000e-02,  -1.67544000e-01],\n",
       "        [ -6.39401000e-02,  -8.56725000e-02],\n",
       "        [ -6.18664000e-02,  -1.60819000e-02],\n",
       "        [ -3.80184000e-03,   4.38596000e-03],\n",
       "        [  4.18203000e-02,   2.04971000e-01],\n",
       "        [  7.91475000e-02,   1.92690000e-01],\n",
       "        [  4.59677000e-02,   2.54094000e-01],\n",
       "        [  1.18548000e-01,   1.92690000e-01],\n",
       "        [  1.10253000e-01,   8.62573000e-02],\n",
       "        [  1.08180000e-01,  -6.92982000e-02],\n",
       "        [  1.66244000e-01,  -2.42690000e-02],\n",
       "        [  1.41359000e-01,   6.57895000e-02],\n",
       "        [  1.43433000e-01,   1.68129000e-01],\n",
       "        [  1.70392000e-01,   1.92690000e-01],\n",
       "        [  1.08180000e-01,   2.99123000e-01],\n",
       "        [  1.18548000e-01,   3.19591000e-01],\n",
       "        [  1.26843000e-01,   3.93275000e-01],\n",
       "        [ -8.67512000e-02,   4.21930000e-01],\n",
       "        [ -4.73502000e-02,   5.07895000e-01],\n",
       "        [  2.52304000e-02,   5.20175000e-01],\n",
       "        [  6.25576000e-02,   5.52924000e-01],\n",
       "        [ -5.87558000e-03,   4.42398000e-01],\n",
       "        [ -5.14977000e-02,   5.73392000e-01],\n",
       "        [ -8.05300000e-02,   5.07895000e-01],\n",
       "        [ -1.53111000e-01,   5.52924000e-01],\n",
       "        [ -1.11636000e-01,   5.48830000e-01],\n",
       "        [ -1.63479000e-01,   4.91520000e-01],\n",
       "        [ -2.52650000e-01,  -1.88012000e-01],\n",
       "        [ -2.46429000e-01,  -3.65497000e-02],\n",
       "        [ -3.21083000e-01,  -4.33626000e-01],\n",
       "        [ -3.31452000e-01,  -6.05556000e-01],\n",
       "        [ -3.85369000e-01,  -5.15497000e-01],\n",
       "        [ -3.99885000e-01,  -6.21930000e-01],\n",
       "        [ -1.24078000e-01,  -1.26608000e-01],\n",
       "        [ -3.16935000e-01,  -2.28947000e-01],\n",
       "        [ -2.94124000e-01,  -1.34795000e-01],\n",
       "        [ -1.53111000e-01,   1.84503000e-01]]),\n",
       " 'Xval': array([[-0.35306235, -0.67390181],\n",
       "        [-0.2271258 ,  0.44731976],\n",
       "        [ 0.09289767, -0.75352419],\n",
       "        [ 0.14824252, -0.71847308],\n",
       "        [-0.00151249,  0.16292786],\n",
       "        [ 0.04533501,  0.20982573],\n",
       "        [ 0.14434613, -0.68720754],\n",
       "        [-0.13807064,  0.55241732],\n",
       "        [-0.16385952,  0.11134314],\n",
       "        [-0.19535742,  0.4011457 ],\n",
       "        [ 0.1863405 ,  0.52186234],\n",
       "        [-0.49340321,  0.06007882],\n",
       "        [-0.0918527 , -0.12178156],\n",
       "        [-0.10428124, -0.54557988],\n",
       "        [-0.20888058,  0.15980217],\n",
       "        [ 0.24239325, -0.44476841],\n",
       "        [ 0.14986252, -0.10482911],\n",
       "        [-0.49949386,  0.01644946],\n",
       "        [ 0.14708703,  0.17669485],\n",
       "        [-0.20265487, -0.18450312],\n",
       "        [ 0.09335189, -0.08481748],\n",
       "        [ 0.11339545,  0.20626961],\n",
       "        [ 0.25152129, -0.24962124],\n",
       "        [-0.07166737,  0.38027844],\n",
       "        [ 0.18055064, -0.49845242],\n",
       "        [-0.18110124, -0.7543908 ],\n",
       "        [ 0.27785389,  0.24844372],\n",
       "        [-0.01327092, -0.48747145],\n",
       "        [-0.01502107,  0.36967342],\n",
       "        [-0.00308691,  0.21570428],\n",
       "        [ 0.2141149 ,  0.4517632 ],\n",
       "        [ 0.04526842, -0.62350648],\n",
       "        [-0.13417062, -0.75042241],\n",
       "        [-0.05519283, -0.08569443],\n",
       "        [-0.45642962,  0.30457343],\n",
       "        [-0.44930938,  0.2521395 ],\n",
       "        [-0.33460047,  0.28108967],\n",
       "        [ 0.14155288, -0.68735638],\n",
       "        [-0.24788379, -0.44652464],\n",
       "        [-0.04867248, -0.79481614],\n",
       "        [-0.19644304, -0.60949512],\n",
       "        [-0.49903366, -0.48378051],\n",
       "        [-0.04108153, -0.33717187],\n",
       "        [-0.28101764, -0.02116391],\n",
       "        [-0.1756489 , -0.16079769],\n",
       "        [-0.46788726, -0.03606064],\n",
       "        [-0.41606452,  0.50923811],\n",
       "        [ 0.29091938,  0.00281817],\n",
       "        [ 0.02219132,  0.10162396],\n",
       "        [-0.42158567,  0.39027243],\n",
       "        [ 0.1312701 , -0.19991088],\n",
       "        [-0.41008228, -0.67280407],\n",
       "        [-0.35553717,  0.27731659],\n",
       "        [-0.35760857,  0.52170388],\n",
       "        [-0.30571571,  0.38303523],\n",
       "        [-0.02607286,  0.37125026],\n",
       "        [-0.11757221, -0.02881462],\n",
       "        [-0.24149786, -0.04582353],\n",
       "        [-0.18033413,  0.00628885],\n",
       "        [ 0.26392833, -0.19920115],\n",
       "        [-0.32814337, -0.62828486],\n",
       "        [-0.29850456, -0.71993032],\n",
       "        [-0.11643577, -0.41548515],\n",
       "        [-0.46780346, -0.11866615],\n",
       "        [ 0.06911927, -0.51905734],\n",
       "        [-0.04271503,  0.33006558],\n",
       "        [-0.3385095 ,  0.07544364],\n",
       "        [-0.16095543,  0.15532539],\n",
       "        [-0.07511389,  0.52723462],\n",
       "        [-0.42933428, -0.32823455],\n",
       "        [-0.16383887,  0.59636143],\n",
       "        [-0.45116398, -0.36885502],\n",
       "        [ 0.0477326 ,  0.08964546],\n",
       "        [-0.20718875,  0.029608  ],\n",
       "        [ 0.12999743, -0.76144357],\n",
       "        [-0.17031431,  0.26024428],\n",
       "        [ 0.16669776, -0.66180432],\n",
       "        [ 0.10966868, -0.02214623],\n",
       "        [ 0.02952713,  0.1205507 ],\n",
       "        [-0.38108519, -0.68066679],\n",
       "        [-0.03730684, -0.16967073],\n",
       "        [ 0.23863706, -0.33979185],\n",
       "        [ 0.1794064 ,  0.36614806],\n",
       "        [-0.44541368,  0.48773358],\n",
       "        [-0.13173944, -0.37301885],\n",
       "        [ 0.25816653,  0.3214765 ],\n",
       "        [-0.17144475, -0.05436293],\n",
       "        [ 0.0223521 ,  0.46044783],\n",
       "        [ 0.2175178 , -0.64838015],\n",
       "        [ 0.16482247, -0.56009307],\n",
       "        [ 0.10561683, -0.47356917],\n",
       "        [-0.4963785 , -0.53039871],\n",
       "        [-0.2907698 ,  0.39282998],\n",
       "        [-0.35518369, -0.19033134],\n",
       "        [-0.11756326,  0.45045063],\n",
       "        [ 0.2124443 ,  0.24409336],\n",
       "        [-0.33588692, -0.42208135],\n",
       "        [-0.21834424,  0.42598976],\n",
       "        [ 0.2664948 , -0.41708775],\n",
       "        [ 0.01073067,  0.1157563 ],\n",
       "        [ 0.14320849,  0.57290223],\n",
       "        [-0.49639587,  0.24764736],\n",
       "        [ 0.01985078, -0.3142498 ],\n",
       "        [-0.49432988,  0.40264768],\n",
       "        [-0.10664757, -0.00867353],\n",
       "        [-0.00319048,  0.50973211],\n",
       "        [-0.42560461,  0.21494326],\n",
       "        [ 0.01205282,  0.43847113],\n",
       "        [-0.42333424, -0.22920959],\n",
       "        [-0.18530875, -0.21966031],\n",
       "        [-0.21421786,  0.57175744],\n",
       "        [-0.31768577, -0.34148012],\n",
       "        [ 0.14291722,  0.08564325],\n",
       "        [-0.32157713,  0.15996528],\n",
       "        [-0.08101309,  0.01944172],\n",
       "        [-0.25938858, -0.05106505],\n",
       "        [-0.01728897, -0.57578078],\n",
       "        [-0.00865689,  0.40091322],\n",
       "        [ 0.0123751 , -0.27619353],\n",
       "        [ 0.2679647 , -0.49294225],\n",
       "        [-0.2220084 , -0.28870081],\n",
       "        [ 0.17236739, -0.47234967],\n",
       "        [ 0.13126105, -0.23841632],\n",
       "        [ 0.24179202, -0.23915142],\n",
       "        [ 0.1222105 , -0.18139411],\n",
       "        [ 0.05346095, -0.05415873],\n",
       "        [-0.2122828 , -0.49059782],\n",
       "        [-0.40454458, -0.53062928],\n",
       "        [-0.37627313, -0.36278139],\n",
       "        [-0.40516269,  0.00920269],\n",
       "        [-0.3576407 , -0.18299568],\n",
       "        [-0.05349795, -0.53677784],\n",
       "        [-0.29150432, -0.03586948],\n",
       "        [ 0.20878861, -0.21603988],\n",
       "        [-0.02555617,  0.26925529],\n",
       "        [-0.44039164, -0.7207657 ],\n",
       "        [ 0.19021425, -0.7314299 ],\n",
       "        [ 0.12623856, -0.4287631 ],\n",
       "        [-0.33099112, -0.01338599],\n",
       "        [-0.31851586,  0.06686597],\n",
       "        [-0.16257604, -0.72654767],\n",
       "        [ 0.00302448, -0.71336776],\n",
       "        [-0.09090669, -0.48357423],\n",
       "        [ 0.16334486,  0.29270667],\n",
       "        [ 0.11745137, -0.10436159],\n",
       "        [ 0.05169295, -0.49777696],\n",
       "        [-0.43946652,  0.24581507],\n",
       "        [ 0.20343101,  0.00870498],\n",
       "        [ 0.24735643,  0.06879417],\n",
       "        [-0.28638208,  0.12963342],\n",
       "        [ 0.03336897, -0.67034231],\n",
       "        [-0.22278369, -0.14869216],\n",
       "        [-0.27930754,  0.43238638],\n",
       "        [ 0.10390813,  0.10306382],\n",
       "        [-0.22047998, -0.76702369],\n",
       "        [-0.22122989,  0.02037055],\n",
       "        [ 0.10595997, -0.12451613],\n",
       "        [ 0.00536441,  0.10208984],\n",
       "        [-0.18630331,  0.08037445],\n",
       "        [ 0.07871049,  0.04847465],\n",
       "        [-0.03904464,  0.18299267],\n",
       "        [ 0.02897219, -0.02251376],\n",
       "        [-0.24701344,  0.35259805],\n",
       "        [ 0.26144865,  0.38051718],\n",
       "        [-0.1457531 , -0.46868559],\n",
       "        [ 0.0298899 ,  0.10126281],\n",
       "        [-0.20212221, -0.3266953 ],\n",
       "        [ 0.13433263, -0.63985405],\n",
       "        [-0.40741669,  0.55315944],\n",
       "        [-0.40943778,  0.46177788],\n",
       "        [ 0.25701656, -0.52299972],\n",
       "        [ 0.11003269, -0.52541811],\n",
       "        [ 0.25896689, -0.45826105],\n",
       "        [ 0.15383051,  0.10749309],\n",
       "        [-0.14735839,  0.44665931],\n",
       "        [ 0.14736828, -0.41425849],\n",
       "        [-0.03874009, -0.48927081],\n",
       "        [ 0.2255192 ,  0.27762013],\n",
       "        [ 0.26950824, -0.66565116],\n",
       "        [ 0.12482879,  0.50814405],\n",
       "        [ 0.17162781, -0.42429453],\n",
       "        [ 0.005052  , -0.04760931],\n",
       "        [-0.35458825,  0.37126309],\n",
       "        [-0.47738659, -0.68693223],\n",
       "        [-0.24116903,  0.28161654],\n",
       "        [ 0.09375793, -0.77221995],\n",
       "        [-0.29988892, -0.67487155],\n",
       "        [-0.16247809,  0.17209416],\n",
       "        [ 0.19682557, -0.14566765],\n",
       "        [-0.34801539, -0.2592839 ],\n",
       "        [ 0.14035793, -0.68428925],\n",
       "        [-0.04634861, -0.14915378],\n",
       "        [-0.23929465,  0.56220974],\n",
       "        [-0.45785597,  0.25374027],\n",
       "        [-0.10819348,  0.59753216],\n",
       "        [ 0.00520265, -0.54444942],\n",
       "        [ 0.17635156, -0.57245363],\n",
       "        [ 0.127651  , -0.34093757],\n",
       "        [ 0.24868221, -0.49750183],\n",
       "        [-0.31689909, -0.42941273]]),\n",
       " '__globals__': [],\n",
       " '__header__': b'MATLAB 5.0 MAT-file, Platform: GLNXA64, Created on: Sun Nov 13 14:29:06 2011',\n",
       " '__version__': '1.0',\n",
       " 'y': array([[1],\n",
       "        [1],\n",
       "        [1],\n",
       "        [1],\n",
       "        [1],\n",
       "        [1],\n",
       "        [1],\n",
       "        [1],\n",
       "        [1],\n",
       "        [1],\n",
       "        [1],\n",
       "        [1],\n",
       "        [1],\n",
       "        [1],\n",
       "        [1],\n",
       "        [1],\n",
       "        [1],\n",
       "        [1],\n",
       "        [1],\n",
       "        [1],\n",
       "        [0],\n",
       "        [0],\n",
       "        [0],\n",
       "        [0],\n",
       "        [0],\n",
       "        [0],\n",
       "        [0],\n",
       "        [0],\n",
       "        [0],\n",
       "        [0],\n",
       "        [0],\n",
       "        [0],\n",
       "        [0],\n",
       "        [0],\n",
       "        [0],\n",
       "        [0],\n",
       "        [1],\n",
       "        [1],\n",
       "        [1],\n",
       "        [0],\n",
       "        [0],\n",
       "        [0],\n",
       "        [0],\n",
       "        [0],\n",
       "        [0],\n",
       "        [0],\n",
       "        [0],\n",
       "        [0],\n",
       "        [0],\n",
       "        [0],\n",
       "        [0],\n",
       "        [0],\n",
       "        [0],\n",
       "        [0],\n",
       "        [0],\n",
       "        [0],\n",
       "        [0],\n",
       "        [0],\n",
       "        [0],\n",
       "        [0],\n",
       "        [0],\n",
       "        [0],\n",
       "        [0],\n",
       "        [0],\n",
       "        [0],\n",
       "        [0],\n",
       "        [0],\n",
       "        [0],\n",
       "        [0],\n",
       "        [0],\n",
       "        [0],\n",
       "        [0],\n",
       "        [0],\n",
       "        [0],\n",
       "        [0],\n",
       "        [0],\n",
       "        [0],\n",
       "        [0],\n",
       "        [0],\n",
       "        [0],\n",
       "        [0],\n",
       "        [1],\n",
       "        [1],\n",
       "        [1],\n",
       "        [1],\n",
       "        [1],\n",
       "        [1],\n",
       "        [1],\n",
       "        [1],\n",
       "        [1],\n",
       "        [1],\n",
       "        [1],\n",
       "        [1],\n",
       "        [1],\n",
       "        [1],\n",
       "        [1],\n",
       "        [1],\n",
       "        [1],\n",
       "        [1],\n",
       "        [1],\n",
       "        [1],\n",
       "        [1],\n",
       "        [1],\n",
       "        [1],\n",
       "        [1],\n",
       "        [1],\n",
       "        [1],\n",
       "        [1],\n",
       "        [1],\n",
       "        [1],\n",
       "        [1],\n",
       "        [1],\n",
       "        [1],\n",
       "        [1],\n",
       "        [1],\n",
       "        [1],\n",
       "        [1],\n",
       "        [0],\n",
       "        [0],\n",
       "        [0],\n",
       "        [0],\n",
       "        [1],\n",
       "        [1],\n",
       "        [1],\n",
       "        [1],\n",
       "        [1],\n",
       "        [1],\n",
       "        [1],\n",
       "        [1],\n",
       "        [1],\n",
       "        [1],\n",
       "        [1],\n",
       "        [1],\n",
       "        [1],\n",
       "        [1],\n",
       "        [1],\n",
       "        [1],\n",
       "        [1],\n",
       "        [1],\n",
       "        [1],\n",
       "        [1],\n",
       "        [1],\n",
       "        [1],\n",
       "        [1],\n",
       "        [1],\n",
       "        [1],\n",
       "        [1],\n",
       "        [1],\n",
       "        [1],\n",
       "        [1],\n",
       "        [1],\n",
       "        [0],\n",
       "        [0],\n",
       "        [0],\n",
       "        [0],\n",
       "        [0],\n",
       "        [0],\n",
       "        [0],\n",
       "        [0],\n",
       "        [0],\n",
       "        [0],\n",
       "        [0],\n",
       "        [0],\n",
       "        [0],\n",
       "        [0],\n",
       "        [0],\n",
       "        [0],\n",
       "        [0],\n",
       "        [0],\n",
       "        [0],\n",
       "        [0],\n",
       "        [0],\n",
       "        [0],\n",
       "        [0],\n",
       "        [0],\n",
       "        [0],\n",
       "        [0],\n",
       "        [0],\n",
       "        [0],\n",
       "        [0],\n",
       "        [0],\n",
       "        [0],\n",
       "        [0],\n",
       "        [0],\n",
       "        [0],\n",
       "        [0],\n",
       "        [0],\n",
       "        [0],\n",
       "        [0],\n",
       "        [0],\n",
       "        [0],\n",
       "        [1],\n",
       "        [1],\n",
       "        [1],\n",
       "        [1],\n",
       "        [1],\n",
       "        [1],\n",
       "        [1],\n",
       "        [1],\n",
       "        [1],\n",
       "        [1],\n",
       "        [1],\n",
       "        [1],\n",
       "        [1],\n",
       "        [0],\n",
       "        [1],\n",
       "        [1],\n",
       "        [1],\n",
       "        [1],\n",
       "        [0],\n",
       "        [0]], dtype=uint8),\n",
       " 'yval': array([[0],\n",
       "        [1],\n",
       "        [0],\n",
       "        [0],\n",
       "        [0],\n",
       "        [0],\n",
       "        [0],\n",
       "        [1],\n",
       "        [1],\n",
       "        [1],\n",
       "        [1],\n",
       "        [1],\n",
       "        [0],\n",
       "        [0],\n",
       "        [1],\n",
       "        [0],\n",
       "        [0],\n",
       "        [1],\n",
       "        [0],\n",
       "        [0],\n",
       "        [0],\n",
       "        [0],\n",
       "        [0],\n",
       "        [1],\n",
       "        [0],\n",
       "        [0],\n",
       "        [0],\n",
       "        [0],\n",
       "        [1],\n",
       "        [0],\n",
       "        [0],\n",
       "        [0],\n",
       "        [0],\n",
       "        [0],\n",
       "        [1],\n",
       "        [1],\n",
       "        [1],\n",
       "        [0],\n",
       "        [0],\n",
       "        [0],\n",
       "        [0],\n",
       "        [1],\n",
       "        [0],\n",
       "        [0],\n",
       "        [0],\n",
       "        [1],\n",
       "        [1],\n",
       "        [0],\n",
       "        [0],\n",
       "        [1],\n",
       "        [0],\n",
       "        [1],\n",
       "        [1],\n",
       "        [1],\n",
       "        [1],\n",
       "        [1],\n",
       "        [1],\n",
       "        [1],\n",
       "        [1],\n",
       "        [1],\n",
       "        [0],\n",
       "        [0],\n",
       "        [0],\n",
       "        [1],\n",
       "        [0],\n",
       "        [1],\n",
       "        [1],\n",
       "        [1],\n",
       "        [1],\n",
       "        [0],\n",
       "        [1],\n",
       "        [1],\n",
       "        [0],\n",
       "        [1],\n",
       "        [0],\n",
       "        [1],\n",
       "        [0],\n",
       "        [0],\n",
       "        [0],\n",
       "        [1],\n",
       "        [0],\n",
       "        [0],\n",
       "        [0],\n",
       "        [1],\n",
       "        [0],\n",
       "        [0],\n",
       "        [1],\n",
       "        [1],\n",
       "        [0],\n",
       "        [0],\n",
       "        [0],\n",
       "        [1],\n",
       "        [0],\n",
       "        [1],\n",
       "        [1],\n",
       "        [0],\n",
       "        [1],\n",
       "        [1],\n",
       "        [0],\n",
       "        [0],\n",
       "        [1],\n",
       "        [1],\n",
       "        [0],\n",
       "        [1],\n",
       "        [1],\n",
       "        [1],\n",
       "        [1],\n",
       "        [1],\n",
       "        [1],\n",
       "        [0],\n",
       "        [1],\n",
       "        [0],\n",
       "        [0],\n",
       "        [1],\n",
       "        [0],\n",
       "        [1],\n",
       "        [0],\n",
       "        [1],\n",
       "        [0],\n",
       "        [0],\n",
       "        [0],\n",
       "        [0],\n",
       "        [0],\n",
       "        [0],\n",
       "        [0],\n",
       "        [0],\n",
       "        [0],\n",
       "        [1],\n",
       "        [1],\n",
       "        [1],\n",
       "        [1],\n",
       "        [0],\n",
       "        [1],\n",
       "        [0],\n",
       "        [1],\n",
       "        [1],\n",
       "        [0],\n",
       "        [0],\n",
       "        [1],\n",
       "        [1],\n",
       "        [0],\n",
       "        [0],\n",
       "        [0],\n",
       "        [0],\n",
       "        [0],\n",
       "        [0],\n",
       "        [1],\n",
       "        [0],\n",
       "        [0],\n",
       "        [1],\n",
       "        [0],\n",
       "        [1],\n",
       "        [1],\n",
       "        [0],\n",
       "        [0],\n",
       "        [1],\n",
       "        [0],\n",
       "        [0],\n",
       "        [1],\n",
       "        [0],\n",
       "        [1],\n",
       "        [0],\n",
       "        [1],\n",
       "        [0],\n",
       "        [0],\n",
       "        [0],\n",
       "        [0],\n",
       "        [0],\n",
       "        [1],\n",
       "        [1],\n",
       "        [0],\n",
       "        [0],\n",
       "        [0],\n",
       "        [0],\n",
       "        [1],\n",
       "        [1],\n",
       "        [0],\n",
       "        [0],\n",
       "        [0],\n",
       "        [1],\n",
       "        [0],\n",
       "        [0],\n",
       "        [1],\n",
       "        [1],\n",
       "        [1],\n",
       "        [0],\n",
       "        [0],\n",
       "        [1],\n",
       "        [0],\n",
       "        [1],\n",
       "        [0],\n",
       "        [0],\n",
       "        [1],\n",
       "        [1],\n",
       "        [1],\n",
       "        [1],\n",
       "        [0],\n",
       "        [0],\n",
       "        [0],\n",
       "        [0]], dtype=uint8)}"
      ]
     },
     "execution_count": 222,
     "metadata": {},
     "output_type": "execute_result"
    }
   ],
   "source": [
    "raw_data3 = loadmat('ex6data3.mat')\n",
    "raw_data3"
   ]
  },
  {
   "cell_type": "code",
   "execution_count": 223,
   "metadata": {
    "collapsed": true
   },
   "outputs": [],
   "source": [
    "data3 = pd.DataFrame(data=raw_data3['X'], columns=['X1', 'X2'])\n",
    "data3['y'] = raw_data3['y']\n",
    "\n",
    "data3val = pd.DataFrame(data=raw_data3['Xval'], columns=['X1val', 'X2val'])\n",
    "data3val['yval'] = raw_data3['yval']"
   ]
  },
  {
   "cell_type": "code",
   "execution_count": 156,
   "metadata": {},
   "outputs": [
    {
     "data": {
      "text/plain": [
       "(           X1        X2  y\n",
       " 0   -0.158986  0.423977  1\n",
       " 1   -0.347926  0.470760  1\n",
       " 2   -0.504608  0.353801  1\n",
       " 3   -0.596774  0.114035  1\n",
       " 4   -0.518433 -0.172515  1\n",
       " 5   -0.292627 -0.207602  1\n",
       " 6   -0.158986 -0.043860  1\n",
       " 7   -0.057604  0.143275  1\n",
       " 8   -0.071429  0.271930  1\n",
       " 9   -0.297235  0.347953  1\n",
       " 10  -0.417051  0.201754  1\n",
       " 11  -0.440092  0.008772  1\n",
       " 12  -0.324885 -0.032164  1\n",
       " 13  -0.246544  0.055556  1\n",
       " 14  -0.218894  0.201754  1\n",
       " 15  -0.343318  0.160819  1\n",
       " 16  -0.509217  0.078947  1\n",
       " 17  -0.384793 -0.090643  1\n",
       " 18  -0.149770  0.125731  1\n",
       " 19  -0.195853  0.324561  1\n",
       " 20  -0.039170 -0.219298  0\n",
       " 21  -0.108295 -0.301170  0\n",
       " 22  -0.186636 -0.330409  0\n",
       " 23  -0.218894 -0.423977  0\n",
       " 24  -0.080645 -0.564327  0\n",
       " 25   0.066820 -0.517544  0\n",
       " 26   0.094470 -0.324561  0\n",
       " 27   0.186636 -0.166667  0\n",
       " 28   0.062212 -0.073099  0\n",
       " 29   0.020737 -0.195906  0\n",
       " ..        ...       ... ..\n",
       " 181  0.118548  0.192690  0\n",
       " 182  0.110253  0.086257  0\n",
       " 183  0.108180 -0.069298  0\n",
       " 184  0.166244 -0.024269  0\n",
       " 185  0.141359  0.065790  0\n",
       " 186  0.143433  0.168129  0\n",
       " 187  0.170392  0.192690  0\n",
       " 188  0.108180  0.299123  0\n",
       " 189  0.118548  0.319591  0\n",
       " 190  0.126843  0.393275  0\n",
       " 191 -0.086751  0.421930  1\n",
       " 192 -0.047350  0.507895  1\n",
       " 193  0.025230  0.520175  1\n",
       " 194  0.062558  0.552924  1\n",
       " 195 -0.005876  0.442398  1\n",
       " 196 -0.051498  0.573392  1\n",
       " 197 -0.080530  0.507895  1\n",
       " 198 -0.153111  0.552924  1\n",
       " 199 -0.111636  0.548830  1\n",
       " 200 -0.163479  0.491520  1\n",
       " 201 -0.252650 -0.188012  1\n",
       " 202 -0.246429 -0.036550  1\n",
       " 203 -0.321083 -0.433626  1\n",
       " 204 -0.331452 -0.605556  0\n",
       " 205 -0.385369 -0.515497  1\n",
       " 206 -0.399885 -0.621930  1\n",
       " 207 -0.124078 -0.126608  1\n",
       " 208 -0.316935 -0.228947  1\n",
       " 209 -0.294124 -0.134795  0\n",
       " 210 -0.153111  0.184503  0\n",
       " \n",
       " [211 rows x 3 columns],         X1val     X2val  yval\n",
       " 0   -0.353062 -0.673902     0\n",
       " 1   -0.227126  0.447320     1\n",
       " 2    0.092898 -0.753524     0\n",
       " 3    0.148243 -0.718473     0\n",
       " 4   -0.001512  0.162928     0\n",
       " 5    0.045335  0.209826     0\n",
       " 6    0.144346 -0.687208     0\n",
       " 7   -0.138071  0.552417     1\n",
       " 8   -0.163860  0.111343     1\n",
       " 9   -0.195357  0.401146     1\n",
       " 10   0.186340  0.521862     1\n",
       " 11  -0.493403  0.060079     1\n",
       " 12  -0.091853 -0.121782     0\n",
       " 13  -0.104281 -0.545580     0\n",
       " 14  -0.208881  0.159802     1\n",
       " 15   0.242393 -0.444768     0\n",
       " 16   0.149863 -0.104829     0\n",
       " 17  -0.499494  0.016449     1\n",
       " 18   0.147087  0.176695     0\n",
       " 19  -0.202655 -0.184503     0\n",
       " 20   0.093352 -0.084817     0\n",
       " 21   0.113395  0.206270     0\n",
       " 22   0.251521 -0.249621     0\n",
       " 23  -0.071667  0.380278     1\n",
       " 24   0.180551 -0.498452     0\n",
       " 25  -0.181101 -0.754391     0\n",
       " 26   0.277854  0.248444     0\n",
       " 27  -0.013271 -0.487471     0\n",
       " 28  -0.015021  0.369673     1\n",
       " 29  -0.003087  0.215704     0\n",
       " ..        ...       ...   ...\n",
       " 170  0.257017 -0.523000     0\n",
       " 171  0.110033 -0.525418     0\n",
       " 172  0.258967 -0.458261     0\n",
       " 173  0.153831  0.107493     0\n",
       " 174 -0.147358  0.446659     1\n",
       " 175  0.147368 -0.414258     1\n",
       " 176 -0.038740 -0.489271     0\n",
       " 177  0.225519  0.277620     0\n",
       " 178  0.269508 -0.665651     0\n",
       " 179  0.124829  0.508144     1\n",
       " 180  0.171628 -0.424295     0\n",
       " 181  0.005052 -0.047609     0\n",
       " 182 -0.354588  0.371263     1\n",
       " 183 -0.477387 -0.686932     1\n",
       " 184 -0.241169  0.281617     1\n",
       " 185  0.093758 -0.772220     0\n",
       " 186 -0.299889 -0.674872     0\n",
       " 187 -0.162478  0.172094     1\n",
       " 188  0.196826 -0.145668     0\n",
       " 189 -0.348015 -0.259284     1\n",
       " 190  0.140358 -0.684289     0\n",
       " 191 -0.046349 -0.149154     0\n",
       " 192 -0.239295  0.562210     1\n",
       " 193 -0.457856  0.253740     1\n",
       " 194 -0.108193  0.597532     1\n",
       " 195  0.005203 -0.544449     1\n",
       " 196  0.176352 -0.572454     0\n",
       " 197  0.127651 -0.340938     0\n",
       " 198  0.248682 -0.497502     0\n",
       " 199 -0.316899 -0.429413     0\n",
       " \n",
       " [200 rows x 3 columns])"
      ]
     },
     "execution_count": 156,
     "metadata": {},
     "output_type": "execute_result"
    }
   ],
   "source": [
    "data3, data3val"
   ]
  },
  {
   "cell_type": "markdown",
   "metadata": {},
   "source": [
    "### Séparez les différentes données"
   ]
  },
  {
   "cell_type": "code",
   "execution_count": 224,
   "metadata": {
    "collapsed": true
   },
   "outputs": [],
   "source": [
    "X = np.array([data3['X1'],data3['X2']]).T\n",
    "y = np.array(data3['y'])\n",
    "Xval = np.array([data3val['X1val'],data3val['X2val']]).T\n",
    "yval = np.array(data3val['yval'])"
   ]
  },
  {
   "cell_type": "markdown",
   "metadata": {},
   "source": [
    "### Définissez des listes de valeurs de C et de sigma sur lesquelles vous allez itérer (0.01, 0.03, 0.1, 0.3.... 30)"
   ]
  },
  {
   "cell_type": "code",
   "execution_count": 225,
   "metadata": {
    "collapsed": true
   },
   "outputs": [],
   "source": [
    "C_values = (0.01, 0.03, 0.1, 0.3, 1., 3., 10., 30.)\n",
    "sigma_values = C_values"
   ]
  },
  {
   "cell_type": "markdown",
   "metadata": {},
   "source": [
    "### Testez systématiquement toutes les combinaisons possibles de C et sigma pour un classifieur donné et choisissez les meilleurs paramètres, et leur score associé."
   ]
  },
  {
   "cell_type": "markdown",
   "metadata": {},
   "source": [
    "Rappelez-vous, pour chaque paramétrage, ça se fait en deux étapes: d'abord on entraîne avec les données d'entraînement, puis on teste la performance avec les données de validation."
   ]
  },
  {
   "cell_type": "markdown",
   "metadata": {},
   "source": [
    "### Données d'entrainement"
   ]
  },
  {
   "cell_type": "code",
   "execution_count": 228,
   "metadata": {
    "collapsed": true
   },
   "outputs": [],
   "source": [
    "positive = data3.loc[data3['y'] == 1]\n",
    "negative = data3.loc[data3['y'] == 0]"
   ]
  },
  {
   "cell_type": "code",
   "execution_count": 229,
   "metadata": {},
   "outputs": [
    {
     "data": {
      "text/plain": [
       "<matplotlib.legend.Legend at 0x1a355c49e8>"
      ]
     },
     "execution_count": 229,
     "metadata": {},
     "output_type": "execute_result"
    },
    {
     "data": {
      "image/png": "[encoded data removed]",
      "text/plain": [
       "<matplotlib.figure.Figure at 0x1a357d35f8>"
      ]
     },
     "metadata": {},
     "output_type": "display_data"
    }
   ],
   "source": [
    "fig, ax = plt.subplots(figsize=(12,8))\n",
    "ax.scatter(positive['X1'], positive['X2'], s=30, marker='x', label='Positive')\n",
    "ax.scatter(negative['X1'], negative['X2'], s=30, marker='o', label='Negative')\n",
    "ax.legend()\n",
    "plt.title(\"Données d'entrainement\")"
   ]
  },
  {
   "cell_type": "markdown",
   "metadata": {},
   "source": [
    "### Données de validation"
   ]
  },
  {
   "cell_type": "code",
   "execution_count": 235,
   "metadata": {},
   "outputs": [
    {
     "data": {
      "text/plain": [
       "<matplotlib.legend.Legend at 0x1a22a75b00>"
      ]
     },
     "execution_count": 235,
     "metadata": {},
     "output_type": "execute_result"
    },
    {
     "data": {
      "image/png": "[encoded data removed]",
      "text/plain": [
       "<matplotlib.figure.Figure at 0x1a36020a20>"
      ]
     },
     "metadata": {},
     "output_type": "display_data"
    }
   ],
   "source": [
    "positive = data3val.loc[data3val['yval'] == 1]\n",
    "negative = data3val.loc[data3val['yval'] == 0]\n",
    "fig, ax = plt.subplots(figsize=(12,8))\n",
    "ax.scatter(positive['X1val'], positive['X2val'], s=30, marker='x', label='Positive')\n",
    "ax.scatter(negative['X1val'], negative['X2val'], s=30, marker='o', label='Negative')\n",
    "ax.legend()\n",
    "plt.title(\"Données de validation\")"
   ]
  },
  {
   "cell_type": "code",
   "execution_count": 238,
   "metadata": {},
   "outputs": [
    {
     "name": "stdout",
     "output_type": "stream",
     "text": [
      "Best C, sigma pair is (1.000000, 0.100000) with a score of 0.965000\n"
     ]
    }
   ],
   "source": [
    "best_pair, best_score = (0, 0), 0\n",
    "\n",
    "for C in C_values:\n",
    "    for sigma in sigma_values:\n",
    "        gamma = 1 / (2 * sigma**2.)\n",
    "        mdl3 = SVC(C=C, kernel='rbf', gamma=gamma)\n",
    "        mdl3.fit(X, y)\n",
    "        this_score = mdl3.score(Xval,yval)\n",
    "        if this_score > best_score:\n",
    "            best_score = this_score\n",
    "            best_pair = (C, sigma)\n",
    "            \n",
    "print (\"Best C, sigma pair is (%f, %f) with a score of %f\"%(best_pair[0],best_pair[1],best_score))"
   ]
  },
  {
   "cell_type": "code",
   "execution_count": 239,
   "metadata": {},
   "outputs": [
    {
     "data": {
      "text/plain": [
       "SVC(C=1.0, cache_size=200, class_weight=None, coef0=0.0,\n",
       "  decision_function_shape='ovr', degree=3, gamma=49.99999999999999,\n",
       "  kernel='rbf', max_iter=-1, probability=True, random_state=None,\n",
       "  shrinking=True, tol=0.001, verbose=False)"
      ]
     },
     "execution_count": 239,
     "metadata": {},
     "output_type": "execute_result"
    }
   ],
   "source": [
    "mdl4 = SVC(C=best_pair[0], kernel='rbf', gamma = 1 / (2 * best_pair[1]**2.), probability=True)\n",
    "mdl4.fit(X, y)"
   ]
  },
  {
   "cell_type": "code",
   "execution_count": 240,
   "metadata": {},
   "outputs": [
    {
     "data": {
      "text/plain": [
       "<matplotlib.collections.PathCollection at 0x1a22aef278>"
      ]
     },
     "execution_count": 240,
     "metadata": {},
     "output_type": "execute_result"
    },
    {
     "data": {
      "image/png": "[encoded data removed]",
      "text/plain": [
       "<matplotlib.figure.Figure at 0x1a22a5a7f0>"
      ]
     },
     "metadata": {},
     "output_type": "display_data"
    }
   ],
   "source": [
    "data3['Probability'] = mdl4.predict_proba(data3[['X1', 'X2']])[:,0]\n",
    "\n",
    "fig, ax = plt.subplots(figsize=(12,8))\n",
    "ax.scatter(data3['X1'], data3['X2'], s=30, c=data3['Probability'], cmap='Reds')\n",
    "plt.title(\"Données d'entrainement\")"
   ]
  },
  {
   "cell_type": "code",
   "execution_count": 248,
   "metadata": {},
   "outputs": [
    {
     "data": {
      "text/plain": [
       "Text(0.5,1,'Données de validation')"
      ]
     },
     "execution_count": 248,
     "metadata": {},
     "output_type": "execute_result"
    },
    {
     "data": {
      "image/png": "[encoded data removed]",
      "text/plain": [
       "<matplotlib.figure.Figure at 0x1a35f0e668>"
      ]
     },
     "metadata": {},
     "output_type": "display_data"
    }
   ],
   "source": [
    "fig, ax = plt.subplots(figsize=(12,8))\n",
    "ax.scatter(positive['X1val'], positive['X2val'], s=30, marker='x', label='Positive')\n",
    "ax.scatter(negative['X1val'], negative['X2val'], s=30, marker='o', label='Negative')\n",
    "ax.legend()\n",
    "\n",
    "h = 0.002\n",
    "x_min, x_max = -0.6, 0.5\n",
    "y_min, y_max = -0.9, 0.6\n",
    "xx, yy = np.meshgrid(np.arange(x_min, x_max, h),\n",
    "                     np.arange(y_min, y_max, h))\n",
    "Z = mdl4.predict(np.c_[xx.ravel(), yy.ravel()])\n",
    "Z = Z.reshape(xx.shape)\n",
    "plt.contour(xx, yy, Z, cmap=plt.cm.Paired)\n",
    "plt.title(\"Données de validation\")"
   ]
  }
 ],
 "metadata": {
  "kernelspec": {
   "display_name": "Python 3",
   "language": "python",
   "name": "python3"
  },
  "language_info": {
   "codemirror_mode": {
    "name": "ipython",
    "version": 3
   },
   "file_extension": ".py",
   "mimetype": "text/x-python",
   "name": "python",
   "nbconvert_exporter": "python",
   "pygments_lexer": "ipython3",
   "version": "3.6.3"
  }
 },
 "nbformat": 4,
 "nbformat_minor": 1
}
