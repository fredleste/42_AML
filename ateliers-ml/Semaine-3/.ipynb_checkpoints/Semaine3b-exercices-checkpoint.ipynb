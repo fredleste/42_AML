{
 "cells": [
  {
   "cell_type": "markdown",
   "metadata": {},
   "source": [
    "## Régression logistique 3b avec régularisation - Exercices tirés du MOOC d'Andrew Ng"
   ]
  },
  {
   "cell_type": "markdown",
   "metadata": {},
   "source": [
    "## Chargement des données"
   ]
  },
  {
   "cell_type": "markdown",
   "metadata": {},
   "source": [
    "### Charger les données du fichier ex2data2.csv"
   ]
  },
  {
   "cell_type": "code",
   "execution_count": 1,
   "metadata": {
    "collapsed": true
   },
   "outputs": [],
   "source": [
    "import numpy as np\n",
    "import pandas as pd\n",
    "import matplotlib.pyplot as plt"
   ]
  },
  {
   "cell_type": "code",
   "execution_count": 2,
   "metadata": {},
   "outputs": [
    {
     "data": {
      "text/html": [
       "<div>\n",
       "<style>\n",
       "    .dataframe thead tr:only-child th {\n",
       "        text-align: right;\n",
       "    }\n",
       "\n",
       "    .dataframe thead th {\n",
       "        text-align: left;\n",
       "    }\n",
       "\n",
       "    .dataframe tbody tr th {\n",
       "        vertical-align: top;\n",
       "    }\n",
       "</style>\n",
       "<table border=\"1\" class=\"dataframe\">\n",
       "  <thead>\n",
       "    <tr style=\"text-align: right;\">\n",
       "      <th></th>\n",
       "      <th>test1</th>\n",
       "      <th>test2</th>\n",
       "      <th>valid</th>\n",
       "    </tr>\n",
       "  </thead>\n",
       "  <tbody>\n",
       "    <tr>\n",
       "      <th>0</th>\n",
       "      <td>0.051267</td>\n",
       "      <td>0.699560</td>\n",
       "      <td>1</td>\n",
       "    </tr>\n",
       "    <tr>\n",
       "      <th>1</th>\n",
       "      <td>-0.092742</td>\n",
       "      <td>0.684940</td>\n",
       "      <td>1</td>\n",
       "    </tr>\n",
       "    <tr>\n",
       "      <th>2</th>\n",
       "      <td>-0.213710</td>\n",
       "      <td>0.692250</td>\n",
       "      <td>1</td>\n",
       "    </tr>\n",
       "    <tr>\n",
       "      <th>3</th>\n",
       "      <td>-0.375000</td>\n",
       "      <td>0.502190</td>\n",
       "      <td>1</td>\n",
       "    </tr>\n",
       "    <tr>\n",
       "      <th>4</th>\n",
       "      <td>-0.513250</td>\n",
       "      <td>0.465640</td>\n",
       "      <td>1</td>\n",
       "    </tr>\n",
       "    <tr>\n",
       "      <th>5</th>\n",
       "      <td>-0.524770</td>\n",
       "      <td>0.209800</td>\n",
       "      <td>1</td>\n",
       "    </tr>\n",
       "    <tr>\n",
       "      <th>6</th>\n",
       "      <td>-0.398040</td>\n",
       "      <td>0.034357</td>\n",
       "      <td>1</td>\n",
       "    </tr>\n",
       "    <tr>\n",
       "      <th>7</th>\n",
       "      <td>-0.305880</td>\n",
       "      <td>-0.192250</td>\n",
       "      <td>1</td>\n",
       "    </tr>\n",
       "    <tr>\n",
       "      <th>8</th>\n",
       "      <td>0.016705</td>\n",
       "      <td>-0.404240</td>\n",
       "      <td>1</td>\n",
       "    </tr>\n",
       "    <tr>\n",
       "      <th>9</th>\n",
       "      <td>0.131910</td>\n",
       "      <td>-0.513890</td>\n",
       "      <td>1</td>\n",
       "    </tr>\n",
       "  </tbody>\n",
       "</table>\n",
       "</div>"
      ],
      "text/plain": [
       "      test1     test2  valid\n",
       "0  0.051267  0.699560      1\n",
       "1 -0.092742  0.684940      1\n",
       "2 -0.213710  0.692250      1\n",
       "3 -0.375000  0.502190      1\n",
       "4 -0.513250  0.465640      1\n",
       "5 -0.524770  0.209800      1\n",
       "6 -0.398040  0.034357      1\n",
       "7 -0.305880 -0.192250      1\n",
       "8  0.016705 -0.404240      1\n",
       "9  0.131910 -0.513890      1"
      ]
     },
     "execution_count": 2,
     "metadata": {},
     "output_type": "execute_result"
    }
   ],
   "source": [
    "data = pd.read_csv(\"ex2data2.csv\")\n",
    "data.head(10)"
   ]
  },
  {
   "cell_type": "code",
   "execution_count": 3,
   "metadata": {},
   "outputs": [
    {
     "data": {
      "text/plain": [
       "(118, 3)"
      ]
     },
     "execution_count": 3,
     "metadata": {},
     "output_type": "execute_result"
    }
   ],
   "source": [
    "data.shape"
   ]
  },
  {
   "cell_type": "markdown",
   "metadata": {},
   "source": [
    "### Visualiser les données"
   ]
  },
  {
   "cell_type": "markdown",
   "metadata": {},
   "source": [
    "Vous pouvez vous amuser à reproduire ce graphe avec les librairies Python, mais ne perdez pas trop de temps là-dessus non plus, il y a beaucoup à faire après!"
   ]
  },
  {
   "cell_type": "code",
   "execution_count": 4,
   "metadata": {},
   "outputs": [
    {
     "data": {
      "text/plain": [
       "<matplotlib.legend.Legend at 0x11674b278>"
      ]
     },
     "execution_count": 4,
     "metadata": {},
     "output_type": "execute_result"
    },
    {
     "data": {
      "image/png": "[encoded data removed]",
      "text/plain": [
       "<matplotlib.figure.Figure at 0x1116f8710>"
      ]
     },
     "metadata": {},
     "output_type": "display_data"
    }
   ],
   "source": [
    "%matplotlib inline\n",
    "test1_score = data['test1'].as_matrix()\n",
    "test2_score = data['test2'].as_matrix()\n",
    "valid = data['valid'].as_matrix()\n",
    "not_valid = (valid == 0)\n",
    "plt.figure(figsize = (10, 7))\n",
    "plt.scatter(test1_score[np.nonzero(valid)], test2_score[np.nonzero(valid)], marker = '+', label= 'valid')\n",
    "plt.scatter(test1_score[np.nonzero(not_valid)], test2_score[np.nonzero(not_valid)], marker = 'o', label = 'not valid')\n",
    "plt.xlabel('test 1 score')\n",
    "plt.ylabel('test 2 score')\n",
    "plt.legend(loc = 1)"
   ]
  },
  {
   "cell_type": "markdown",
   "metadata": {},
   "source": [
    "### Découpez vos données en une matrice X et un vecteur y et transformerz-les en array numpy"
   ]
  },
  {
   "cell_type": "code",
   "execution_count": 8,
   "metadata": {
    "scrolled": false
   },
   "outputs": [
    {
     "data": {
      "text/plain": [
       "(array([[ 1.       ,  0.051267 ,  0.69956  ],\n",
       "        [ 1.       , -0.092742 ,  0.68494  ],\n",
       "        [ 1.       , -0.21371  ,  0.69225  ],\n",
       "        [ 1.       , -0.375    ,  0.50219  ],\n",
       "        [ 1.       , -0.51325  ,  0.46564  ],\n",
       "        [ 1.       , -0.52477  ,  0.2098   ],\n",
       "        [ 1.       , -0.39804  ,  0.034357 ],\n",
       "        [ 1.       , -0.30588  , -0.19225  ],\n",
       "        [ 1.       ,  0.016705 , -0.40424  ],\n",
       "        [ 1.       ,  0.13191  , -0.51389  ],\n",
       "        [ 1.       ,  0.38537  , -0.56506  ],\n",
       "        [ 1.       ,  0.52938  , -0.5212   ],\n",
       "        [ 1.       ,  0.63882  , -0.24342  ],\n",
       "        [ 1.       ,  0.73675  , -0.18494  ],\n",
       "        [ 1.       ,  0.54666  ,  0.48757  ],\n",
       "        [ 1.       ,  0.322    ,  0.5826   ],\n",
       "        [ 1.       ,  0.16647  ,  0.53874  ],\n",
       "        [ 1.       , -0.046659 ,  0.81652  ],\n",
       "        [ 1.       , -0.17339  ,  0.69956  ],\n",
       "        [ 1.       , -0.47869  ,  0.63377  ],\n",
       "        [ 1.       , -0.60541  ,  0.59722  ],\n",
       "        [ 1.       , -0.62846  ,  0.33406  ],\n",
       "        [ 1.       , -0.59389  ,  0.005117 ],\n",
       "        [ 1.       , -0.42108  , -0.27266  ],\n",
       "        [ 1.       , -0.11578  , -0.39693  ],\n",
       "        [ 1.       ,  0.20104  , -0.60161  ],\n",
       "        [ 1.       ,  0.46601  , -0.53582  ],\n",
       "        [ 1.       ,  0.67339  , -0.53582  ],\n",
       "        [ 1.       , -0.13882  ,  0.54605  ],\n",
       "        [ 1.       , -0.29435  ,  0.77997  ],\n",
       "        [ 1.       , -0.26555  ,  0.96272  ],\n",
       "        [ 1.       , -0.16187  ,  0.8019   ],\n",
       "        [ 1.       , -0.17339  ,  0.64839  ],\n",
       "        [ 1.       , -0.28283  ,  0.47295  ],\n",
       "        [ 1.       , -0.36348  ,  0.31213  ],\n",
       "        [ 1.       , -0.30012  ,  0.027047 ],\n",
       "        [ 1.       , -0.23675  , -0.21418  ],\n",
       "        [ 1.       , -0.06394  , -0.18494  ],\n",
       "        [ 1.       ,  0.062788 , -0.16301  ],\n",
       "        [ 1.       ,  0.22984  , -0.41155  ],\n",
       "        [ 1.       ,  0.2932   , -0.2288   ],\n",
       "        [ 1.       ,  0.48329  , -0.18494  ],\n",
       "        [ 1.       ,  0.64459  , -0.14108  ],\n",
       "        [ 1.       ,  0.46025  ,  0.012427 ],\n",
       "        [ 1.       ,  0.6273   ,  0.15863  ],\n",
       "        [ 1.       ,  0.57546  ,  0.26827  ],\n",
       "        [ 1.       ,  0.72523  ,  0.44371  ],\n",
       "        [ 1.       ,  0.22408  ,  0.52412  ],\n",
       "        [ 1.       ,  0.44297  ,  0.67032  ],\n",
       "        [ 1.       ,  0.322    ,  0.69225  ],\n",
       "        [ 1.       ,  0.13767  ,  0.57529  ],\n",
       "        [ 1.       , -0.0063364,  0.39985  ],\n",
       "        [ 1.       , -0.092742 ,  0.55336  ],\n",
       "        [ 1.       , -0.20795  ,  0.35599  ],\n",
       "        [ 1.       , -0.20795  ,  0.17325  ],\n",
       "        [ 1.       , -0.43836  ,  0.21711  ],\n",
       "        [ 1.       , -0.21947  , -0.016813 ],\n",
       "        [ 1.       , -0.13882  , -0.27266  ],\n",
       "        [ 1.       ,  0.18376  ,  0.93348  ],\n",
       "        [ 1.       ,  0.22408  ,  0.77997  ],\n",
       "        [ 1.       ,  0.29896  ,  0.61915  ],\n",
       "        [ 1.       ,  0.50634  ,  0.75804  ],\n",
       "        [ 1.       ,  0.61578  ,  0.7288   ],\n",
       "        [ 1.       ,  0.60426  ,  0.59722  ],\n",
       "        [ 1.       ,  0.76555  ,  0.50219  ],\n",
       "        [ 1.       ,  0.92684  ,  0.3633   ],\n",
       "        [ 1.       ,  0.82316  ,  0.27558  ],\n",
       "        [ 1.       ,  0.96141  ,  0.085526 ],\n",
       "        [ 1.       ,  0.93836  ,  0.012427 ],\n",
       "        [ 1.       ,  0.86348  , -0.082602 ],\n",
       "        [ 1.       ,  0.89804  , -0.20687  ],\n",
       "        [ 1.       ,  0.85196  , -0.36769  ],\n",
       "        [ 1.       ,  0.82892  , -0.5212   ],\n",
       "        [ 1.       ,  0.79435  , -0.55775  ],\n",
       "        [ 1.       ,  0.59274  , -0.7405   ],\n",
       "        [ 1.       ,  0.51786  , -0.5943   ],\n",
       "        [ 1.       ,  0.46601  , -0.41886  ],\n",
       "        [ 1.       ,  0.35081  , -0.57968  ],\n",
       "        [ 1.       ,  0.28744  , -0.76974  ],\n",
       "        [ 1.       ,  0.085829 , -0.75512  ],\n",
       "        [ 1.       ,  0.14919  , -0.57968  ],\n",
       "        [ 1.       , -0.13306  , -0.4481   ],\n",
       "        [ 1.       , -0.40956  , -0.41155  ],\n",
       "        [ 1.       , -0.39228  , -0.25804  ],\n",
       "        [ 1.       , -0.74366  , -0.25804  ],\n",
       "        [ 1.       , -0.69758  ,  0.041667 ],\n",
       "        [ 1.       , -0.75518  ,  0.2902   ],\n",
       "        [ 1.       , -0.69758  ,  0.68494  ],\n",
       "        [ 1.       , -0.4038   ,  0.70687  ],\n",
       "        [ 1.       , -0.38076  ,  0.91886  ],\n",
       "        [ 1.       , -0.50749  ,  0.90424  ],\n",
       "        [ 1.       , -0.54781  ,  0.70687  ],\n",
       "        [ 1.       ,  0.10311  ,  0.77997  ],\n",
       "        [ 1.       ,  0.057028 ,  0.91886  ],\n",
       "        [ 1.       , -0.10426  ,  0.99196  ],\n",
       "        [ 1.       , -0.081221 ,  1.1089   ],\n",
       "        [ 1.       ,  0.28744  ,  1.087    ],\n",
       "        [ 1.       ,  0.39689  ,  0.82383  ],\n",
       "        [ 1.       ,  0.63882  ,  0.88962  ],\n",
       "        [ 1.       ,  0.82316  ,  0.66301  ],\n",
       "        [ 1.       ,  0.67339  ,  0.64108  ],\n",
       "        [ 1.       ,  1.0709   ,  0.10015  ],\n",
       "        [ 1.       , -0.046659 , -0.57968  ],\n",
       "        [ 1.       , -0.23675  , -0.63816  ],\n",
       "        [ 1.       , -0.15035  , -0.36769  ],\n",
       "        [ 1.       , -0.49021  , -0.3019   ],\n",
       "        [ 1.       , -0.46717  , -0.13377  ],\n",
       "        [ 1.       , -0.28859  , -0.060673 ],\n",
       "        [ 1.       , -0.61118  , -0.067982 ],\n",
       "        [ 1.       , -0.66302  , -0.21418  ],\n",
       "        [ 1.       , -0.59965  , -0.41886  ],\n",
       "        [ 1.       , -0.72638  , -0.082602 ],\n",
       "        [ 1.       , -0.83007  ,  0.31213  ],\n",
       "        [ 1.       , -0.72062  ,  0.53874  ],\n",
       "        [ 1.       , -0.59389  ,  0.49488  ],\n",
       "        [ 1.       , -0.48445  ,  0.99927  ],\n",
       "        [ 1.       , -0.0063364,  0.99927  ],\n",
       "        [ 1.       ,  0.63265  , -0.030612 ]]),\n",
       " array([1, 1, 1, 1, 1, 1, 1, 1, 1, 1, 1, 1, 1, 1, 1, 1, 1, 1, 1, 1, 1, 1, 1,\n",
       "        1, 1, 1, 1, 1, 1, 1, 1, 1, 1, 1, 1, 1, 1, 1, 1, 1, 1, 1, 1, 1, 1, 1,\n",
       "        1, 1, 1, 1, 1, 1, 1, 1, 1, 1, 1, 1, 0, 0, 0, 0, 0, 0, 0, 0, 0, 0, 0,\n",
       "        0, 0, 0, 0, 0, 0, 0, 0, 0, 0, 0, 0, 0, 0, 0, 0, 0, 0, 0, 0, 0, 0, 0,\n",
       "        0, 0, 0, 0, 0, 0, 0, 0, 0, 0, 0, 0, 0, 0, 0, 0, 0, 0, 0, 0, 0, 0, 0,\n",
       "        0, 0, 0]))"
      ]
     },
     "execution_count": 8,
     "metadata": {},
     "output_type": "execute_result"
    }
   ],
   "source": [
    "X = np.array([np.ones(data.shape[0]), data['test1'], data['test2']]).T\n",
    "y = np.array(data['valid'])"
   ]
  },
  {
   "cell_type": "markdown",
   "metadata": {},
   "source": [
    "Vérifiez bien les dimensions de vos structures de données (X.shape)  \n",
    "La matrice X doit-elle être de dimensions m x n ou bien m x (n+1) ? Quelle est la valeur de n?"
   ]
  },
  {
   "cell_type": "code",
   "execution_count": 5,
   "metadata": {},
   "outputs": [
    {
     "ename": "NameError",
     "evalue": "name 'X' is not defined",
     "output_type": "error",
     "traceback": [
      "\u001b[0;31m---------------------------------------------------------------------------\u001b[0m",
      "\u001b[0;31mNameError\u001b[0m                                 Traceback (most recent call last)",
      "\u001b[0;32m<ipython-input-5-ab0183b67471>\u001b[0m in \u001b[0;36m<module>\u001b[0;34m()\u001b[0m\n\u001b[0;32m----> 1\u001b[0;31m \u001b[0mX\u001b[0m\u001b[0;34m.\u001b[0m\u001b[0mshape\u001b[0m\u001b[0;34m,\u001b[0m \u001b[0my\u001b[0m\u001b[0;34m.\u001b[0m\u001b[0mshape\u001b[0m\u001b[0;34m\u001b[0m\u001b[0m\n\u001b[0m",
      "\u001b[0;31mNameError\u001b[0m: name 'X' is not defined"
     ]
    }
   ],
   "source": [
    "X.shape, y.shape"
   ]
  },
  {
   "cell_type": "markdown",
   "metadata": {},
   "source": [
    "### Autre méthode pour construire les matrices avec un fichier txt"
   ]
  },
  {
   "cell_type": "code",
   "execution_count": 6,
   "metadata": {},
   "outputs": [
    {
     "data": {
      "text/plain": [
       "(array([[ 0.051267 ,  0.69956  ,  1.       ],\n",
       "        [-0.092742 ,  0.68494  ,  1.       ],\n",
       "        [-0.21371  ,  0.69225  ,  1.       ],\n",
       "        [-0.375    ,  0.50219  ,  1.       ],\n",
       "        [-0.51325  ,  0.46564  ,  1.       ],\n",
       "        [-0.52477  ,  0.2098   ,  1.       ],\n",
       "        [-0.39804  ,  0.034357 ,  1.       ],\n",
       "        [-0.30588  , -0.19225  ,  1.       ],\n",
       "        [ 0.016705 , -0.40424  ,  1.       ],\n",
       "        [ 0.13191  , -0.51389  ,  1.       ],\n",
       "        [ 0.38537  , -0.56506  ,  1.       ],\n",
       "        [ 0.52938  , -0.5212   ,  1.       ],\n",
       "        [ 0.63882  , -0.24342  ,  1.       ],\n",
       "        [ 0.73675  , -0.18494  ,  1.       ],\n",
       "        [ 0.54666  ,  0.48757  ,  1.       ],\n",
       "        [ 0.322    ,  0.5826   ,  1.       ],\n",
       "        [ 0.16647  ,  0.53874  ,  1.       ],\n",
       "        [-0.046659 ,  0.81652  ,  1.       ],\n",
       "        [-0.17339  ,  0.69956  ,  1.       ],\n",
       "        [-0.47869  ,  0.63377  ,  1.       ],\n",
       "        [-0.60541  ,  0.59722  ,  1.       ],\n",
       "        [-0.62846  ,  0.33406  ,  1.       ],\n",
       "        [-0.59389  ,  0.005117 ,  1.       ],\n",
       "        [-0.42108  , -0.27266  ,  1.       ],\n",
       "        [-0.11578  , -0.39693  ,  1.       ],\n",
       "        [ 0.20104  , -0.60161  ,  1.       ],\n",
       "        [ 0.46601  , -0.53582  ,  1.       ],\n",
       "        [ 0.67339  , -0.53582  ,  1.       ],\n",
       "        [-0.13882  ,  0.54605  ,  1.       ],\n",
       "        [-0.29435  ,  0.77997  ,  1.       ],\n",
       "        [-0.26555  ,  0.96272  ,  1.       ],\n",
       "        [-0.16187  ,  0.8019   ,  1.       ],\n",
       "        [-0.17339  ,  0.64839  ,  1.       ],\n",
       "        [-0.28283  ,  0.47295  ,  1.       ],\n",
       "        [-0.36348  ,  0.31213  ,  1.       ],\n",
       "        [-0.30012  ,  0.027047 ,  1.       ],\n",
       "        [-0.23675  , -0.21418  ,  1.       ],\n",
       "        [-0.06394  , -0.18494  ,  1.       ],\n",
       "        [ 0.062788 , -0.16301  ,  1.       ],\n",
       "        [ 0.22984  , -0.41155  ,  1.       ],\n",
       "        [ 0.2932   , -0.2288   ,  1.       ],\n",
       "        [ 0.48329  , -0.18494  ,  1.       ],\n",
       "        [ 0.64459  , -0.14108  ,  1.       ],\n",
       "        [ 0.46025  ,  0.012427 ,  1.       ],\n",
       "        [ 0.6273   ,  0.15863  ,  1.       ],\n",
       "        [ 0.57546  ,  0.26827  ,  1.       ],\n",
       "        [ 0.72523  ,  0.44371  ,  1.       ],\n",
       "        [ 0.22408  ,  0.52412  ,  1.       ],\n",
       "        [ 0.44297  ,  0.67032  ,  1.       ],\n",
       "        [ 0.322    ,  0.69225  ,  1.       ],\n",
       "        [ 0.13767  ,  0.57529  ,  1.       ],\n",
       "        [-0.0063364,  0.39985  ,  1.       ],\n",
       "        [-0.092742 ,  0.55336  ,  1.       ],\n",
       "        [-0.20795  ,  0.35599  ,  1.       ],\n",
       "        [-0.20795  ,  0.17325  ,  1.       ],\n",
       "        [-0.43836  ,  0.21711  ,  1.       ],\n",
       "        [-0.21947  , -0.016813 ,  1.       ],\n",
       "        [-0.13882  , -0.27266  ,  1.       ],\n",
       "        [ 0.18376  ,  0.93348  ,  0.       ],\n",
       "        [ 0.22408  ,  0.77997  ,  0.       ],\n",
       "        [ 0.29896  ,  0.61915  ,  0.       ],\n",
       "        [ 0.50634  ,  0.75804  ,  0.       ],\n",
       "        [ 0.61578  ,  0.7288   ,  0.       ],\n",
       "        [ 0.60426  ,  0.59722  ,  0.       ],\n",
       "        [ 0.76555  ,  0.50219  ,  0.       ],\n",
       "        [ 0.92684  ,  0.3633   ,  0.       ],\n",
       "        [ 0.82316  ,  0.27558  ,  0.       ],\n",
       "        [ 0.96141  ,  0.085526 ,  0.       ],\n",
       "        [ 0.93836  ,  0.012427 ,  0.       ],\n",
       "        [ 0.86348  , -0.082602 ,  0.       ],\n",
       "        [ 0.89804  , -0.20687  ,  0.       ],\n",
       "        [ 0.85196  , -0.36769  ,  0.       ],\n",
       "        [ 0.82892  , -0.5212   ,  0.       ],\n",
       "        [ 0.79435  , -0.55775  ,  0.       ],\n",
       "        [ 0.59274  , -0.7405   ,  0.       ],\n",
       "        [ 0.51786  , -0.5943   ,  0.       ],\n",
       "        [ 0.46601  , -0.41886  ,  0.       ],\n",
       "        [ 0.35081  , -0.57968  ,  0.       ],\n",
       "        [ 0.28744  , -0.76974  ,  0.       ],\n",
       "        [ 0.085829 , -0.75512  ,  0.       ],\n",
       "        [ 0.14919  , -0.57968  ,  0.       ],\n",
       "        [-0.13306  , -0.4481   ,  0.       ],\n",
       "        [-0.40956  , -0.41155  ,  0.       ],\n",
       "        [-0.39228  , -0.25804  ,  0.       ],\n",
       "        [-0.74366  , -0.25804  ,  0.       ],\n",
       "        [-0.69758  ,  0.041667 ,  0.       ],\n",
       "        [-0.75518  ,  0.2902   ,  0.       ],\n",
       "        [-0.69758  ,  0.68494  ,  0.       ],\n",
       "        [-0.4038   ,  0.70687  ,  0.       ],\n",
       "        [-0.38076  ,  0.91886  ,  0.       ],\n",
       "        [-0.50749  ,  0.90424  ,  0.       ],\n",
       "        [-0.54781  ,  0.70687  ,  0.       ],\n",
       "        [ 0.10311  ,  0.77997  ,  0.       ],\n",
       "        [ 0.057028 ,  0.91886  ,  0.       ],\n",
       "        [-0.10426  ,  0.99196  ,  0.       ],\n",
       "        [-0.081221 ,  1.1089   ,  0.       ],\n",
       "        [ 0.28744  ,  1.087    ,  0.       ],\n",
       "        [ 0.39689  ,  0.82383  ,  0.       ],\n",
       "        [ 0.63882  ,  0.88962  ,  0.       ],\n",
       "        [ 0.82316  ,  0.66301  ,  0.       ],\n",
       "        [ 0.67339  ,  0.64108  ,  0.       ],\n",
       "        [ 1.0709   ,  0.10015  ,  0.       ],\n",
       "        [-0.046659 , -0.57968  ,  0.       ],\n",
       "        [-0.23675  , -0.63816  ,  0.       ],\n",
       "        [-0.15035  , -0.36769  ,  0.       ],\n",
       "        [-0.49021  , -0.3019   ,  0.       ],\n",
       "        [-0.46717  , -0.13377  ,  0.       ],\n",
       "        [-0.28859  , -0.060673 ,  0.       ],\n",
       "        [-0.61118  , -0.067982 ,  0.       ],\n",
       "        [-0.66302  , -0.21418  ,  0.       ],\n",
       "        [-0.59965  , -0.41886  ,  0.       ],\n",
       "        [-0.72638  , -0.082602 ,  0.       ],\n",
       "        [-0.83007  ,  0.31213  ,  0.       ],\n",
       "        [-0.72062  ,  0.53874  ,  0.       ],\n",
       "        [-0.59389  ,  0.49488  ,  0.       ],\n",
       "        [-0.48445  ,  0.99927  ,  0.       ],\n",
       "        [-0.0063364,  0.99927  ,  0.       ],\n",
       "        [ 0.63265  , -0.030612 ,  0.       ]]),\n",
       " array([[ 0.051267 ,  0.69956  ],\n",
       "        [-0.092742 ,  0.68494  ],\n",
       "        [-0.21371  ,  0.69225  ],\n",
       "        [-0.375    ,  0.50219  ],\n",
       "        [-0.51325  ,  0.46564  ],\n",
       "        [-0.52477  ,  0.2098   ],\n",
       "        [-0.39804  ,  0.034357 ],\n",
       "        [-0.30588  , -0.19225  ],\n",
       "        [ 0.016705 , -0.40424  ],\n",
       "        [ 0.13191  , -0.51389  ],\n",
       "        [ 0.38537  , -0.56506  ],\n",
       "        [ 0.52938  , -0.5212   ],\n",
       "        [ 0.63882  , -0.24342  ],\n",
       "        [ 0.73675  , -0.18494  ],\n",
       "        [ 0.54666  ,  0.48757  ],\n",
       "        [ 0.322    ,  0.5826   ],\n",
       "        [ 0.16647  ,  0.53874  ],\n",
       "        [-0.046659 ,  0.81652  ],\n",
       "        [-0.17339  ,  0.69956  ],\n",
       "        [-0.47869  ,  0.63377  ],\n",
       "        [-0.60541  ,  0.59722  ],\n",
       "        [-0.62846  ,  0.33406  ],\n",
       "        [-0.59389  ,  0.005117 ],\n",
       "        [-0.42108  , -0.27266  ],\n",
       "        [-0.11578  , -0.39693  ],\n",
       "        [ 0.20104  , -0.60161  ],\n",
       "        [ 0.46601  , -0.53582  ],\n",
       "        [ 0.67339  , -0.53582  ],\n",
       "        [-0.13882  ,  0.54605  ],\n",
       "        [-0.29435  ,  0.77997  ],\n",
       "        [-0.26555  ,  0.96272  ],\n",
       "        [-0.16187  ,  0.8019   ],\n",
       "        [-0.17339  ,  0.64839  ],\n",
       "        [-0.28283  ,  0.47295  ],\n",
       "        [-0.36348  ,  0.31213  ],\n",
       "        [-0.30012  ,  0.027047 ],\n",
       "        [-0.23675  , -0.21418  ],\n",
       "        [-0.06394  , -0.18494  ],\n",
       "        [ 0.062788 , -0.16301  ],\n",
       "        [ 0.22984  , -0.41155  ],\n",
       "        [ 0.2932   , -0.2288   ],\n",
       "        [ 0.48329  , -0.18494  ],\n",
       "        [ 0.64459  , -0.14108  ],\n",
       "        [ 0.46025  ,  0.012427 ],\n",
       "        [ 0.6273   ,  0.15863  ],\n",
       "        [ 0.57546  ,  0.26827  ],\n",
       "        [ 0.72523  ,  0.44371  ],\n",
       "        [ 0.22408  ,  0.52412  ],\n",
       "        [ 0.44297  ,  0.67032  ],\n",
       "        [ 0.322    ,  0.69225  ],\n",
       "        [ 0.13767  ,  0.57529  ],\n",
       "        [-0.0063364,  0.39985  ],\n",
       "        [-0.092742 ,  0.55336  ],\n",
       "        [-0.20795  ,  0.35599  ],\n",
       "        [-0.20795  ,  0.17325  ],\n",
       "        [-0.43836  ,  0.21711  ],\n",
       "        [-0.21947  , -0.016813 ],\n",
       "        [-0.13882  , -0.27266  ],\n",
       "        [ 0.18376  ,  0.93348  ],\n",
       "        [ 0.22408  ,  0.77997  ],\n",
       "        [ 0.29896  ,  0.61915  ],\n",
       "        [ 0.50634  ,  0.75804  ],\n",
       "        [ 0.61578  ,  0.7288   ],\n",
       "        [ 0.60426  ,  0.59722  ],\n",
       "        [ 0.76555  ,  0.50219  ],\n",
       "        [ 0.92684  ,  0.3633   ],\n",
       "        [ 0.82316  ,  0.27558  ],\n",
       "        [ 0.96141  ,  0.085526 ],\n",
       "        [ 0.93836  ,  0.012427 ],\n",
       "        [ 0.86348  , -0.082602 ],\n",
       "        [ 0.89804  , -0.20687  ],\n",
       "        [ 0.85196  , -0.36769  ],\n",
       "        [ 0.82892  , -0.5212   ],\n",
       "        [ 0.79435  , -0.55775  ],\n",
       "        [ 0.59274  , -0.7405   ],\n",
       "        [ 0.51786  , -0.5943   ],\n",
       "        [ 0.46601  , -0.41886  ],\n",
       "        [ 0.35081  , -0.57968  ],\n",
       "        [ 0.28744  , -0.76974  ],\n",
       "        [ 0.085829 , -0.75512  ],\n",
       "        [ 0.14919  , -0.57968  ],\n",
       "        [-0.13306  , -0.4481   ],\n",
       "        [-0.40956  , -0.41155  ],\n",
       "        [-0.39228  , -0.25804  ],\n",
       "        [-0.74366  , -0.25804  ],\n",
       "        [-0.69758  ,  0.041667 ],\n",
       "        [-0.75518  ,  0.2902   ],\n",
       "        [-0.69758  ,  0.68494  ],\n",
       "        [-0.4038   ,  0.70687  ],\n",
       "        [-0.38076  ,  0.91886  ],\n",
       "        [-0.50749  ,  0.90424  ],\n",
       "        [-0.54781  ,  0.70687  ],\n",
       "        [ 0.10311  ,  0.77997  ],\n",
       "        [ 0.057028 ,  0.91886  ],\n",
       "        [-0.10426  ,  0.99196  ],\n",
       "        [-0.081221 ,  1.1089   ],\n",
       "        [ 0.28744  ,  1.087    ],\n",
       "        [ 0.39689  ,  0.82383  ],\n",
       "        [ 0.63882  ,  0.88962  ],\n",
       "        [ 0.82316  ,  0.66301  ],\n",
       "        [ 0.67339  ,  0.64108  ],\n",
       "        [ 1.0709   ,  0.10015  ],\n",
       "        [-0.046659 , -0.57968  ],\n",
       "        [-0.23675  , -0.63816  ],\n",
       "        [-0.15035  , -0.36769  ],\n",
       "        [-0.49021  , -0.3019   ],\n",
       "        [-0.46717  , -0.13377  ],\n",
       "        [-0.28859  , -0.060673 ],\n",
       "        [-0.61118  , -0.067982 ],\n",
       "        [-0.66302  , -0.21418  ],\n",
       "        [-0.59965  , -0.41886  ],\n",
       "        [-0.72638  , -0.082602 ],\n",
       "        [-0.83007  ,  0.31213  ],\n",
       "        [-0.72062  ,  0.53874  ],\n",
       "        [-0.59389  ,  0.49488  ],\n",
       "        [-0.48445  ,  0.99927  ],\n",
       "        [-0.0063364,  0.99927  ],\n",
       "        [ 0.63265  , -0.030612 ]]),\n",
       " array([ 1.,  1.,  1.,  1.,  1.,  1.,  1.,  1.,  1.,  1.,  1.,  1.,  1.,\n",
       "         1.,  1.,  1.,  1.,  1.,  1.,  1.,  1.,  1.,  1.,  1.,  1.,  1.,\n",
       "         1.,  1.,  1.,  1.,  1.,  1.,  1.,  1.,  1.,  1.,  1.,  1.,  1.,\n",
       "         1.,  1.,  1.,  1.,  1.,  1.,  1.,  1.,  1.,  1.,  1.,  1.,  1.,\n",
       "         1.,  1.,  1.,  1.,  1.,  1.,  0.,  0.,  0.,  0.,  0.,  0.,  0.,\n",
       "         0.,  0.,  0.,  0.,  0.,  0.,  0.,  0.,  0.,  0.,  0.,  0.,  0.,\n",
       "         0.,  0.,  0.,  0.,  0.,  0.,  0.,  0.,  0.,  0.,  0.,  0.,  0.,\n",
       "         0.,  0.,  0.,  0.,  0.,  0.,  0.,  0.,  0.,  0.,  0.,  0.,  0.,\n",
       "         0.,  0.,  0.,  0.,  0.,  0.,  0.,  0.,  0.,  0.,  0.,  0.,  0.,  0.]))"
      ]
     },
     "execution_count": 6,
     "metadata": {},
     "output_type": "execute_result"
    }
   ],
   "source": [
    "data = np.loadtxt('ex2data2.txt', delimiter=',')\n",
    "A = data[:, 0:2]\n",
    "b = data[:, 2]\n",
    "data, A, b"
   ]
  },
  {
   "cell_type": "code",
   "execution_count": 7,
   "metadata": {},
   "outputs": [
    {
     "data": {
      "text/plain": [
       "((118, 3), (118, 2), (118,))"
      ]
     },
     "execution_count": 7,
     "metadata": {},
     "output_type": "execute_result"
    }
   ],
   "source": [
    "data.shape, A.shape, b.shape"
   ]
  },
  {
   "cell_type": "markdown",
   "metadata": {},
   "source": [
    "### \"Feature mapping\" - formule polynomiale du 6e degré pour calculer 28 features à partir de (test1, test 2)"
   ]
  },
  {
   "cell_type": "code",
   "execution_count": 14,
   "metadata": {
    "collapsed": true
   },
   "outputs": [],
   "source": [
    "def featmap(f1, f2):\n",
    "#    f1.shape = (f1.size, 1)\n",
    "#    f2.shape = (f2.size, 1)\n",
    "    degree = 6\n",
    "    res = np.ones(shape=(f1[:, 0].size, 1))\n",
    "#    m, n = res.shape\n",
    "    for i in range(1, degree + 1):\n",
    "        for j in range(i + 1):\n",
    "            r = (f1 ** (i - j)) * (f2 ** j)\n",
    "            res = np.append(res, r, axis=1)\n",
    "    return res"
   ]
  },
  {
   "cell_type": "code",
   "execution_count": 20,
   "metadata": {},
   "outputs": [
    {
     "data": {
      "text/plain": [
       "array([ 1.,  1.,  1.,  1.,  1.,  1.,  1.,  1.,  1.,  1.,  1.,  1.,  1.,\n",
       "        1.,  1.,  1.,  1.,  1.,  1.,  1.,  1.,  1.,  1.,  1.,  1.,  1.,\n",
       "        1.,  1.,  1.,  1.,  1.,  1.,  1.,  1.,  1.,  1.,  1.,  1.,  1.,\n",
       "        1.,  1.,  1.,  1.,  1.,  1.,  1.,  1.,  1.,  1.,  1.,  1.,  1.,\n",
       "        1.,  1.,  1.,  1.,  1.,  1.,  1.,  1.,  1.,  1.,  1.,  1.,  1.,\n",
       "        1.,  1.,  1.,  1.,  1.,  1.,  1.,  1.,  1.,  1.,  1.,  1.,  1.,\n",
       "        1.,  1.,  1.,  1.,  1.,  1.,  1.,  1.,  1.,  1.,  1.,  1.,  1.,\n",
       "        1.,  1.,  1.,  1.,  1.,  1.,  1.,  1.,  1.,  1.,  1.,  1.,  1.,\n",
       "        1.,  1.,  1.,  1.,  1.,  1.,  1.,  1.,  1.,  1.,  1.,  1.,  1.,  1.])"
      ]
     },
     "execution_count": 20,
     "metadata": {},
     "output_type": "execute_result"
    }
   ],
   "source": [
    "f1 = A[:, 0]\n",
    "f2 = A[:, 1]\n",
    "res = np.ones(f1.shape[0])\n",
    "res"
   ]
  },
  {
   "cell_type": "code",
   "execution_count": 15,
   "metadata": {},
   "outputs": [
    {
     "ename": "ValueError",
     "evalue": "all the input arrays must have same number of dimensions",
     "output_type": "error",
     "traceback": [
      "\u001b[0;31m---------------------------------------------------------------------------\u001b[0m",
      "\u001b[0;31mValueError\u001b[0m                                Traceback (most recent call last)",
      "\u001b[0;32m<ipython-input-15-382709820988>\u001b[0m in \u001b[0;36m<module>\u001b[0;34m()\u001b[0m\n\u001b[0;32m----> 1\u001b[0;31m \u001b[0mM\u001b[0m \u001b[0;34m=\u001b[0m \u001b[0mfeatmap\u001b[0m\u001b[0;34m(\u001b[0m\u001b[0mA\u001b[0m\u001b[0;34m[\u001b[0m\u001b[0;34m:\u001b[0m\u001b[0;34m,\u001b[0m \u001b[0;36m0\u001b[0m\u001b[0;34m]\u001b[0m\u001b[0;34m,\u001b[0m \u001b[0mA\u001b[0m\u001b[0;34m[\u001b[0m\u001b[0;34m:\u001b[0m\u001b[0;34m,\u001b[0m \u001b[0;36m1\u001b[0m\u001b[0;34m]\u001b[0m\u001b[0;34m)\u001b[0m\u001b[0;34m\u001b[0m\u001b[0m\n\u001b[0m\u001b[1;32m      2\u001b[0m \u001b[0mM\u001b[0m\u001b[0;34m\u001b[0m\u001b[0m\n",
      "\u001b[0;32m<ipython-input-14-d4facc77b8bf>\u001b[0m in \u001b[0;36mfeatmap\u001b[0;34m(f1, f2)\u001b[0m\n\u001b[1;32m      8\u001b[0m         \u001b[0;32mfor\u001b[0m \u001b[0mj\u001b[0m \u001b[0;32min\u001b[0m \u001b[0mrange\u001b[0m\u001b[0;34m(\u001b[0m\u001b[0mi\u001b[0m \u001b[0;34m+\u001b[0m \u001b[0;36m1\u001b[0m\u001b[0;34m)\u001b[0m\u001b[0;34m:\u001b[0m\u001b[0;34m\u001b[0m\u001b[0m\n\u001b[1;32m      9\u001b[0m             \u001b[0mr\u001b[0m \u001b[0;34m=\u001b[0m \u001b[0;34m(\u001b[0m\u001b[0mf1\u001b[0m \u001b[0;34m**\u001b[0m \u001b[0;34m(\u001b[0m\u001b[0mi\u001b[0m \u001b[0;34m-\u001b[0m \u001b[0mj\u001b[0m\u001b[0;34m)\u001b[0m\u001b[0;34m)\u001b[0m \u001b[0;34m*\u001b[0m \u001b[0;34m(\u001b[0m\u001b[0mf2\u001b[0m \u001b[0;34m**\u001b[0m \u001b[0mj\u001b[0m\u001b[0;34m)\u001b[0m\u001b[0;34m\u001b[0m\u001b[0m\n\u001b[0;32m---> 10\u001b[0;31m             \u001b[0mres\u001b[0m \u001b[0;34m=\u001b[0m \u001b[0mnp\u001b[0m\u001b[0;34m.\u001b[0m\u001b[0mappend\u001b[0m\u001b[0;34m(\u001b[0m\u001b[0mres\u001b[0m\u001b[0;34m,\u001b[0m \u001b[0mr\u001b[0m\u001b[0;34m,\u001b[0m \u001b[0maxis\u001b[0m\u001b[0;34m=\u001b[0m\u001b[0;36m1\u001b[0m\u001b[0;34m)\u001b[0m\u001b[0;34m\u001b[0m\u001b[0m\n\u001b[0m\u001b[1;32m     11\u001b[0m     \u001b[0;32mreturn\u001b[0m \u001b[0mres\u001b[0m\u001b[0;34m\u001b[0m\u001b[0m\n",
      "\u001b[0;32m/sgoinfre/goinfre/Perso/fleste-l/anaconda3/lib/python3.6/site-packages/numpy/lib/function_base.py\u001b[0m in \u001b[0;36mappend\u001b[0;34m(arr, values, axis)\u001b[0m\n\u001b[1;32m   5150\u001b[0m         \u001b[0mvalues\u001b[0m \u001b[0;34m=\u001b[0m \u001b[0mravel\u001b[0m\u001b[0;34m(\u001b[0m\u001b[0mvalues\u001b[0m\u001b[0;34m)\u001b[0m\u001b[0;34m\u001b[0m\u001b[0m\n\u001b[1;32m   5151\u001b[0m         \u001b[0maxis\u001b[0m \u001b[0;34m=\u001b[0m \u001b[0marr\u001b[0m\u001b[0;34m.\u001b[0m\u001b[0mndim\u001b[0m\u001b[0;34m-\u001b[0m\u001b[0;36m1\u001b[0m\u001b[0;34m\u001b[0m\u001b[0m\n\u001b[0;32m-> 5152\u001b[0;31m     \u001b[0;32mreturn\u001b[0m \u001b[0mconcatenate\u001b[0m\u001b[0;34m(\u001b[0m\u001b[0;34m(\u001b[0m\u001b[0marr\u001b[0m\u001b[0;34m,\u001b[0m \u001b[0mvalues\u001b[0m\u001b[0;34m)\u001b[0m\u001b[0;34m,\u001b[0m \u001b[0maxis\u001b[0m\u001b[0;34m=\u001b[0m\u001b[0maxis\u001b[0m\u001b[0;34m)\u001b[0m\u001b[0;34m\u001b[0m\u001b[0m\n\u001b[0m",
      "\u001b[0;31mValueError\u001b[0m: all the input arrays must have same number of dimensions"
     ]
    }
   ],
   "source": [
    "M = featmap(A[:, 0], A[:, 1])\n",
    "M"
   ]
  },
  {
   "cell_type": "code",
   "execution_count": 79,
   "metadata": {},
   "outputs": [
    {
     "data": {
      "text/plain": [
       "(118, 28)"
      ]
     },
     "execution_count": 79,
     "metadata": {},
     "output_type": "execute_result"
    }
   ],
   "source": [
    "M.shape"
   ]
  },
  {
   "cell_type": "markdown",
   "metadata": {},
   "source": [
    "### Initialisez theta en un vecteur de zéros"
   ]
  },
  {
   "cell_type": "markdown",
   "metadata": {},
   "source": [
    "Combien de zéros vous faudra-t-il....?"
   ]
  },
  {
   "cell_type": "code",
   "execution_count": 10,
   "metadata": {},
   "outputs": [
    {
     "data": {
      "text/plain": [
       "array([ 0.,  0.,  0.])"
      ]
     },
     "execution_count": 10,
     "metadata": {},
     "output_type": "execute_result"
    }
   ],
   "source": [
    "theta = np.zeros(3)\n",
    "theta"
   ]
  },
  {
   "cell_type": "markdown",
   "metadata": {},
   "source": [
    "## Formulation de l'hypothèse"
   ]
  },
  {
   "cell_type": "markdown",
   "metadata": {},
   "source": [
    "Revoyez l'équation de l'hypothèse de la régression logistique. Le produit de theta et de X est enveloppé dans une fonction g(z) qui correspond à la fonction sigmoïde. Nous allons commencer par coder cette fonction."
   ]
  },
  {
   "cell_type": "markdown",
   "metadata": {},
   "source": [
    "### Écrivez une fonction _sigmoid_ qui applique la sigmoïde à son argument et retourne le résultat. Si elle reçoit une matrice ou un vecteur en input, elle doit s'appliquer sur chaque élément individuellement et retourner une structure de mêmes dimensions"
   ]
  },
  {
   "cell_type": "code",
   "execution_count": 19,
   "metadata": {
    "collapsed": true
   },
   "outputs": [],
   "source": [
    "def sigmoid(z):\n",
    "    return 1 / (1 + np.exp(-z))"
   ]
  },
  {
   "cell_type": "markdown",
   "metadata": {},
   "source": [
    "Vérifiez votre fonction. Quelle valeur renvoie une sigmoïde si z=0? Si z est grand? Si z est petit?  \n",
    "Il est possible que vous ayez un lorsque la fonction exponentielle reçoit des valeurs trop grandes. Dans ce cas vous pourrez éventuellement remplacer votre fonction sigmoïde par celle de scipy pour éviter des problèmes dans le reste de votre implémentation."
   ]
  },
  {
   "cell_type": "markdown",
   "metadata": {},
   "source": [
    "### Écrivez une fonction _predict_, qui correspond à l'hypohèse hθ(x), qui prend en paramètres X et theta, les multiplie (attention à l'ordre!), applique la fonction sigmoide, et se débrouille pour que le résultat final tende vers un vecteur de 1 et 0 correspondant aux catégories"
   ]
  },
  {
   "cell_type": "code",
   "execution_count": 22,
   "metadata": {},
   "outputs": [
    {
     "data": {
      "text/plain": [
       "array([ 0.5,  0.5,  0.5,  0.5,  0.5,  0.5,  0.5,  0.5,  0.5,  0.5,  0.5,\n",
       "        0.5,  0.5,  0.5,  0.5,  0.5,  0.5,  0.5,  0.5,  0.5,  0.5,  0.5,\n",
       "        0.5,  0.5,  0.5,  0.5,  0.5,  0.5,  0.5,  0.5,  0.5,  0.5,  0.5,\n",
       "        0.5,  0.5,  0.5,  0.5,  0.5,  0.5,  0.5,  0.5,  0.5,  0.5,  0.5,\n",
       "        0.5,  0.5,  0.5,  0.5,  0.5,  0.5,  0.5,  0.5,  0.5,  0.5,  0.5,\n",
       "        0.5,  0.5,  0.5,  0.5,  0.5,  0.5,  0.5,  0.5,  0.5,  0.5,  0.5,\n",
       "        0.5,  0.5,  0.5,  0.5,  0.5,  0.5,  0.5,  0.5,  0.5,  0.5,  0.5,\n",
       "        0.5,  0.5,  0.5,  0.5,  0.5,  0.5,  0.5,  0.5,  0.5,  0.5,  0.5,\n",
       "        0.5,  0.5,  0.5,  0.5,  0.5,  0.5,  0.5,  0.5,  0.5,  0.5,  0.5,\n",
       "        0.5,  0.5,  0.5,  0.5,  0.5,  0.5,  0.5,  0.5,  0.5,  0.5,  0.5,\n",
       "        0.5,  0.5,  0.5,  0.5,  0.5,  0.5,  0.5,  0.5])"
      ]
     },
     "execution_count": 22,
     "metadata": {},
     "output_type": "execute_result"
    }
   ],
   "source": [
    "def predict(X, theta):\n",
    "    return 1 / (1 + np.exp(-np.dot(X, theta)))\n",
    "tmp = predict(X, [0, 0, 0])\n",
    "tmp"
   ]
  },
  {
   "cell_type": "code",
   "execution_count": null,
   "metadata": {
    "collapsed": true
   },
   "outputs": [],
   "source": []
  },
  {
   "cell_type": "markdown",
   "metadata": {},
   "source": [
    "## Entraînement du modèle"
   ]
  },
  {
   "cell_type": "markdown",
   "metadata": {},
   "source": [
    "### Définissez la fonction de coût de votre modèle"
   ]
  },
  {
   "cell_type": "code",
   "execution_count": 24,
   "metadata": {
    "collapsed": true
   },
   "outputs": [],
   "source": [
    "def cost(X, y, theta):\n",
    "    m = X.shape[0]\n",
    "    h = predict(X,theta)\n",
    "    y1 = -np.dot(y, np.log(h))\n",
    "    y0 = -np.dot((1 - y), np.log(1 - h))\n",
    "    J = (y0 + y1) / m\n",
    "    return J"
   ]
  },
  {
   "cell_type": "markdown",
   "metadata": {},
   "source": [
    "### Appelez votre fonction _cost_. Vous devriez obtenir une valeur d'environ 0.693"
   ]
  },
  {
   "cell_type": "code",
   "execution_count": 27,
   "metadata": {},
   "outputs": [
    {
     "data": {
      "text/plain": [
       "0.6931471805599454"
      ]
     },
     "execution_count": 27,
     "metadata": {},
     "output_type": "execute_result"
    }
   ],
   "source": [
    "cost(X,y,[0,0,0])"
   ]
  },
  {
   "cell_type": "markdown",
   "metadata": {},
   "source": [
    "### Écrivez une fonction _fit_ qui prend en arguments le vecteur X et le vecteur y des données d'entraînement et renvoie le vecteur de paramètres _theta_ qui a été appris, ainsi que l'évolution du coût"
   ]
  },
  {
   "cell_type": "markdown",
   "metadata": {},
   "source": [
    "Noter que l'exercice original ne fait pas faire la descente du gradient pour entraîner le modèle, mais plutôt une fonction d'optimisation avancée (_fminunc_ en Matlab). Nous tenterons de faire quand même la descente du gradient. Les plus téméraires peuvent aussi trouver une fonction d'optimisation équivalente en Python et comparer les résultats."
   ]
  },
  {
   "cell_type": "code",
   "execution_count": 25,
   "metadata": {
    "collapsed": true
   },
   "outputs": [],
   "source": [
    "def fit(X, y, theta, alpha, num_iters):\n",
    "    m = X.shape[0]\n",
    "    J_history = []\n",
    "    for i in range(num_iters):\n",
    "        theta -= np.dot(X.T, predict(X, theta) - y) * alpha / m\n",
    "        J_history.append(cost(X,y,theta))\n",
    "    return theta, J_history"
   ]
  },
  {
   "cell_type": "markdown",
   "metadata": {},
   "source": [
    "### Lancez l'apprentissage en appelant la fonction _fit_ et en prenant bien soin de récupérer le résultat de *theta* à la fin!!"
   ]
  },
  {
   "cell_type": "markdown",
   "metadata": {},
   "source": [
    "Voyez entre vous quelles valeurs semblent correctes pour alpha et num_iters"
   ]
  },
  {
   "cell_type": "code",
   "execution_count": 26,
   "metadata": {},
   "outputs": [
    {
     "data": {
      "text/plain": [
       "array([-21.06746245,   0.17350979,   0.16833432])"
      ]
     },
     "execution_count": 26,
     "metadata": {},
     "output_type": "execute_result"
    }
   ],
   "source": [
    "theta = np.zeros(3)\n",
    "theta, J_history = fit(X,y,theta,0.001,3000000)\n",
    "theta"
   ]
  },
  {
   "cell_type": "markdown",
   "metadata": {},
   "source": [
    "### Appelez la fonction _cost_ avec le nouveau theta après entraînement"
   ]
  },
  {
   "cell_type": "markdown",
   "metadata": {},
   "source": [
    "Vous devriez obtenir une valeur autour de 0.203"
   ]
  },
  {
   "cell_type": "code",
   "execution_count": 27,
   "metadata": {},
   "outputs": [
    {
     "data": {
      "text/plain": [
       "0.20639265829916642"
      ]
     },
     "execution_count": 27,
     "metadata": {},
     "output_type": "execute_result"
    }
   ],
   "source": [
    "cost(X,y,theta)"
   ]
  },
  {
   "cell_type": "markdown",
   "metadata": {},
   "source": [
    "### On visualise maintenant l'évolution du coût en fonction du nombre d'itérations"
   ]
  },
  {
   "cell_type": "code",
   "execution_count": 28,
   "metadata": {},
   "outputs": [
    {
     "data": {
      "text/plain": [
       "[<matplotlib.lines.Line2D at 0x11e642940>]"
      ]
     },
     "execution_count": 28,
     "metadata": {},
     "output_type": "execute_result"
    },
    {
     "data": {
      "image/png": "[encoded data removed]",
      "text/plain": [
       "<matplotlib.figure.Figure at 0x110e8b160>"
      ]
     },
     "metadata": {},
     "output_type": "display_data"
    }
   ],
   "source": [
    "%matplotlib inline\n",
    "fit = plt.figure()\n",
    "ax = plt.axes()\n",
    "ax.plot(J_history)"
   ]
  },
  {
   "cell_type": "code",
   "execution_count": 62,
   "metadata": {},
   "outputs": [
    {
     "data": {
      "text/plain": [
       "array([-21.06746245,   0.17350979,   0.16833432])"
      ]
     },
     "execution_count": 62,
     "metadata": {},
     "output_type": "execute_result"
    }
   ],
   "source": [
    "theta"
   ]
  },
  {
   "cell_type": "markdown",
   "metadata": {},
   "source": [
    "## Évaluation de votre modèle"
   ]
  },
  {
   "cell_type": "markdown",
   "metadata": {},
   "source": [
    "Nous allons évaluer la performance du modèle de deux façons:"
   ]
  },
  {
   "cell_type": "markdown",
   "metadata": {},
   "source": [
    "### Évaluez la probabilité qu'un étudiant ayant obtenu 45 au premier examen, et 85 au deuxième, soit admis"
   ]
  },
  {
   "cell_type": "markdown",
   "metadata": {},
   "source": [
    "Vous devriez avoir une probabilité d'admission de 0.776"
   ]
  },
  {
   "cell_type": "code",
   "execution_count": 61,
   "metadata": {},
   "outputs": [
    {
     "data": {
      "text/plain": [
       "0.74056270950292025"
      ]
     },
     "execution_count": 61,
     "metadata": {},
     "output_type": "execute_result"
    }
   ],
   "source": [
    "etudiant = np.array([1, 45, 85])\n",
    "predict(etudiant, theta)"
   ]
  },
  {
   "cell_type": "markdown",
   "metadata": {},
   "source": [
    "### Évaluer l'exactitude (accuracy) des prédictions faites sur les données d'entraînement"
   ]
  },
  {
   "cell_type": "markdown",
   "metadata": {},
   "source": [
    "Utilisez votre fonction _predict_ sur les données d'entraînement (X) et récupérez les prédictions dans un vecteur p"
   ]
  },
  {
   "cell_type": "code",
   "execution_count": 76,
   "metadata": {},
   "outputs": [
    {
     "data": {
      "text/plain": [
       "(100, numpy.ndarray)"
      ]
     },
     "execution_count": 76,
     "metadata": {},
     "output_type": "execute_result"
    }
   ],
   "source": [
    "p = predict(X, theta)\n",
    "p.shape[0], type(p)"
   ]
  },
  {
   "cell_type": "markdown",
   "metadata": {},
   "source": [
    "Calculez le pourcentage des éléments de p qui correspondent à ceux de y. Ça vous donne le score d'exactitude"
   ]
  },
  {
   "cell_type": "code",
   "execution_count": 78,
   "metadata": {},
   "outputs": [
    {
     "data": {
      "text/plain": [
       "array([0, 0, 0, 1, 1, 0, 1, 0, 1, 1, 1, 0, 1, 1, 0, 1, 0, 0, 1, 1, 0, 1, 0,\n",
       "       0, 1, 1, 1, 1, 0, 0, 1, 1, 0, 0, 0, 0, 1, 1, 0, 0, 1, 0, 1, 1, 0, 0,\n",
       "       1, 1, 1, 1, 1, 1, 1, 0, 0, 0, 1, 1, 1, 1, 1, 0, 0, 0, 0, 0, 1, 0, 1,\n",
       "       1, 0, 1, 1, 1, 1, 1, 1, 1, 0, 1, 1, 1, 1, 0, 1, 1, 0, 1, 1, 0, 1, 1,\n",
       "       0, 1, 1, 1, 1, 1, 0, 1])"
      ]
     },
     "execution_count": 78,
     "metadata": {},
     "output_type": "execute_result"
    }
   ],
   "source": [
    "p = np.array([(1 if p[i] >= 0.5 else 0) for i in range(p.shape[0])])\n",
    "p"
   ]
  },
  {
   "cell_type": "code",
   "execution_count": 79,
   "metadata": {},
   "outputs": [
    {
     "data": {
      "text/plain": [
       "89"
      ]
     },
     "execution_count": 79,
     "metadata": {},
     "output_type": "execute_result"
    }
   ],
   "source": [
    "y.shape[0] - sum(abs(p - y))"
   ]
  },
  {
   "cell_type": "markdown",
   "metadata": {},
   "source": [
    "Vous devriez avoir un score d'environ 89.0 %"
   ]
  },
  {
   "cell_type": "markdown",
   "metadata": {},
   "source": [
    "## BONUS: Visualisez la frontière de décision (decision boundary) sur le graphe"
   ]
  },
  {
   "cell_type": "markdown",
   "metadata": {},
   "source": [
    "Pour ceux qui veulent découvrir Matplotlib, il faut ici afficher les données en deux nuages de points distincts (pour les deux classes) sur le même graphe, et aussi trouver une façon de tracer la fonction qui définit la frontière de décision. Amusez-vous bien, et surtout aidez-vous! Ça devrait donner un truc du genre:  \n",
    "<img src=\"figure-2.png\">"
   ]
  },
  {
   "cell_type": "code",
   "execution_count": 53,
   "metadata": {},
   "outputs": [
    {
     "data": {
      "text/plain": [
       "[<matplotlib.lines.Line2D at 0x11a099390>]"
      ]
     },
     "execution_count": 53,
     "metadata": {},
     "output_type": "execute_result"
    },
    {
     "data": {
      "image/png": "[encoded data removed]",
      "text/plain": [
       "<matplotlib.figure.Figure at 0x119f29748>"
      ]
     },
     "metadata": {},
     "output_type": "display_data"
    }
   ],
   "source": [
    "%matplotlib inline\n",
    "exam1_score = data['exam1'].as_matrix()\n",
    "exam2_score = data['exam2'].as_matrix()\n",
    "admitted = data['admission'].as_matrix()\n",
    "not_admitted = (admitted == 0)\n",
    "plt.figure(figsize = (10, 7))\n",
    "plt.scatter(exam1_score[np.nonzero(admitted)], exam2_score[np.nonzero(admitted)], marker = '+', label= 'Admitted')\n",
    "plt.scatter(exam1_score[np.nonzero(not_admitted)], exam2_score[np.nonzero(not_admitted)], marker = 'o', label = 'Not admitted')\n",
    "plt.xlabel('Exam 1 score')\n",
    "plt.ylabel('Exam 2 score')\n",
    "plt.legend(loc = 1)\n",
    "\n",
    "x = np.array([exam1_score.min(), exam1_score.max()])\n",
    "y = -(theta[0] + theta[1] * x) / theta[2]\n",
    "plt.plot(x, y)"
   ]
  }
 ],
 "metadata": {
  "kernelspec": {
   "display_name": "Python 3",
   "language": "python",
   "name": "python3"
  },
  "language_info": {
   "codemirror_mode": {
    "name": "ipython",
    "version": 3
   },
   "file_extension": ".py",
   "mimetype": "text/x-python",
   "name": "python",
   "nbconvert_exporter": "python",
   "pygments_lexer": "ipython3",
   "version": "3.6.3"
  }
 },
 "nbformat": 4,
 "nbformat_minor": 2
}
