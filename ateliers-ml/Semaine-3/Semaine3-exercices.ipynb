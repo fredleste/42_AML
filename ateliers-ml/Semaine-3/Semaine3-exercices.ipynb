{
 "cells": [
  {
   "cell_type": "markdown",
   "metadata": {},
   "source": [
    "# Régression logistique - Exercices tirés du MOOC d'Andrew Ng"
   ]
  },
  {
   "cell_type": "markdown",
   "metadata": {},
   "source": [
    "## Chargement des données"
   ]
  },
  {
   "cell_type": "markdown",
   "metadata": {},
   "source": [
    "Le jeu de données représente les chances de différents étudiants d'être admis à un programme universitaire en fonction de leurs résultats à deux examens"
   ]
  },
  {
   "cell_type": "markdown",
   "metadata": {},
   "source": [
    "### Charger les données du fichier ex2data1.csv"
   ]
  },
  {
   "cell_type": "code",
   "execution_count": 1,
   "metadata": {
    "collapsed": true
   },
   "outputs": [],
   "source": [
    "import numpy as np\n",
    "import pandas as pd\n",
    "import matplotlib.pyplot as plt"
   ]
  },
  {
   "cell_type": "code",
   "execution_count": 3,
   "metadata": {},
   "outputs": [
    {
     "data": {
      "text/html": [
       "<div>\n",
       "<style>\n",
       "    .dataframe thead tr:only-child th {\n",
       "        text-align: right;\n",
       "    }\n",
       "\n",
       "    .dataframe thead th {\n",
       "        text-align: left;\n",
       "    }\n",
       "\n",
       "    .dataframe tbody tr th {\n",
       "        vertical-align: top;\n",
       "    }\n",
       "</style>\n",
       "<table border=\"1\" class=\"dataframe\">\n",
       "  <thead>\n",
       "    <tr style=\"text-align: right;\">\n",
       "      <th></th>\n",
       "      <th>exam1</th>\n",
       "      <th>exam2</th>\n",
       "      <th>admission</th>\n",
       "    </tr>\n",
       "  </thead>\n",
       "  <tbody>\n",
       "    <tr>\n",
       "      <th>0</th>\n",
       "      <td>34.623660</td>\n",
       "      <td>78.024693</td>\n",
       "      <td>0</td>\n",
       "    </tr>\n",
       "    <tr>\n",
       "      <th>1</th>\n",
       "      <td>30.286711</td>\n",
       "      <td>43.894998</td>\n",
       "      <td>0</td>\n",
       "    </tr>\n",
       "    <tr>\n",
       "      <th>2</th>\n",
       "      <td>35.847409</td>\n",
       "      <td>72.902198</td>\n",
       "      <td>0</td>\n",
       "    </tr>\n",
       "    <tr>\n",
       "      <th>3</th>\n",
       "      <td>60.182599</td>\n",
       "      <td>86.308552</td>\n",
       "      <td>1</td>\n",
       "    </tr>\n",
       "    <tr>\n",
       "      <th>4</th>\n",
       "      <td>79.032736</td>\n",
       "      <td>75.344376</td>\n",
       "      <td>1</td>\n",
       "    </tr>\n",
       "    <tr>\n",
       "      <th>5</th>\n",
       "      <td>45.083277</td>\n",
       "      <td>56.316372</td>\n",
       "      <td>0</td>\n",
       "    </tr>\n",
       "    <tr>\n",
       "      <th>6</th>\n",
       "      <td>61.106665</td>\n",
       "      <td>96.511426</td>\n",
       "      <td>1</td>\n",
       "    </tr>\n",
       "    <tr>\n",
       "      <th>7</th>\n",
       "      <td>75.024746</td>\n",
       "      <td>46.554014</td>\n",
       "      <td>1</td>\n",
       "    </tr>\n",
       "    <tr>\n",
       "      <th>8</th>\n",
       "      <td>76.098787</td>\n",
       "      <td>87.420570</td>\n",
       "      <td>1</td>\n",
       "    </tr>\n",
       "    <tr>\n",
       "      <th>9</th>\n",
       "      <td>84.432820</td>\n",
       "      <td>43.533393</td>\n",
       "      <td>1</td>\n",
       "    </tr>\n",
       "  </tbody>\n",
       "</table>\n",
       "</div>"
      ],
      "text/plain": [
       "       exam1      exam2  admission\n",
       "0  34.623660  78.024693          0\n",
       "1  30.286711  43.894998          0\n",
       "2  35.847409  72.902198          0\n",
       "3  60.182599  86.308552          1\n",
       "4  79.032736  75.344376          1\n",
       "5  45.083277  56.316372          0\n",
       "6  61.106665  96.511426          1\n",
       "7  75.024746  46.554014          1\n",
       "8  76.098787  87.420570          1\n",
       "9  84.432820  43.533393          1"
      ]
     },
     "execution_count": 3,
     "metadata": {},
     "output_type": "execute_result"
    }
   ],
   "source": [
    "data = pd.read_csv(\"ex2data1.csv\")\n",
    "data.head(10)"
   ]
  },
  {
   "cell_type": "code",
   "execution_count": 6,
   "metadata": {},
   "outputs": [
    {
     "data": {
      "text/plain": [
       "100"
      ]
     },
     "execution_count": 6,
     "metadata": {},
     "output_type": "execute_result"
    }
   ],
   "source": [
    "data.shape[0]"
   ]
  },
  {
   "cell_type": "markdown",
   "metadata": {},
   "source": [
    "### Visualiser les données"
   ]
  },
  {
   "cell_type": "markdown",
   "metadata": {},
   "source": [
    "Vous pouvez vous amuser à reproduire ce graphe avec les librairies Python, mais ne perdez pas trop de temps là-dessus non plus, il y a beaucoup à faire après!"
   ]
  },
  {
   "cell_type": "markdown",
   "metadata": {},
   "source": [
    "<img src=\"figure-1.png\">"
   ]
  },
  {
   "cell_type": "code",
   "execution_count": 74,
   "metadata": {},
   "outputs": [
    {
     "data": {
      "text/plain": [
       "<matplotlib.legend.Legend at 0x11b40c860>"
      ]
     },
     "execution_count": 74,
     "metadata": {},
     "output_type": "execute_result"
    },
    {
     "data": {
      "image/png": "[encoded data removed]",
      "text/plain": [
       "<matplotlib.figure.Figure at 0x11b07b7f0>"
      ]
     },
     "metadata": {},
     "output_type": "display_data"
    }
   ],
   "source": [
    "%matplotlib inline\n",
    "exam1_score = data['exam1'].as_matrix()\n",
    "exam2_score = data['exam2'].as_matrix()\n",
    "admitted = data['admission'].as_matrix()\n",
    "not_admitted = (admitted == 0)\n",
    "plt.figure(figsize = (10, 7))\n",
    "plt.scatter(exam1_score[np.nonzero(admitted)], exam2_score[np.nonzero(admitted)], marker = '+', label= 'Admitted')\n",
    "plt.scatter(exam1_score[np.nonzero(not_admitted)], exam2_score[np.nonzero(not_admitted)], marker = 'o', label = 'Not admitted')\n",
    "plt.xlabel('Exam 1 score')\n",
    "plt.ylabel('Exam 2 score')\n",
    "plt.legend(loc = 1)"
   ]
  },
  {
   "cell_type": "markdown",
   "metadata": {},
   "source": [
    "### Découpez vos données en une matrice X et un vecteur y et transformerz-les en array numpy"
   ]
  },
  {
   "cell_type": "code",
   "execution_count": 15,
   "metadata": {},
   "outputs": [
    {
     "data": {
      "text/plain": [
       "(array([[ 34.62365962,  78.02469282],\n",
       "        [ 30.28671077,  43.89499752],\n",
       "        [ 35.84740877,  72.90219803],\n",
       "        [ 60.18259939,  86.3085521 ],\n",
       "        [ 79.03273605,  75.34437644],\n",
       "        [ 45.08327748,  56.31637178],\n",
       "        [ 61.10666454,  96.51142588],\n",
       "        [ 75.02474557,  46.55401354],\n",
       "        [ 76.0987867 ,  87.42056972],\n",
       "        [ 84.43281996,  43.53339331],\n",
       "        [ 95.86155507,  38.22527806],\n",
       "        [ 75.01365839,  30.60326323],\n",
       "        [ 82.30705337,  76.4819633 ],\n",
       "        [ 69.36458876,  97.71869196],\n",
       "        [ 39.53833914,  76.03681085],\n",
       "        [ 53.97105215,  89.20735014],\n",
       "        [ 69.07014406,  52.74046973],\n",
       "        [ 67.94685548,  46.67857411],\n",
       "        [ 70.66150955,  92.92713789],\n",
       "        [ 76.97878373,  47.57596365],\n",
       "        [ 67.37202755,  42.83843832],\n",
       "        [ 89.67677575,  65.79936593],\n",
       "        [ 50.53478829,  48.85581153],\n",
       "        [ 34.21206098,  44.2095286 ],\n",
       "        [ 77.92409145,  68.97235999],\n",
       "        [ 62.27101367,  69.95445795],\n",
       "        [ 80.19018075,  44.82162893],\n",
       "        [ 93.1143888 ,  38.80067034],\n",
       "        [ 61.83020602,  50.25610789],\n",
       "        [ 38.7858038 ,  64.99568096],\n",
       "        [ 61.37928945,  72.80788731],\n",
       "        [ 85.40451939,  57.05198398],\n",
       "        [ 52.10797973,  63.12762377],\n",
       "        [ 52.04540477,  69.43286012],\n",
       "        [ 40.23689374,  71.16774802],\n",
       "        [ 54.63510555,  52.21388588],\n",
       "        [ 33.91550011,  98.86943574],\n",
       "        [ 64.17698887,  80.90806059],\n",
       "        [ 74.78925296,  41.57341523],\n",
       "        [ 34.18364003,  75.23772034],\n",
       "        [ 83.90239366,  56.30804622],\n",
       "        [ 51.54772027,  46.85629026],\n",
       "        [ 94.44336777,  65.56892161],\n",
       "        [ 82.36875376,  40.61825516],\n",
       "        [ 51.04775177,  45.82270146],\n",
       "        [ 62.22267576,  52.06099195],\n",
       "        [ 77.19303493,  70.4582    ],\n",
       "        [ 97.77159928,  86.72782233],\n",
       "        [ 62.0730638 ,  96.76882412],\n",
       "        [ 91.5649745 ,  88.69629255],\n",
       "        [ 79.94481794,  74.16311935],\n",
       "        [ 99.27252693,  60.999031  ],\n",
       "        [ 90.54671411,  43.39060181],\n",
       "        [ 34.52451385,  60.39634246],\n",
       "        [ 50.28649612,  49.80453881],\n",
       "        [ 49.58667722,  59.80895099],\n",
       "        [ 97.64563396,  68.86157272],\n",
       "        [ 32.57720017,  95.59854761],\n",
       "        [ 74.24869137,  69.82457123],\n",
       "        [ 71.79646206,  78.45356225],\n",
       "        [ 75.39561147,  85.75993667],\n",
       "        [ 35.28611282,  47.02051395],\n",
       "        [ 56.2538175 ,  39.26147251],\n",
       "        [ 30.05882245,  49.59297387],\n",
       "        [ 44.66826172,  66.45008615],\n",
       "        [ 66.56089447,  41.09209808],\n",
       "        [ 40.45755098,  97.53518549],\n",
       "        [ 49.07256322,  51.88321182],\n",
       "        [ 80.27957401,  92.11606081],\n",
       "        [ 66.74671857,  60.99139403],\n",
       "        [ 32.72283304,  43.30717306],\n",
       "        [ 64.03932042,  78.03168802],\n",
       "        [ 72.34649423,  96.22759297],\n",
       "        [ 60.45788574,  73.0949981 ],\n",
       "        [ 58.84095622,  75.85844831],\n",
       "        [ 99.8278578 ,  72.36925193],\n",
       "        [ 47.26426911,  88.475865  ],\n",
       "        [ 50.4581598 ,  75.80985953],\n",
       "        [ 60.45555629,  42.50840944],\n",
       "        [ 82.22666158,  42.71987854],\n",
       "        [ 88.91389642,  69.8037889 ],\n",
       "        [ 94.83450672,  45.6943068 ],\n",
       "        [ 67.31925747,  66.58935318],\n",
       "        [ 57.23870632,  59.51428198],\n",
       "        [ 80.366756  ,  90.9601479 ],\n",
       "        [ 68.46852179,  85.5943071 ],\n",
       "        [ 42.07545454,  78.844786  ],\n",
       "        [ 75.47770201,  90.424539  ],\n",
       "        [ 78.63542435,  96.64742717],\n",
       "        [ 52.34800399,  60.76950526],\n",
       "        [ 94.09433113,  77.15910509],\n",
       "        [ 90.44855097,  87.50879176],\n",
       "        [ 55.48216114,  35.57070347],\n",
       "        [ 74.49269242,  84.84513685],\n",
       "        [ 89.84580671,  45.35828361],\n",
       "        [ 83.48916274,  48.3802858 ],\n",
       "        [ 42.26170081,  87.10385094],\n",
       "        [ 99.31500881,  68.77540947],\n",
       "        [ 55.34001756,  64.93193801],\n",
       "        [ 74.775893  ,  89.5298129 ]]),\n",
       " array([0, 0, 0, 1, 1, 0, 1, 1, 1, 1, 0, 0, 1, 1, 0, 1, 1, 0, 1, 1, 0, 1, 0,\n",
       "        0, 1, 1, 1, 0, 0, 0, 1, 1, 0, 1, 0, 0, 0, 1, 0, 0, 1, 0, 1, 0, 0, 0,\n",
       "        1, 1, 1, 1, 1, 1, 1, 0, 0, 0, 1, 0, 1, 1, 1, 0, 0, 0, 0, 0, 1, 0, 1,\n",
       "        1, 0, 1, 1, 1, 1, 1, 1, 1, 0, 0, 1, 1, 1, 1, 1, 1, 0, 1, 1, 0, 1, 1,\n",
       "        0, 1, 1, 1, 1, 1, 1, 1]))"
      ]
     },
     "execution_count": 15,
     "metadata": {},
     "output_type": "execute_result"
    }
   ],
   "source": [
    "X = np.array([data['exam1'],data['exam2']]).T\n",
    "y = np.array(data['admission'])\n",
    "X, y"
   ]
  },
  {
   "cell_type": "markdown",
   "metadata": {},
   "source": [
    "Vérifiez bien les dimensions de vos structures de données (X.shape)  \n",
    "La matrice X doit-elle être de dimensions m x n ou bien m x (n+1) ? Quelle est la valeur de n?"
   ]
  },
  {
   "cell_type": "markdown",
   "metadata": {},
   "source": [
    "### Initialisez theta en un vecteur de zéros"
   ]
  },
  {
   "cell_type": "markdown",
   "metadata": {},
   "source": [
    "Combien de zéros vous faudra-t-il....?"
   ]
  },
  {
   "cell_type": "code",
   "execution_count": 76,
   "metadata": {},
   "outputs": [
    {
     "data": {
      "text/plain": [
       "array([ 0.,  0.,  0.])"
      ]
     },
     "execution_count": 76,
     "metadata": {},
     "output_type": "execute_result"
    }
   ],
   "source": [
    "theta = np.zeros(3)\n",
    "theta"
   ]
  },
  {
   "cell_type": "code",
   "execution_count": 16,
   "metadata": {},
   "outputs": [
    {
     "data": {
      "text/plain": [
       "array([[  1.        ,  34.62365962,  78.02469282],\n",
       "       [  1.        ,  30.28671077,  43.89499752],\n",
       "       [  1.        ,  35.84740877,  72.90219803],\n",
       "       [  1.        ,  60.18259939,  86.3085521 ],\n",
       "       [  1.        ,  79.03273605,  75.34437644],\n",
       "       [  1.        ,  45.08327748,  56.31637178],\n",
       "       [  1.        ,  61.10666454,  96.51142588],\n",
       "       [  1.        ,  75.02474557,  46.55401354],\n",
       "       [  1.        ,  76.0987867 ,  87.42056972],\n",
       "       [  1.        ,  84.43281996,  43.53339331],\n",
       "       [  1.        ,  95.86155507,  38.22527806],\n",
       "       [  1.        ,  75.01365839,  30.60326323],\n",
       "       [  1.        ,  82.30705337,  76.4819633 ],\n",
       "       [  1.        ,  69.36458876,  97.71869196],\n",
       "       [  1.        ,  39.53833914,  76.03681085],\n",
       "       [  1.        ,  53.97105215,  89.20735014],\n",
       "       [  1.        ,  69.07014406,  52.74046973],\n",
       "       [  1.        ,  67.94685548,  46.67857411],\n",
       "       [  1.        ,  70.66150955,  92.92713789],\n",
       "       [  1.        ,  76.97878373,  47.57596365],\n",
       "       [  1.        ,  67.37202755,  42.83843832],\n",
       "       [  1.        ,  89.67677575,  65.79936593],\n",
       "       [  1.        ,  50.53478829,  48.85581153],\n",
       "       [  1.        ,  34.21206098,  44.2095286 ],\n",
       "       [  1.        ,  77.92409145,  68.97235999],\n",
       "       [  1.        ,  62.27101367,  69.95445795],\n",
       "       [  1.        ,  80.19018075,  44.82162893],\n",
       "       [  1.        ,  93.1143888 ,  38.80067034],\n",
       "       [  1.        ,  61.83020602,  50.25610789],\n",
       "       [  1.        ,  38.7858038 ,  64.99568096],\n",
       "       [  1.        ,  61.37928945,  72.80788731],\n",
       "       [  1.        ,  85.40451939,  57.05198398],\n",
       "       [  1.        ,  52.10797973,  63.12762377],\n",
       "       [  1.        ,  52.04540477,  69.43286012],\n",
       "       [  1.        ,  40.23689374,  71.16774802],\n",
       "       [  1.        ,  54.63510555,  52.21388588],\n",
       "       [  1.        ,  33.91550011,  98.86943574],\n",
       "       [  1.        ,  64.17698887,  80.90806059],\n",
       "       [  1.        ,  74.78925296,  41.57341523],\n",
       "       [  1.        ,  34.18364003,  75.23772034],\n",
       "       [  1.        ,  83.90239366,  56.30804622],\n",
       "       [  1.        ,  51.54772027,  46.85629026],\n",
       "       [  1.        ,  94.44336777,  65.56892161],\n",
       "       [  1.        ,  82.36875376,  40.61825516],\n",
       "       [  1.        ,  51.04775177,  45.82270146],\n",
       "       [  1.        ,  62.22267576,  52.06099195],\n",
       "       [  1.        ,  77.19303493,  70.4582    ],\n",
       "       [  1.        ,  97.77159928,  86.72782233],\n",
       "       [  1.        ,  62.0730638 ,  96.76882412],\n",
       "       [  1.        ,  91.5649745 ,  88.69629255],\n",
       "       [  1.        ,  79.94481794,  74.16311935],\n",
       "       [  1.        ,  99.27252693,  60.999031  ],\n",
       "       [  1.        ,  90.54671411,  43.39060181],\n",
       "       [  1.        ,  34.52451385,  60.39634246],\n",
       "       [  1.        ,  50.28649612,  49.80453881],\n",
       "       [  1.        ,  49.58667722,  59.80895099],\n",
       "       [  1.        ,  97.64563396,  68.86157272],\n",
       "       [  1.        ,  32.57720017,  95.59854761],\n",
       "       [  1.        ,  74.24869137,  69.82457123],\n",
       "       [  1.        ,  71.79646206,  78.45356225],\n",
       "       [  1.        ,  75.39561147,  85.75993667],\n",
       "       [  1.        ,  35.28611282,  47.02051395],\n",
       "       [  1.        ,  56.2538175 ,  39.26147251],\n",
       "       [  1.        ,  30.05882245,  49.59297387],\n",
       "       [  1.        ,  44.66826172,  66.45008615],\n",
       "       [  1.        ,  66.56089447,  41.09209808],\n",
       "       [  1.        ,  40.45755098,  97.53518549],\n",
       "       [  1.        ,  49.07256322,  51.88321182],\n",
       "       [  1.        ,  80.27957401,  92.11606081],\n",
       "       [  1.        ,  66.74671857,  60.99139403],\n",
       "       [  1.        ,  32.72283304,  43.30717306],\n",
       "       [  1.        ,  64.03932042,  78.03168802],\n",
       "       [  1.        ,  72.34649423,  96.22759297],\n",
       "       [  1.        ,  60.45788574,  73.0949981 ],\n",
       "       [  1.        ,  58.84095622,  75.85844831],\n",
       "       [  1.        ,  99.8278578 ,  72.36925193],\n",
       "       [  1.        ,  47.26426911,  88.475865  ],\n",
       "       [  1.        ,  50.4581598 ,  75.80985953],\n",
       "       [  1.        ,  60.45555629,  42.50840944],\n",
       "       [  1.        ,  82.22666158,  42.71987854],\n",
       "       [  1.        ,  88.91389642,  69.8037889 ],\n",
       "       [  1.        ,  94.83450672,  45.6943068 ],\n",
       "       [  1.        ,  67.31925747,  66.58935318],\n",
       "       [  1.        ,  57.23870632,  59.51428198],\n",
       "       [  1.        ,  80.366756  ,  90.9601479 ],\n",
       "       [  1.        ,  68.46852179,  85.5943071 ],\n",
       "       [  1.        ,  42.07545454,  78.844786  ],\n",
       "       [  1.        ,  75.47770201,  90.424539  ],\n",
       "       [  1.        ,  78.63542435,  96.64742717],\n",
       "       [  1.        ,  52.34800399,  60.76950526],\n",
       "       [  1.        ,  94.09433113,  77.15910509],\n",
       "       [  1.        ,  90.44855097,  87.50879176],\n",
       "       [  1.        ,  55.48216114,  35.57070347],\n",
       "       [  1.        ,  74.49269242,  84.84513685],\n",
       "       [  1.        ,  89.84580671,  45.35828361],\n",
       "       [  1.        ,  83.48916274,  48.3802858 ],\n",
       "       [  1.        ,  42.26170081,  87.10385094],\n",
       "       [  1.        ,  99.31500881,  68.77540947],\n",
       "       [  1.        ,  55.34001756,  64.93193801],\n",
       "       [  1.        ,  74.775893  ,  89.5298129 ]])"
      ]
     },
     "execution_count": 16,
     "metadata": {},
     "output_type": "execute_result"
    }
   ],
   "source": [
    "# X = np.column_stack((np.ones(len(X)),np.array([data['exam1'],data['exam2']]).T))\n",
    "X = np.array([np.ones(data.shape[0]), data['exam1'], data['exam2']]).T\n",
    "X"
   ]
  },
  {
   "cell_type": "markdown",
   "metadata": {},
   "source": [
    "## Formulation de l'hypothèse"
   ]
  },
  {
   "cell_type": "markdown",
   "metadata": {},
   "source": [
    "Revoyez l'équation de l'hypothèse de la régression logistique. Le produit de theta et de X est enveloppé dans une fonction g(z) qui correspond à la fonction sigmoïde. Nous allons commencer par coder cette fonction."
   ]
  },
  {
   "cell_type": "markdown",
   "metadata": {},
   "source": [
    "### Écrivez une fonction _sigmoid_ qui applique la sigmoïde à son argument et retourne le résultat. Si elle reçoit une matrice ou un vecteur en input, elle doit s'appliquer sur chaque élément individuellement et retourner une structure de mêmes dimensions"
   ]
  },
  {
   "cell_type": "code",
   "execution_count": 17,
   "metadata": {
    "collapsed": true
   },
   "outputs": [],
   "source": [
    "def sigmoid(z):\n",
    "    return 1 / (1 + np.exp(-z))"
   ]
  },
  {
   "cell_type": "markdown",
   "metadata": {},
   "source": [
    "Vérifiez votre fonction. Quelle valeur renvoie une sigmoïde si z=0? Si z est grand? Si z est petit?  \n",
    "Il est possible que vous ayez un lorsque la fonction exponentielle reçoit des valeurs trop grandes. Dans ce cas vous pourrez éventuellement remplacer votre fonction sigmoïde par celle de scipy pour éviter des problèmes dans le reste de votre implémentation."
   ]
  },
  {
   "cell_type": "markdown",
   "metadata": {},
   "source": [
    "### Écrivez une fonction _predict_, qui correspond à l'hypohèse hθ(x), qui prend en paramètres X et theta, les multiplie (attention à l'ordre!), applique la fonction sigmoide, et se débrouille pour que le résultat final soit un vecteur de 1 et 0 correspondant aux catégories"
   ]
  },
  {
   "cell_type": "code",
   "execution_count": 21,
   "metadata": {},
   "outputs": [
    {
     "data": {
      "text/plain": [
       "array([ 0.5,  0.5,  0.5,  0.5,  0.5,  0.5,  0.5,  0.5,  0.5,  0.5,  0.5,\n",
       "        0.5,  0.5,  0.5,  0.5,  0.5,  0.5,  0.5,  0.5,  0.5,  0.5,  0.5,\n",
       "        0.5,  0.5,  0.5,  0.5,  0.5,  0.5,  0.5,  0.5,  0.5,  0.5,  0.5,\n",
       "        0.5,  0.5,  0.5,  0.5,  0.5,  0.5,  0.5,  0.5,  0.5,  0.5,  0.5,\n",
       "        0.5,  0.5,  0.5,  0.5,  0.5,  0.5,  0.5,  0.5,  0.5,  0.5,  0.5,\n",
       "        0.5,  0.5,  0.5,  0.5,  0.5,  0.5,  0.5,  0.5,  0.5,  0.5,  0.5,\n",
       "        0.5,  0.5,  0.5,  0.5,  0.5,  0.5,  0.5,  0.5,  0.5,  0.5,  0.5,\n",
       "        0.5,  0.5,  0.5,  0.5,  0.5,  0.5,  0.5,  0.5,  0.5,  0.5,  0.5,\n",
       "        0.5,  0.5,  0.5,  0.5,  0.5,  0.5,  0.5,  0.5,  0.5,  0.5,  0.5,\n",
       "        0.5])"
      ]
     },
     "execution_count": 21,
     "metadata": {},
     "output_type": "execute_result"
    }
   ],
   "source": [
    "def predict(X, theta):\n",
    "    return sigmoid(np.dot(X, theta))\n",
    "tmp = predict(X, [0, 0, 0])\n",
    "tmp"
   ]
  },
  {
   "cell_type": "code",
   "execution_count": null,
   "metadata": {
    "collapsed": true
   },
   "outputs": [],
   "source": []
  },
  {
   "cell_type": "markdown",
   "metadata": {},
   "source": [
    "## Entraînement du modèle"
   ]
  },
  {
   "cell_type": "markdown",
   "metadata": {},
   "source": [
    "### Définissez la fonction de coût de votre modèle"
   ]
  },
  {
   "cell_type": "code",
   "execution_count": 23,
   "metadata": {
    "collapsed": true
   },
   "outputs": [],
   "source": [
    "def cost(X, y, theta):\n",
    "    m = X.shape[0]\n",
    "    h = predict(X,theta)\n",
    "    y1 = -np.dot(y, np.log(h))\n",
    "    y0 = -np.dot((1 - y), np.log(1 - h))\n",
    "    J = (y0 + y1) / m\n",
    "    return J"
   ]
  },
  {
   "cell_type": "markdown",
   "metadata": {},
   "source": [
    "### Appelez votre fonction _cost_. Vous devriez obtenir une valeur d'environ 0.693"
   ]
  },
  {
   "cell_type": "code",
   "execution_count": 24,
   "metadata": {},
   "outputs": [
    {
     "data": {
      "text/plain": [
       "0.69314718055994529"
      ]
     },
     "execution_count": 24,
     "metadata": {},
     "output_type": "execute_result"
    }
   ],
   "source": [
    "cost(X,y,[0,0,0])"
   ]
  },
  {
   "cell_type": "markdown",
   "metadata": {},
   "source": [
    "### Écrivez une fonction _fit_ qui prend en arguments le vecteur X et le vecteur y des données d'entraînement et renvoie le vecteur de paramètres _theta_ qui a été appris, ainsi que l'évolution du coût"
   ]
  },
  {
   "cell_type": "markdown",
   "metadata": {},
   "source": [
    "Noter que l'exercice original ne fait pas faire la descente du gradient pour entraîner le modèle, mais plutôt une fonction d'optimisation avancée (_fminunc_ en Matlab). Nous tenterons de faire quand même la descente du gradient. Les plus téméraires peuvent aussi trouver une fonction d'optimisation équivalente en Python et comparer les résultats."
   ]
  },
  {
   "cell_type": "code",
   "execution_count": 25,
   "metadata": {
    "collapsed": true
   },
   "outputs": [],
   "source": [
    "def fit(X, y, theta, alpha, num_iters):\n",
    "    m = X.shape[0]\n",
    "    J_history = []\n",
    "    for i in range(num_iters):\n",
    "        theta -= np.dot(X.T, predict(X, theta) - y) * alpha / m\n",
    "        J_history.append(cost(X,y,theta))\n",
    "    return theta, J_history"
   ]
  },
  {
   "cell_type": "markdown",
   "metadata": {},
   "source": [
    "### Lancez l'apprentissage en appelant la fonction _fit_ et en prenant bien soin de récupérer le résultat de *theta* à la fin!!"
   ]
  },
  {
   "cell_type": "markdown",
   "metadata": {},
   "source": [
    "Voyez entre vous quelles valeurs semblent correctes pour alpha et num_iters"
   ]
  },
  {
   "cell_type": "code",
   "execution_count": 26,
   "metadata": {},
   "outputs": [
    {
     "data": {
      "text/plain": [
       "array([-21.06746245,   0.17350979,   0.16833432])"
      ]
     },
     "execution_count": 26,
     "metadata": {},
     "output_type": "execute_result"
    }
   ],
   "source": [
    "theta = np.zeros(3)\n",
    "theta, J_history = fit(X,y,theta,0.001,3000000)\n",
    "theta"
   ]
  },
  {
   "cell_type": "markdown",
   "metadata": {},
   "source": [
    "### Appelez la fonction _cost_ avec le nouveau theta après entraînement"
   ]
  },
  {
   "cell_type": "markdown",
   "metadata": {},
   "source": [
    "Vous devriez obtenir une valeur autour de 0.203"
   ]
  },
  {
   "cell_type": "code",
   "execution_count": 27,
   "metadata": {},
   "outputs": [
    {
     "data": {
      "text/plain": [
       "0.20639265829916642"
      ]
     },
     "execution_count": 27,
     "metadata": {},
     "output_type": "execute_result"
    }
   ],
   "source": [
    "cost(X,y,theta)"
   ]
  },
  {
   "cell_type": "markdown",
   "metadata": {},
   "source": [
    "### On visualise maintenant l'évolution du coût en fonction du nombre d'itérations"
   ]
  },
  {
   "cell_type": "code",
   "execution_count": 28,
   "metadata": {},
   "outputs": [
    {
     "data": {
      "text/plain": [
       "[<matplotlib.lines.Line2D at 0x11e642940>]"
      ]
     },
     "execution_count": 28,
     "metadata": {},
     "output_type": "execute_result"
    },
    {
     "data": {
      "image/png": "[encoded data removed]",
      "text/plain": [
       "<matplotlib.figure.Figure at 0x110e8b160>"
      ]
     },
     "metadata": {},
     "output_type": "display_data"
    }
   ],
   "source": [
    "%matplotlib inline\n",
    "fit = plt.figure()\n",
    "ax = plt.axes()\n",
    "ax.plot(J_history)"
   ]
  },
  {
   "cell_type": "code",
   "execution_count": 62,
   "metadata": {},
   "outputs": [
    {
     "data": {
      "text/plain": [
       "array([-21.06746245,   0.17350979,   0.16833432])"
      ]
     },
     "execution_count": 62,
     "metadata": {},
     "output_type": "execute_result"
    }
   ],
   "source": [
    "theta"
   ]
  },
  {
   "cell_type": "markdown",
   "metadata": {},
   "source": [
    "## Évaluation de votre modèle"
   ]
  },
  {
   "cell_type": "markdown",
   "metadata": {},
   "source": [
    "Nous allons évaluer la performance du modèle de deux façons:"
   ]
  },
  {
   "cell_type": "markdown",
   "metadata": {},
   "source": [
    "### Évaluez la probabilité qu'un étudiant ayant obtenu 45 au premier examen, et 85 au deuxième, soit admis"
   ]
  },
  {
   "cell_type": "markdown",
   "metadata": {},
   "source": [
    "Vous devriez avoir une probabilité d'admission de 0.776"
   ]
  },
  {
   "cell_type": "code",
   "execution_count": 61,
   "metadata": {},
   "outputs": [
    {
     "data": {
      "text/plain": [
       "0.74056270950292025"
      ]
     },
     "execution_count": 61,
     "metadata": {},
     "output_type": "execute_result"
    }
   ],
   "source": [
    "etudiant = np.array([1, 45, 85])\n",
    "predict(etudiant, theta)"
   ]
  },
  {
   "cell_type": "markdown",
   "metadata": {},
   "source": [
    "### Évaluer l'exactitude (accuracy) des prédictions faites sur les données d'entraînement"
   ]
  },
  {
   "cell_type": "markdown",
   "metadata": {},
   "source": [
    "Utilisez votre fonction _predict_ sur les données d'entraînement (X) et récupérez les prédictions dans un vecteur p"
   ]
  },
  {
   "cell_type": "code",
   "execution_count": 76,
   "metadata": {},
   "outputs": [
    {
     "data": {
      "text/plain": [
       "(100, numpy.ndarray)"
      ]
     },
     "execution_count": 76,
     "metadata": {},
     "output_type": "execute_result"
    }
   ],
   "source": [
    "p = predict(X, theta)\n",
    "p.shape[0], type(p)"
   ]
  },
  {
   "cell_type": "markdown",
   "metadata": {},
   "source": [
    "Calculez le pourcentage des éléments de p qui correspondent à ceux de y. Ça vous donne le score d'exactitude"
   ]
  },
  {
   "cell_type": "code",
   "execution_count": 78,
   "metadata": {},
   "outputs": [
    {
     "data": {
      "text/plain": [
       "array([0, 0, 0, 1, 1, 0, 1, 0, 1, 1, 1, 0, 1, 1, 0, 1, 0, 0, 1, 1, 0, 1, 0,\n",
       "       0, 1, 1, 1, 1, 0, 0, 1, 1, 0, 0, 0, 0, 1, 1, 0, 0, 1, 0, 1, 1, 0, 0,\n",
       "       1, 1, 1, 1, 1, 1, 1, 0, 0, 0, 1, 1, 1, 1, 1, 0, 0, 0, 0, 0, 1, 0, 1,\n",
       "       1, 0, 1, 1, 1, 1, 1, 1, 1, 0, 1, 1, 1, 1, 0, 1, 1, 0, 1, 1, 0, 1, 1,\n",
       "       0, 1, 1, 1, 1, 1, 0, 1])"
      ]
     },
     "execution_count": 78,
     "metadata": {},
     "output_type": "execute_result"
    }
   ],
   "source": [
    "p = np.array([(1 if p[i] >= 0.5 else 0) for i in range(p.shape[0])])\n",
    "p"
   ]
  },
  {
   "cell_type": "code",
   "execution_count": 79,
   "metadata": {},
   "outputs": [
    {
     "data": {
      "text/plain": [
       "89"
      ]
     },
     "execution_count": 79,
     "metadata": {},
     "output_type": "execute_result"
    }
   ],
   "source": [
    "y.shape[0] - sum(abs(p - y))"
   ]
  },
  {
   "cell_type": "markdown",
   "metadata": {},
   "source": [
    "Vous devriez avoir un score d'environ 89.0 %"
   ]
  },
  {
   "cell_type": "markdown",
   "metadata": {},
   "source": [
    "## BONUS: Visualisez la frontière de décision (decision boundary) sur le graphe"
   ]
  },
  {
   "cell_type": "markdown",
   "metadata": {},
   "source": [
    "Pour ceux qui veulent découvrir Matplotlib, il faut ici afficher les données en deux nuages de points distincts (pour les deux classes) sur le même graphe, et aussi trouver une façon de tracer la fonction qui définit la frontière de décision. Amusez-vous bien, et surtout aidez-vous! Ça devrait donner un truc du genre:  \n",
    "<img src=\"figure-2.png\">"
   ]
  },
  {
   "cell_type": "code",
   "execution_count": 53,
   "metadata": {},
   "outputs": [
    {
     "data": {
      "text/plain": [
       "[<matplotlib.lines.Line2D at 0x11a099390>]"
      ]
     },
     "execution_count": 53,
     "metadata": {},
     "output_type": "execute_result"
    },
    {
     "data": {
      "image/png": "[encoded data removed]",
      "text/plain": [
       "<matplotlib.figure.Figure at 0x119f29748>"
      ]
     },
     "metadata": {},
     "output_type": "display_data"
    }
   ],
   "source": [
    "%matplotlib inline\n",
    "exam1_score = data['exam1'].as_matrix()\n",
    "exam2_score = data['exam2'].as_matrix()\n",
    "admitted = data['admission'].as_matrix()\n",
    "not_admitted = (admitted == 0)\n",
    "plt.figure(figsize = (10, 7))\n",
    "plt.scatter(exam1_score[np.nonzero(admitted)], exam2_score[np.nonzero(admitted)], marker = '+', label= 'Admitted')\n",
    "plt.scatter(exam1_score[np.nonzero(not_admitted)], exam2_score[np.nonzero(not_admitted)], marker = 'o', label = 'Not admitted')\n",
    "plt.xlabel('Exam 1 score')\n",
    "plt.ylabel('Exam 2 score')\n",
    "plt.legend(loc = 1)\n",
    "\n",
    "x = np.array([exam1_score.min(), exam1_score.max()])\n",
    "y = -(theta[0] + theta[1] * x) / theta[2]\n",
    "plt.plot(x, y)"
   ]
  }
 ],
 "metadata": {
  "kernelspec": {
   "display_name": "Python 3",
   "language": "python",
   "name": "python3"
  },
  "language_info": {
   "codemirror_mode": {
    "name": "ipython",
    "version": 3
   },
   "file_extension": ".py",
   "mimetype": "text/x-python",
   "name": "python",
   "nbconvert_exporter": "python",
   "pygments_lexer": "ipython3",
   "version": "3.6.3"
  }
 },
 "nbformat": 4,
 "nbformat_minor": 2
}
