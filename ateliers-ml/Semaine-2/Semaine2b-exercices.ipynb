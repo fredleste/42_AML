{
 "cells": [
  {
   "cell_type": "markdown",
   "metadata": {},
   "source": [
    "# Régression linéaire à plusieurs variables - Exercices tirés du MOOC d'Andrew Ng"
   ]
  },
  {
   "cell_type": "markdown",
   "metadata": {},
   "source": [
    "## Chargement des données"
   ]
  },
  {
   "cell_type": "markdown",
   "metadata": {},
   "source": [
    "Le jeu de données donne la valeur de plusieurs maisons, ainsi que leur taille (pieds carrés) et le nombre de chambres à coucher"
   ]
  },
  {
   "cell_type": "markdown",
   "metadata": {},
   "source": [
    "### Chargez les données du fichier ex1data1.csv"
   ]
  },
  {
   "cell_type": "code",
   "execution_count": 28,
   "metadata": {
    "collapsed": true
   },
   "outputs": [],
   "source": [
    "import numpy as np\n",
    "import pandas as pd\n",
    "import matplotlib.pyplot as plt"
   ]
  },
  {
   "cell_type": "code",
   "execution_count": 4,
   "metadata": {
    "collapsed": true
   },
   "outputs": [],
   "source": [
    "data = pd.read_csv(\"ex1data2.csv\")"
   ]
  },
  {
   "cell_type": "markdown",
   "metadata": {},
   "source": [
    "### Visualisez les données (valeurs réelles)"
   ]
  },
  {
   "cell_type": "markdown",
   "metadata": {},
   "source": [
    "Maintenant, nous avons deux 'features'. Voyez si elles ont le même ordre de grandeur"
   ]
  },
  {
   "cell_type": "code",
   "execution_count": 5,
   "metadata": {},
   "outputs": [
    {
     "data": {
      "text/html": [
       "<div>\n",
       "<style>\n",
       "    .dataframe thead tr:only-child th {\n",
       "        text-align: right;\n",
       "    }\n",
       "\n",
       "    .dataframe thead th {\n",
       "        text-align: left;\n",
       "    }\n",
       "\n",
       "    .dataframe tbody tr th {\n",
       "        vertical-align: top;\n",
       "    }\n",
       "</style>\n",
       "<table border=\"1\" class=\"dataframe\">\n",
       "  <thead>\n",
       "    <tr style=\"text-align: right;\">\n",
       "      <th></th>\n",
       "      <th>size</th>\n",
       "      <th>nb_bedrooms</th>\n",
       "      <th>price</th>\n",
       "    </tr>\n",
       "  </thead>\n",
       "  <tbody>\n",
       "    <tr>\n",
       "      <th>0</th>\n",
       "      <td>2104</td>\n",
       "      <td>3</td>\n",
       "      <td>399900</td>\n",
       "    </tr>\n",
       "    <tr>\n",
       "      <th>1</th>\n",
       "      <td>1600</td>\n",
       "      <td>3</td>\n",
       "      <td>329900</td>\n",
       "    </tr>\n",
       "    <tr>\n",
       "      <th>2</th>\n",
       "      <td>2400</td>\n",
       "      <td>3</td>\n",
       "      <td>369000</td>\n",
       "    </tr>\n",
       "    <tr>\n",
       "      <th>3</th>\n",
       "      <td>1416</td>\n",
       "      <td>2</td>\n",
       "      <td>232000</td>\n",
       "    </tr>\n",
       "    <tr>\n",
       "      <th>4</th>\n",
       "      <td>3000</td>\n",
       "      <td>4</td>\n",
       "      <td>539900</td>\n",
       "    </tr>\n",
       "    <tr>\n",
       "      <th>5</th>\n",
       "      <td>1985</td>\n",
       "      <td>4</td>\n",
       "      <td>299900</td>\n",
       "    </tr>\n",
       "    <tr>\n",
       "      <th>6</th>\n",
       "      <td>1534</td>\n",
       "      <td>3</td>\n",
       "      <td>314900</td>\n",
       "    </tr>\n",
       "    <tr>\n",
       "      <th>7</th>\n",
       "      <td>1427</td>\n",
       "      <td>3</td>\n",
       "      <td>198999</td>\n",
       "    </tr>\n",
       "    <tr>\n",
       "      <th>8</th>\n",
       "      <td>1380</td>\n",
       "      <td>3</td>\n",
       "      <td>212000</td>\n",
       "    </tr>\n",
       "    <tr>\n",
       "      <th>9</th>\n",
       "      <td>1494</td>\n",
       "      <td>3</td>\n",
       "      <td>242500</td>\n",
       "    </tr>\n",
       "    <tr>\n",
       "      <th>10</th>\n",
       "      <td>1940</td>\n",
       "      <td>4</td>\n",
       "      <td>239999</td>\n",
       "    </tr>\n",
       "    <tr>\n",
       "      <th>11</th>\n",
       "      <td>2000</td>\n",
       "      <td>3</td>\n",
       "      <td>347000</td>\n",
       "    </tr>\n",
       "    <tr>\n",
       "      <th>12</th>\n",
       "      <td>1890</td>\n",
       "      <td>3</td>\n",
       "      <td>329999</td>\n",
       "    </tr>\n",
       "    <tr>\n",
       "      <th>13</th>\n",
       "      <td>4478</td>\n",
       "      <td>5</td>\n",
       "      <td>699900</td>\n",
       "    </tr>\n",
       "    <tr>\n",
       "      <th>14</th>\n",
       "      <td>1268</td>\n",
       "      <td>3</td>\n",
       "      <td>259900</td>\n",
       "    </tr>\n",
       "    <tr>\n",
       "      <th>15</th>\n",
       "      <td>2300</td>\n",
       "      <td>4</td>\n",
       "      <td>449900</td>\n",
       "    </tr>\n",
       "    <tr>\n",
       "      <th>16</th>\n",
       "      <td>1320</td>\n",
       "      <td>2</td>\n",
       "      <td>299900</td>\n",
       "    </tr>\n",
       "    <tr>\n",
       "      <th>17</th>\n",
       "      <td>1236</td>\n",
       "      <td>3</td>\n",
       "      <td>199900</td>\n",
       "    </tr>\n",
       "    <tr>\n",
       "      <th>18</th>\n",
       "      <td>2609</td>\n",
       "      <td>4</td>\n",
       "      <td>499998</td>\n",
       "    </tr>\n",
       "    <tr>\n",
       "      <th>19</th>\n",
       "      <td>3031</td>\n",
       "      <td>4</td>\n",
       "      <td>599000</td>\n",
       "    </tr>\n",
       "    <tr>\n",
       "      <th>20</th>\n",
       "      <td>1767</td>\n",
       "      <td>3</td>\n",
       "      <td>252900</td>\n",
       "    </tr>\n",
       "    <tr>\n",
       "      <th>21</th>\n",
       "      <td>1888</td>\n",
       "      <td>2</td>\n",
       "      <td>255000</td>\n",
       "    </tr>\n",
       "    <tr>\n",
       "      <th>22</th>\n",
       "      <td>1604</td>\n",
       "      <td>3</td>\n",
       "      <td>242900</td>\n",
       "    </tr>\n",
       "    <tr>\n",
       "      <th>23</th>\n",
       "      <td>1962</td>\n",
       "      <td>4</td>\n",
       "      <td>259900</td>\n",
       "    </tr>\n",
       "    <tr>\n",
       "      <th>24</th>\n",
       "      <td>3890</td>\n",
       "      <td>3</td>\n",
       "      <td>573900</td>\n",
       "    </tr>\n",
       "    <tr>\n",
       "      <th>25</th>\n",
       "      <td>1100</td>\n",
       "      <td>3</td>\n",
       "      <td>249900</td>\n",
       "    </tr>\n",
       "    <tr>\n",
       "      <th>26</th>\n",
       "      <td>1458</td>\n",
       "      <td>3</td>\n",
       "      <td>464500</td>\n",
       "    </tr>\n",
       "    <tr>\n",
       "      <th>27</th>\n",
       "      <td>2526</td>\n",
       "      <td>3</td>\n",
       "      <td>469000</td>\n",
       "    </tr>\n",
       "    <tr>\n",
       "      <th>28</th>\n",
       "      <td>2200</td>\n",
       "      <td>3</td>\n",
       "      <td>475000</td>\n",
       "    </tr>\n",
       "    <tr>\n",
       "      <th>29</th>\n",
       "      <td>2637</td>\n",
       "      <td>3</td>\n",
       "      <td>299900</td>\n",
       "    </tr>\n",
       "    <tr>\n",
       "      <th>30</th>\n",
       "      <td>1839</td>\n",
       "      <td>2</td>\n",
       "      <td>349900</td>\n",
       "    </tr>\n",
       "    <tr>\n",
       "      <th>31</th>\n",
       "      <td>1000</td>\n",
       "      <td>1</td>\n",
       "      <td>169900</td>\n",
       "    </tr>\n",
       "    <tr>\n",
       "      <th>32</th>\n",
       "      <td>2040</td>\n",
       "      <td>4</td>\n",
       "      <td>314900</td>\n",
       "    </tr>\n",
       "    <tr>\n",
       "      <th>33</th>\n",
       "      <td>3137</td>\n",
       "      <td>3</td>\n",
       "      <td>579900</td>\n",
       "    </tr>\n",
       "    <tr>\n",
       "      <th>34</th>\n",
       "      <td>1811</td>\n",
       "      <td>4</td>\n",
       "      <td>285900</td>\n",
       "    </tr>\n",
       "    <tr>\n",
       "      <th>35</th>\n",
       "      <td>1437</td>\n",
       "      <td>3</td>\n",
       "      <td>249900</td>\n",
       "    </tr>\n",
       "    <tr>\n",
       "      <th>36</th>\n",
       "      <td>1239</td>\n",
       "      <td>3</td>\n",
       "      <td>229900</td>\n",
       "    </tr>\n",
       "    <tr>\n",
       "      <th>37</th>\n",
       "      <td>2132</td>\n",
       "      <td>4</td>\n",
       "      <td>345000</td>\n",
       "    </tr>\n",
       "    <tr>\n",
       "      <th>38</th>\n",
       "      <td>4215</td>\n",
       "      <td>4</td>\n",
       "      <td>549000</td>\n",
       "    </tr>\n",
       "    <tr>\n",
       "      <th>39</th>\n",
       "      <td>2162</td>\n",
       "      <td>4</td>\n",
       "      <td>287000</td>\n",
       "    </tr>\n",
       "    <tr>\n",
       "      <th>40</th>\n",
       "      <td>1664</td>\n",
       "      <td>2</td>\n",
       "      <td>368500</td>\n",
       "    </tr>\n",
       "    <tr>\n",
       "      <th>41</th>\n",
       "      <td>2238</td>\n",
       "      <td>3</td>\n",
       "      <td>329900</td>\n",
       "    </tr>\n",
       "    <tr>\n",
       "      <th>42</th>\n",
       "      <td>2567</td>\n",
       "      <td>4</td>\n",
       "      <td>314000</td>\n",
       "    </tr>\n",
       "    <tr>\n",
       "      <th>43</th>\n",
       "      <td>1200</td>\n",
       "      <td>3</td>\n",
       "      <td>299000</td>\n",
       "    </tr>\n",
       "    <tr>\n",
       "      <th>44</th>\n",
       "      <td>852</td>\n",
       "      <td>2</td>\n",
       "      <td>179900</td>\n",
       "    </tr>\n",
       "    <tr>\n",
       "      <th>45</th>\n",
       "      <td>1852</td>\n",
       "      <td>4</td>\n",
       "      <td>299900</td>\n",
       "    </tr>\n",
       "    <tr>\n",
       "      <th>46</th>\n",
       "      <td>1203</td>\n",
       "      <td>3</td>\n",
       "      <td>239500</td>\n",
       "    </tr>\n",
       "  </tbody>\n",
       "</table>\n",
       "</div>"
      ],
      "text/plain": [
       "    size  nb_bedrooms   price\n",
       "0   2104            3  399900\n",
       "1   1600            3  329900\n",
       "2   2400            3  369000\n",
       "3   1416            2  232000\n",
       "4   3000            4  539900\n",
       "5   1985            4  299900\n",
       "6   1534            3  314900\n",
       "7   1427            3  198999\n",
       "8   1380            3  212000\n",
       "9   1494            3  242500\n",
       "10  1940            4  239999\n",
       "11  2000            3  347000\n",
       "12  1890            3  329999\n",
       "13  4478            5  699900\n",
       "14  1268            3  259900\n",
       "15  2300            4  449900\n",
       "16  1320            2  299900\n",
       "17  1236            3  199900\n",
       "18  2609            4  499998\n",
       "19  3031            4  599000\n",
       "20  1767            3  252900\n",
       "21  1888            2  255000\n",
       "22  1604            3  242900\n",
       "23  1962            4  259900\n",
       "24  3890            3  573900\n",
       "25  1100            3  249900\n",
       "26  1458            3  464500\n",
       "27  2526            3  469000\n",
       "28  2200            3  475000\n",
       "29  2637            3  299900\n",
       "30  1839            2  349900\n",
       "31  1000            1  169900\n",
       "32  2040            4  314900\n",
       "33  3137            3  579900\n",
       "34  1811            4  285900\n",
       "35  1437            3  249900\n",
       "36  1239            3  229900\n",
       "37  2132            4  345000\n",
       "38  4215            4  549000\n",
       "39  2162            4  287000\n",
       "40  1664            2  368500\n",
       "41  2238            3  329900\n",
       "42  2567            4  314000\n",
       "43  1200            3  299000\n",
       "44   852            2  179900\n",
       "45  1852            4  299900\n",
       "46  1203            3  239500"
      ]
     },
     "execution_count": 5,
     "metadata": {},
     "output_type": "execute_result"
    }
   ],
   "source": [
    "data.head(47)"
   ]
  },
  {
   "cell_type": "markdown",
   "metadata": {},
   "source": [
    "## Définissez quelques variables utiles"
   ]
  },
  {
   "cell_type": "markdown",
   "metadata": {},
   "source": [
    "### Définissez X et y"
   ]
  },
  {
   "cell_type": "markdown",
   "metadata": {},
   "source": [
    "X est maintenant une matrice de dimensions m x 2"
   ]
  },
  {
   "cell_type": "code",
   "execution_count": 6,
   "metadata": {},
   "outputs": [
    {
     "data": {
      "text/plain": [
       "(array([[2104,    3],\n",
       "        [1600,    3],\n",
       "        [2400,    3],\n",
       "        [1416,    2],\n",
       "        [3000,    4],\n",
       "        [1985,    4],\n",
       "        [1534,    3],\n",
       "        [1427,    3],\n",
       "        [1380,    3],\n",
       "        [1494,    3],\n",
       "        [1940,    4],\n",
       "        [2000,    3],\n",
       "        [1890,    3],\n",
       "        [4478,    5],\n",
       "        [1268,    3],\n",
       "        [2300,    4],\n",
       "        [1320,    2],\n",
       "        [1236,    3],\n",
       "        [2609,    4],\n",
       "        [3031,    4],\n",
       "        [1767,    3],\n",
       "        [1888,    2],\n",
       "        [1604,    3],\n",
       "        [1962,    4],\n",
       "        [3890,    3],\n",
       "        [1100,    3],\n",
       "        [1458,    3],\n",
       "        [2526,    3],\n",
       "        [2200,    3],\n",
       "        [2637,    3],\n",
       "        [1839,    2],\n",
       "        [1000,    1],\n",
       "        [2040,    4],\n",
       "        [3137,    3],\n",
       "        [1811,    4],\n",
       "        [1437,    3],\n",
       "        [1239,    3],\n",
       "        [2132,    4],\n",
       "        [4215,    4],\n",
       "        [2162,    4],\n",
       "        [1664,    2],\n",
       "        [2238,    3],\n",
       "        [2567,    4],\n",
       "        [1200,    3],\n",
       "        [ 852,    2],\n",
       "        [1852,    4],\n",
       "        [1203,    3]]),\n",
       " array([399900, 329900, 369000, 232000, 539900, 299900, 314900, 198999,\n",
       "        212000, 242500, 239999, 347000, 329999, 699900, 259900, 449900,\n",
       "        299900, 199900, 499998, 599000, 252900, 255000, 242900, 259900,\n",
       "        573900, 249900, 464500, 469000, 475000, 299900, 349900, 169900,\n",
       "        314900, 579900, 285900, 249900, 229900, 345000, 549000, 287000,\n",
       "        368500, 329900, 314000, 299000, 179900, 299900, 239500]))"
      ]
     },
     "execution_count": 6,
     "metadata": {},
     "output_type": "execute_result"
    }
   ],
   "source": [
    "X = np.array([data['size'],data['nb_bedrooms']]).T\n",
    "y = np.array(data['price'])\n",
    "X, y"
   ]
  },
  {
   "cell_type": "markdown",
   "metadata": {},
   "source": [
    "### Initialisez theta (combien de dimensions?)"
   ]
  },
  {
   "cell_type": "code",
   "execution_count": 7,
   "metadata": {},
   "outputs": [
    {
     "data": {
      "text/plain": [
       "array([ 0.,  0.,  0.])"
      ]
     },
     "execution_count": 7,
     "metadata": {},
     "output_type": "execute_result"
    }
   ],
   "source": [
    "theta = np.zeros(3)\n",
    "theta"
   ]
  },
  {
   "cell_type": "markdown",
   "metadata": {},
   "source": [
    "### Vérifiez les dimensions de theta et X. Sont-elles compatibles pour implémenter la fonction d'hypothèse?"
   ]
  },
  {
   "cell_type": "code",
   "execution_count": 8,
   "metadata": {},
   "outputs": [
    {
     "data": {
      "text/plain": [
       "(47, 2)"
      ]
     },
     "execution_count": 8,
     "metadata": {},
     "output_type": "execute_result"
    }
   ],
   "source": [
    "X.shape"
   ]
  },
  {
   "cell_type": "code",
   "execution_count": 9,
   "metadata": {},
   "outputs": [
    {
     "data": {
      "text/plain": [
       "array([ 1.,  1.,  1.,  1.,  1.,  1.,  1.,  1.,  1.,  1.,  1.,  1.,  1.,\n",
       "        1.,  1.,  1.,  1.,  1.,  1.,  1.,  1.,  1.,  1.,  1.,  1.,  1.,\n",
       "        1.,  1.,  1.,  1.,  1.,  1.,  1.,  1.,  1.,  1.,  1.,  1.,  1.,\n",
       "        1.,  1.,  1.,  1.,  1.,  1.,  1.,  1.])"
      ]
     },
     "execution_count": 9,
     "metadata": {},
     "output_type": "execute_result"
    }
   ],
   "source": [
    "np.ones(len(X))"
   ]
  },
  {
   "cell_type": "code",
   "execution_count": 10,
   "metadata": {},
   "outputs": [
    {
     "data": {
      "text/plain": [
       "array([399900, 329900, 369000, 232000, 539900, 299900, 314900, 198999,\n",
       "       212000, 242500, 239999, 347000, 329999, 699900, 259900, 449900,\n",
       "       299900, 199900, 499998, 599000, 252900, 255000, 242900, 259900,\n",
       "       573900, 249900, 464500, 469000, 475000, 299900, 349900, 169900,\n",
       "       314900, 579900, 285900, 249900, 229900, 345000, 549000, 287000,\n",
       "       368500, 329900, 314000, 299000, 179900, 299900, 239500])"
      ]
     },
     "execution_count": 10,
     "metadata": {},
     "output_type": "execute_result"
    }
   ],
   "source": [
    "tmp = np.array([[1,x1,x2] for [x1,x2] in np.array([data['size'],data['nb_bedrooms']]).T])\n",
    "tmp\n",
    "y"
   ]
  },
  {
   "cell_type": "markdown",
   "metadata": {},
   "source": [
    "### Modifiez X en conséquence"
   ]
  },
  {
   "cell_type": "code",
   "execution_count": 79,
   "metadata": {},
   "outputs": [
    {
     "data": {
      "text/plain": [
       "array([[  1.00000000e+00,   2.10400000e+03,   3.00000000e+00],\n",
       "       [  1.00000000e+00,   1.60000000e+03,   3.00000000e+00],\n",
       "       [  1.00000000e+00,   2.40000000e+03,   3.00000000e+00],\n",
       "       [  1.00000000e+00,   1.41600000e+03,   2.00000000e+00],\n",
       "       [  1.00000000e+00,   3.00000000e+03,   4.00000000e+00],\n",
       "       [  1.00000000e+00,   1.98500000e+03,   4.00000000e+00],\n",
       "       [  1.00000000e+00,   1.53400000e+03,   3.00000000e+00],\n",
       "       [  1.00000000e+00,   1.42700000e+03,   3.00000000e+00],\n",
       "       [  1.00000000e+00,   1.38000000e+03,   3.00000000e+00],\n",
       "       [  1.00000000e+00,   1.49400000e+03,   3.00000000e+00],\n",
       "       [  1.00000000e+00,   1.94000000e+03,   4.00000000e+00],\n",
       "       [  1.00000000e+00,   2.00000000e+03,   3.00000000e+00],\n",
       "       [  1.00000000e+00,   1.89000000e+03,   3.00000000e+00],\n",
       "       [  1.00000000e+00,   4.47800000e+03,   5.00000000e+00],\n",
       "       [  1.00000000e+00,   1.26800000e+03,   3.00000000e+00],\n",
       "       [  1.00000000e+00,   2.30000000e+03,   4.00000000e+00],\n",
       "       [  1.00000000e+00,   1.32000000e+03,   2.00000000e+00],\n",
       "       [  1.00000000e+00,   1.23600000e+03,   3.00000000e+00],\n",
       "       [  1.00000000e+00,   2.60900000e+03,   4.00000000e+00],\n",
       "       [  1.00000000e+00,   3.03100000e+03,   4.00000000e+00],\n",
       "       [  1.00000000e+00,   1.76700000e+03,   3.00000000e+00],\n",
       "       [  1.00000000e+00,   1.88800000e+03,   2.00000000e+00],\n",
       "       [  1.00000000e+00,   1.60400000e+03,   3.00000000e+00],\n",
       "       [  1.00000000e+00,   1.96200000e+03,   4.00000000e+00],\n",
       "       [  1.00000000e+00,   3.89000000e+03,   3.00000000e+00],\n",
       "       [  1.00000000e+00,   1.10000000e+03,   3.00000000e+00],\n",
       "       [  1.00000000e+00,   1.45800000e+03,   3.00000000e+00],\n",
       "       [  1.00000000e+00,   2.52600000e+03,   3.00000000e+00],\n",
       "       [  1.00000000e+00,   2.20000000e+03,   3.00000000e+00],\n",
       "       [  1.00000000e+00,   2.63700000e+03,   3.00000000e+00],\n",
       "       [  1.00000000e+00,   1.83900000e+03,   2.00000000e+00],\n",
       "       [  1.00000000e+00,   1.00000000e+03,   1.00000000e+00],\n",
       "       [  1.00000000e+00,   2.04000000e+03,   4.00000000e+00],\n",
       "       [  1.00000000e+00,   3.13700000e+03,   3.00000000e+00],\n",
       "       [  1.00000000e+00,   1.81100000e+03,   4.00000000e+00],\n",
       "       [  1.00000000e+00,   1.43700000e+03,   3.00000000e+00],\n",
       "       [  1.00000000e+00,   1.23900000e+03,   3.00000000e+00],\n",
       "       [  1.00000000e+00,   2.13200000e+03,   4.00000000e+00],\n",
       "       [  1.00000000e+00,   4.21500000e+03,   4.00000000e+00],\n",
       "       [  1.00000000e+00,   2.16200000e+03,   4.00000000e+00],\n",
       "       [  1.00000000e+00,   1.66400000e+03,   2.00000000e+00],\n",
       "       [  1.00000000e+00,   2.23800000e+03,   3.00000000e+00],\n",
       "       [  1.00000000e+00,   2.56700000e+03,   4.00000000e+00],\n",
       "       [  1.00000000e+00,   1.20000000e+03,   3.00000000e+00],\n",
       "       [  1.00000000e+00,   8.52000000e+02,   2.00000000e+00],\n",
       "       [  1.00000000e+00,   1.85200000e+03,   4.00000000e+00],\n",
       "       [  1.00000000e+00,   1.20300000e+03,   3.00000000e+00]])"
      ]
     },
     "execution_count": 79,
     "metadata": {},
     "output_type": "execute_result"
    }
   ],
   "source": [
    "X = np.column_stack((np.ones(len(X)),np.array([data['size'],data['nb_bedrooms']]).T))\n",
    "X"
   ]
  },
  {
   "cell_type": "markdown",
   "metadata": {},
   "source": [
    "## Écrivez une fonction pour normaliser les features"
   ]
  },
  {
   "cell_type": "code",
   "execution_count": 80,
   "metadata": {},
   "outputs": [
    {
     "data": {
      "text/plain": [
       "(0.0, 786.20261874304674, 0.75284280906187806)"
      ]
     },
     "execution_count": 80,
     "metadata": {},
     "output_type": "execute_result"
    }
   ],
   "source": [
    "#tmp = [[x0, (x1-np.mean(X[:,1]))/np.std(X[:,1]), (x2-np.mean(X[:,2]))/np.std(X[:,2])] for [x0,x1,x2] in X]\n",
    "np.mean(X, axis=0), np.std(X, axis=0)\n",
    "np.mean(X[:,0]), np.mean(X[:,1]), np.mean(X[:,2])\n",
    "np.std(X[:,0]), np.std(X[:,1]), np.std(X[:,2])"
   ]
  },
  {
   "cell_type": "code",
   "execution_count": 81,
   "metadata": {},
   "outputs": [],
   "source": [
    "def featureNormalize(X):\n",
    "    mean = np.mean(X, axis=0) #(np.mean(X[:,0]), np.mean(X[:,1]), np.mean(X[:,2]))\n",
    "    stdev = np.std(X, axis=0) #(np.std(X[:,0]), np.std(X[:,1]), np.std(X[:,2]))\n",
    "    X = np.array([[x0, (x1-np.mean(X[:,1]))/np.std(X[:,1]), (x2-np.mean(X[:,2]))/np.std(X[:,2])] for [x0,x1,x2] in X])\n",
    "    return X, mean, stdev\n",
    "X, mean, stdev = featureNormalize(X)"
   ]
  },
  {
   "cell_type": "code",
   "execution_count": 82,
   "metadata": {},
   "outputs": [
    {
     "data": {
      "text/plain": [
       "(array([  1.00000000e+00,   2.00068085e+03,   3.17021277e+00]),\n",
       " array([  0.00000000e+00,   7.86202619e+02,   7.52842809e-01]),\n",
       " array([[  1.00000000e+00,   1.31415422e-01,  -2.26093368e-01],\n",
       "        [  1.00000000e+00,  -5.09640698e-01,  -2.26093368e-01],\n",
       "        [  1.00000000e+00,   5.07908699e-01,  -2.26093368e-01],\n",
       "        [  1.00000000e+00,  -7.43677059e-01,  -1.55439190e+00],\n",
       "        [  1.00000000e+00,   1.27107075e+00,   1.10220517e+00],\n",
       "        [  1.00000000e+00,  -1.99450507e-02,   1.10220517e+00],\n",
       "        [  1.00000000e+00,  -5.93588523e-01,  -2.26093368e-01],\n",
       "        [  1.00000000e+00,  -7.29685755e-01,  -2.26093368e-01],\n",
       "        [  1.00000000e+00,  -7.89466782e-01,  -2.26093368e-01],\n",
       "        [  1.00000000e+00,  -6.44465993e-01,  -2.26093368e-01],\n",
       "        [  1.00000000e+00,  -7.71822042e-02,   1.10220517e+00],\n",
       "        [  1.00000000e+00,  -8.65999486e-04,  -2.26093368e-01],\n",
       "        [  1.00000000e+00,  -1.40779041e-01,  -2.26093368e-01],\n",
       "        [  1.00000000e+00,   3.15099326e+00,   2.43050370e+00],\n",
       "        [  1.00000000e+00,  -9.31923697e-01,  -2.26093368e-01],\n",
       "        [  1.00000000e+00,   3.80715024e-01,   1.10220517e+00],\n",
       "        [  1.00000000e+00,  -8.65782986e-01,  -1.55439190e+00],\n",
       "        [  1.00000000e+00,  -9.72625673e-01,  -2.26093368e-01],\n",
       "        [  1.00000000e+00,   7.73743478e-01,   1.10220517e+00],\n",
       "        [  1.00000000e+00,   1.31050078e+00,   1.10220517e+00],\n",
       "        [  1.00000000e+00,  -2.97227261e-01,  -2.26093368e-01],\n",
       "        [  1.00000000e+00,  -1.43322915e-01,  -1.55439190e+00],\n",
       "        [  1.00000000e+00,  -5.04552951e-01,  -2.26093368e-01],\n",
       "        [  1.00000000e+00,  -4.91995958e-02,   1.10220517e+00],\n",
       "        [  1.00000000e+00,   2.40309445e+00,  -2.26093368e-01],\n",
       "        [  1.00000000e+00,  -1.14560907e+00,  -2.26093368e-01],\n",
       "        [  1.00000000e+00,  -6.90255715e-01,  -2.26093368e-01],\n",
       "        [  1.00000000e+00,   6.68172729e-01,  -2.26093368e-01],\n",
       "        [  1.00000000e+00,   2.53521350e-01,  -2.26093368e-01],\n",
       "        [  1.00000000e+00,   8.09357707e-01,  -2.26093368e-01],\n",
       "        [  1.00000000e+00,  -2.05647815e-01,  -1.55439190e+00],\n",
       "        [  1.00000000e+00,  -1.27280274e+00,  -2.88269044e+00],\n",
       "        [  1.00000000e+00,   5.00114703e-02,   1.10220517e+00],\n",
       "        [  1.00000000e+00,   1.44532608e+00,  -2.26093368e-01],\n",
       "        [  1.00000000e+00,  -2.41262044e-01,   1.10220517e+00],\n",
       "        [  1.00000000e+00,  -7.16966387e-01,  -2.26093368e-01],\n",
       "        [  1.00000000e+00,  -9.68809863e-01,  -2.26093368e-01],\n",
       "        [  1.00000000e+00,   1.67029651e-01,   1.10220517e+00],\n",
       "        [  1.00000000e+00,   2.81647389e+00,   1.10220517e+00],\n",
       "        [  1.00000000e+00,   2.05187753e-01,   1.10220517e+00],\n",
       "        [  1.00000000e+00,  -4.28236746e-01,  -1.55439190e+00],\n",
       "        [  1.00000000e+00,   3.01854946e-01,  -2.26093368e-01],\n",
       "        [  1.00000000e+00,   7.20322135e-01,   1.10220517e+00],\n",
       "        [  1.00000000e+00,  -1.01841540e+00,  -2.26093368e-01],\n",
       "        [  1.00000000e+00,  -1.46104938e+00,  -1.55439190e+00],\n",
       "        [  1.00000000e+00,  -1.89112638e-01,   1.10220517e+00],\n",
       "        [  1.00000000e+00,  -1.01459959e+00,  -2.26093368e-01]]))"
      ]
     },
     "execution_count": 82,
     "metadata": {},
     "output_type": "execute_result"
    }
   ],
   "source": [
    "mean, stdev, X"
   ]
  },
  {
   "cell_type": "markdown",
   "metadata": {},
   "source": [
    "### Maintenant nous allons devoir adapter nos fonctions _predict_, _fit_, et _cost_ à une situation à plusieurs variables"
   ]
  },
  {
   "cell_type": "code",
   "execution_count": 83,
   "metadata": {},
   "outputs": [
    {
     "data": {
      "text/plain": [
       "array([ 0.,  0.,  0.])"
      ]
     },
     "execution_count": 83,
     "metadata": {},
     "output_type": "execute_result"
    }
   ],
   "source": [
    "theta = np.zeros(3)\n",
    "theta"
   ]
  },
  {
   "cell_type": "code",
   "execution_count": 84,
   "metadata": {},
   "outputs": [
    {
     "data": {
      "text/plain": [
       "array([ 0.,  0.,  0.,  0.,  0.,  0.,  0.,  0.,  0.,  0.,  0.,  0.,  0.,\n",
       "        0.,  0.,  0.,  0.,  0.,  0.,  0.,  0.,  0.,  0.,  0.,  0.,  0.,\n",
       "        0.,  0.,  0.,  0.,  0.,  0.,  0.,  0.,  0.,  0.,  0.,  0.,  0.,\n",
       "        0.,  0.,  0.,  0.,  0.,  0.,  0.,  0.])"
      ]
     },
     "execution_count": 84,
     "metadata": {},
     "output_type": "execute_result"
    }
   ],
   "source": [
    "def predict(X, theta):\n",
    "    return np.dot(X,theta)\n",
    "predict(X, theta)"
   ]
  },
  {
   "cell_type": "code",
   "execution_count": 85,
   "metadata": {},
   "outputs": [
    {
     "data": {
      "text/plain": [
       "65591548106.457443"
      ]
     },
     "execution_count": 85,
     "metadata": {},
     "output_type": "execute_result"
    }
   ],
   "source": [
    "def cost(X, y, theta):\n",
    "    m = len(X)\n",
    "    H = predict(X,theta)\n",
    "    J = np.dot(H-y,H-y) / (2 * m)\n",
    "    return J\n",
    "cost(X,y,[0,0,0])"
   ]
  },
  {
   "cell_type": "code",
   "execution_count": 86,
   "metadata": {
    "collapsed": true
   },
   "outputs": [],
   "source": [
    "def fit_with_cost(X, y, theta, alpha, num_iters):\n",
    "    m = len(X)\n",
    "    J_history = []\n",
    "    for i in range(num_iters):\n",
    "        h = predict(X, theta)\n",
    "#        theta[0] = theta[0] - ((alpha/m)*np.sum(h - y))\n",
    "#        theta[1] = theta[1] - ((alpha/m)*np.dot(h - y, X[:,1]))\n",
    "#        theta[2] = theta[2] - ((alpha/m)*np.dot(h - y, X[:,2]))\n",
    "        theta -= np.dot(X.T, h - y) * alpha / m\n",
    "        J_history.append(cost(X,y,theta))\n",
    "    return theta, J_history"
   ]
  },
  {
   "cell_type": "markdown",
   "metadata": {},
   "source": [
    "## Lancez l'entrainement du modèle"
   ]
  },
  {
   "cell_type": "markdown",
   "metadata": {},
   "source": [
    "Vous êtes libres de choisir alpha et num_iters cette fois!"
   ]
  },
  {
   "cell_type": "markdown",
   "metadata": {},
   "source": [
    "N'oubliez pas de récupérer la moyenne et l'écart-type calculés!"
   ]
  },
  {
   "cell_type": "code",
   "execution_count": 87,
   "metadata": {},
   "outputs": [
    {
     "data": {
      "text/plain": [
       "array([ 340412.65957447,  109447.79645425,   -6578.35483877])"
      ]
     },
     "execution_count": 87,
     "metadata": {},
     "output_type": "execute_result"
    }
   ],
   "source": [
    "theta = np.zeros(3)\n",
    "theta, J_history = fit_with_cost(X,y,theta,0.01,5000)\n",
    "theta"
   ]
  },
  {
   "cell_type": "markdown",
   "metadata": {},
   "source": [
    "## Visualisez l'évolution du coût (graphe de convergence)"
   ]
  },
  {
   "cell_type": "code",
   "execution_count": 88,
   "metadata": {},
   "outputs": [
    {
     "data": {
      "text/plain": [
       "[<matplotlib.lines.Line2D at 0x10ffa1128>]"
      ]
     },
     "execution_count": 88,
     "metadata": {},
     "output_type": "execute_result"
    },
    {
     "data": {
      "image/png": "[encoded data removed]",
      "text/plain": [
       "<matplotlib.figure.Figure at 0x10fdd1a58>"
      ]
     },
     "metadata": {},
     "output_type": "display_data"
    }
   ],
   "source": [
    "%matplotlib inline\n",
    "fit = plt.figure()\n",
    "ax = plt.axes()\n",
    "ax.plot(J_history)"
   ]
  },
  {
   "cell_type": "markdown",
   "metadata": {},
   "source": [
    "## Testez votre modèle"
   ]
  },
  {
   "cell_type": "markdown",
   "metadata": {},
   "source": [
    "Que vaut une maison de 1650 pieds carrés et de 3 chambres à coucher? (Si la valeur est aberrante, vous avez peut-être oublié une étape...)"
   ]
  },
  {
   "cell_type": "code",
   "execution_count": 89,
   "metadata": {},
   "outputs": [
    {
     "data": {
      "text/plain": [
       "293081.4643382784"
      ]
     },
     "execution_count": 89,
     "metadata": {},
     "output_type": "execute_result"
    }
   ],
   "source": [
    "house = np.array([1, (1650-mean[1])/stdev[1], (3-mean[2])/stdev[2]])\n",
    "price = predict(house, theta)\n",
    "price"
   ]
  },
  {
   "cell_type": "code",
   "execution_count": null,
   "metadata": {},
   "outputs": [],
   "source": []
  }
 ],
 "metadata": {
  "kernelspec": {
   "display_name": "Python 3",
   "language": "python",
   "name": "python3"
  },
  "language_info": {
   "codemirror_mode": {
    "name": "ipython",
    "version": 3
   },
   "file_extension": ".py",
   "mimetype": "text/x-python",
   "name": "python",
   "nbconvert_exporter": "python",
   "pygments_lexer": "ipython3",
   "version": "3.6.3"
  }
 },
 "nbformat": 4,
 "nbformat_minor": 2
}
