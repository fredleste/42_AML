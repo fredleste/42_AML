{
 "cells": [
  {
   "cell_type": "code",
   "execution_count": 2,
   "metadata": {
    "collapsed": true
   },
   "outputs": [],
   "source": [
    "import pandas as pd\n",
    "import numpy as np\n",
    "import matplotlib.pyplot as plt\n",
    "%matplotlib inline"
   ]
  },
  {
   "cell_type": "code",
   "execution_count": 4,
   "metadata": {},
   "outputs": [
    {
     "data": {
      "text/plain": [
       "24"
      ]
     },
     "execution_count": 4,
     "metadata": {},
     "output_type": "execute_result"
    }
   ],
   "source": [
    "data = pd.read_csv('ftlr_data1.csv')\n",
    "len(data)"
   ]
  },
  {
   "cell_type": "code",
   "execution_count": 5,
   "metadata": {},
   "outputs": [
    {
     "data": {
      "text/plain": [
       "Text(0,0.5,'price')"
      ]
     },
     "execution_count": 5,
     "metadata": {},
     "output_type": "execute_result"
    },
    {
     "data": {
      "image/png": "[encoded data removed]",
      "text/plain": [
       "<matplotlib.figure.Figure at 0x111ec9b00>"
      ]
     },
     "metadata": {},
     "output_type": "display_data"
    }
   ],
   "source": [
    "plt.figure(figsize = (12, 8))\n",
    "plt.scatter(data['km'], data['price'], marker = 'o')\n",
    "plt.xlabel('km',fontsize='14', fontweight='bold')\n",
    "plt.ylabel('price', fontsize='14', fontweight='bold')"
   ]
  },
  {
   "cell_type": "code",
   "execution_count": 7,
   "metadata": {},
   "outputs": [
    {
     "data": {
      "text/plain": [
       "(101066.25, 51565.1899106445)"
      ]
     },
     "execution_count": 7,
     "metadata": {},
     "output_type": "execute_result"
    }
   ],
   "source": [
    "np.mean(data['km']), np.std(data['km'])"
   ]
  },
  {
   "cell_type": "markdown",
   "metadata": {},
   "source": [
    "Standardization : X = (X - np.mean(X)) / np.std(X))"
   ]
  },
  {
   "cell_type": "code",
   "execution_count": 8,
   "metadata": {
    "collapsed": true
   },
   "outputs": [],
   "source": [
    "data['kmfs'] = (data['km'] - np.mean(data['km'])) / (np.std(data['km']))\n",
    "data['pricefs'] = (data['price'] - np.mean(data['price'])) / (np.std(data['price']))"
   ]
  },
  {
   "cell_type": "code",
   "execution_count": 9,
   "metadata": {},
   "outputs": [
    {
     "data": {
      "text/html": [
       "<div>\n",
       "<style>\n",
       "    .dataframe thead tr:only-child th {\n",
       "        text-align: right;\n",
       "    }\n",
       "\n",
       "    .dataframe thead th {\n",
       "        text-align: left;\n",
       "    }\n",
       "\n",
       "    .dataframe tbody tr th {\n",
       "        vertical-align: top;\n",
       "    }\n",
       "</style>\n",
       "<table border=\"1\" class=\"dataframe\">\n",
       "  <thead>\n",
       "    <tr style=\"text-align: right;\">\n",
       "      <th></th>\n",
       "      <th>km</th>\n",
       "      <th>price</th>\n",
       "      <th>kmfs</th>\n",
       "      <th>pricefs</th>\n",
       "    </tr>\n",
       "  </thead>\n",
       "  <tbody>\n",
       "    <tr>\n",
       "      <th>0</th>\n",
       "      <td>240000</td>\n",
       "      <td>3650</td>\n",
       "      <td>2.694332</td>\n",
       "      <td>-2.075933</td>\n",
       "    </tr>\n",
       "    <tr>\n",
       "      <th>1</th>\n",
       "      <td>139800</td>\n",
       "      <td>3800</td>\n",
       "      <td>0.751161</td>\n",
       "      <td>-1.959822</td>\n",
       "    </tr>\n",
       "    <tr>\n",
       "      <th>2</th>\n",
       "      <td>150500</td>\n",
       "      <td>4400</td>\n",
       "      <td>0.958665</td>\n",
       "      <td>-1.495379</td>\n",
       "    </tr>\n",
       "    <tr>\n",
       "      <th>3</th>\n",
       "      <td>185530</td>\n",
       "      <td>4450</td>\n",
       "      <td>1.637999</td>\n",
       "      <td>-1.456675</td>\n",
       "    </tr>\n",
       "    <tr>\n",
       "      <th>4</th>\n",
       "      <td>176000</td>\n",
       "      <td>5250</td>\n",
       "      <td>1.453185</td>\n",
       "      <td>-0.837417</td>\n",
       "    </tr>\n",
       "    <tr>\n",
       "      <th>5</th>\n",
       "      <td>114800</td>\n",
       "      <td>5350</td>\n",
       "      <td>0.266338</td>\n",
       "      <td>-0.760010</td>\n",
       "    </tr>\n",
       "    <tr>\n",
       "      <th>6</th>\n",
       "      <td>166800</td>\n",
       "      <td>5800</td>\n",
       "      <td>1.274770</td>\n",
       "      <td>-0.411677</td>\n",
       "    </tr>\n",
       "    <tr>\n",
       "      <th>7</th>\n",
       "      <td>89000</td>\n",
       "      <td>5990</td>\n",
       "      <td>-0.234000</td>\n",
       "      <td>-0.264604</td>\n",
       "    </tr>\n",
       "    <tr>\n",
       "      <th>8</th>\n",
       "      <td>144500</td>\n",
       "      <td>5999</td>\n",
       "      <td>0.842308</td>\n",
       "      <td>-0.257637</td>\n",
       "    </tr>\n",
       "    <tr>\n",
       "      <th>9</th>\n",
       "      <td>84000</td>\n",
       "      <td>6200</td>\n",
       "      <td>-0.330965</td>\n",
       "      <td>-0.102049</td>\n",
       "    </tr>\n",
       "    <tr>\n",
       "      <th>10</th>\n",
       "      <td>82029</td>\n",
       "      <td>6390</td>\n",
       "      <td>-0.369188</td>\n",
       "      <td>0.045025</td>\n",
       "    </tr>\n",
       "    <tr>\n",
       "      <th>11</th>\n",
       "      <td>63060</td>\n",
       "      <td>6390</td>\n",
       "      <td>-0.737052</td>\n",
       "      <td>0.045025</td>\n",
       "    </tr>\n",
       "    <tr>\n",
       "      <th>12</th>\n",
       "      <td>74000</td>\n",
       "      <td>6600</td>\n",
       "      <td>-0.524894</td>\n",
       "      <td>0.207580</td>\n",
       "    </tr>\n",
       "    <tr>\n",
       "      <th>13</th>\n",
       "      <td>97500</td>\n",
       "      <td>6800</td>\n",
       "      <td>-0.069160</td>\n",
       "      <td>0.362395</td>\n",
       "    </tr>\n",
       "    <tr>\n",
       "      <th>14</th>\n",
       "      <td>67000</td>\n",
       "      <td>6800</td>\n",
       "      <td>-0.660644</td>\n",
       "      <td>0.362395</td>\n",
       "    </tr>\n",
       "    <tr>\n",
       "      <th>15</th>\n",
       "      <td>76025</td>\n",
       "      <td>6900</td>\n",
       "      <td>-0.485623</td>\n",
       "      <td>0.439802</td>\n",
       "    </tr>\n",
       "    <tr>\n",
       "      <th>16</th>\n",
       "      <td>48235</td>\n",
       "      <td>6900</td>\n",
       "      <td>-1.024553</td>\n",
       "      <td>0.439802</td>\n",
       "    </tr>\n",
       "    <tr>\n",
       "      <th>17</th>\n",
       "      <td>93000</td>\n",
       "      <td>6990</td>\n",
       "      <td>-0.156428</td>\n",
       "      <td>0.509469</td>\n",
       "    </tr>\n",
       "    <tr>\n",
       "      <th>18</th>\n",
       "      <td>60949</td>\n",
       "      <td>7490</td>\n",
       "      <td>-0.777991</td>\n",
       "      <td>0.896505</td>\n",
       "    </tr>\n",
       "    <tr>\n",
       "      <th>19</th>\n",
       "      <td>65674</td>\n",
       "      <td>7555</td>\n",
       "      <td>-0.686359</td>\n",
       "      <td>0.946820</td>\n",
       "    </tr>\n",
       "    <tr>\n",
       "      <th>20</th>\n",
       "      <td>54000</td>\n",
       "      <td>7990</td>\n",
       "      <td>-0.912752</td>\n",
       "      <td>1.283541</td>\n",
       "    </tr>\n",
       "    <tr>\n",
       "      <th>21</th>\n",
       "      <td>68500</td>\n",
       "      <td>7990</td>\n",
       "      <td>-0.631555</td>\n",
       "      <td>1.283541</td>\n",
       "    </tr>\n",
       "    <tr>\n",
       "      <th>22</th>\n",
       "      <td>22899</td>\n",
       "      <td>7990</td>\n",
       "      <td>-1.515892</td>\n",
       "      <td>1.283541</td>\n",
       "    </tr>\n",
       "    <tr>\n",
       "      <th>23</th>\n",
       "      <td>61789</td>\n",
       "      <td>8290</td>\n",
       "      <td>-0.761701</td>\n",
       "      <td>1.515763</td>\n",
       "    </tr>\n",
       "  </tbody>\n",
       "</table>\n",
       "</div>"
      ],
      "text/plain": [
       "        km  price      kmfs   pricefs\n",
       "0   240000   3650  2.694332 -2.075933\n",
       "1   139800   3800  0.751161 -1.959822\n",
       "2   150500   4400  0.958665 -1.495379\n",
       "3   185530   4450  1.637999 -1.456675\n",
       "4   176000   5250  1.453185 -0.837417\n",
       "5   114800   5350  0.266338 -0.760010\n",
       "6   166800   5800  1.274770 -0.411677\n",
       "7    89000   5990 -0.234000 -0.264604\n",
       "8   144500   5999  0.842308 -0.257637\n",
       "9    84000   6200 -0.330965 -0.102049\n",
       "10   82029   6390 -0.369188  0.045025\n",
       "11   63060   6390 -0.737052  0.045025\n",
       "12   74000   6600 -0.524894  0.207580\n",
       "13   97500   6800 -0.069160  0.362395\n",
       "14   67000   6800 -0.660644  0.362395\n",
       "15   76025   6900 -0.485623  0.439802\n",
       "16   48235   6900 -1.024553  0.439802\n",
       "17   93000   6990 -0.156428  0.509469\n",
       "18   60949   7490 -0.777991  0.896505\n",
       "19   65674   7555 -0.686359  0.946820\n",
       "20   54000   7990 -0.912752  1.283541\n",
       "21   68500   7990 -0.631555  1.283541\n",
       "22   22899   7990 -1.515892  1.283541\n",
       "23   61789   8290 -0.761701  1.515763"
      ]
     },
     "execution_count": 9,
     "metadata": {},
     "output_type": "execute_result"
    }
   ],
   "source": [
    "data"
   ]
  },
  {
   "cell_type": "code",
   "execution_count": 10,
   "metadata": {
    "collapsed": true
   },
   "outputs": [],
   "source": [
    "X = data['kmfs'].values\n",
    "y = data['pricefs'].values"
   ]
  },
  {
   "cell_type": "code",
   "execution_count": 11,
   "metadata": {},
   "outputs": [
    {
     "data": {
      "text/plain": [
       "(array([ 2.69433217,  0.75116081,  0.95866514,  1.6379994 ,  1.4531848 ,\n",
       "         0.26633762,  1.27476986, -0.23399991,  0.84230757, -0.33096455,\n",
       "        -0.36918801, -0.73705246, -0.52489383, -0.06916003, -0.66064432,\n",
       "        -0.48562315, -1.02455261, -0.1564282 , -0.77799093, -0.68635935,\n",
       "        -0.91275238, -0.63155493, -1.51589183, -0.76170087]),\n",
       " array([-2.07593306, -1.95982221, -1.49537879, -1.45667517, -0.83741728,\n",
       "        -0.76001005, -0.41167748, -0.26460374, -0.25763708, -0.10204854,\n",
       "         0.04502521,  0.04502521,  0.2075804 ,  0.36239488,  0.36239488,\n",
       "         0.43980211,  0.43980211,  0.50946863,  0.89650481,  0.94681951,\n",
       "         1.28354099,  1.28354099,  1.28354099,  1.5157627 ]))"
      ]
     },
     "execution_count": 11,
     "metadata": {},
     "output_type": "execute_result"
    }
   ],
   "source": [
    "X, y"
   ]
  },
  {
   "cell_type": "markdown",
   "metadata": {},
   "source": [
    "Prediction / hypothesis : y = θ1 * X + θ0 "
   ]
  },
  {
   "cell_type": "code",
   "execution_count": 12,
   "metadata": {
    "collapsed": true
   },
   "outputs": [],
   "source": [
    "def predict(X, theta):\n",
    "    return theta[0] + theta[1] * X"
   ]
  },
  {
   "cell_type": "code",
   "execution_count": 13,
   "metadata": {},
   "outputs": [
    {
     "data": {
      "text/plain": [
       "array([ 0.,  0.,  0.,  0.,  0.,  0.,  0.,  0.,  0.,  0.,  0.,  0.,  0.,\n",
       "        0.,  0.,  0.,  0.,  0.,  0.,  0.,  0.,  0.,  0.,  0.])"
      ]
     },
     "execution_count": 13,
     "metadata": {},
     "output_type": "execute_result"
    }
   ],
   "source": [
    "predict(X, [0., 0.])"
   ]
  },
  {
   "cell_type": "markdown",
   "metadata": {},
   "source": [
    "Matrix product"
   ]
  },
  {
   "cell_type": "code",
   "execution_count": 11,
   "metadata": {
    "collapsed": true
   },
   "outputs": [],
   "source": [
    "def matprod(M, N):\n",
    "    return [[sum(lign_1 * lign_2) for lign_1 in N.T] for lign_2 in M]"
   ]
  },
  {
   "cell_type": "markdown",
   "metadata": {},
   "source": [
    "Cost function J(X, y, θ) = 1/2m * ∑(θ*X - y)^2 (m = number of training datas)"
   ]
  },
  {
   "cell_type": "code",
   "execution_count": 14,
   "metadata": {
    "collapsed": true
   },
   "outputs": [],
   "source": [
    "def cost(X, y, theta):\n",
    "    m = len(X)\n",
    "    h = predict(X, theta)\n",
    "    J = (1/(2 * m)) * (sum((h - y)**2))\n",
    "    return J"
   ]
  },
  {
   "cell_type": "markdown",
   "metadata": {},
   "source": [
    "Gradient descent (alpha = learning rate)"
   ]
  },
  {
   "cell_type": "code",
   "execution_count": 38,
   "metadata": {
    "collapsed": true
   },
   "outputs": [],
   "source": [
    "theta = [0., 0.]\n",
    "def fit(X, y, theta, alpha, num_iters):\n",
    "    m = len(X)\n",
    "    J_history = []\n",
    "    for i in range(num_iters):\n",
    "        h = predict(X, theta) - y\n",
    "        theta[0] = theta[0] - (alpha / m) * sum(h)\n",
    "        theta[1] = theta[1] - (alpha / m) * sum(h * X)\n",
    "        J_history.append(cost(X,y,theta))\n",
    "    return theta, J_history"
   ]
  },
  {
   "cell_type": "markdown",
   "metadata": {},
   "source": [
    "Training until convergence"
   ]
  },
  {
   "cell_type": "code",
   "execution_count": 98,
   "metadata": {
    "collapsed": true
   },
   "outputs": [],
   "source": [
    "theta = [0., 0.]\n",
    "theta, J_history = fit(X, y, theta, 0.2, 150)"
   ]
  },
  {
   "cell_type": "code",
   "execution_count": 99,
   "metadata": {},
   "outputs": [
    {
     "data": {
      "text/plain": [
       "[2.4332387956367982e-16, -0.85613942079049965]"
      ]
     },
     "execution_count": 99,
     "metadata": {},
     "output_type": "execute_result"
    }
   ],
   "source": [
    "theta"
   ]
  },
  {
   "cell_type": "code",
   "execution_count": 100,
   "metadata": {},
   "outputs": [
    {
     "data": {
      "text/plain": [
       "Text(0.5,1,'error rate')"
      ]
     },
     "execution_count": 100,
     "metadata": {},
     "output_type": "execute_result"
    },
    {
     "data": {
      "image/png": "[encoded data removed]",
      "text/plain": [
       "<matplotlib.figure.Figure at 0x11c6d79b0>"
      ]
     },
     "metadata": {},
     "output_type": "display_data"
    }
   ],
   "source": [
    "plt.figure(figsize = (12, 8))\n",
    "ax = plt.axes()\n",
    "ax.plot(J_history)\n",
    "plt.xlabel('training iteration',fontsize='14', fontweight='bold')\n",
    "plt.ylabel('mean squared error', fontsize='14', fontweight='bold')\n",
    "ax.set_title('error rate', fontsize='16', fontweight='bold')"
   ]
  },
  {
   "cell_type": "code",
   "execution_count": 101,
   "metadata": {},
   "outputs": [
    {
     "name": "stdout",
     "output_type": "stream",
     "text": [
      "7598.74317908\n"
     ]
    }
   ],
   "source": [
    "km = (42000 - np.mean(data['km'])) / (np.std(data['km']))\n",
    "price = theta[0] + (theta[1] * km)\n",
    "res = (price * (np.std(data['price']))) + np.mean(data['price'])\n",
    "print(res)"
   ]
  },
  {
   "cell_type": "code",
   "execution_count": 66,
   "metadata": {
    "collapsed": true
   },
   "outputs": [],
   "source": [
    "def visualize(theta):\n",
    "    fig = plt.figure(figsize = (12, 8))\n",
    "    ax = plt.axes()\n",
    "    ax.set_xlim([15000,250000])\n",
    "    ax.set_ylim([3100, 8500])\n",
    "    ax.scatter(data['km'], data['price'])\n",
    "    plt.xlabel('km',fontsize='14', fontweight='bold')\n",
    "    plt.ylabel('price', fontsize='14', fontweight='bold')\n",
    "    ax.set_title('linear regression', fontsize='16', fontweight='bold')\n",
    "    xx = data['kmfs'].values\n",
    "    line_x = data['km'].values\n",
    "    res = theta[0] + theta[1] * xx\n",
    "    line_y = (res * (np.std(data['price']))) + np.mean(data['price'])\n",
    "    ax.plot(line_x, line_y, color='orange')\n",
    "    plt.show()"
   ]
  },
  {
   "cell_type": "code",
   "execution_count": 102,
   "metadata": {},
   "outputs": [
    {
     "data": {
      "image/png": "[encoded data removed]",
      "text/plain": [
       "<matplotlib.figure.Figure at 0x11c3023c8>"
      ]
     },
     "metadata": {},
     "output_type": "display_data"
    }
   ],
   "source": [
    "visualize(theta)"
   ]
  }
 ],
 "metadata": {
  "kernelspec": {
   "display_name": "Python 3",
   "language": "python",
   "name": "python3"
  },
  "language_info": {
   "codemirror_mode": {
    "name": "ipython",
    "version": 3
   },
   "file_extension": ".py",
   "mimetype": "text/x-python",
   "name": "python",
   "nbconvert_exporter": "python",
   "pygments_lexer": "ipython3",
   "version": "3.6.3"
  }
 },
 "nbformat": 4,
 "nbformat_minor": 2
}
