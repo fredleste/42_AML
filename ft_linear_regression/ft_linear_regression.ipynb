{
 "cells": [
  {
   "cell_type": "code",
   "execution_count": 1,
   "metadata": {
    "collapsed": true
   },
   "outputs": [],
   "source": [
    "import pandas as pd\n",
    "import matplotlib.pyplot as plt\n",
    "%matplotlib inline"
   ]
  },
  {
   "cell_type": "code",
   "execution_count": 2,
   "metadata": {},
   "outputs": [
    {
     "data": {
      "text/plain": [
       "24"
      ]
     },
     "execution_count": 2,
     "metadata": {},
     "output_type": "execute_result"
    }
   ],
   "source": [
    "data = pd.read_csv('ftlr_data1.csv')\n",
    "len(data)"
   ]
  },
  {
   "cell_type": "code",
   "execution_count": 3,
   "metadata": {},
   "outputs": [
    {
     "data": {
      "text/plain": [
       "Text(0,0.5,'price')"
      ]
     },
     "execution_count": 3,
     "metadata": {},
     "output_type": "execute_result"
    },
    {
     "data": {
      "image/png": "[encoded data removed]",
      "text/plain": [
       "<matplotlib.figure.Figure at 0x1078979b0>"
      ]
     },
     "metadata": {},
     "output_type": "display_data"
    }
   ],
   "source": [
    "plt.figure(figsize = (12, 8))\n",
    "plt.scatter(data['km'], data['price'], marker = 'o')\n",
    "plt.xlabel('km',fontsize='14', fontweight='bold')\n",
    "plt.ylabel('price', fontsize='14', fontweight='bold')"
   ]
  },
  {
   "cell_type": "code",
   "execution_count": 4,
   "metadata": {},
   "outputs": [
    {
     "data": {
      "text/plain": [
       "(22899, 240000)"
      ]
     },
     "execution_count": 4,
     "metadata": {},
     "output_type": "execute_result"
    }
   ],
   "source": [
    "min(data['km']), max(data['km'])"
   ]
  },
  {
   "cell_type": "markdown",
   "metadata": {},
   "source": [
    "Feature scaling / data normalization : X = (X - min(X)) / (max(X) - min(X))"
   ]
  },
  {
   "cell_type": "code",
   "execution_count": 5,
   "metadata": {
    "collapsed": true
   },
   "outputs": [],
   "source": [
    "data['kmfs'] = (data['km'] - min(data['km'])) / (max(data['km']) - min(data['km']))\n",
    "data['pricefs'] = (data['price'] - min(data['price'])) / (max(data['price']) - min(data['price']))"
   ]
  },
  {
   "cell_type": "code",
   "execution_count": 6,
   "metadata": {},
   "outputs": [
    {
     "data": {
      "text/html": [
       "<div>\n",
       "<style>\n",
       "    .dataframe thead tr:only-child th {\n",
       "        text-align: right;\n",
       "    }\n",
       "\n",
       "    .dataframe thead th {\n",
       "        text-align: left;\n",
       "    }\n",
       "\n",
       "    .dataframe tbody tr th {\n",
       "        vertical-align: top;\n",
       "    }\n",
       "</style>\n",
       "<table border=\"1\" class=\"dataframe\">\n",
       "  <thead>\n",
       "    <tr style=\"text-align: right;\">\n",
       "      <th></th>\n",
       "      <th>km</th>\n",
       "      <th>price</th>\n",
       "      <th>kmfs</th>\n",
       "      <th>pricefs</th>\n",
       "    </tr>\n",
       "  </thead>\n",
       "  <tbody>\n",
       "    <tr>\n",
       "      <th>0</th>\n",
       "      <td>240000</td>\n",
       "      <td>3650</td>\n",
       "      <td>1.000000</td>\n",
       "      <td>0.000000</td>\n",
       "    </tr>\n",
       "    <tr>\n",
       "      <th>1</th>\n",
       "      <td>139800</td>\n",
       "      <td>3800</td>\n",
       "      <td>0.538464</td>\n",
       "      <td>0.032328</td>\n",
       "    </tr>\n",
       "    <tr>\n",
       "      <th>2</th>\n",
       "      <td>150500</td>\n",
       "      <td>4400</td>\n",
       "      <td>0.587749</td>\n",
       "      <td>0.161638</td>\n",
       "    </tr>\n",
       "    <tr>\n",
       "      <th>3</th>\n",
       "      <td>185530</td>\n",
       "      <td>4450</td>\n",
       "      <td>0.749103</td>\n",
       "      <td>0.172414</td>\n",
       "    </tr>\n",
       "    <tr>\n",
       "      <th>4</th>\n",
       "      <td>176000</td>\n",
       "      <td>5250</td>\n",
       "      <td>0.705206</td>\n",
       "      <td>0.344828</td>\n",
       "    </tr>\n",
       "    <tr>\n",
       "      <th>5</th>\n",
       "      <td>114800</td>\n",
       "      <td>5350</td>\n",
       "      <td>0.423310</td>\n",
       "      <td>0.366379</td>\n",
       "    </tr>\n",
       "    <tr>\n",
       "      <th>6</th>\n",
       "      <td>166800</td>\n",
       "      <td>5800</td>\n",
       "      <td>0.662830</td>\n",
       "      <td>0.463362</td>\n",
       "    </tr>\n",
       "    <tr>\n",
       "      <th>7</th>\n",
       "      <td>89000</td>\n",
       "      <td>5990</td>\n",
       "      <td>0.304471</td>\n",
       "      <td>0.504310</td>\n",
       "    </tr>\n",
       "    <tr>\n",
       "      <th>8</th>\n",
       "      <td>144500</td>\n",
       "      <td>5999</td>\n",
       "      <td>0.560113</td>\n",
       "      <td>0.506250</td>\n",
       "    </tr>\n",
       "    <tr>\n",
       "      <th>9</th>\n",
       "      <td>84000</td>\n",
       "      <td>6200</td>\n",
       "      <td>0.281440</td>\n",
       "      <td>0.549569</td>\n",
       "    </tr>\n",
       "    <tr>\n",
       "      <th>10</th>\n",
       "      <td>82029</td>\n",
       "      <td>6390</td>\n",
       "      <td>0.272362</td>\n",
       "      <td>0.590517</td>\n",
       "    </tr>\n",
       "    <tr>\n",
       "      <th>11</th>\n",
       "      <td>63060</td>\n",
       "      <td>6390</td>\n",
       "      <td>0.184988</td>\n",
       "      <td>0.590517</td>\n",
       "    </tr>\n",
       "    <tr>\n",
       "      <th>12</th>\n",
       "      <td>74000</td>\n",
       "      <td>6600</td>\n",
       "      <td>0.235379</td>\n",
       "      <td>0.635776</td>\n",
       "    </tr>\n",
       "    <tr>\n",
       "      <th>13</th>\n",
       "      <td>97500</td>\n",
       "      <td>6800</td>\n",
       "      <td>0.343623</td>\n",
       "      <td>0.678879</td>\n",
       "    </tr>\n",
       "    <tr>\n",
       "      <th>14</th>\n",
       "      <td>67000</td>\n",
       "      <td>6800</td>\n",
       "      <td>0.203136</td>\n",
       "      <td>0.678879</td>\n",
       "    </tr>\n",
       "    <tr>\n",
       "      <th>15</th>\n",
       "      <td>76025</td>\n",
       "      <td>6900</td>\n",
       "      <td>0.244706</td>\n",
       "      <td>0.700431</td>\n",
       "    </tr>\n",
       "    <tr>\n",
       "      <th>16</th>\n",
       "      <td>48235</td>\n",
       "      <td>6900</td>\n",
       "      <td>0.116701</td>\n",
       "      <td>0.700431</td>\n",
       "    </tr>\n",
       "    <tr>\n",
       "      <th>17</th>\n",
       "      <td>93000</td>\n",
       "      <td>6990</td>\n",
       "      <td>0.322896</td>\n",
       "      <td>0.719828</td>\n",
       "    </tr>\n",
       "    <tr>\n",
       "      <th>18</th>\n",
       "      <td>60949</td>\n",
       "      <td>7490</td>\n",
       "      <td>0.175264</td>\n",
       "      <td>0.827586</td>\n",
       "    </tr>\n",
       "    <tr>\n",
       "      <th>19</th>\n",
       "      <td>65674</td>\n",
       "      <td>7555</td>\n",
       "      <td>0.197028</td>\n",
       "      <td>0.841595</td>\n",
       "    </tr>\n",
       "    <tr>\n",
       "      <th>20</th>\n",
       "      <td>54000</td>\n",
       "      <td>7990</td>\n",
       "      <td>0.143256</td>\n",
       "      <td>0.935345</td>\n",
       "    </tr>\n",
       "    <tr>\n",
       "      <th>21</th>\n",
       "      <td>68500</td>\n",
       "      <td>7990</td>\n",
       "      <td>0.210045</td>\n",
       "      <td>0.935345</td>\n",
       "    </tr>\n",
       "    <tr>\n",
       "      <th>22</th>\n",
       "      <td>22899</td>\n",
       "      <td>7990</td>\n",
       "      <td>0.000000</td>\n",
       "      <td>0.935345</td>\n",
       "    </tr>\n",
       "    <tr>\n",
       "      <th>23</th>\n",
       "      <td>61789</td>\n",
       "      <td>8290</td>\n",
       "      <td>0.179133</td>\n",
       "      <td>1.000000</td>\n",
       "    </tr>\n",
       "  </tbody>\n",
       "</table>\n",
       "</div>"
      ],
      "text/plain": [
       "        km  price      kmfs   pricefs\n",
       "0   240000   3650  1.000000  0.000000\n",
       "1   139800   3800  0.538464  0.032328\n",
       "2   150500   4400  0.587749  0.161638\n",
       "3   185530   4450  0.749103  0.172414\n",
       "4   176000   5250  0.705206  0.344828\n",
       "5   114800   5350  0.423310  0.366379\n",
       "6   166800   5800  0.662830  0.463362\n",
       "7    89000   5990  0.304471  0.504310\n",
       "8   144500   5999  0.560113  0.506250\n",
       "9    84000   6200  0.281440  0.549569\n",
       "10   82029   6390  0.272362  0.590517\n",
       "11   63060   6390  0.184988  0.590517\n",
       "12   74000   6600  0.235379  0.635776\n",
       "13   97500   6800  0.343623  0.678879\n",
       "14   67000   6800  0.203136  0.678879\n",
       "15   76025   6900  0.244706  0.700431\n",
       "16   48235   6900  0.116701  0.700431\n",
       "17   93000   6990  0.322896  0.719828\n",
       "18   60949   7490  0.175264  0.827586\n",
       "19   65674   7555  0.197028  0.841595\n",
       "20   54000   7990  0.143256  0.935345\n",
       "21   68500   7990  0.210045  0.935345\n",
       "22   22899   7990  0.000000  0.935345\n",
       "23   61789   8290  0.179133  1.000000"
      ]
     },
     "execution_count": 6,
     "metadata": {},
     "output_type": "execute_result"
    }
   ],
   "source": [
    "data"
   ]
  },
  {
   "cell_type": "code",
   "execution_count": 7,
   "metadata": {
    "collapsed": true
   },
   "outputs": [],
   "source": [
    "X = data['kmfs'].values\n",
    "y = data['pricefs'].values"
   ]
  },
  {
   "cell_type": "code",
   "execution_count": 8,
   "metadata": {},
   "outputs": [
    {
     "data": {
      "text/plain": [
       "(array([ 1.        ,  0.53846366,  0.58774948,  0.74910295,  0.70520633,\n",
       "         0.42330989,  0.66282974,  0.30447119,  0.56011257,  0.28144044,\n",
       "         0.27236171,  0.18498763,  0.23537893,  0.34362347,  0.20313587,\n",
       "         0.24470638,  0.11670144,  0.3228958 ,  0.17526405,  0.19702811,\n",
       "         0.1432559 ,  0.21004509,  0.        ,  0.17913321]),\n",
       " array([ 0.        ,  0.03232759,  0.16163793,  0.17241379,  0.34482759,\n",
       "         0.36637931,  0.46336207,  0.50431034,  0.50625   ,  0.54956897,\n",
       "         0.59051724,  0.59051724,  0.63577586,  0.67887931,  0.67887931,\n",
       "         0.70043103,  0.70043103,  0.71982759,  0.82758621,  0.84159483,\n",
       "         0.93534483,  0.93534483,  0.93534483,  1.        ]))"
      ]
     },
     "execution_count": 8,
     "metadata": {},
     "output_type": "execute_result"
    }
   ],
   "source": [
    "X, y"
   ]
  },
  {
   "cell_type": "markdown",
   "metadata": {},
   "source": [
    "Prediction / hypothesis : y = θ1 * X + θ0 "
   ]
  },
  {
   "cell_type": "code",
   "execution_count": 9,
   "metadata": {
    "collapsed": true
   },
   "outputs": [],
   "source": [
    "def predict(X, theta):\n",
    "    return theta[0] + theta[1] * X"
   ]
  },
  {
   "cell_type": "code",
   "execution_count": 10,
   "metadata": {},
   "outputs": [
    {
     "data": {
      "text/plain": [
       "array([ 0.,  0.,  0.,  0.,  0.,  0.,  0.,  0.,  0.,  0.,  0.,  0.,  0.,\n",
       "        0.,  0.,  0.,  0.,  0.,  0.,  0.,  0.,  0.,  0.,  0.])"
      ]
     },
     "execution_count": 10,
     "metadata": {},
     "output_type": "execute_result"
    }
   ],
   "source": [
    "predict(X, [0., 0.])"
   ]
  },
  {
   "cell_type": "markdown",
   "metadata": {},
   "source": [
    "Matrix product"
   ]
  },
  {
   "cell_type": "code",
   "execution_count": 11,
   "metadata": {
    "collapsed": true
   },
   "outputs": [],
   "source": [
    "def matprod(M, N):\n",
    "    return [[sum(lign_1 * lign_2) for lign_1 in N.T] for lign_2 in M]"
   ]
  },
  {
   "cell_type": "markdown",
   "metadata": {},
   "source": [
    "Cost function J(X, y, θ) = 1/2m * ∑(θ*X - y)^2 (m = number of training datas)"
   ]
  },
  {
   "cell_type": "code",
   "execution_count": 12,
   "metadata": {
    "collapsed": true
   },
   "outputs": [],
   "source": [
    "def cost(X, y, theta):\n",
    "    m = len(X)\n",
    "    h = predict(X, theta)\n",
    "    J = (1/(2 * m)) * (sum((h - y)**2))\n",
    "    return J"
   ]
  },
  {
   "cell_type": "markdown",
   "metadata": {},
   "source": [
    "Gradient descent (alpha = learning rate)"
   ]
  },
  {
   "cell_type": "code",
   "execution_count": 13,
   "metadata": {
    "collapsed": true
   },
   "outputs": [],
   "source": [
    "theta = [0., 0.]\n",
    "def fit(X, y, theta, alpha, num_iters):\n",
    "    m = len(X)\n",
    "    J_history = []\n",
    "    for i in range(num_iters):\n",
    "        h = predict(X, theta) - y\n",
    "        theta[0] = theta[0] - (alpha / m) * sum(h)\n",
    "        theta[1] = theta[1] - (alpha / m) * sum(h * X)\n",
    "        J_history.append(cost(X,y,theta))\n",
    "    return theta, J_history"
   ]
  },
  {
   "cell_type": "markdown",
   "metadata": {},
   "source": [
    "Training until convergence"
   ]
  },
  {
   "cell_type": "code",
   "execution_count": 14,
   "metadata": {
    "collapsed": true
   },
   "outputs": [],
   "source": [
    "theta, J_history = fit(X, y, theta, 1, 200)"
   ]
  },
  {
   "cell_type": "code",
   "execution_count": 15,
   "metadata": {},
   "outputs": [
    {
     "data": {
      "text/plain": [
       "[0.93931892944579276, -1.0035757423865808]"
      ]
     },
     "execution_count": 15,
     "metadata": {},
     "output_type": "execute_result"
    }
   ],
   "source": [
    "theta"
   ]
  },
  {
   "cell_type": "code",
   "execution_count": 16,
   "metadata": {},
   "outputs": [
    {
     "data": {
      "text/plain": [
       "Text(0.5,1,'error rate')"
      ]
     },
     "execution_count": 16,
     "metadata": {},
     "output_type": "execute_result"
    },
    {
     "data": {
      "image/png": "[encoded data removed]",
      "text/plain": [
       "<matplotlib.figure.Figure at 0x10f2ed780>"
      ]
     },
     "metadata": {},
     "output_type": "display_data"
    }
   ],
   "source": [
    "fit = plt.figure(figsize = (12, 8))\n",
    "ax = plt.axes()\n",
    "ax.plot(J_history)\n",
    "plt.xlabel('training iteration',fontsize='14', fontweight='bold')\n",
    "plt.ylabel('mean squared error', fontsize='14', fontweight='bold')\n",
    "ax.set_title('error rate', fontsize='16', fontweight='bold')"
   ]
  },
  {
   "cell_type": "code",
   "execution_count": 26,
   "metadata": {},
   "outputs": [
    {
     "name": "stdout",
     "output_type": "stream",
     "text": [
      "7598.74317907\n"
     ]
    }
   ],
   "source": [
    "km = (42000 - min(data['km'])) / (max(data['km']) - min(data['km']))\n",
    "price = theta[0] + (theta[1] * km)\n",
    "res = (price * (max(data['price']) - min(data['price']))) + min(data['price'])\n",
    "print(res)"
   ]
  },
  {
   "cell_type": "code",
   "execution_count": 24,
   "metadata": {
    "collapsed": true
   },
   "outputs": [],
   "source": [
    "def visualize(theta):\n",
    "    fig = plt.figure(figsize = (12, 8))\n",
    "    ax = plt.axes()\n",
    "    ax.set_xlim([15000,250000])\n",
    "    ax.set_ylim([3100, 8500])\n",
    "    ax.scatter(data['km'], data['price'])\n",
    "    plt.xlabel('km',fontsize='14', fontweight='bold')\n",
    "    plt.ylabel('price', fontsize='14', fontweight='bold')\n",
    "    ax.set_title('linear regression', fontsize='16', fontweight='bold')\n",
    "    xx = data['kmfs'].values\n",
    "    line_x = data['km'].values\n",
    "    res = theta[0] + theta[1] * xx\n",
    "    line_y = (res * (max(data['price']) - min(data['price']))) + min(data['price'])\n",
    "    ax.plot(line_x, line_y, color='orange')\n",
    "    plt.show()"
   ]
  },
  {
   "cell_type": "code",
   "execution_count": 25,
   "metadata": {},
   "outputs": [
    {
     "data": {
      "image/png": "[encoded data removed]",
      "text/plain": [
       "<matplotlib.figure.Figure at 0x10fc9c940>"
      ]
     },
     "metadata": {},
     "output_type": "display_data"
    }
   ],
   "source": [
    "visualize(theta)"
   ]
  }
 ],
 "metadata": {
  "kernelspec": {
   "display_name": "Python 3",
   "language": "python",
   "name": "python3"
  },
  "language_info": {
   "codemirror_mode": {
    "name": "ipython",
    "version": 3
   },
   "file_extension": ".py",
   "mimetype": "text/x-python",
   "name": "python",
   "nbconvert_exporter": "python",
   "pygments_lexer": "ipython3",
   "version": "3.6.3"
  }
 },
 "nbformat": 4,
 "nbformat_minor": 2
}
