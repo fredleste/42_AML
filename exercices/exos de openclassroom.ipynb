{
 "cells": [
  {
   "cell_type": "code",
   "execution_count": 1,
   "metadata": {},
   "outputs": [],
   "source": [
    "class TableauNoir:\n",
    "    \"\"\"Classe définissant une surface sur laquelle on peut écrire,\n",
    "    que l'on peut lire et effacer, par jeu de méthodes. L'attribut modifié\n",
    "    est 'surface'\"\"\"\n",
    "\n",
    "    \n",
    "    def __init__(self):\n",
    "        \"\"\"Par défaut, notre surface est vide\"\"\"\n",
    "        self.surface = \"\"\n",
    "    def ecrire(self, message_a_ecrire):\n",
    "        \"\"\"Méthode permettant d'écrire sur la surface du tableau.\n",
    "        Si la surface n'est pas vide, on saute une ligne avant de rajouter\n",
    "        le message à écrire\"\"\"\n",
    "\n",
    "        \n",
    "        if self.surface != \"\":\n",
    "            self.surface += \"\\n\"\n",
    "        self.surface += message_a_ecrire\n",
    "    def lire(self):\n",
    "        \"\"\"Cette méthode se charge d'afficher, grâce à print,\n",
    "        la surface du tableau\"\"\"\n",
    "\n",
    "        \n",
    "        print(self.surface)\n",
    "    def effacer(self):\n",
    "        \"\"\"Cette méthode permet d'effacer la surface du tableau\"\"\"\n",
    "        self.surface = \"\""
   ]
  },
  {
   "cell_type": "code",
   "execution_count": 4,
   "metadata": {},
   "outputs": [],
   "source": [
    "tab = TableauNoir()\n",
    "tab.ecrire(\"Salut tout le monde.\")\n",
    "tab.ecrire(\"Ça peushe ?\")"
   ]
  },
  {
   "cell_type": "code",
   "execution_count": 5,
   "metadata": {},
   "outputs": [
    {
     "name": "stdout",
     "output_type": "stream",
     "text": [
      "Salut tout le monde.\n",
      "Ça peushe ?\n"
     ]
    }
   ],
   "source": [
    "tab.lire()"
   ]
  },
  {
   "cell_type": "code",
   "execution_count": 6,
   "metadata": {},
   "outputs": [
    {
     "data": {
      "text/plain": [
       "['__class__',\n",
       " '__delattr__',\n",
       " '__dict__',\n",
       " '__dir__',\n",
       " '__doc__',\n",
       " '__eq__',\n",
       " '__format__',\n",
       " '__ge__',\n",
       " '__getattribute__',\n",
       " '__gt__',\n",
       " '__hash__',\n",
       " '__init__',\n",
       " '__init_subclass__',\n",
       " '__le__',\n",
       " '__lt__',\n",
       " '__module__',\n",
       " '__ne__',\n",
       " '__new__',\n",
       " '__reduce__',\n",
       " '__reduce_ex__',\n",
       " '__repr__',\n",
       " '__setattr__',\n",
       " '__sizeof__',\n",
       " '__str__',\n",
       " '__subclasshook__',\n",
       " '__weakref__',\n",
       " 'ecrire',\n",
       " 'effacer',\n",
       " 'lire',\n",
       " 'surface']"
      ]
     },
     "execution_count": 6,
     "metadata": {},
     "output_type": "execute_result"
    }
   ],
   "source": [
    "dir(tab)"
   ]
  },
  {
   "cell_type": "code",
   "execution_count": 7,
   "metadata": {},
   "outputs": [
    {
     "data": {
      "text/plain": [
       "{'surface': 'Salut tout le monde.\\nÇa peushe ?'}"
      ]
     },
     "execution_count": 7,
     "metadata": {},
     "output_type": "execute_result"
    }
   ],
   "source": [
    "tab.__dict__"
   ]
  },
  {
   "cell_type": "code",
   "execution_count": null,
   "metadata": {
    "collapsed": true
   },
   "outputs": [],
   "source": []
  },
  {
   "cell_type": "code",
   "execution_count": null,
   "metadata": {
    "collapsed": true
   },
   "outputs": [],
   "source": []
  }
 ],
 "metadata": {
  "kernelspec": {
   "display_name": "Python 3",
   "language": "python",
   "name": "python3"
  },
  "language_info": {
   "codemirror_mode": {
    "name": "ipython",
    "version": 3
   },
   "file_extension": ".py",
   "mimetype": "text/x-python",
   "name": "python",
   "nbconvert_exporter": "python",
   "pygments_lexer": "ipython3",
   "version": "3.6.3"
  }
 },
 "nbformat": 4,
 "nbformat_minor": 2
}
